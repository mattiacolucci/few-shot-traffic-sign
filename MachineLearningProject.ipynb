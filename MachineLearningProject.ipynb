{
  "cells": [
    {
      "cell_type": "markdown",
      "metadata": {
        "id": "XwJPMAS_A27U"
      },
      "source": [
        "# Evaluating the Effectiveness of Few-Shot Learning in Traffic Sign Recognition Tasks\n",
        "\n",
        "<h2>ABSTRACT</h2>\n",
        "<p style=\"text-align: justify; font-family: Arial; font-size: 15px; line-height: 1.6; font-weight: normal;margin-right: 20px;\">Nowadays, self-driving vehicles is one of the main application of Artificial Intelligence (AI) which has been most widely used in daily-life scenarios. These vehicles are based on many AI models among which there are traffic sign recognition systems. Different proposals have been provided for these systems, most of which rely on the usage of large datasets such as GTSRB (dataset of German traffic signs). Collecting a big amount of data is one of the main problems of Machine Learning models, which need lots of evidences in order to being able to generalize well. The cost of collecting more data than available can be one of the main aspects to consider during the development of these systems. Furthermore, using a big dataset exposes the model to possible Adversarial attacks, such as poisoning attacks, especially in case of out-source training and testing. For these reasons, in this work we investigate the application of a state-of-art (S.O.T.A.) Few-shot Learning (FSL) model, called LDC, on the traffic sign recognition domain. The aim of this work is to compare few-shot performance with non-few-shot ones by using different kinds of S.O.T.A. and baseline models on multiple datasets. The comparison is performed statistically using a Paired T-test.</p>\n",
        "\n",
        "\n",
        "# Some researches about few-shot traffic sign recognition\n",
        "- <b>FUSED-Net: Enhancing Few-Shot Traffic Sign Detection with Unfrozen Parameters, Pseudo-Support Sets, Embedding Normalization, and Domain Adaptation</b>: https://arxiv.org/html/2409.14852v1\n",
        "\n",
        "- <b>Cross-domain Few-shot In-context Learning for Enhancing Traffic Sign Recognition</b>\n",
        "\n",
        "- <b>Few-shot traffic sign recognition with clustering inductive bias and random neural network</b>\n",
        "\n",
        "- <b>Meta-YOLO: Meta-Learning for Few-Shot Traffic Sign Detection via Decoupling Dependencies</b>\n",
        "\n",
        "- <b>Research on a Traffic Sign Recognition Method under Small Sample Conditions</b>\n",
        "\n",
        "-  <b>Self-supervised few-shot learning for real-time traffic sign classification</b>\n",
        "\n",
        "<h2>Few-shot model used for the comparison</h2>\n",
        "<ul>\n",
        "<li>\n",
        "LDC <a href=\"https://arxiv.org/pdf/2504.12104\">Link Paper</a>\n",
        "</li>\n",
        "</ul>\n",
        "\n",
        "<h2>No few-shot models used for the comparison</h2>\n",
        "<div style=\"text-align: justify; font-family: Arial; font-size: 15px; line-height: 1.6; font-weight: normal;margin-right: 20px;\">\n",
        "<ul>\n",
        "<li>An effective automatic traffic sign classification and recognition deep convolutional networks (2022) (CNN model)\n",
        "<a href=\"https://doi.org/10.1007/s11042-022-12531-w\">Link Paper</a>\n",
        "</li>\n",
        "<li>Multi-column deep neural network for traffic sign classification (2012) (MCDNN model)\n",
        "<a href=\"https://doi.org/10.1016/j.neunet.2012.02.023\">Link Paper</a>\n",
        "<br><a href=\"https://github.com/sixftninja/german-traffic-sign-detection/tree/master\">Link GitHub</a>\n",
        "</li>\n",
        "<li>\n",
        "HOG-SVM\n",
        "</li>\n",
        "<li>\n",
        "HOG-KNN\n",
        "</li>\n",
        "</ul>\n",
        "</div>\n",
        "\n",
        "<h2>Few-shot models used for the comparison</h2>\n",
        "<div style=\"text-align: justify; font-family: Arial; font-size: 15px; line-height: 1.6; font-weight: normal;margin-right: 20px;\">\n",
        "<ul>\n",
        "<li>(Quello nostro di Computer Vision) Clip encoder (<a href=\"https://doi.org/10.48550/arXiv.2103.00020\">Link Paper</a>) + LCD to calculate the noise (<a href=\"https://doi.org/10.48550/arXiv.2504.12104\">Link Paper</a>)\n",
        "</li>\n",
        "</ul>\n",
        "</div>\n",
        "\n",
        "\n",
        "\n",
        "\n",
        "# EVALUATION METRICS\n",
        "\n",
        "As accuracy metric we used the average macro F1 score. The initial idea was to use the AP (average precision), but we could not use it with the KNN which does not provide probabilities as output.\n",
        "\n",
        "\n",
        "# EVALUATION TECHNIQUES TO COMPARE THE FEW SHOT VS MANY-SHOT LEARNING\n",
        "Our T-test works as follows:\n",
        "- Choose $K$ different and independent datasets on which evaluate the models\n",
        "- For each dataset, we evaluate the models using a stratified 5-fold Cross Validation (CV). The stratified methodology plans to split the folds such that, the portion of samples associated with each label is the same for each fold. The evaluation metric used in the macro average F1 score on the test fold.\n",
        "- At each iteration of the CV, the test set is composed by using one fold as also the training set using the remaining $4$ folds. In order to train the few-shot model in a $N$-way $K$-shot scenario, we extract another dataset from the training one, by picking $K$ samples for each label at random, forming the training dataset used for the few-shot model.\n",
        "- The test is still paired since both of the models are tested on the same test fold and generally evaluated on the same datasets.\n",
        "\n",
        "\n",
        "\n",
        "\n"
      ]
    },
    {
      "cell_type": "markdown",
      "metadata": {},
      "source": [
        "<h2> LOAD THE DATASETS </h2>"
      ]
    },
    {
      "cell_type": "code",
      "execution_count": 1,
      "metadata": {},
      "outputs": [],
      "source": [
        "from datasets import load_dataset, DatasetDict, Dataset as LoadDataset, Image,concatenate_datasets\n",
        "import pandas as pd\n",
        "import os\n",
        "import kagglehub\n",
        "import shutil\n",
        "import matplotlib.pyplot as plt\n",
        "import io\n",
        "from PIL import Image as ImagePil\n",
        "import gc\n",
        "from collections.abc import Iterator \n",
        "from typing import Optional\n",
        "from tqdm.notebook import tqdm\n",
        "import warnings\n",
        "warnings.filterwarnings('ignore')  # Disabilita tutti i warning\n",
        "\n",
        "\n",
        "\n",
        "\n",
        "\n",
        "class Dataset:\n",
        "    def __init__(self, dataset_path, dataset_name, column_name_image, column_name_label):\n",
        "        \"\"\"Initialize a Dataset object\n",
        "        \n",
        "        Args:\n",
        "            dataset_path (str): path of the dataset\n",
        "            dataset_name (str): name of the dataset\n",
        "            column_name_image(str) the name of the column in which there are the images\n",
        "            column_name_label(str): the name of the column in which there are the labels\n",
        "        \"\"\"\n",
        "\n",
        "        # Inizializza gli attributi privati\n",
        "        self._dataset_path = None\n",
        "        self._dataset_name = None\n",
        "        self._column_name_image = None\n",
        "        self._column_name_label = None\n",
        "        self._pandas_dataset = None\n",
        "        \n",
        "        # Usa i setter per validazione\n",
        "        self.dataset_path = dataset_path\n",
        "        self.dataset_name = dataset_name\n",
        "        self.column_name_image = column_name_image\n",
        "        self.column_name_label = column_name_label\n",
        "        self.pandas_dataset = None\n",
        "\n",
        "\n",
        "   \n",
        "    # ---- Dataset Path ----\n",
        "    @property\n",
        "    def dataset_path(self) -> Optional[str]:\n",
        "        return self._dataset_path\n",
        "    \n",
        "    @dataset_path.setter\n",
        "    def dataset_path(self, value: str) -> None:\n",
        "        if not isinstance(value, str):\n",
        "            raise TypeError(\"dataset_path deve essere una stringa\")\n",
        "        self._dataset_path = value\n",
        "\n",
        "\n",
        "    # ---- Pandas dataset ----\n",
        "    @property\n",
        "    def pandas_dataset(self):\n",
        "        return self._pandas_dataset \n",
        "    \n",
        "    @pandas_dataset.setter\n",
        "    def pandas_dataset(self, value) -> None:\n",
        "        self._pandas_dataset = value  \n",
        "\n",
        "    # ---- Dataset Name ----\n",
        "    @property\n",
        "    def dataset_name(self) -> Optional[str]:\n",
        "        return self._dataset_name\n",
        "    \n",
        "    @dataset_name.setter\n",
        "    def dataset_name(self, value: str) -> None:\n",
        "        if not isinstance(value, str):\n",
        "            raise TypeError(\"dataset_name deve essere una stringa\")\n",
        "        if not value.strip():\n",
        "            raise ValueError(\"dataset_name non può essere vuoto\")\n",
        "        self._dataset_name = value\n",
        "\n",
        "    # ---- Image Column ----\n",
        "    @property\n",
        "    def column_name_image(self) -> Optional[str]:\n",
        "        return self._column_name_image\n",
        "    \n",
        "    @column_name_image.setter\n",
        "    def column_name_image(self, value: str) -> None:\n",
        "        if not isinstance(value, str):\n",
        "            raise TypeError(\"column_name_image deve essere una stringa\")\n",
        "        self._column_name_image = value\n",
        "\n",
        "    # ---- Label Column ----\n",
        "    @property\n",
        "    def column_name_label(self) -> Optional[str]:\n",
        "        return self._column_name_label\n",
        "    \n",
        "    @column_name_label.setter\n",
        "    def column_name_label(self, value: str) -> None:\n",
        "        if not isinstance(value, str):\n",
        "            raise TypeError(\"column_name_label deve essere una stringa\")\n",
        "        self._column_name_label = value\n",
        "    \n",
        "\n",
        "class LocalDataset(Dataset):\n",
        "    pass\n",
        "\n",
        "class HuggingFaceDataset(Dataset):\n",
        "    pass\n",
        "\n",
        "class KaggleDataset(Dataset):\n",
        "    def __init__(self, dataset_path, dataset_name, column_name_image, column_name_label, local_subpath):\n",
        "        \"\"\"Initialize a KaggleDataset object\n",
        "        \n",
        "        Args:\n",
        "            dataset_path (str): path of the dataset\n",
        "            dataset_name (str): name of the dataset\n",
        "            column_name_image(str) the name of the column in which there are the images\n",
        "            column_name_label(str): the name of the column in which there are the labels\n",
        "            local_subpath (str): subpath to use to find the actual directory containing the images\n",
        "        \"\"\"\n",
        "        super().__init__(dataset_path, dataset_name, column_name_image, column_name_label)\n",
        "        self._local_subpath = None  # Inizializza prima\n",
        "        self.local_subpath = local_subpath  # Poi usa il setter\n",
        "\n",
        "    @property\n",
        "    def local_subpath(self) -> Optional[str]:\n",
        "        return self._local_subpath\n",
        "    \n",
        "    @local_subpath.setter\n",
        "    def local_subpath(self, value: str) -> None:\n",
        "        if not isinstance(value, str):\n",
        "            raise TypeError(\"local_subpath deve essere una stringa\")\n",
        "        self._local_subpath = value\n",
        "\n",
        "\n",
        "class DatasetCollection:\n",
        "\n",
        "    kaggle_dataset_path = \"./dataset/Kaggle\"\n",
        "    hugging_face_dataset_local_path = \"./dataset/HuggingFace\"\n",
        "    templates = {\n",
        "            \"belgian_dataset\":[\n",
        "    # Class 0: Speed limit 30\n",
        "    \"A white circular sign with a red border, with the number '30' in the center.\",\n",
        "    # Class 1: Speed limit 50\n",
        "    \"A white circular sign with a red border, with the number '50' in the center.\",\n",
        "    # Class 2: Speed limit 70\n",
        "    \"A white circular sign with a red border, with the number '70' in the center.\",\n",
        "    # Class 3: Speed limit 80\n",
        "    \"A white circular sign with a red border, with the number '80' in the center.\",\n",
        "    # Class 4: No overtaking\n",
        "    \"A white circular sign with a red border, showing a red car and a black car side-by-side.\",\n",
        "    # Class 5: No overtaking for trucks\n",
        "    \"A white circular sign with a red border, showing a red truck and a black car side-by-side.\",\n",
        "    # Class 6: Priority road\n",
        "    \"A yellow, diamond-shaped sign with a white border.\",\n",
        "    # Class 7: End of priority road\n",
        "    \"A yellow, diamond-shaped sign with a white border, crossed out by a single black diagonal stripe.\",\n",
        "    # Class 8: Give way\n",
        "    \"An inverted triangular sign with a red border and a white background.\",\n",
        "    # Class 9: Stop\n",
        "    \"A red, octagonal sign with the word 'STOP' in white letters.\",\n",
        "    # Class 10: No entry for all vehicles\n",
        "    \"A plain white circular sign with a red border.\",\n",
        "    # Class 11: End of speed limit 30 zone\n",
        "    \"A white circular sign with multiple black diagonal stripes, showing a faded number '30'.\",\n",
        "    # Class 12: End of speed limit 50 zone\n",
        "    \"A white circular sign with multiple black diagonal stripes, showing a faded number '50'.\",\n",
        "    # Class 13: End of speed limit 70 zone\n",
        "    \"A white circular sign with multiple black diagonal stripes, showing a faded number '70'.\",\n",
        "    # Class 14: End of speed limit 80 zone\n",
        "    \"A white circular sign with multiple black diagonal stripes, showing a faded number '80'.\",\n",
        "    # Class 15: End of no overtaking\n",
        "    \"A white circular sign with multiple black diagonal stripes, showing faded silhouettes of two cars.\",\n",
        "    # Class 16: End of no overtaking for trucks\n",
        "    \"A white circular sign with multiple black diagonal stripes, showing faded silhouettes of a truck and a car.\",\n",
        "    # Class 17: Speed limit 90\n",
        "    \"A white circular sign with a red border, with the number '90' in the center.\",\n",
        "    # Class 18: Road works\n",
        "    \"A triangular sign with a red border, containing a black silhouette of a person with a shovel.\",\n",
        "    # Class 19: Speed limit 60\n",
        "    \"A white circular sign with a red border, with the number '60' in the center.\",\n",
        "    # Class 20: Dangerous curve to the right\n",
        "    \"A triangular sign with a red border, showing a black arrow that curves to the right.\",\n",
        "    # Class 21: Dangerous curve to the left\n",
        "    \"A triangular sign with a red border, showing a black arrow that curves to the left.\",\n",
        "    # Class 22: General caution / Danger\n",
        "    \"A triangular sign with a red border, containing a black exclamation mark.\",\n",
        "    # Class 23: No entry\n",
        "    \"A red circular sign with a solid white horizontal bar across its center.\",\n",
        "    # Class 24: End of speed limit 60 zone\n",
        "    \"A white circular sign with multiple black diagonal stripes, showing a faded number '60'.\",\n",
        "    # Class 25: End of speed limit 90 zone\n",
        "    \"A white circular sign with multiple black diagonal stripes, showing a faded number '90'.\",\n",
        "    # Class 26: Speed limit 120\n",
        "    \"A white circular sign with a red border, with the number '120' in the center.\",\n",
        "    # Class 27: End of speed limit 120 zone\n",
        "    \"A white circular sign with multiple black diagonal stripes, showing a faded number '120'.\",\n",
        "    # Class 28: Speed limit 40\n",
        "    \"A white circular sign with a red border, with the number '40' in the center.\",\n",
        "    # Class 29: End of speed limit 40 zone\n",
        "    \"A white circular sign with multiple black diagonal stripes, showing a faded number '40'.\",\n",
        "    # Class 30: No left turn\n",
        "    \"A white circular sign with a red border, showing a black arrow turning left, crossed out by a red diagonal line.\",\n",
        "    # Class 31: No right turn\n",
        "    \"A white circular sign with a red border, showing a black arrow turning right, crossed out by a red diagonal line.\",\n",
        "    # Class 32: Bumpy road\n",
        "    \"A triangular sign with a red border, showing a single raised bump in a horizontal line.\",\n",
        "    # Class 33: Roundabout\n",
        "    \"A triangular sign with a red border, showing three black arrows forming a circle.\",\n",
        "    # Class 34: Slippery road\n",
        "    \"A triangular sign with a red border, showing a car silhouette with curving skid marks.\",\n",
        "    # Class 35: Road narrows\n",
        "    \"A triangular sign with a red border, showing two vertical lines curving inwards.\",\n",
        "    # Class 36: Pedestrian crossing\n",
        "    \"A triangular sign with a red border, featuring a silhouette of a person on a crosswalk.\",\n",
        "    # Class 37: Children crossing\n",
        "    \"A triangular sign with a red border, showing black silhouettes of two people, one larger and one smaller.\",\n",
        "    # Class 38: End of all prohibitions\n",
        "    \"A plain white circular sign with a single black diagonal stripe across it.\",\n",
        "    # Class 39: Ahead only\n",
        "    \"A blue circular sign with a white arrow pointing straight upwards.\",\n",
        "    # Class 40: Turn right ahead\n",
        "    \"A blue circular sign with a white arrow pointing to the right.\",\n",
        "    # Class 41: Turn left ahead\n",
        "    \"A blue circular sign with a white arrow pointing to the left.\",\n",
        "    # Class 42: No parking\n",
        "    \"A blue circular sign with a red border and a single red diagonal line.\",\n",
        "    # Class 43: Two-way traffic\n",
        "    \"A triangular sign with a red border, showing two black arrows pointing in opposite vertical directions.\",\n",
        "    # Class 44: Traffic signals ahead\n",
        "    \"A triangular sign with a red border, containing a symbol of a traffic light.\",\n",
        "    # Class 45: Go straight or right\n",
        "    \"A blue circular sign displaying two white arrows, one pointing up and one pointing to the right.\",\n",
        "    # Class 46: Bicycles crossing\n",
        "    \"A triangular sign with a red border, containing a black silhouette of a bicycle.\",\n",
        "    # Class 47: Keep right\n",
        "    \"A blue circular sign with a white arrow pointing diagonally down and to the right.\",\n",
        "    # Class 48: Speed limit 20\n",
        "    \"A white circular sign with a red border, with the number '20' in the center.\",\n",
        "    # Class 49: Speed limit 100\n",
        "    \"A white circular sign with a red border, with the number '100' in the center.\",\n",
        "    # Class 50: End of speed limit 20 zone\n",
        "    \"A white circular sign with multiple black diagonal stripes, showing a faded number '20'.\",\n",
        "    # Class 51: End of speed limit 100 zone\n",
        "    \"A white circular sign with multiple black diagonal stripes, showing a faded number '100'.\",\n",
        "    # Class 52: No U-turn\n",
        "    \"A white circular sign with a red border, showing a black U-shaped arrow, crossed out by a red diagonal line.\",\n",
        "    # Class 53: No stopping or parking\n",
        "    \"A blue circular sign with a red border and a red 'X' cross.\",\n",
        "    # Class 54: No entry for cyclists\n",
        "    \"A white circular sign with a red border, containing a black silhouette of a bicycle.\",\n",
        "    # Class 55: No entry for pedestrians\n",
        "    \"A white circular sign with a red border, containing a black silhouette of a person walking.\",\n",
        "    # Class 56: Mandatory roundabout\n",
        "    \"A blue circular sign with three white arrows forming a counter-clockwise circle.\",\n",
        "    # Class 57: End of built-up area\n",
        "    \"A white rectangular sign with a black silhouette of a city skyline, crossed out by a red diagonal line.\",\n",
        "    # Class 58: Beginning of built-up area\n",
        "    \"A white rectangular sign with a black silhouette of a city skyline.\",\n",
        "    # Class 59: Go straight or left\n",
        "    \"A blue circular sign showing two white arrows, one pointing straight ahead and the other to the left.\",\n",
        "    # Class 60: Keep left\n",
        "    \"A blue circular sign with a white arrow pointing diagonally down and to the left.\",\n",
        "    # Class 61: No entry for trucks\n",
        "    \"A white circular sign with a red border, containing a black silhouette of a truck.\"\n",
        "            ],\n",
        "            \"russian_dataset\":[\n",
        "    # Class 0: 1.1_railroad_crossing_with_barrier\n",
        "    \"A triangular sign with a red border, containing a black silhouette of a fence or gate.\",\n",
        "    # Class 1: 1.2_railroad_crossing_without_barrier\n",
        "    \"A triangular sign with a red border, containing a black silhouette of a steam train.\",\n",
        "    # Class 2: 1.5_intersection_with_a_tram_line\n",
        "    \"A triangular sign with a red border, containing a black silhouette of a tram.\",\n",
        "    # Class 3: 1.6_crossing_of_equivalent_roads\n",
        "    \"A triangular sign with a red border, showing a black cross symbol.\",\n",
        "    # Class 4: 1.8_traffic_lights\n",
        "    \"A triangular sign with a red border, containing a symbol of a traffic light.\",\n",
        "    # Class 5: 1.16_uneven_road\n",
        "    \"A triangular sign with a red border, showing two bumps in a horizontal line.\",\n",
        "    # Class 6: 1.17_road_bump\n",
        "    \"A triangular sign with a red border, showing a single raised bump in a horizontal line.\",\n",
        "    # Class 7: 1.19_slippery_road\n",
        "    \"A triangular sign with a red border, showing a car silhouette with curving skid marks.\",\n",
        "    # Class 8: 1.20_road_narrows\n",
        "    \"A triangular sign with a red border, showing two vertical lines curving inwards.\",\n",
        "    # Class 9: 1.22_pedestrian_crossing\n",
        "    \"A triangular sign with a red border, featuring a silhouette of a person on a crosswalk.\",\n",
        "    # Class 10: 1.23_children\n",
        "    \"A triangular sign with a red border, showing silhouettes of two running children.\",\n",
        "    # Class 11: 1.25_road_works\n",
        "    \"A yellow triangular sign with a red border, containing a black silhouette of a person with a shovel.\",\n",
        "    # Class 12: 1.30_wild_animals\n",
        "    \"A triangular sign with a red border, showing the silhouette of a leaping deer.\",\n",
        "    # Class 13: 1.34.1_direction_of_turn\n",
        "    \"A rectangular sign with a red background, showing thick white chevron arrows.\",\n",
        "    # Class 14: 1.34.2_direction_of_turn\n",
        "    \"A rectangular sign with a red background, showing thick white chevron arrows.\",\n",
        "    # Class 15: 1.34.3_direction_of_turn\n",
        "    \"A rectangular sign with a red background, showing thick white chevron arrows.\",\n",
        "    # Class 16: 2.1_main_road\n",
        "    \"A yellow, diamond-shaped sign with a white border.\",\n",
        "    # Class 17: 2.2_end_of_main_road\n",
        "    \"A yellow, diamond-shaped sign with a white border, crossed out by four thin black diagonal lines.\",\n",
        "    # Class 18: 2.4_yield\n",
        "    \"An inverted triangular sign with a red border and a white background.\",\n",
        "    # Class 19: 2.5_stop\n",
        "    \"A red, octagonal sign with the word 'СТОП' in white Cyrillic letters.\",\n",
        "    # Class 20: 2.7_advantage_for_oncoming_traffic\n",
        "    \"A white circular sign with a red border, showing a black arrow and a red arrow pointing in opposite directions.\",\n",
        "    # Class 21: 3.1_no_entry\n",
        "    \"A red circular sign with a solid white horizontal bar across its center.\",\n",
        "    # Class 22: 3.2_no_vehicles\n",
        "    \"A plain white circular sign with a red border.\",\n",
        "    # Class 23: 3.4_no_trucks\n",
        "    \"A white circular sign with a red border, containing a black silhouette of a truck.\",\n",
        "    # Class 24: 3.11_weight_limit\n",
        "    \"A white circular sign with a red border, showing a number followed by 'т' (the Cyrillic letter for 't').\",\n",
        "    # Class 25: 3.12_axle_load_limit\n",
        "    \"A white circular sign with a red border, showing a number above a small icon of a vehicle axle.\",\n",
        "    # Class 26: 3.13_height_limit\n",
        "    \"A white circular sign with a red border, showing a number between two vertically pointing arrows.\",\n",
        "    # Class 27: 3.14_width_limit\n",
        "    \"A white circular sign with a red border, showing a number between two horizontally pointing arrows.\",\n",
        "    # Class 28: 3.16_length_limit\n",
        "    \"A white circular sign with a red border, showing a number next to a silhouette of a long vehicle.\",\n",
        "    # Class 29: 3.18.1_no_right_turn\n",
        "    \"A white circular sign with a red border, showing a black arrow turning right, crossed out by a red diagonal line.\",\n",
        "    # Class 30: 3.18.2_no_left_turn\n",
        "    \"A white circular sign with a red border, showing a black arrow turning left, crossed out by a red diagonal line.\",\n",
        "    # Class 31: 3.19_no_u_turn\n",
        "    \"A white circular sign with a red border, showing a black U-shaped arrow, crossed out by a red diagonal line.\",\n",
        "    # Class 32: 3.20_no_overtaking\n",
        "    \"A white circular sign with a red border, showing a red car and a black car side-by-side.\",\n",
        "    # Class 33: 3.21_end_of_no_overtaking_zone\n",
        "    \"A white circular sign with multiple black diagonal stripes, showing faded silhouettes of two cars.\",\n",
        "    # Class 34: 3.24_speed_limit\n",
        "    \"A white circular sign with a red border, with a number in the center.\",\n",
        "    # Class 35: 3.25_end_of_speed_limit_zone\n",
        "    \"A white circular sign with multiple black diagonal stripes, showing a faded number.\",\n",
        "    # Class 36: 3.27_no_stopping\n",
        "    \"A blue circular sign with a red border and a red 'X' cross.\",\n",
        "    # Class 37: 3.28_no_parking\n",
        "    \"A blue circular sign with a red border and a single red diagonal line.\",\n",
        "    # Class 38: 3.31_end_of_all_restrictions\n",
        "    \"A white circular sign with multiple thin black diagonal stripes.\",\n",
        "    # Class 39: 4.1.1_go_straight\n",
        "    \"A blue circular sign with a white arrow pointing straight upwards.\",\n",
        "    # Class 40: 4.1.2_go_right\n",
        "    \"A blue circular sign with a white arrow pointing to the right.\",\n",
        "    # Class 41: 4.1.3_go_left\n",
        "    \"A blue circular sign with a white arrow pointing to the left.\",\n",
        "    # Class 42: 4.1.4_go_straight_or_right\n",
        "    \"A blue circular sign displaying two white arrows, one pointing up and one pointing to the right.\",\n",
        "    # Class 43: 4.1.5_go_straight_or_left\n",
        "    \"A blue circular sign showing two white arrows, one pointing straight ahead and the other to the left.\",\n",
        "    # Class 44: 4.2.1_keep_right\n",
        "    \"A blue circular sign with a white arrow curving around an obstacle on the left.\",\n",
        "    # Class 45: 4.2.2_keep_left\n",
        "    \"A blue circular sign with a white arrow curving around an obstacle on the right.\",\n",
        "    # Class 46: 4.3_roundabout\n",
        "    \"A blue circular sign with three white arrows forming a counter-clockwise circle.\",\n",
        "    # Class 47: 5.5_one_way_road\n",
        "    \"A blue square sign with a thick, long white arrow pointing upwards.\",\n",
        "    # Class 48: 5.6_end_of_one_way_road\n",
        "    \"A blue square sign with a thick, long white arrow pointing upwards, crossed out by a red diagonal line.\",\n",
        "    # Class 49: 5.15.1_lane_directions\n",
        "    \"A blue rectangular sign with white arrows indicating permissible directions of travel from different lanes.\",\n",
        "    # Class 50: 5.15.2_lane_directions\n",
        "    \"A blue rectangular sign with white arrows indicating permissible directions of travel from different lanes.\",\n",
        "    # Class 51: 5.15.7_lane_directions\n",
        "    \"A blue square sign with white arrows showing lane directions.\",\n",
        "    # Class 52: 5.19.1_pedestrian_crossing\n",
        "    \"A blue square sign containing a white triangle with a silhouette of a person on a crosswalk.\",\n",
        "    # Class 53: 5.19.2_pedestrian_crossing\n",
        "    \"A blue square sign containing a white triangle with a silhouette of a person on a crosswalk.\",\n",
        "    # Class 54: 5.21_residential_area\n",
        "    \"A blue rectangular sign showing white silhouettes of a house, a car, and a person with a child.\",\n",
        "    # Class 55: 6.8.1_dead_end\n",
        "    \"A blue square sign with a white 'T' shape that has a thick red horizontal bar.\",\n",
        "    # Class 56: 8.22.1_obstacle\n",
        "    \"A rectangular white sign with diagonal black and white stripes pointing downwards.\",\n",
        "    # Class 57: 8.23_photo_and_video_recording\n",
        "    \"A rectangular white sign with a black silhouette of a camera.\"\n",
        "            ],\n",
        "            \"german_dataset\":[\n",
        "    # Class 0: Speed limit (20km/h)\n",
        "    \"A white circular sign with a red border, with the number '20' in the center.\",\n",
        "    # Class 1: Speed limit (30km/h)\n",
        "    \"A white circular sign with a red border, with the number '30' in the center.\",\n",
        "    # Class 2: Speed limit (50km/h)\n",
        "    \"A white circular sign with a red border, with the number '50' in the center.\",\n",
        "    # Class 3: Speed limit (60km/h)\n",
        "    \"A white circular sign with a red border, with the number '60' in the center.\",\n",
        "    # Class 4: Speed limit (70km/h)\n",
        "    \"A white circular sign with a red border, with the number '70' in the center.\",\n",
        "    # Class 5: Speed limit (80km/h)\n",
        "    \"A white circular sign with a red border, with the number '80' in the center.\",\n",
        "    # Class 6: End of speed limit (80km/h)\n",
        "    \"A white circular sign with multiple black diagonal stripes, showing a faded number '80'.\",\n",
        "    # Class 7: Speed limit (100km/h)\n",
        "    \"A white circular sign with a red border, with the number '100' in the center.\",\n",
        "    # Class 8: Speed limit (120km/h)\n",
        "    \"A white circular sign with a red border, with the number '120' in the center.\",\n",
        "    # Class 9: No passing\n",
        "    \"A white circular sign with a red border, showing a red car and a black car side-by-side.\",\n",
        "    # Class 10: No passing for vehicles over 3.5 tons\n",
        "    \"A white circular sign with a red border, showing a red truck and a black car side-by-side.\",\n",
        "    # Class 11: Right-of-way at the next intersection\n",
        "    \"A triangular sign with a red border, showing a thick black vertical arrow intersected by a thinner horizontal line.\",\n",
        "    # Class 12: Priority road\n",
        "    \"A yellow, diamond-shaped sign with a white border.\",\n",
        "    # Class 13: Yield\n",
        "    \"An inverted triangular sign with a red border and a white background.\",\n",
        "    # Class 14: Stop\n",
        "    \"A red, octagonal sign with the word 'STOP' in white letters.\",\n",
        "    # Class 15: No vehicles\n",
        "    \"A plain white circular sign with a red border.\",\n",
        "    # Class 16: Vehicles over 3.5 tons prohibited\n",
        "    \"A white circular sign with a red border, containing a black silhouette of a truck.\",\n",
        "    # Class 17: No entry\n",
        "    \"A red circular sign with a solid white horizontal bar across its center.\",\n",
        "    # Class 18: General caution\n",
        "    \"A triangular sign with a red border, containing a black exclamation mark.\",\n",
        "    # Class 19: Dangerous curve to the left\n",
        "    \"A triangular sign with a red border, showing a black arrow that curves to the left.\",\n",
        "    # Class 20: Dangerous curve to the right\n",
        "    \"A triangular sign with a red border, showing a black arrow that curves to the right.\",\n",
        "    # Class 21: Double curve\n",
        "    \"A triangular sign with a red border, displaying a black S-shaped line.\",\n",
        "    # Class 22: Bumpy road\n",
        "    \"A triangular sign with a red border, showing a single raised bump in a horizontal line.\",\n",
        "    # Class 23: Slippery road\n",
        "    \"A triangular sign with a red border, showing a car silhouette with curving skid marks.\",\n",
        "    # Class 24: Road narrows on the right\n",
        "    \"A triangular sign with a red border, showing a straight vertical line on the left and a curving line on the right.\",\n",
        "    # Class 25: Road work\n",
        "    \"A triangular sign with a red border, containing a black silhouette of a person with a shovel.\",\n",
        "    # Class 26: Traffic signals\n",
        "    \"A triangular sign with a red border, containing a symbol of a traffic light.\",\n",
        "    # Class 27: Pedestrians\n",
        "    \"A triangular sign with a red border, featuring the silhouette of a person walking across a series of horizontal lines.\",\n",
        "    # Class 28: Children crossing\n",
        "    \"A triangular sign with a red border, showing black silhouettes of two people, one larger and one smaller.\",\n",
        "    # Class 29: Bicycles crossing\n",
        "    \"A triangular sign with a red border, containing a black silhouette of a bicycle.\",\n",
        "    # Class 30: Beware of ice/snow\n",
        "    \"A triangular sign with a red border, containing a black snowflake symbol.\",\n",
        "    # Class 31: Wild animals crossing\n",
        "    \"A triangular sign with a red border, showing the silhouette of a leaping deer.\",\n",
        "    # Class 32: End of all speed and passing limits\n",
        "    \"A white circular sign with a single black diagonal stripe across it.\",\n",
        "    # Class 33: Turn right ahead\n",
        "    \"A blue circular sign with a white arrow pointing to the right.\",\n",
        "    # Class 34: Turn left ahead\n",
        "    \"A blue circular sign with a white arrow pointing to the left.\",\n",
        "    # Class 35: Ahead only\n",
        "    \"A blue circular sign with a white arrow pointing straight upwards.\",\n",
        "    # Class 36: Go straight or right\n",
        "    \"A blue circular sign displaying two white arrows, one pointing up and one pointing to the right.\",\n",
        "    # Class 37: Go straight or left\n",
        "    \"A blue circular sign showing two white arrows, one pointing straight ahead and the other to the left.\",\n",
        "    # Class 38: Keep right\n",
        "    \"A blue circular sign with a white arrow pointing diagonally down and to the right.\",\n",
        "    # Class 39: Keep left\n",
        "    \"A blue circular sign with a white arrow pointing diagonally down and to the left.\",\n",
        "    # Class 40: Roundabout mandatory\n",
        "    \"A blue circular sign with three white arrows forming a counter-clockwise circle.\",\n",
        "    # Class 41: End of no passing\n",
        "    \"A white circular sign with multiple black diagonal stripes, showing faded silhouettes of two cars.\",\n",
        "    # Class 42: End of no passing by vehicles over 3.5 tons\n",
        "    \"A white circular sign with multiple black diagonal stripes, showing faded silhouettes of a truck and a car.\"\n",
        "            ],\n",
        "            \"chinese_dataset\":[\n",
        "    # Class 0: prohibitory_speed_limit_20\n",
        "    \"A white circular sign with a red border, with the number '20' in the center.\",\n",
        "    # Class 1: prohibitory_speed_limit_30\n",
        "    \"A white circular sign with a red border, with the number '30' in the center.\",\n",
        "    # Class 2: prohibitory_speed_limit_40\n",
        "    \"A white circular sign with a red border, with the number '40' in the center.\",\n",
        "    # Class 3: prohibitory_speed_limit_50\n",
        "    \"A white circular sign with a red border, with the number '50' in the center.\",\n",
        "    # Class 4: prohibitory_speed_limit_60\n",
        "    \"A white circular sign with a red border, with the number '60' in the center.\",\n",
        "    # Class 5: prohibitory_speed_limit_70\n",
        "    \"A white circular sign with a red border, with the number '70' in the center.\",\n",
        "    # Class 6: prohibitory_speed_limit_80\n",
        "    \"A white circular sign with a red border, with the number '80' in the center.\",\n",
        "    # Class 7: prohibitory_no_entry_for_motor_vehicles\n",
        "    \"A white circular sign with a red border, containing a black silhouette of a car.\",\n",
        "    # Class 8: prohibitory_no_entry_for_hgvs\n",
        "    \"A white circular sign with a red border, containing a black silhouette of a truck.\",\n",
        "    # Class 9: prohibitory_no_entry\n",
        "    \"A red circular sign with a solid white horizontal bar across its center.\",\n",
        "    # Class 10: prohibitory_no_honking\n",
        "    \"A white circular sign with a red border, containing a black silhouette of a horn.\",\n",
        "    # Class 11: prohibitory_no_left_turn\n",
        "    \"A white circular sign with a red border, showing a black arrow turning left, crossed out by a red diagonal line.\",\n",
        "    # Class 12: prohibitory_no_right_turn\n",
        "    \"A white circular sign with a red border, showing a black arrow turning right, crossed out by a red diagonal line.\",\n",
        "    # Class 13: prohibitory_no_u_turn\n",
        "    \"A white circular sign with a red border, showing a black U-shaped arrow, crossed out by a red diagonal line.\",\n",
        "    # Class 14: prohibitory_no_overtaking\n",
        "    \"A white circular sign with a red border, showing a red car and a black car side-by-side.\",\n",
        "    # Class 15: prohibitory_no_parking\n",
        "    \"A blue circular sign with a red border and a single red diagonal line.\",\n",
        "    # Class 16: warning_crossroads\n",
        "    \"A triangular sign with a red border, showing a black cross symbol.\",\n",
        "    # Class 17: warning_narrow_road_both_sides\n",
        "    \"A triangular sign with a red border, showing two vertical lines curving inwards.\",\n",
        "    # Class 18: warning_narrow_road_right\n",
        "    \"A triangular sign with a red border, showing a straight vertical line on the left and a curving line on the right.\",\n",
        "    # Class 19: warning_rail_crossing_with_barriers\n",
        "    \"A triangular sign with a red border, containing a black silhouette of a fence or gate.\",\n",
        "    # Class 20: warning_rail_crossing_without_barriers\n",
        "    \"A triangular sign with a red border, containing a black silhouette of a steam train.\",\n",
        "    # Class 21: warning_attention\n",
        "    \"A triangular sign with a red border, containing a black exclamation mark.\",\n",
        "    # Class 22: warning_pedestrian\n",
        "    \"A triangular sign with a red border, containing a black silhouette of a person walking.\",\n",
        "    # Class 23: warning_school\n",
        "    \"A triangular sign with a red border, showing black silhouettes of two people, one larger and one smaller.\",\n",
        "    # Class 24: warning_bicycles\n",
        "    \"A triangular sign with a red border, containing a black silhouette of a bicycle.\",\n",
        "    # Class s25: warning_road_works\n",
        "    \"A triangular sign with a red border, containing a black silhouette of a person with a shovel.\",\n",
        "    # Class 26: warning_traffic_lights\n",
        "    \"A triangular sign with a red border, containing a symbol of a traffic light with red, yellow, and green circles.\",\n",
        "    # Class 27: warning_sharp_curve_to_the_left\n",
        "    \"A triangular sign with a red border, showing a black arrow that sharply curves to the left.\",\n",
        "    # Class 28: warning_sharp_curve_to_the_right\n",
        "    \"A triangular sign with a red border, showing a black arrow that sharply curves to the right.\",\n",
        "    # Class 29: warning_winding_road\n",
        "    \"A triangular sign with a red border, displaying a black S-shaped line.\",\n",
        "    # Class 30: warning_steep_ascent\n",
        "    \"A triangular sign with a red border, showing a car silhouette on an upward slope.\",\n",
        "    # Class 31: warning_steep_descent\n",
        "    \"A triangular sign with a red border, showing a car silhouette on a downward slope.\",\n",
        "    # Class 32: warning_uneven_road\n",
        "    \"A triangular sign with a red border, showing two bumps in a horizontal line.\",\n",
        "    # Class 33: warning_hump_bridge\n",
        "    \"A triangular sign with a red border, showing a single raised bump in a horizontal line.\",\n",
        "    # Class 34: warning_village\n",
        "    \"A triangular sign with a red border, showing a silhouette of several buildings.\",\n",
        "    # Class 35: warning_falling_rocks\n",
        "    \"A triangular sign with a red border, showing rocks falling from a cliff on one side.\",\n",
        "    # Class 36: warning_side_wind\n",
        "    \"A triangular sign with a red border, containing a black silhouette of a windsock.\",\n",
        "    # Class 37: warning_unprotected_quayside\n",
        "    \"A triangular sign with a red border, showing a car silhouette falling off a ledge into water.\",\n",
        "    # Class 38: warning_tunnel\n",
        "    \"A triangular sign with a red border, showing a black silhouette of a tunnel entrance.\",\n",
        "    # Class 39: warning_domestic_animals\n",
        "    \"A triangular sign with a red border, containing a black silhouette of a cow.\",\n",
        "    # Class 40: warning_slow\n",
        "    \"A triangular sign with a red border, containing Chinese characters.\",\n",
        "    # Class 41: mandatory_turn_left\n",
        "    \"A blue circular sign with a white arrow pointing to the left.\",\n",
        "    # Class 42: mandatory_turn_right\n",
        "    \"A blue circular sign with a white arrow pointing to the right.\",\n",
        "    # Class 43: mandatory_go_straight\n",
        "    \"A blue circular sign with a white arrow pointing straight upwards.\",\n",
        "    # Class 44: mandatory_go_straight_or_turn_left\n",
        "    \"A blue circular sign showing two white arrows, one pointing straight ahead and the other to the left.\",\n",
        "    # Class 45: mandatory_go_straight_or_turn_right\n",
        "    \"A blue circular sign showing two white arrows, one pointing straight ahead and the other to the right.\",\n",
        "    # Class 46: mandatory_keep_left\n",
        "    \"A blue circular sign with a white arrow pointing diagonally down and to the left.\",\n",
        "    # Class 47: mandatory_keep_right\n",
        "    \"A blue circular sign with a white arrow pointing diagonally down and to the right.\",\n",
        "    # Class 48: mandatory_roundabout\n",
        "    \"A blue circular sign with three white arrows forming a counter-clockwise circle.\",\n",
        "    # Class 49: mandatory_end_of_no_overtaking\n",
        "    \"A white circular sign with a black diagonal stripe, showing faded silhouettes of two cars.\",\n",
        "    # Class 50: mandatory_horn\n",
        "    \"A blue circular sign with a white silhouette of a horn.\",\n",
        "    # Class 51: mandatory_bicycle_lane\n",
        "    \"A blue circular sign with a white silhouette of a bicycle.\",\n",
        "    # Class 52: mandatory_speed_limit_40\n",
        "    \"A blue circular sign with the number '40' in white.\",\n",
        "    # Class 53: mandatory_speed_limit_50\n",
        "    \"A blue circular sign with the number '50' in white.\",\n",
        "    # Class 54: mandatory_speed_limit_60\n",
        "    \"A blue circular sign with the number '60' in white.\",\n",
        "    # Class 55: other_stop\n",
        "    \"A red, octagonal sign with white characters.\",\n",
        "    # Class 56: other_parking\n",
        "    \"A square blue sign with a large white letter 'P' and other symbols or characters.\",\n",
        "    # Class 57: other_give_way\n",
        "    \"An inverted triangular sign with a red border, a white background, and black characters.\"\n",
        "            ],\n",
        "            \"indian_dataset\":[\n",
        "    # ClassId 0\n",
        "    \"An inverted triangular sign with a red border and a white background.\",\n",
        "    # ClassId 1\n",
        "    \"A red circular sign with a solid white horizontal bar across its center.\",\n",
        "    # ClassId 2\n",
        "    \"A rectangular blue sign with a large white arrow pointing in one direction.\",\n",
        "    # ClassId 3\n",
        "    \"A rectangular blue sign with a large white arrow pointing in one direction.\",\n",
        "    # ClassId 4\n",
        "    \"A plain white circular sign with a red border.\",\n",
        "    # ClassId 5\n",
        "    \"A white circular sign with a red border, containing a black silhouette of a bicycle.\",\n",
        "    # ClassId 6\n",
        "    \"A white circular sign with a red border, containing a black silhouette of a truck.\",\n",
        "    # ClassId 7\n",
        "    \"A white circular sign with a red border, containing a black silhouette of a person walking.\",\n",
        "    # ClassId 8\n",
        "    \"A white circular sign with a red border, containing a black silhouette of an animal-drawn cart.\",\n",
        "    # ClassId 9\n",
        "    \"A white circular sign with a red border, containing a black silhouette of a person pushing a cart.\",\n",
        "    # ClassId 10\n",
        "    \"A white circular sign with a red border, containing a black silhouette of a car.\",\n",
        "    # ClassId 11\n",
        "    \"A white circular sign with a red border, showing a number between two vertically pointing arrows.\",\n",
        "    # ClassId 12\n",
        "    \"A white circular sign with a red border, showing a number followed by 't' for tonnes.\",\n",
        "    # ClassId 13\n",
        "    \"A white circular sign with a red border, showing a number above a small icon of a vehicle axle.\",\n",
        "    # ClassId 14\n",
        "    \"A white circular sign with a red border, showing a number next to a silhouette of a long vehicle.\",\n",
        "    # ClassId 15\n",
        "    \"A white circular sign with a red border, showing a black arrow turning left, crossed out by a red diagonal line.\",\n",
        "    # ClassId 16\n",
        "    \"A white circular sign with a red border, showing a black arrow turning right, crossed out by a red diagonal line.\",\n",
        "    # ClassId 17\n",
        "    \"A white circular sign with a red border, showing a red car and a black car side-by-side.\",\n",
        "    # ClassId 18\n",
        "    \"A white circular sign with a red border, with the number '90' in the center.\",\n",
        "    # ClassId 19\n",
        "    \"A white circular sign with a red border, with the number '110' in the center.\",\n",
        "    # ClassId 20\n",
        "    \"A white circular sign with a red border, containing a black silhouette of a horn.\",\n",
        "    # ClassId 21\n",
        "    \"A blue circular sign with a red border and a single red diagonal line.\",\n",
        "    # ClassId 22\n",
        "    \"A blue circular sign with a red border and a red 'X' cross.\",\n",
        "    # ClassId 23\n",
        "    \"A blue circular sign with a white arrow pointing to the left.\",\n",
        "    # ClassId 24\n",
        "    \"A blue circular sign with a white arrow pointing to the right.\",\n",
        "    # ClassId 25\n",
        "    \"A triangular sign with a red border, showing a car silhouette on a downward slope with a percentage.\",\n",
        "    # ClassId 26\n",
        "    \"A triangular sign with a red border, showing a car silhouette on an upward slope with a percentage.\",\n",
        "    # ClassId 27\n",
        "    \"A triangular sign with a red border, showing two vertical lines curving inwards.\",\n",
        "    # ClassId 28\n",
        "    \"A triangular sign with a red border, showing two vertical lines that narrow in the middle.\",\n",
        "    # ClassId 29\n",
        "    \"A triangular sign with a red border, showing a car silhouette falling off a ledge into water.\",\n",
        "    # ClassId 30\n",
        "    \"A triangular sign with a red border, showing a single raised bump in a horizontal line.\",\n",
        "    # ClassId 31\n",
        "    \"A triangular sign with a red border, showing a single dip in a horizontal line.\",\n",
        "    # ClassId 32\n",
        "    \"A triangular sign with a red border, showing a car silhouette with small specks flying from a tire.\",\n",
        "    # ClassId 33\n",
        "    \"A triangular sign with a red border, showing rocks falling from a cliff on one side.\",\n",
        "    # ClassId 34\n",
        "    \"A triangular sign with a red border, containing a black silhouette of a cow.\",\n",
        "    # ClassId 35\n",
        "    \"A triangular sign with a red border, showing a black cross symbol.\",\n",
        "    # ClassId 36\n",
        "    \"A triangular sign with a red border, showing a main vertical line with a smaller line joining from one side.\",\n",
        "    # ClassId 37\n",
        "    \"A triangular sign with a red border, showing a main vertical line with a smaller line joining from one side.\",\n",
        "    # ClassId 38\n",
        "    \"A triangular sign with a red border, showing a main vertical line with a smaller diagonal line joining from one side.\",\n",
        "    # ClassId 39\n",
        "    \"A triangular sign with a red border, showing a main vertical line with a smaller diagonal line joining from one side.\",\n",
        "    # ClassId 40\n",
        "    \"A triangular sign with a red border, showing a vertical line ending at a horizontal line, forming a 'T' shape.\",\n",
        "    # ClassId 41\n",
        "    \"A triangular sign with a red border, showing a black 'Y' shape.\",\n",
        "    # ClassId 42\n",
        "    \"A triangular sign with a red border, showing a vertical line with two offset horizontal lines joining from opposite sides.\",\n",
        "    # ClassId 43\n",
        "    \"A triangular sign with a red border, showing a vertical line with two offset horizontal lines joining from opposite sides.\",\n",
        "    # ClassId 44\n",
        "    \"A triangular sign with a red border, showing three arrows forming a circle.\",\n",
        "    # ClassId 45\n",
        "    \"A triangular sign with a red border, containing a black silhouette of a fence or gate.\",\n",
        "    # ClassId 46\n",
        "    \"A triangular sign with a red border, containing a black silhouette of a steam train.\",\n",
        "    # ClassId 47\n",
        "    \"A rectangular sign with three diagonal red stripes.\",\n",
        "    # ClassId 48\n",
        "    \"A rectangular sign with two diagonal red stripes.\",\n",
        "    # ClassId 49\n",
        "    \"A rectangular sign with one diagonal red stripe.\",\n",
        "    # ClassId 50\n",
        "    \"A rectangular sign with diagonal red stripes.\",\n",
        "    # ClassId 51\n",
        "    \"A square blue sign with a large white letter 'P'.\",\n",
        "    # ClassId 52\n",
        "    \"A square blue sign with a white silhouette of a bus.\",\n",
        "    # ClassId 53\n",
        "    \"A square blue sign with a white first aid symbol (often a cross).\",\n",
        "    # ClassId 54\n",
        "    \"A square blue sign with a white silhouette of a telephone receiver.\",\n",
        "    # ClassId 55\n",
        "    \"A square blue sign with a white silhouette of a fuel pump.\",\n",
        "    # ClassId 56\n",
        "    \"A square blue sign with a white silhouette of a person sleeping in a bed.\",\n",
        "    # ClassId 57\n",
        "    \"A square blue sign with a white silhouette of a knife and fork.\",\n",
        "    # ClassId 58\n",
        "    \"A square blue sign with a white silhouette of a cup and saucer.\"\n",
        "            ],\n",
        "            \"bangladesh_dataset\":[\n",
        "    # First batch\n",
        "    \"A speed limit sign indicating a maximum speed of 20.\",\n",
        "    \"A 30 speed limit sign with a red circular border.\",\n",
        "    \"A blue, circular road sign with the number 50, indicating a minimum speed limit.\",\n",
        "    \"A road sign showing a speed limit of 60.\",\n",
        "    \"A road sign indicating a 70 speed limit.\",\n",
        "    # Second batch\n",
        "    \"A road sign indicating a maximum speed limit of 80.\",\n",
        "    \"A sign indicating the end of a 20 speed limit zone.\",\n",
        "    \"A prohibitory road sign with a red circular border and a green symbol inside.\",\n",
        "    \"A road sign indicating the end of a no-overtaking restriction.\",\n",
        "    \"A \\\"No overtaking\\\" road sign.\",\n",
        "    \"A road sign prohibiting overtaking by heavy goods vehicles.\",\n",
        "    \"A triangular warning sign for a priority crossroads ahead.\",\n",
        "    \"A yellow, diamond-shaped priority road sign.\",\n",
        "    \"An inverted triangular \\\"Give Way\\\" or \\\"Yield\\\" sign.\",\n",
        "    \"A red, octagonal stop sign.\",\n",
        "    \"A \\\"No vehicles\\\" sign, which is a white circle with a red border.\",\n",
        "    \"A road sign prohibiting entry for trucks.\",\n",
        "    \"A circular red \\\"No Entry\\\" sign with a white horizontal bar.\",\n",
        "    \"A triangular warning sign with an exclamation mark, indicating a general hazard.\",\n",
        "    # Third batch (visual descriptions)\n",
        "    \"A triangular sign with a red border, showing a black arrow that curves to the left.\",\n",
        "    \"A triangular road sign with a red border, featuring a black arrow that curves to the right.\",\n",
        "    \"A triangular sign with a red border, displaying a black S-shaped line.\",\n",
        "    \"A triangular sign with a red border, showing the black silhouettes of two cars side-by-side.\",\n",
        "    \"A triangular road sign with a red border, depicting a black car silhouette on a bumpy line.\",\n",
        "    \"A triangular sign with a red border, featuring the silhouette of a person walking across a series of horizontal lines.\",\n",
        "    \"A triangular road sign with a red border, showing the black silhouettes of two people, one larger and one smaller.\",\n",
        "    \"A triangular sign with a red border, containing a symbol of a traffic light with red, yellow, and green circles.\",\n",
        "    \"A triangular road sign with a red border, displaying the black silhouette of a person walking.\",\n",
        "    \"A triangular sign with a red border, showing the black silhouette of a bicycle.\",\n",
        "    \"A triangular road sign with a red border, featuring the black silhouette of a farm tractor.\",\n",
        "    \"A triangular sign with a red border, containing a black snowflake symbol.\",\n",
        "    \"A triangular road sign with a red border, showing the silhouette of a leaping deer.\",\n",
        "    \"A white circular sign with a single black diagonal stripe across it.\",\n",
        "    \"A blue circular sign with a white arrow that curves to the right.\",\n",
        "    \"A blue circular sign containing a white arrow that points to the left.\",\n",
        "    \"A blue circular sign with a white arrow pointing straight upwards.\",\n",
        "    \"A blue circular sign displaying two white arrows, one pointing up and one pointing to the right.\",\n",
        "    \"A blue circular sign showing two white arrows, one pointing straight ahead and the other to the left.\",\n",
        "    \"A blue circular sign with a white arrow pointing diagonally downwards and to the right.\",\n",
        "    \"A blue circular sign featuring a white arrow that points diagonally down and to the left.\",\n",
        "    \"A blue circular sign with three white arrows forming a counter-clockwise circle.\",\n",
        "    \"A white circular sign with a red border and a blue background, divided by a single red diagonal line.\",\n",
        "    \"A dark, circular object, possibly a sign, with a thin vertical line through its center.\"\n",
        "            ],\n",
        "            \"persian_dataset\":[\n",
        "    # 0-9\n",
        "    \"Blue circular sign with two white arrows pointing left and right\",                         # 0_Compulsory Keep BothSide\n",
        "    \"Blue round sign with a thick white arrow bending left\",                                    # 1_Compulsory Keep Left\n",
        "    \"Blue circular sign with a thick white arrow bending right\",                                # 2_Compulsory Keep Right\n",
        "    \"Red-edged triangle with a black bicycle symbol inside\",                                    # 3_Cycle crossing\n",
        "    \"Red triangular warning sign with an exclamation mark in the center\",                       # 4_Danger\n",
        "    \"Inverted red-and-white triangle pointing downward\",                                        # 5_Give Way\n",
        "    \"Red-bordered triangle depicting a black hump or bump graphic\",                             # 6_Hump\n",
        "    \"Triangular warning sign with a black left-curving arrow\",                                  # 7_Left Bend\n",
        "    \"Blue rectangle with a white arrow pointing to the left edge\",                              # 8_Left Margin\n",
        "    \"Red circle with a black left-turn arrow struck through by a red line\",                     # 9_Left Turn Prohibited\n",
        "\n",
        "    # 10-19\n",
        "    \"Red-bordered white circle with '30' in bold black digits\",                                 # 10_Maximum Speed 30\n",
        "    \"White circular sign edged in red, displaying '40' in large black font\",                    # 11_Maximum Speed 40\n",
        "    \"Round white sign with a red border and the number '50' centered\",                          # 12_Maximum Speed 50\n",
        "    \"Red-outlined white disc featuring '60' in thick black numerals\",                           # 13_Maximum Speed 60\n",
        "    \"Circular white background, red border, and '70' prominently printed\",                      # 14_Maximum Speed 70\n",
        "    \"White speed limit sign with a red rim and '80' in bold\",                                   # 15_Maximum Speed 80\n",
        "    \"Red-rimmed white circle showcasing '90' in large black type\",                              # 16_Maximum Speed 90\n",
        "    \"Red-banned symbol over a black motorcycle silhouette on white\",                            # 17_MotorCycle Prohibited\n",
        "    \"Red circle with a solid white horizontal bar in the center\",                               # 18_No Entry\n",
        "    \"Blue circle crossed by a red diagonal line over a black horn symbol\",                      # 19_No Horn\n",
        "\n",
        "    # 20-29\n",
        "    \"Red circle with a blue background and a red 'X' over a parked car\",                        # 20_NO Stopping\n",
        "    \"Red-bordered white circle showing two parked cars crossed by a red line\",                  # 21_NO Waiting\n",
        "    \"Rectangular blue sign with a large white arrow pointing right or left\",                    # 22_One way Traffic\n",
        "    \"Blue square sign with a white 'P' in the center\",                                          # 23_Park\n",
        "    \"Red circle with a blue interior and a red slash over a parked car\",                        # 24_Park Forbidden\n",
        "    \"Blue square with a white silhouette of a walking figure\",                                  # 25_Pedestrain\n",
        "    \"Triangular red-bordered sign with a black walking person symbol\",                          # 26_Pedestrian crossing\n",
        "    \"Red triangular warning sign with a bold black right-curving arrow\",                        # 27_Right Bend\n",
        "    \"Blue rectangular sign with a white arrow pointing to the right edge\",                      # 28_Right Margin\n",
        "    \"Red circle with a black right-turn arrow crossed by a red line\",                           # 29_Right Turn Prohibited\n",
        "\n",
        "    # 30-39\n",
        "    \"Orange diamond-shaped sign with a black worker digging symbol\",                            # 30_Road Work\n",
        "    \"Triangular red-bordered sign with three circular arrows\",                                  # 31_Roundabouts\n",
        "    \"Yellow diamond-shaped sign with two black child figures walking\",                           # 32_School\n",
        "    \"Pentagonal yellow sign with a black silhouette of children crossing\",                      # 33_School Crossing\n",
        "    \"Red triangle with a black 'T' symbol and a right-side branch\",                             # 34_Side Road Right\n",
        "    \"Red triangular sign with 'SLOW' in bold black letters\",                                    # 35_Slow\n",
        "    \"White rectangle with a black camera icon and speed limit text\",                            # 36_Speed Camera\n",
        "    \"Red octagon with 'STOP' in bold white uppercase letters\",                                  # 37_STOP\n",
        "    \"Red circle with a black truck symbol crossed by a red line\",                               # 38_Truck Prohibited\n",
        "    \"Rectangular blue sign with opposing white horizontal arrows\",                              # 39_Two Way Traffic\n",
        "\n",
        "    # 40-42\n",
        "    \"Blue square sign with a white U-shaped arrow\",                                             # 40_U-Turn\n",
        "    \"White circular sign with a blue U-turn arrow symbol\",                                      # 41_U-Turn Allowed\n",
        "    \"Red circle with a black U-turn arrow crossed by a red slash\"                               # 42_U-turn Prohibited\n",
        "            ],\n",
        "        }\n",
        "\n",
        "\n",
        "    def __init__(self, kaggle_datasets, hugging_face_datasets, local_datasets):\n",
        "        \"\"\"Initialize a DatasetCollection object\n",
        "        \n",
        "        Args:\n",
        "            kaggle_datasets (List<KaggleDataset>): list of kaggle datasets.\n",
        "            hugging_face_datasets (List<HuggingFaceDataset>): list of hugging face datasets.\n",
        "            local_datasets (List<LocalDataset>): list of local datasets.\n",
        "        \"\"\"\n",
        "\n",
        "        self.kaggle_datasets = kaggle_datasets\n",
        "        self.hugging_face_datasets = hugging_face_datasets\n",
        "        self.local_datasets = local_datasets\n",
        "\n",
        "\n",
        "    def stream_all(self) -> Iterator:\n",
        "        \"\"\"Unified generator\"\"\"\n",
        "        yield from self.stream_kaggle()\n",
        "        yield from self.stream_hugging_face()\n",
        "        yield from self.stream_local()\n",
        "\n",
        "\n",
        "        \n",
        "\n",
        "    def stream_kaggle(self) -> Iterator:\n",
        "        \"\"\"\n",
        "        Generator that serves one kaggle dataset at a time\n",
        "        and cleans memory after each rendering\n",
        "        \"\"\"\n",
        "        for dataset in self.kaggle_datasets:  \n",
        "            try:\n",
        "                dataset_loaded = self._load_kaggle_dataset(dataset)\n",
        "                yield dataset_loaded  \n",
        "            finally:\n",
        "                del dataset_loaded      # Explicitly remove the reference\n",
        "                self._cleanup()  # Force the garbage collection\n",
        "\n",
        "\n",
        "    def stream_hugging_face(self) -> Iterator:\n",
        "        \"\"\"\n",
        "        Generator that serves one Hugging Face dataset at a time\n",
        "        and cleans memory after each rendering\n",
        "        \"\"\"\n",
        "        for dataset in self.hugging_face_datasets:  \n",
        "            try:\n",
        "                dataset_loaded = self._load_hugging_face_dataset(dataset)\n",
        "                yield dataset_loaded  \n",
        "            finally:\n",
        "                del dataset_loaded      # Explicitly remove the reference\n",
        "                self._cleanup()  # Force the garbage collection\n",
        "\n",
        "\n",
        "    def stream_local(self) -> Iterator:\n",
        "        \"\"\"\n",
        "        Generator that serves one local dataset at a time\n",
        "        and cleans memory after each rendering\n",
        "        \"\"\"\n",
        "        for dataset in self.local_datasets:  \n",
        "            try:\n",
        "                dataset_loaded = self._load_local_dataset(dataset)\n",
        "                yield dataset_loaded  \n",
        "            finally:\n",
        "                del dataset_loaded      # Explicitly remove the reference\n",
        "                self._cleanup()  # Force the garbage collection\n",
        "\n",
        "\n",
        "    def _cleanup(self) -> None:\n",
        "        \"\"\"\n",
        "        Pulisce la memoria in modo aggressivo\n",
        "        \"\"\"\n",
        "        gc.collect()  # Forza la garbage collection\n",
        "\n",
        "        \n",
        "\n",
        "\n",
        "\n",
        "    def _load_split_images(self, split_folder):\n",
        "        image_paths = []\n",
        "        labels = []\n",
        "        \n",
        "        for label in os.listdir(split_folder):\n",
        "            label_folder = os.path.join(split_folder, label)\n",
        "            if os.path.isdir(label_folder):\n",
        "                for file in os.listdir(label_folder):\n",
        "                    if file.lower().endswith(('.ppm','.png','.jpg')):\n",
        "                        image_paths.append(os.path.join(label_folder, file))\n",
        "                        labels.append(label)\n",
        "        \n",
        "        return {\"image\": image_paths, \"label\": labels}\n",
        "\n",
        "\n",
        "\n",
        "    def _load_kaggle_dataset(self, kaggle_dataset):\n",
        "        \"\"\"\n",
        "        Return a loaded kaggle dataset given the path\n",
        "        \"\"\"\n",
        "        with open('log.txt', 'a', newline='\\n', encoding='utf-8') as file:\n",
        "            print(\"Processing the Kaggle dataset: \" + kaggle_dataset.dataset_name)\n",
        "            print(\"Processing the Kaggle dataset: \" + kaggle_dataset.dataset_name, file=file)\n",
        "\n",
        "        dataset_desired_path = os.path.join(self.kaggle_dataset_path, kaggle_dataset.dataset_name)\n",
        "        if not os.path.exists(dataset_desired_path):\n",
        "            dataset_default_path = kagglehub.dataset_download(kaggle_dataset.dataset_path)\n",
        "            shutil.move(dataset_default_path, dataset_desired_path)\n",
        "        complete_path = os.path.join(dataset_desired_path, kaggle_dataset.local_subpath)\n",
        "        dataset_loaded = self._load_split_images(complete_path)\n",
        "        dataset_loaded = DatasetDict({\n",
        "            \"train\": LoadDataset.from_dict(dataset_loaded).cast_column(\"image\", Image())\n",
        "        })\n",
        "        dataset = self._filter_dataset(kaggle_dataset,dataset_loaded)\n",
        "        kaggle_dataset.pandas_dataset = dataset\n",
        "        del dataset\n",
        "        del dataset_loaded\n",
        "        return kaggle_dataset\n",
        "\n",
        "\n",
        "    def _load_hugging_face_dataset(self, hugging_face_dataset):\n",
        "        \"\"\"\n",
        "        Return a loaded Hugging Face dataset given the path\n",
        "        \"\"\"\n",
        "        with open('log.txt', 'a', newline='\\n', encoding='utf-8') as file:\n",
        "            print(\"Processing the Hugging Face dataset: \" + hugging_face_dataset.dataset_name)\n",
        "            print(\"Processing the Hugging Face dataset: \" + hugging_face_dataset.dataset_name, file=file)\n",
        "\n",
        "        dataset_desired_path = os.path.join(self.hugging_face_dataset_local_path, hugging_face_dataset.dataset_name)\n",
        "        dataset_loaded = load_dataset(hugging_face_dataset.dataset_path, cache_dir=dataset_desired_path)\n",
        "        dataset = self._filter_dataset(hugging_face_dataset, dataset_loaded)\n",
        "        hugging_face_dataset.pandas_dataset = dataset\n",
        "        del dataset\n",
        "        del dataset_loaded\n",
        "        return hugging_face_dataset\n",
        "    \n",
        "\n",
        "    def _load_local_dataset(self, local_dataset):\n",
        "        \"\"\"\n",
        "        Return a loaded local dataset given the path\n",
        "        \"\"\"\n",
        "        with open('log.txt', 'a', newline='\\n', encoding='utf-8') as file:\n",
        "            print(\"Processing the local dataset: \" + local_dataset.dataset_name)\n",
        "            print(\"Processing the local dataset: \" + local_dataset.dataset_name, file=file)\n",
        "\n",
        "        # Load Belgian Traffic Sign Dataset\n",
        "        dataset_loaded_train = self._load_split_images(os.path.join(local_dataset.dataset_path,\"train\"))\n",
        "        dataset_loaded_test = self._load_split_images(os.path.join(local_dataset.dataset_path,\"test\"))\n",
        "        dataset_loaded = DatasetDict({\n",
        "            \"train\": LoadDataset.from_dict(dataset_loaded_train).cast_column(\"image\", Image()),\n",
        "            \"test\": LoadDataset.from_dict(dataset_loaded_test).cast_column(\"image\", Image())\n",
        "        })\n",
        "        dataset = self._filter_dataset(local_dataset, dataset_loaded)\n",
        "        local_dataset.pandas_dataset = dataset\n",
        "        del dataset\n",
        "        del dataset_loaded\n",
        "        return local_dataset\n",
        "    \n",
        "    def _filter_dataset(self, dataset, dataset_loaded):\n",
        "        \"\"\"\n",
        "        Filter the given dataset removing the labels that have few instances and transform the dataset into a pandas dataframe.\n",
        "        \"\"\"\n",
        "        if \"test\" in dataset_loaded.keys():\n",
        "            dataset_loaded=concatenate_datasets([dataset_loaded[\"train\"], dataset_loaded[\"test\"]])\n",
        "        else:\n",
        "            dataset_loaded = dataset_loaded['train']\n",
        "\n",
        "        df=dataset_loaded.to_pandas()\n",
        "\n",
        "        # Rename the image and label column with the column \"image\" and \"label\"\n",
        "        df.rename(columns={dataset.column_name_image:\"image\", dataset.column_name_label:\"label\"},inplace=True)\n",
        "        \n",
        "        # Get label frequencies (number of samples for each label)\n",
        "        label_frequencies = [(i,df[df[\"label\"]==i].shape[0]) for i in df[\"label\"].unique()]\n",
        "\n",
        "        # Remove labels with less than 20 samples\n",
        "        df_filtered = df[df[\"label\"].isin([i[0] for i in label_frequencies if i[1] >= 20])]\n",
        "        \n",
        "        # Convert str lables in int\n",
        "        all_labels = df_filtered[\"label\"].unique()\n",
        "        mapping_labels = {label: i for i, label in enumerate(all_labels)}\n",
        "        df_filtered[\"label\"]  = [mapping_labels[i] for i in df_filtered[\"label\"]]\n",
        "        \n",
        "        for ind, img in enumerate(tqdm(df_filtered[\"image\"], desc=\"Processing images\")):\n",
        "            if img['bytes'] is None:\n",
        "                img['bytes'] = open(img[\"path\"],\"rb\").read()\n",
        "\n",
        "\n",
        "        with open('log.txt', 'a', newline='\\n', encoding='utf-8') as file:\n",
        "            print(\"Number of filtered labels: \", df_filtered[\"label\"].nunique())\n",
        "            print(\"Number of filtered labels: \" + str(df_filtered[\"label\"].nunique()), file=file)\n",
        "            print(\"Number of removed labels: \",df[\"label\"].nunique()-df_filtered[\"label\"].nunique())\n",
        "            print(\"Number of removed labels: \" + str(df[\"label\"].nunique()-df_filtered[\"label\"].nunique()), file=file)\n",
        "            print(\"Number of samples in the dataset: \",df_filtered.shape[0])\n",
        "            print(\"Number of samples in the dataset: \" + str(df_filtered.shape[0]), file=file)\n",
        "\n",
        "\n",
        "        return df_filtered\n",
        "    "
      ]
    },
    {
      "cell_type": "code",
      "execution_count": 2,
      "metadata": {},
      "outputs": [],
      "source": [
        "import PIL.Image as ImagePIL\n",
        "import io\n",
        "import torch\n",
        "from torch.utils.data import Dataset as DatasetTorch\n",
        "\n",
        "class PandasDataset(DatasetTorch):\n",
        "    def __init__(self, dataframe, transform=None):\n",
        "        \"\"\"\n",
        "        Own class to represent the datasets used in the experimentation\n",
        "        \"\"\"\n",
        "        self.dataframe = dataframe\n",
        "        self.transform = transform\n",
        "        self.num_classes = dataframe[\"label\"].nunique()\n",
        "\n",
        "    def __len__(self):\n",
        "        return len(self.dataframe)\n",
        "\n",
        "    def __getitem__(self, idx):\n",
        "        if isinstance(idx, torch.Tensor):\n",
        "            idx = idx.item() \n",
        "\n",
        "        image = ImagePIL.open(io.BytesIO(self.dataframe.iloc[idx]['image'][\"bytes\"])).convert(\"RGB\")\n",
        "        label = self.dataframe.iloc[idx]['label']\n",
        "\n",
        "        # Applica le trasformazioni\n",
        "        if self.transform:\n",
        "            image = self.transform(image)\n",
        "\n",
        "        return image, label"
      ]
    },
    {
      "cell_type": "markdown",
      "metadata": {
        "id": "bzVHtTVx3K1m"
      },
      "source": [
        "<h2>Few-shot models"
      ]
    },
    {
      "cell_type": "code",
      "execution_count": 3,
      "metadata": {
        "colab": {
          "base_uri": "https://localhost:8080/",
          "height": 367
        },
        "id": "5s1agHQX7gNa",
        "outputId": "cbf48c73-777a-4eec-f5b5-4a4f74a892f3"
      },
      "outputs": [],
      "source": [
        "from ldc_train import *\n",
        "import os\n",
        "from sklearn.metrics import f1_score\n",
        "import numpy as np\n",
        "\n",
        "class FewShotDataset(PandasDataset):\n",
        "    def __init__(self, dataframe, transform=None, shots=16):\n",
        "        super().__init__(dataframe, transform)\n",
        "        \n",
        "        self.num_shots = shots\n",
        "\n",
        "        self.loader = None\n",
        "        self.classnames = dataframe[\"label\"].unique()\n",
        "\n",
        "    def set_loader(self, loader):\n",
        "        self.loader = loader\n",
        "\n",
        "class Config():\n",
        "    def __init__(self, config):\n",
        "        self.num_classes = config[\"num_classes\"]\n",
        "        self.seed = config[\"seed\"]\n",
        "        self.shots = config[\"shots\"]\n",
        "        self.backbone = config[\"backbone\"]\n",
        "        self.lr = config[\"lr\"]\n",
        "        self.batch_size = config[\"batch_size\"]\n",
        "        self.loss_lambda = config[\"loss_lambda\"]  # last is regularization lambda\n",
        "        self.fuse_type = config[\"fuse_type\"]\n",
        "        self.cache_dir = config[\"cache_dir\"]\n",
        "\n",
        "class FewShotTrasform(object):\n",
        "\n",
        "    @staticmethod\n",
        "    def _convert_image_to_rgb(image):\n",
        "        return image.convert(\"RGB\")\n",
        "\n",
        "    @staticmethod\n",
        "    def transform_train(size, scale=(0.8, 1.0)):\n",
        "        funcs = [\n",
        "            T.RandomResizedCrop(size=size, scale=scale, interpolation=InterpolationMode.BICUBIC),\n",
        "            T.RandomHorizontalFlip(p=0.5), FewShotTrasform._convert_image_to_rgb, ToTensor(),\n",
        "            Normalize((0.48145466, 0.4578275, 0.40821073), (0.26862954, 0.26130258, 0.27577711))\n",
        "        ]\n",
        "        return Compose(funcs)\n",
        "\n",
        "    @staticmethod\n",
        "    def transform_test(size):\n",
        "        funcs = [\n",
        "            Resize(size, interpolation=InterpolationMode.BICUBIC),\n",
        "            CenterCrop(size), FewShotTrasform._convert_image_to_rgb, ToTensor(),\n",
        "            Normalize((0.48145466, 0.4578275, 0.40821073), (0.26862954, 0.26130258, 0.27577711))\n",
        "        ]\n",
        "        return Compose(funcs)\n",
        "\n",
        "    pass\n",
        "\n",
        "class FewShotModel():\n",
        "    transform = FewShotTrasform.transform_train(224)\n",
        "\n",
        "    def __init__(self, shots, batch_size, classnames, template, dataset_name):\n",
        "        self.config = Config({\n",
        "            \"num_classes\":len(classnames),\n",
        "            \"seed\":2024,\n",
        "            \"shots\":shots,\n",
        "            \"backbone\":\"ViT-B/16\",\n",
        "            \"lr\":0.0001,\n",
        "            \"batch_size\":batch_size,\n",
        "            \"loss_lambda\":[1.0, 1.0, 1.0, 1.0, 1.0],\n",
        "            \"fuse_type\":2,\n",
        "            \"cache_dir\":\"./__few_shot_cache__\"\n",
        "        })\n",
        "\n",
        "        self.clip_model, self.preprocess = clip.load(self.config.backbone, download_root=self.config.cache_dir,\n",
        "                                                     num_classes=len(classnames), config=self.config)\n",
        "        self.clip_model.eval()\n",
        "\n",
        "        Tools.print(\"Getting cached textual weights W ...\")\n",
        "        self.text_feats = self.clip_classifier(\n",
        "            os.path.join(self.config.cache_dir, f\"{dataset_name}_{self.config.backbone}_textfeats.pt\"),\n",
        "            classnames, template, self.clip_model)\n",
        "        \n",
        "    def train_epoch(self, epoch):\n",
        "        self.clip_model.adapter.train()\n",
        "        self.clip_model.visual.adapter.train()\n",
        "\n",
        "        train_acc, train_loss = AvgACC(), 0.0\n",
        "        loss_list = [0, 0, 0, 0, 0]\n",
        "        with tqdm(enumerate(self.train_loader), total=len(self.train_loader), desc=f\"epoch {epoch}\") as tqdm_train:\n",
        "            for _, (images, labels) in tqdm_train:\n",
        "                images, labels = images.cuda(), labels.cuda()\n",
        "                clip_logits, mlp_logits, ada_logits, total_logits, weight = self.clip_model.my_forward(images, self.text_feats)\n",
        "                \n",
        "                loss, losses = self.get_loss(labels, clip_logits, mlp_logits, ada_logits, total_logits,\n",
        "                                             lambda_value=self.config.loss_lambda)\n",
        "                train_loss += loss.item()\n",
        "                train_acc.step(mlp_logits, labels)\n",
        "\n",
        "                for i, l in enumerate(losses):\n",
        "                    loss_list[i] += l.item()\n",
        "                tqdm_train.set_postfix(cur_loss=loss.item())\n",
        "\n",
        "                self.optimizer.zero_grad()\n",
        "                loss.backward()\n",
        "                self.optimizer.step()\n",
        "\n",
        "                if self.scheduler:\n",
        "                    self.scheduler.step()\n",
        "\n",
        "            train_acc_result = train_acc.cal()\n",
        "            train_loss = train_loss / len(self.train_loader)\n",
        "            pass\n",
        "\n",
        "        print(f\"train acc={train_acc_result}, \"\n",
        "                    f\"[l1_loss, ce_loss] => {[one / len(self.train_loader) for one in loss_list]}\")\n",
        "        return train_loss\n",
        "        \n",
        "    def train_model(self, dataset_loader, epochs=30, lr=0.0001):\n",
        "        self.optimizer = torch.optim.AdamW(self.clip_model.parameters(), lr=lr / 10, weight_decay=1e-4, eps=1e-4)\n",
        "        self.scheduler = torch.optim.lr_scheduler.CosineAnnealingLR(self.optimizer, epochs * len(dataset_loader))\n",
        "\n",
        "        self.train_loader = dataset_loader\n",
        "\n",
        "        for epoch in range(epochs):\n",
        "            loss = self.train_epoch(epoch)\n",
        "            print(f\"Epoch: {epoch}, loss: {loss:.4f}, \"\n",
        "                        f\"lr: {self.optimizer.state_dict()['param_groups'][0]['lr']:.8f}\")\n",
        "            pass\n",
        "            \n",
        "    \n",
        "    def calculate_accuracy(self, dataset_loader):\n",
        "        self.clip_model.eval()\n",
        "        all_labels, all_logits, all_preds = [], [], []\n",
        "\n",
        "        best_beta = None\n",
        "\n",
        "        with torch.no_grad():\n",
        "            with tqdm(enumerate(dataset_loader), total=len(dataset_loader), desc='Evaluate') as tqdm_eval:\n",
        "                for _, (images, labels) in tqdm_eval:\n",
        "                    clip_logits, mlp_logits, ada_logits, tot_logits, weight = self.clip_model.my_forward(images.cuda(),\n",
        "                                                                                                 self.text_feats)\n",
        "                    all_logits.append([clip_logits, mlp_logits, ada_logits, tot_logits])\n",
        "                    all_labels.append(labels)\n",
        "\n",
        "                    all_preds.append(torch.argmax(tot_logits, -1).cpu())\n",
        "                    pass\n",
        "                pass\n",
        "            pass\n",
        "\n",
        "        all_labels = torch.cat(all_labels, dim=0)\n",
        "        all_preds = torch.cat(all_preds, dim=0).numpy()\n",
        "\n",
        "        return f1_score(all_labels.cpu().numpy(),all_preds, average=\"macro\")\n",
        "    \n",
        "    @staticmethod\n",
        "    def cal_acc(logits, labels):\n",
        "        pred = torch.argmax(logits, -1)\n",
        "        acc_num = (pred == labels.cuda()).sum().item()\n",
        "        return 1.0 * acc_num / len(labels)\n",
        "    \n",
        "    @staticmethod\n",
        "    def fuse_logits(mlp_logits, clip_logits, beta=1.0):\n",
        "        return beta * mlp_logits + (1 - beta) * clip_logits\n",
        "    \n",
        "    def search_hp(self, mlp_logits, clip_logits, all_labels, start=0, end=1, step=50):\n",
        "        beta_list = [i * (end - start) / step + start for i in range(step + 1)]\n",
        "        accs, best_beta, best_acc = [], start, 0.\n",
        "        for beta in beta_list:\n",
        "            logits = self.fuse_logits(mlp_logits, clip_logits, beta=beta)\n",
        "            acc = self.cal_acc(logits, all_labels) * 100.\n",
        "            accs.append((beta, acc))\n",
        "            if acc > best_acc:\n",
        "                best_acc = acc\n",
        "                best_beta = beta\n",
        "        return best_beta, accs[-1][-1], best_acc\n",
        "\n",
        "\n",
        "    @staticmethod\n",
        "    def get_loss(labels, clip_logits, mlp_logits, ada_logits, total_logits, lambda_value=[1.0, 1.0, 1.0, 1.0, 1.0]):\n",
        "        ce_loss = F.cross_entropy(mlp_logits, labels) * lambda_value[0]\n",
        "        ce_loss2 = F.cross_entropy(ada_logits, labels) * lambda_value[1]\n",
        "        ce_loss3 = F.cross_entropy(total_logits, labels) * lambda_value[2]\n",
        "\n",
        "        l1_loss1 = F.l1_loss(mlp_logits, clip_logits) * lambda_value[3]\n",
        "        l1_loss2 = F.l1_loss(ada_logits, clip_logits) * lambda_value[4]\n",
        "\n",
        "        loss = l1_loss1 + l1_loss2 + ce_loss + ce_loss2 + ce_loss3\n",
        "        return loss, [l1_loss1, l1_loss2, ce_loss, ce_loss2, ce_loss3]\n",
        "    \n",
        "    @staticmethod\n",
        "    def clip_classifier(feat_path, classnames, template, clip_model):\n",
        "        if os.path.exists(feat_path):\n",
        "            Tools.print(f\"Loading texture features from {feat_path}\")\n",
        "            text_feats = torch.load(feat_path, map_location='cpu')\n",
        "            return text_feats.cuda()\n",
        "\n",
        "        with torch.no_grad():\n",
        "            clip_weights = []\n",
        "            for classname in classnames:\n",
        "                classname = str(classname).replace('_', ' ')\n",
        "                if isinstance(template, list):\n",
        "                    texts = [t.format(classname) for t in template]\n",
        "                elif isinstance(template, dict):\n",
        "                    texts = template[classname]\n",
        "\n",
        "                texts = clip.tokenize(texts).cuda()\n",
        "                # prompt ensemble for ImageNet\n",
        "                class_embeddings = clip_model.encode_text(texts)\n",
        "                class_embeddings /= class_embeddings.norm(dim=-1, keepdim=True)\n",
        "                class_embedding = class_embeddings.mean(dim=0)\n",
        "                class_embedding /= class_embedding.norm()\n",
        "                clip_weights.append(class_embedding)\n",
        "                pass\n",
        "\n",
        "            clip_weights = torch.stack(clip_weights, dim=1).cuda()\n",
        "            torch.save(clip_weights, Tools.new_dir(feat_path))\n",
        "\n",
        "        return clip_weights\n"
      ]
    },
    {
      "cell_type": "markdown",
      "metadata": {},
      "source": [
        "<h2>NON-Few-shot models</h2>"
      ]
    },
    {
      "cell_type": "code",
      "execution_count": 4,
      "metadata": {
        "id": "X4-YscaR3ZQP"
      },
      "outputs": [],
      "source": [
        "import torch\n",
        "import torch.nn as nn\n",
        "import torch.nn.functional as F\n",
        "import torch.optim as optim\n",
        "import cv2\n",
        "from torchvision import datasets, transforms\n",
        "from transformers import ViTForImageClassification, ViTImageProcessor\n",
        "from sklearn.neighbors import KNeighborsClassifier\n",
        "from sklearn.svm import SVC\n",
        "\n",
        "#############################################\n",
        "# Modified Neural Network Class\n",
        "##############################################\n",
        "\n",
        "class ModifiedNN(nn.Module):\n",
        "    '''\n",
        "    Parent class for all neural networks model that we will implement.\n",
        "    It is a basic nn.Module with a training method which implements the training for neural networks.\n",
        "    '''\n",
        "    def __init__(self):\n",
        "        super().__init__()\n",
        "\n",
        "    def calculate_accuracy(self, data_loader):\n",
        "        \"\"\"\n",
        "        Calculate accuracy of the model on a given dataset loader\n",
        "        \"\"\"\n",
        "        self.eval()  # Set the model to evaluation mode\n",
        "        y_pred = []\n",
        "        y_true = []\n",
        "\n",
        "        with torch.no_grad():  # Disable gradient computation for evaluation\n",
        "            for batch in data_loader:\n",
        "                X_batch, y_batch = batch\n",
        "\n",
        "                # Forward pass\n",
        "                outputs = self.forward(X_batch)\n",
        "\n",
        "                # Get predictions (class with the highest score)\n",
        "                _, predicted = torch.max(outputs, 1)\n",
        "\n",
        "                y_pred.extend(predicted.numpy())\n",
        "                y_true.extend(y_batch.numpy())\n",
        "\n",
        "        # Calculate AP\n",
        "        return f1_score(y_true,y_pred,average=\"macro\")\n",
        "    \n",
        "    def training_loop(self, train_loader, optimizer, loss_function, epochs=10):\n",
        "        \"\"\"\n",
        "        Train the model on the given loader using the given loss and optimizer\n",
        "        \"\"\"\n",
        "        # Training loop\n",
        "        for epoch in range(epochs):\n",
        "            self.train()  # Set the model to training mode\n",
        "            running_loss = 0.0\n",
        "\n",
        "            for batch in train_loader:\n",
        "                X_batch, y_batch = batch\n",
        "\n",
        "                if type(y_batch) is not torch.Tensor:\n",
        "                    y_batch = torch.Tensor(y_batch)\n",
        "\n",
        "                # Forward pass\n",
        "                predictions = self.forward(X_batch)\n",
        "                loss = loss_function(predictions, y_batch)\n",
        "\n",
        "                # Backward pass\n",
        "                optimizer.zero_grad()  # Clear previous gradients\n",
        "                loss.backward()        # Compute gradients\n",
        "                optimizer.step()       # Update parameters\n",
        "\n",
        "                running_loss += loss.item()\n",
        "\n",
        "            # Calculate average training loss\n",
        "            avg_train_loss = running_loss / len(train_loader)\n",
        "\n",
        "            print(f\"Epoch {epoch+1}/{epochs}\")\n",
        "            print(f\"  Training Loss: {avg_train_loss:.4f}\")\n",
        "        \n",
        "        return avg_train_loss\n",
        "\n",
        "##############################################\n",
        "# Utility functions\n",
        "###############################################\n",
        "\n",
        "def from_data_loader_to_numpy(data_loader):\n",
        "    '''\n",
        "    Method that concevts a torch data loader to two numpy arrays: X (samples) and y (labels).\n",
        "    '''\n",
        "    X_list = []\n",
        "    y_list = []\n",
        "\n",
        "    for batch in data_loader:\n",
        "        X_batch, y_batch = batch\n",
        "\n",
        "        X_list.append(X_batch.numpy())\n",
        "        if isinstance(y_batch,tuple):\n",
        "            y_list.append(np.array(list(y_batch)))\n",
        "        else:\n",
        "            y_list.append(y_batch.numpy())\n",
        "    \n",
        "    X = np.concatenate(X_list, axis=0)\n",
        "    y = np.concatenate(y_list, axis=0)\n",
        "    \n",
        "    return X, y\n",
        "\n",
        "#############################################\n",
        "# CNN\n",
        "#############################################\n",
        "\n",
        "class CNNModel(ModifiedNN):\n",
        "    '''\n",
        "    CNN for traffic sign classification. The input is a 32x32x3 image.\n",
        "    '''\n",
        "\n",
        "    # Transformation used to adapt an input to the desired size wanted by the model\n",
        "    transform = transforms.Compose([\n",
        "        transforms.Resize((32, 32)),\n",
        "        transforms.ToTensor(),\n",
        "        transforms.Normalize(mean=[0.5, 0.5, 0.5],std=[0.5, 0.5, 0.5])\n",
        "    ])\n",
        "    \n",
        "    def __init__(self, num_classes):\n",
        "        super(CNNModel, self).__init__()\n",
        "        self.conv1 = nn.Conv2d(3, 32, kernel_size=5)\n",
        "        self.conv2 = nn.Conv2d(32, 32, kernel_size=3)\n",
        "        self.pool1 = nn.MaxPool2d(kernel_size=2)\n",
        "        self.dropout1 = nn.Dropout(0.2)\n",
        "        self.conv3 = nn.Conv2d(32, 64, kernel_size=3, padding=1)  # padding=1 per \"same\"\n",
        "        self.conv4 = nn.Conv2d(64, 64, kernel_size=3)\n",
        "        self.pool2 = nn.MaxPool2d(kernel_size=2)\n",
        "        self.dropout2 = nn.Dropout(0.2)\n",
        "        self.flatten = nn.Flatten()\n",
        "        self.fc = nn.Linear(64 * 5 * 5, num_classes)\n",
        "        \n",
        "    def forward(self, x):\n",
        "        # Forward pass\n",
        "        x = F.relu(self.conv1(x))  \n",
        "        x = F.relu(self.conv2(x))  \n",
        "        x = self.pool1(x)          \n",
        "        x = self.dropout1(x)\n",
        "        x = F.relu(self.conv3(x))  \n",
        "        x = F.relu(self.conv4(x))  \n",
        "        x = self.pool2(x)          \n",
        "        x = self.dropout2(x)\n",
        "        x = self.flatten(x)       \n",
        "        x = self.fc(x)             \n",
        "        return F.softmax(x, dim=1)\n",
        "    \n",
        "    def train_model(self, train_loader, epochs=10, lr=0.0005):\n",
        "        # set optimizer and loss\n",
        "        optimizer = optim.Adam(self.parameters(), lr=lr)\n",
        "        loss = nn.CrossEntropyLoss()\n",
        "        return super().training_loop(train_loader, optimizer, loss, epochs)\n",
        "        \n",
        "\n",
        "#############################################\n",
        "# MDCNN\n",
        "#############################################\n",
        "\n",
        "class MCDNN(ModifiedNN):\n",
        "    '''\n",
        "    MCDNN for traffic sign classification. The input is a 48x48x3 image.\n",
        "    '''\n",
        "    # Transformation used to adapt an input to the desired size wanted by the model\n",
        "    transform = transforms.Compose([\n",
        "        transforms.Resize((48, 48)),\n",
        "        transforms.ToTensor(),\n",
        "        transforms.Normalize((0.3337, 0.3064, 0.3171), (0.2672, 0.2564, 0.2629))\n",
        "    ])\n",
        "\n",
        "    def __init__(self, num_classes):\n",
        "        super(MCDNN, self).__init__()\n",
        "        self.conv1 = nn.Conv2d(3, 150, kernel_size=7)\n",
        "        self.bn1 = nn.BatchNorm2d(150)\n",
        "        self.conv2 = nn.Conv2d(150, 200, kernel_size=4)\n",
        "        self.bn2 = nn.BatchNorm2d(200)\n",
        "        self.conv3 = nn.Conv2d(200, 300, kernel_size=4)\n",
        "        self.bn3 = nn.BatchNorm2d(300)\n",
        "        self.fc1 = nn.Linear(300 * 3 * 3, 350)\n",
        "        self.bn4 = nn.BatchNorm1d(350)\n",
        "        self.fc2 = nn.Linear(350, num_classes)\n",
        "        self.pool = nn.MaxPool2d(2)\n",
        "        self.conv_drop = nn.Dropout2d(p=0.2)\n",
        "        self.fc_drop = nn.Dropout(p=0.5)\n",
        "\n",
        "    def forward(self, x):\n",
        "        # Forward pass\n",
        "        x = F.relu(self.bn1(self.conv1(x)))\n",
        "        x = self.conv_drop(self.pool(x))\n",
        "        x = F.relu(self.bn2(self.conv2(x)))\n",
        "        x = self.conv_drop(self.pool(x))\n",
        "        x = F.relu(self.bn3(self.conv3(x)))\n",
        "        x = self.conv_drop(self.pool(x))\n",
        "        x = x.view(-1, 300 * 3 * 3)\n",
        "        x = F.relu(self.bn4(self.fc1(x)))\n",
        "        x = self.fc2(self.fc_drop(x))\n",
        "        return F.log_softmax(x, dim=1)\n",
        "    \n",
        "    def train_model(self, train_loader, epochs=10, lr=0.001):\n",
        "        # set optimizer and loss\n",
        "        optimizer = optim.Adam(self.parameters(), lr=lr)\n",
        "        loss = F.nll_loss\n",
        "        return super().training_loop(train_loader, optimizer, loss, epochs)\n",
        "    \n",
        "\n",
        "#############################################\n",
        "# KNN\n",
        "#############################################\n",
        "\n",
        "class KNNClassifier:\n",
        "    # Transformation used to adapt an input to the desired size wanted by the model\n",
        "    transform = transforms.Compose([\n",
        "        transforms.Resize((32, 32)),\n",
        "        transforms.ToTensor()\n",
        "    ])\n",
        "    \n",
        "    def __init__(self, num_classes, k=3):\n",
        "        self.k = k\n",
        "        self.X_train = None\n",
        "        self.y_train = None\n",
        "        self.model = KNeighborsClassifier(n_neighbors=self.k)\n",
        "\n",
        "    def forward(self, X):\n",
        "        self.model.fit(self.X_train, self.y_train)\n",
        "\n",
        "        # Predict on new data\n",
        "        predictions = self.model.predict(X)\n",
        "\n",
        "        return predictions\n",
        "    \n",
        "    def process_hog(self, X):\n",
        "        # Compute the HOG features\n",
        "        hog = cv2.HOGDescriptor(_winSize=(32,32), _blockSize=(8,8), \n",
        "                        _blockStride=(4,4), _cellSize=(4,4), \n",
        "                        _nbins=9)\n",
        "\n",
        "        hog_x = []\n",
        "\n",
        "        for x in X:\n",
        "            gray_scale = cv2.cvtColor(x.reshape((32,32,3)), cv2.COLOR_RGB2GRAY)\n",
        "            gray_scale = (gray_scale*255).astype(np.uint8).reshape((32, 32))\n",
        "            x_hog = hog.compute(gray_scale)\n",
        "            hog_x.append(x_hog)\n",
        "        \n",
        "        return hog_x\n",
        "\n",
        "    def train_model(self, train_loader, epochs=10, lr=0.001):\n",
        "        X, y = from_data_loader_to_numpy(train_loader)\n",
        "\n",
        "        # Store training data for distance calculations\n",
        "        self.X_train = self.process_hog(X)\n",
        "        self.y_train = y\n",
        "    \n",
        "    def calculate_accuracy(self, data_loader):\n",
        "        X, y = from_data_loader_to_numpy(data_loader)\n",
        "        preds = self.forward(self.process_hog(X))\n",
        "\n",
        "        return f1_score(y,preds,average=\"macro\")\n",
        "\n",
        "\n",
        "#############################################\n",
        "# HOG SVM\n",
        "#############################################\n",
        "\n",
        "class HOG_SVM():\n",
        "    \"\"\"\n",
        "    SVM model applied on the HOG features extracted from the images\n",
        "    \"\"\"\n",
        "    # Transformation used to adapt an input to the desired size wanted by the model\n",
        "    transform = transforms.Compose([\n",
        "        transforms.Resize((32, 32)),\n",
        "        transforms.ToTensor()\n",
        "    ])\n",
        "    \n",
        "    def __init__(self,num_classes):\n",
        "        \"\"\"\n",
        "        Multiclass SVM whihc implements multiple classifier, one for each class, in a one-vs-rest scenario\n",
        "        \"\"\"\n",
        "        self.model = SVC(kernel='linear', decision_function_shape=\"ovr\", probability=True)\n",
        "    \n",
        "    def process_hog(self, X):\n",
        "        # Compute the HOG features\n",
        "        hog = cv2.HOGDescriptor(_winSize=(32,32), _blockSize=(8,8), \n",
        "                        _blockStride=(4,4), _cellSize=(4,4), \n",
        "                        _nbins=9)\n",
        "\n",
        "        hog_x = []\n",
        "\n",
        "        for x in X:\n",
        "            gray_scale = cv2.cvtColor(x.reshape((32,32,3)), cv2.COLOR_RGB2GRAY)\n",
        "            gray_scale = (gray_scale*255).astype(np.uint8).reshape((32, 32))\n",
        "            x_hog = hog.compute(gray_scale)\n",
        "            hog_x.append(x_hog)\n",
        "\n",
        "        return hog_x\n",
        "    \n",
        "    def process_dataset(self, dataset_loader):\n",
        "        X, y = from_data_loader_to_numpy(dataset_loader)\n",
        "        \n",
        "        return self.process_hog(X),y\n",
        "\n",
        "    def forward(self, X):\n",
        "        return self.model.predict(X)\n",
        "\n",
        "    def train_model(self, train_loader, epochs=10, lr=0.001):\n",
        "        hog_X, y = self.process_dataset(train_loader)\n",
        "\n",
        "        self.model.fit(hog_X,y)\n",
        "\n",
        "    def calculate_accuracy(self, data_loader):\n",
        "        \"\"\"\n",
        "        Calculate accuracy of the model on a given dataset loader\n",
        "        \"\"\"\n",
        "        hog_X, y = self.process_dataset(data_loader)\n",
        "\n",
        "        pred = self.model.predict_proba(hog_X)\n",
        "        pred_labels = [np.argmax(p) for p in pred]\n",
        "\n",
        "        return f1_score(y,pred_labels, average=\"macro\")\n",
        "\n",
        "        \n",
        "\n",
        "#############################################\n",
        "# ViT\n",
        "#############################################\n",
        "\n",
        "#processor = ViTImageProcessor.from_pretrained(\"kelvinandreas/vit-traffic-sign-GTSRB\")\n",
        "#model = ViTForImageClassification.from_pretrained(\"kelvinandreas/vit-traffic-sign-GTSRB\")\n"
      ]
    },
    {
      "cell_type": "markdown",
      "metadata": {},
      "source": [
        "# Comparison using Paired t-test"
      ]
    },
    {
      "cell_type": "code",
      "execution_count": 9,
      "metadata": {},
      "outputs": [],
      "source": [
        "import numpy as np\n",
        "import pandas as pd\n",
        "from sklearn.model_selection import StratifiedKFold\n",
        "from scipy.stats import t\n",
        "from sklearn.base import clone\n",
        "from sklearn.metrics import accuracy_score\n",
        "from scipy.stats import ttest_rel\n",
        "from datetime import datetime\n",
        "\n",
        "class TrafficSignRecognitionComparator:\n",
        "\n",
        "    def __init__(self, few_shot_model, no_few_shot_model, dataset_iterator, no_few_shot_default_results=None,few_shot_default_results=None , k_shot=16, n_folds=5):\n",
        "        \"\"\"\n",
        "        Initializes the comparator for traffic sign recognition.\n",
        "\n",
        "        Args:\n",
        "        few_shot_model: Few-shot model to compare\n",
        "        no_few_shot_model: Non-few shot model to compare\n",
        "        dataset_iterator: the iterator on the collection of datasets.\n",
        "        no_few_shot_default_results: the scores obtained for the specified no-few shot model.\n",
        "        few_shot_default_results: the scores results obtained for the specified few shot model. \n",
        "        k_shot: Number of samples per class in few-shot learning\n",
        "        n_folds: Number of folds for cross-validation\n",
        "        \"\"\"\n",
        "\n",
        "        self.few_shot_model = few_shot_model\n",
        "        self.no_few_shot_model = no_few_shot_model\n",
        "        self.dataset_iterator = dataset_iterator\n",
        "        self.no_few_shot_default_results = no_few_shot_default_results\n",
        "        self.few_shot_default_results = few_shot_default_results\n",
        "        self.k_shot = k_shot\n",
        "        self.n_folds = n_folds\n",
        "\n",
        "        with open('log.txt', 'w') as file:\n",
        "            current_time = datetime.now().strftime(\"%Y-%m-%d %H:%M:%S\")\n",
        "            file.write(f\"[{current_time}] LOG:\\n\")\n",
        "\n",
        "        \n",
        "\n",
        "    def _verify_number_of_samples(self, dataset):\n",
        "        \"\"\"Verify if the dataset has a number of samples that is sufficient to execute the train of the few-shot model.\n",
        "\n",
        "        Returns\n",
        "            result: true if all the datasets have a number of samples that is sufficient to execute the train of the few-shot model, false otherwise.\n",
        "        \n",
        "        \"\"\"\n",
        "        X = dataset.pandas_dataset['image']\n",
        "        y = dataset.pandas_dataset['label']\n",
        "\n",
        "        classes = np.unique(y)\n",
        "        # We find the class that has the lowest number of samples in the dataset\n",
        "        min_number_of_samples = float('inf')\n",
        "        for cls in classes:\n",
        "            # Take the indices corresponding to the samples of the current class\n",
        "            cls_indices = np.where(y == cls)[0]\n",
        "            number_of_samples_cls = len(cls_indices)\n",
        "            if number_of_samples_cls < min_number_of_samples:\n",
        "                min_number_of_samples = number_of_samples_cls\n",
        "        # After finding the number of samples in the class with the fewest instances\n",
        "        number_of_samples_each_fold = min_number_of_samples/self.n_folds\n",
        "        number_of_samples_training_setCV = number_of_samples_each_fold * (self.n_folds-1)\n",
        "        if number_of_samples_training_setCV  >= self.k_shot:\n",
        "            return True\n",
        "        else:\n",
        "            return False\n",
        "\n",
        "    def _prepare_few_shot_data(self, X_train, y_train):\n",
        "        \"\"\"Filter the given training set in order to obtain a subset of it that can be used to train the Few-shot model.\n",
        "\n",
        "        Args:\n",
        "            X_train: the features of the given training set.\n",
        "            t_train: the labels of the given training set\n",
        "\n",
        "        Returns\n",
        "            X_train_few_shot: the featues of the new smaller training set.\n",
        "            y_train_few_shot: the labels of the new smaller training set.\n",
        "        \n",
        "        \"\"\"\n",
        "\n",
        "       \n",
        "        X_train_few_shot = []\n",
        "        y_train_few_shot = []\n",
        "        classes = np.unique(y_train)\n",
        "        \n",
        "        for cls in classes:\n",
        "            # Take the indices corresponding to the samples of the current class\n",
        "            cls_indices = np.where(y_train == cls)[0]\n",
        "\n",
        "            if len(cls_indices) < self.k_shot:\n",
        "                raise ValueError(\"The class\" + cls + \"does not have sufficient samples to execute the train of the few-shot model. Minimun number of samples required: \" + self.k_shot + \", actual number of samples: \" + len(cls_indices) + \"!\")\n",
        "\n",
        "\n",
        "            # Choose self.k_shot indices from all the indices found \n",
        "            selected_random_indices = np.random.choice(cls_indices, size=self.k_shot, replace=False)\n",
        "\n",
        "            X_train_few_shot.extend(X_train.iloc[selected_random_indices].reset_index(drop=True))\n",
        "            y_train_few_shot.extend(y_train.iloc[selected_random_indices].reset_index(drop=True))\n",
        "            \n",
        "            \n",
        "        return X_train_few_shot, y_train_few_shot\n",
        "    \n",
        "    \n",
        "    def _evaluate_dataset(self, dataset):\n",
        "        \"\"\"Performs evaluation on a single dataset. It uses the stratified K-fold cross validation.\n",
        "\n",
        "        Args:\n",
        "            dataset: dataset to evaluate.\n",
        "\n",
        "        Returns:\n",
        "            no_few_shot_model_mean_scores: the mean of the scores obtained from the cross-validation process applied to the Non-few-shot model.\n",
        "            few_shot_model_mean_scores: the mean of the scores obtained from the cross-validation process applied to the Few shot model.\n",
        "        \"\"\"\n",
        "        \n",
        "        if(self._verify_number_of_samples(dataset))==False:\n",
        "            raise ValueError(\"The dataset \" + dataset-dataset.name + \" does not have have a number of samples that is sufficient to execute the train of the few-shot model\")\n",
        "        \n",
        "        torch.cuda.empty_cache()\n",
        "\n",
        "\n",
        "        X = dataset.pandas_dataset['image']\n",
        "        y = dataset.pandas_dataset['label']\n",
        "\n",
        "\n",
        "        no_few_shot_resultsCV = [] # The results obtained from the Non-few-shot model\n",
        "        few_shot_resultsCV = [] # The results obtained from the Few-shot model\n",
        "\n",
        "\n",
        "        # Create a StratifiedKFold object for cross-validation.\n",
        "        # This ensures each fold has a balanced distribution of classes.\n",
        "        # Data is shuffled before splitting to improve representativeness,\n",
        "        # and a fixed random seed is used for reproducibility.\n",
        "        skf = StratifiedKFold(n_splits=self.n_folds, shuffle=True, random_state=42)\n",
        "\n",
        "        n_iter=0\n",
        "\n",
        "        # For each iteration of the Cross validation\n",
        "        for train_index, test_index in skf.split(X, y):\n",
        "            X_train, X_test = X.iloc[train_index].reset_index(drop=True), X.iloc[test_index].reset_index(drop=True)\n",
        "            y_train, y_test = y.iloc[train_index].reset_index(drop=True), y.iloc[test_index].reset_index(drop=True)\n",
        "\n",
        "            with open('log.txt', 'a', newline='\\n') as file:\n",
        "                print(\"\\nIteration: \",n_iter)\n",
        "                print(\"\\nIteration: \" + str(n_iter), file=file)\n",
        "\n",
        "\n",
        "            # test dataset loader\n",
        "            dataset_pandas_test = pd.DataFrame({\n",
        "                'image': X_test,\n",
        "                'label': y_test\n",
        "            })\n",
        "                        \n",
        "            if self.no_few_shot_default_results is None:\n",
        "                # train dataset loader\n",
        "                dataset_pandas_train = pd.DataFrame(index=range(len(X_train)))\n",
        "                dataset_pandas_train[\"image\"]=X_train\n",
        "                dataset_pandas_train[\"label\"]=y_train\n",
        "                train_dataset_torch = PandasDataset(dataset_pandas_train, transform=self.no_few_shot_model.transform)\n",
        "                train_dataset_loader = torch.utils.data.DataLoader(train_dataset_torch, batch_size=64, shuffle=True)\n",
        "\n",
        "                test_dataset_torch = PandasDataset(dataset_pandas_test, transform=self.no_few_shot_model.transform)\n",
        "                test_dataset_loader = torch.utils.data.DataLoader(test_dataset_torch, batch_size=64, shuffle=True)\n",
        "\n",
        "                # No few-shot model\n",
        "                no_few_shot_model = self.no_few_shot_model(num_classes=train_dataset_torch.num_classes)\n",
        "                # Train the model on the training set\n",
        "                with open('log.txt', 'a', newline='\\n') as file:\n",
        "                    print(\"\\n#######################################\")\n",
        "                    print(\"\\n#######################################\", file=file)\n",
        "                    print(\"Training non-few shot model...\")\n",
        "                    print(\"Training non-few shot model...\", file=file)\n",
        "                    print(\"Train dataset size: \", train_dataset_loader.__len__())\n",
        "                    print(\"Train dataset size: \" + str(train_dataset_loader.__len__()), file=file)\n",
        "                    print(\"Test dataset size: \",test_dataset_loader.__len__())\n",
        "                    print(\"Train dataset size: \" + str(test_dataset_loader.__len__()), file=file)\n",
        "                    no_few_shot_model.train_model(train_dataset_loader)\n",
        "                    print(\"Training complete!\")\n",
        "                    print(\"Training complete!\", file=file)\n",
        "                    # Make the predictionas on the test set\n",
        "                    test_result = no_few_shot_model.calculate_accuracy(test_dataset_loader)\n",
        "                    print(\"\\nTest F1-macro: \", test_result)\n",
        "                    print(\"\\nTest F1-macro: \" + str(test_result), file=file)\n",
        "                    print(\"##########################################\")\n",
        "                    print(\"##########################################\", file=file)\n",
        "                    no_few_shot_resultsCV.append(test_result) \n",
        "            \n",
        "\n",
        "            # Few-shot model\n",
        "            if self.few_shot_default_results is None:\n",
        "\n",
        "                # Obtain the filtered training set starting from the cross-validation training set\n",
        "                few_shot_X_train, few_shot_y_train = self._prepare_few_shot_data(X_train, y_train)\n",
        "\n",
        "                # train dataset loader\n",
        "                dataset_pandas_train = pd.DataFrame()\n",
        "                dataset_pandas_train[\"image\"]=few_shot_X_train\n",
        "                dataset_pandas_train[\"label\"]=few_shot_y_train\n",
        "                train_dataset_torch = FewShotDataset(dataset_pandas_train, transform=self.few_shot_model.transform, shots=self.k_shot)\n",
        "                train_dataset_loader = torch.utils.data.DataLoader(train_dataset_torch, batch_size=64, shuffle=True)\n",
        "\n",
        "                # test dataset loader\n",
        "                test_dataset_torch = FewShotDataset(dataset_pandas_test, transform=self.few_shot_model.transform, shots=self.k_shot)\n",
        "                test_dataset_loader = torch.utils.data.DataLoader(test_dataset_torch, batch_size=64, shuffle=True)\n",
        "\n",
        "                few_shot_model = self.few_shot_model(shots=self.k_shot, batch_size=64, classnames=train_dataset_torch.classnames, template=DatasetCollection.templates[dataset.dataset_name], dataset_name=dataset.dataset_name)\n",
        "\n",
        "                # Train the model on the (filtered) training set\n",
        "                with open('log.txt', 'a', newline='\\n') as file:\n",
        "                    print(\"\\n#######################################\")\n",
        "                    print(\"\\n#######################################\", file=file)\n",
        "                    print(\"Training few-shot model...\")\n",
        "                    print(\"Training few-shot model...\", file=file)\n",
        "                    print(\"Train dataset size: \",train_dataset_loader.__len__())\n",
        "                    print(\"Train dataset size: \" + str(train_dataset_loader.__len__()), file=file)\n",
        "                    print(\"Test dataset size: \",test_dataset_loader.__len__())\n",
        "                    print(\"Test dataset size: \" + str(test_dataset_loader.__len__()), file=file)\n",
        "                    few_shot_model.train_model(train_dataset_loader)\n",
        "                    print(\"Training complete!\")\n",
        "                    print(\"Training complete!\", file=file)\n",
        "                    # Make the predictionas on the test set\n",
        "                    test_result = few_shot_model.calculate_accuracy(test_dataset_loader)\n",
        "                    print(\"\\nTest F1-macro: \",test_result)\n",
        "                    print(\"\\nTest F1-macro: \" + str(test_result), file=file)\n",
        "                    print(\"#######################################\")\n",
        "                    print(\"#######################################\", file=file)\n",
        "                    few_shot_resultsCV.append(test_result)   \n",
        "\n",
        "            n_iter+=1\n",
        "\n",
        "\n",
        "        if self.few_shot_default_results is None:\n",
        "            few_shot_model_mean_scores = sum(few_shot_resultsCV)/self.n_folds\n",
        "        else:\n",
        "            few_shot_model_mean_scores = -1\n",
        "\n",
        "\n",
        "        if self.no_few_shot_default_results is None:\n",
        "            \n",
        "            no_few_shot_model_mean_scores =  sum(no_few_shot_resultsCV)/self.n_folds\n",
        "        else:\n",
        "            no_few_shot_model_mean_scores = -1\n",
        "            \n",
        "        return no_few_shot_model_mean_scores, few_shot_model_mean_scores\n",
        "    \n",
        "\n",
        "    def run_comparison(self, confidence_level=0.05):\n",
        "        \"\"\"It runs the comparison on all datasets and returns the results.\n",
        "\n",
        "        Args:\n",
        "            confidence_level: confidence interval to use when perform the paired t-test.\n",
        "\n",
        "        Returns:\n",
        "            t-stat: the t-statistic value.\n",
        "            t_critical\n",
        "            no_few_shot_scores: List containing the scores obtained from each dataset with the Non-few shot model\n",
        "            few_shot_scores: List containing the scores obtained from each dataset with the Few shot model\n",
        "            result: boolen value where true means that there is a significant difference between the two models, false otherwise. \n",
        "\n",
        "        \"\"\"\n",
        "\n",
        "        no_few_shot_scores = [] # List in which to store the scores obtained from each dataset with the Non-few shot model\n",
        "        few_shot_scores = [] # List in which to store the scores obtained from each dataset with the Few shot model\n",
        "      \n",
        "        with open('log.txt', 'a', newline='\\n', encoding='utf-8') as file:\n",
        "            print(\"\\nPERFORMING COMPARISON USING \", self.n_folds, \"CROSS-VALIDATION AND \", self.k_shot, \"-SHOT LEARNING\")\n",
        "            print(\"\\nPERFORMING COMPARISON USING \" + str(self.n_folds) + \"CROSS-VALIDATION AND \" + str(self.k_shot) + \"-SHOT LEARNING\", file=file)\n",
        "            print(\"#######################################\")\n",
        "            print(\"#######################################\", file=file)\n",
        "            print(self.no_few_shot_model.__name__,\" VS \",self.few_shot_model.__name__)\n",
        "            print(self.no_few_shot_model.__name__ +\" VS \" + self.few_shot_model.__name__, file=file)\n",
        "            print(\"#######################################\\n\")\n",
        "            print(\"#######################################\\n\", file=file)\n",
        "        \n",
        "        for i, dataset in enumerate(self.dataset_iterator):\n",
        "            no_few_shot_score, few_shot_score = self._evaluate_dataset(dataset)\n",
        "            no_few_shot_scores.append(no_few_shot_score)\n",
        "            few_shot_scores.append(few_shot_score)\n",
        "        \n",
        "        if self.no_few_shot_default_results is not None:\n",
        "            no_few_shot_scores = self.no_few_shot_default_results\n",
        "        if self.few_shot_default_results is not None:\n",
        "            few_shot_scores = self.few_shot_default_results\n",
        "        \n",
        "        # Exeute the paired t-test\n",
        "        k = 7 # Number of datasets\n",
        "        dof = k - 1  # Degrees of freedom\n",
        "        x = np.array(no_few_shot_scores)\n",
        "        y = np.array(few_shot_scores)\n",
        "        mx = np.mean(no_few_shot_scores)\n",
        "        my = np.mean(few_shot_scores)\n",
        "\n",
        "        md = mx - my  # Difference of means\n",
        "\n",
        "        d = x - y\n",
        "        var_d = np.var(d, ddof=1) \n",
        "        se_md = np.sqrt(var_d / k)  # Standard error of the mean difference\n",
        "        t_stat = md / se_md\n",
        "        t_critical = t.ppf(1 - confidence_level/2, dof)  # Two-tailed: confidence_level/2\n",
        "        result = abs(t_stat) > t_critical\n",
        "\n",
        "        print(f\"\"\"\n",
        "            T-test results\n",
        "            - t_statistic: {t_stat}\n",
        "            - t_critical: {t_critical}\n",
        "\n",
        "            Performance results:\n",
        "            - Non-few shot: {no_few_shot_scores}\n",
        "            - Few-shot: {few_shot_scores}\n",
        "\n",
        "            Final outcome:\n",
        "            - result: {result}\n",
        "            \"\"\")\n",
        "        print(\"\\n-------------------------------------------------------------------\")\n",
        "\n",
        "        \n",
        "        with open('log.txt', 'a', newline='\\n') as file:\n",
        "            print(f\"\"\"\n",
        "            T-test results\n",
        "            - t_statistic: {t_stat}\n",
        "            - t_critical: {t_critical}\n",
        "\n",
        "            Performance results:\n",
        "            - Non-few shot: {no_few_shot_scores}\n",
        "            - Few-shot: {few_shot_scores}\n",
        "\n",
        "            Final outcome:\n",
        "            - result: {result}\n",
        "            \"\"\", file=file)\n",
        "\n",
        "            print(\"\\n-------------------------------------------------------------------\", file=file)\n",
        "               \n",
        "        return t_stat, t_critical, no_few_shot_scores, few_shot_scores, result\n",
        "    \n",
        "\n",
        "\n",
        "\n"
      ]
    },
    {
      "cell_type": "markdown",
      "metadata": {},
      "source": [
        "# Main"
      ]
    },
    {
      "cell_type": "code",
      "execution_count": 6,
      "metadata": {},
      "outputs": [
        {
          "name": "stdout",
          "output_type": "stream",
          "text": [
            "\n",
            "PERFORMING COMPARISON USING  5 CROSS-VALIDATION AND  16 -SHOT LEARNING\n",
            "#######################################\n",
            "CNNModel  VS  FewShotModel\n",
            "#######################################\n",
            "\n",
            "Processing the Kaggle dataset: indian_dataset\n"
          ]
        },
        {
          "name": "stderr",
          "output_type": "stream",
          "text": [
            "Processing images: 100%|██████████| 13971/13971 [01:44<00:00, 133.31it/s]\n"
          ]
        },
        {
          "name": "stdout",
          "output_type": "stream",
          "text": [
            "Number of filtered labels:  58\n",
            "Number of removed labels:  0\n",
            "Number of samples in the dataset:  13971\n",
            "\n",
            "Iteration:  0\n",
            "\n",
            "#######################################\n",
            "Training non-few shot model...\n",
            "Train dataset size:  175\n",
            "Test dataset size:  44\n",
            "Epoch 1/10\n",
            "  Training Loss: 3.9533\n",
            "Epoch 2/10\n",
            "  Training Loss: 3.9094\n",
            "Epoch 3/10\n",
            "  Training Loss: 3.8963\n",
            "Epoch 4/10\n",
            "  Training Loss: 3.8854\n",
            "Epoch 5/10\n",
            "  Training Loss: 3.8746\n",
            "Epoch 6/10\n",
            "  Training Loss: 3.8716\n",
            "Epoch 7/10\n",
            "  Training Loss: 3.8579\n",
            "Epoch 8/10\n",
            "  Training Loss: 3.8513\n",
            "Epoch 9/10\n",
            "  Training Loss: 3.8460\n",
            "Epoch 10/10\n",
            "  Training Loss: 3.8396\n",
            "Training complete!\n",
            "\n",
            "Test F1-macro:  0.06852200826336938\n",
            "##########################################\n",
            "2025-06-09 13:39:02 Getting cached textual weights W ...\n",
            "2025-06-09 13:39:02 Loading texture features from ./__few_shot_cache__\\indian_dataset_ViT-B/16_textfeats.pt\n",
            "\n",
            "#######################################\n",
            "Training few-shot model...\n",
            "Train dataset size:  15\n",
            "Test dataset size:  44\n"
          ]
        },
        {
          "name": "stderr",
          "output_type": "stream",
          "text": [
            "epoch 0: 100%|██████████| 15/15 [00:40<00:00,  2.72s/it, cur_loss=11.6]\n"
          ]
        },
        {
          "name": "stdout",
          "output_type": "stream",
          "text": [
            "train acc=0.13793103448275862, [l1_loss, ce_loss] => [4.086100260416667, 0.30263671875, 3.738541666666667, 3.8977864583333335, 3.771744791666667]\n",
            "Epoch: 0, loss: 15.7974, lr: 0.00000997\n"
          ]
        },
        {
          "name": "stderr",
          "output_type": "stream",
          "text": [
            "epoch 1: 100%|██████████| 15/15 [00:41<00:00,  2.76s/it, cur_loss=10.2]\n"
          ]
        },
        {
          "name": "stdout",
          "output_type": "stream",
          "text": [
            "train acc=0.46551724137931033, [l1_loss, ce_loss] => [0.5295084635416667, 0.31232096354166666, 2.913671875, 3.5140625, 3.12421875]\n",
            "Epoch: 1, loss: 10.3938, lr: 0.00000989\n"
          ]
        },
        {
          "name": "stderr",
          "output_type": "stream",
          "text": [
            "epoch 2: 100%|██████████| 15/15 [00:39<00:00,  2.64s/it, cur_loss=8.31]\n"
          ]
        },
        {
          "name": "stdout",
          "output_type": "stream",
          "text": [
            "train acc=0.6400862068965517, [l1_loss, ce_loss] => [0.509033203125, 0.32198893229166664, 2.3856770833333334, 3.222265625, 2.66953125]\n",
            "Epoch: 2, loss: 9.1089, lr: 0.00000976\n"
          ]
        },
        {
          "name": "stderr",
          "output_type": "stream",
          "text": [
            "epoch 3: 100%|██████████| 15/15 [00:43<00:00,  2.93s/it, cur_loss=7.48]\n"
          ]
        },
        {
          "name": "stdout",
          "output_type": "stream",
          "text": [
            "train acc=0.7629310344827587, [l1_loss, ce_loss] => [0.51005859375, 0.32911783854166665, 1.9589192708333334, 3.001171875, 2.298958333333333]\n",
            "Epoch: 3, loss: 8.0977, lr: 0.00000957\n"
          ]
        },
        {
          "name": "stderr",
          "output_type": "stream",
          "text": [
            "epoch 4: 100%|██████████| 15/15 [00:40<00:00,  2.68s/it, cur_loss=7.4] \n"
          ]
        },
        {
          "name": "stdout",
          "output_type": "stream",
          "text": [
            "train acc=0.8254310344827587, [l1_loss, ce_loss] => [0.510205078125, 0.3353352864583333, 1.6350911458333333, 2.763802083333333, 1.9704427083333333]\n",
            "Epoch: 4, loss: 7.2151, lr: 0.00000933\n"
          ]
        },
        {
          "name": "stderr",
          "output_type": "stream",
          "text": [
            "epoch 5: 100%|██████████| 15/15 [00:42<00:00,  2.86s/it, cur_loss=6.11]\n"
          ]
        },
        {
          "name": "stdout",
          "output_type": "stream",
          "text": [
            "train acc=0.8523706896551724, [l1_loss, ce_loss] => [0.5057291666666667, 0.34033203125, 1.3461588541666667, 2.527083333333333, 1.6588541666666667]\n",
            "Epoch: 5, loss: 6.3784, lr: 0.00000905\n"
          ]
        },
        {
          "name": "stderr",
          "output_type": "stream",
          "text": [
            "epoch 6: 100%|██████████| 15/15 [00:40<00:00,  2.67s/it, cur_loss=5.81]\n"
          ]
        },
        {
          "name": "stdout",
          "output_type": "stream",
          "text": [
            "train acc=0.8803879310344828, [l1_loss, ce_loss] => [0.5060546875, 0.3451334635416667, 1.1221354166666666, 2.3450520833333335, 1.405078125]\n",
            "Epoch: 6, loss: 5.7234, lr: 0.00000872\n"
          ]
        },
        {
          "name": "stderr",
          "output_type": "stream",
          "text": [
            "epoch 7: 100%|██████████| 15/15 [00:46<00:00,  3.13s/it, cur_loss=5.33]\n"
          ]
        },
        {
          "name": "stdout",
          "output_type": "stream",
          "text": [
            "train acc=0.8987068965517241, [l1_loss, ce_loss] => [0.5027669270833334, 0.34677734375, 0.9538736979166667, 2.1929036458333333, 1.200390625]\n",
            "Epoch: 7, loss: 5.1964, lr: 0.00000835\n"
          ]
        },
        {
          "name": "stderr",
          "output_type": "stream",
          "text": [
            "epoch 8: 100%|██████████| 15/15 [00:56<00:00,  3.77s/it, cur_loss=4.67]\n"
          ]
        },
        {
          "name": "stdout",
          "output_type": "stream",
          "text": [
            "train acc=0.9137931034482759, [l1_loss, ce_loss] => [0.5031087239583333, 0.34962565104166665, 0.80634765625, 2.0404296875, 1.01982421875]\n",
            "Epoch: 8, loss: 4.7195, lr: 0.00000794\n"
          ]
        },
        {
          "name": "stderr",
          "output_type": "stream",
          "text": [
            "epoch 9: 100%|██████████| 15/15 [01:16<00:00,  5.09s/it, cur_loss=4.57]\n"
          ]
        },
        {
          "name": "stdout",
          "output_type": "stream",
          "text": [
            "train acc=0.90625, [l1_loss, ce_loss] => [0.49384765625, 0.35182291666666665, 0.7219401041666667, 1.9369791666666667, 0.9065104166666667]\n",
            "Epoch: 9, loss: 4.4115, lr: 0.00000750\n"
          ]
        },
        {
          "name": "stderr",
          "output_type": "stream",
          "text": [
            "epoch 10: 100%|██████████| 15/15 [01:23<00:00,  5.59s/it, cur_loss=4.8] \n"
          ]
        },
        {
          "name": "stdout",
          "output_type": "stream",
          "text": [
            "train acc=0.90625, [l1_loss, ce_loss] => [0.48688151041666666, 0.35203450520833335, 0.6471028645833333, 1.8323567708333333, 0.80693359375]\n",
            "Epoch: 10, loss: 4.1254, lr: 0.00000703\n"
          ]
        },
        {
          "name": "stderr",
          "output_type": "stream",
          "text": [
            "epoch 11: 100%|██████████| 15/15 [01:26<00:00,  5.75s/it, cur_loss=3.88]\n"
          ]
        },
        {
          "name": "stdout",
          "output_type": "stream",
          "text": [
            "train acc=0.9202586206896551, [l1_loss, ce_loss] => [0.47197265625, 0.3509602864583333, 0.5787434895833333, 1.733984375, 0.7203450520833333]\n",
            "Epoch: 11, loss: 3.8561, lr: 0.00000655\n"
          ]
        },
        {
          "name": "stderr",
          "output_type": "stream",
          "text": [
            "epoch 12: 100%|██████████| 15/15 [01:24<00:00,  5.67s/it, cur_loss=3.54]\n"
          ]
        },
        {
          "name": "stdout",
          "output_type": "stream",
          "text": [
            "train acc=0.9256465517241379, [l1_loss, ce_loss] => [0.4640299479166667, 0.352978515625, 0.5390462239583333, 1.6650390625, 0.6694010416666667]\n",
            "Epoch: 12, loss: 3.6904, lr: 0.00000604\n"
          ]
        },
        {
          "name": "stderr",
          "output_type": "stream",
          "text": [
            "epoch 13: 100%|██████████| 15/15 [01:26<00:00,  5.76s/it, cur_loss=3.64]\n"
          ]
        },
        {
          "name": "stdout",
          "output_type": "stream",
          "text": [
            "train acc=0.9224137931034483, [l1_loss, ce_loss] => [0.45970052083333335, 0.3529296875, 0.515087890625, 1.6124348958333334, 0.6320963541666667]\n",
            "Epoch: 13, loss: 3.5720, lr: 0.00000552\n"
          ]
        },
        {
          "name": "stderr",
          "output_type": "stream",
          "text": [
            "epoch 14: 100%|██████████| 15/15 [01:24<00:00,  5.66s/it, cur_loss=3.48]\n"
          ]
        },
        {
          "name": "stdout",
          "output_type": "stream",
          "text": [
            "train acc=0.9299568965517241, [l1_loss, ce_loss] => [0.459228515625, 0.35309244791666666, 0.4849772135416667, 1.5623046875, 0.60361328125]\n",
            "Epoch: 14, loss: 3.4629, lr: 0.00000500\n"
          ]
        },
        {
          "name": "stderr",
          "output_type": "stream",
          "text": [
            "epoch 15: 100%|██████████| 15/15 [01:26<00:00,  5.78s/it, cur_loss=3.31]\n"
          ]
        },
        {
          "name": "stdout",
          "output_type": "stream",
          "text": [
            "train acc=0.9331896551724138, [l1_loss, ce_loss] => [0.4576171875, 0.352392578125, 0.456982421875, 1.5049479166666666, 0.5626953125]\n",
            "Epoch: 15, loss: 3.3348, lr: 0.00000448\n"
          ]
        },
        {
          "name": "stderr",
          "output_type": "stream",
          "text": [
            "epoch 16: 100%|██████████| 15/15 [01:25<00:00,  5.68s/it, cur_loss=3.28]\n"
          ]
        },
        {
          "name": "stdout",
          "output_type": "stream",
          "text": [
            "train acc=0.9353448275862069, [l1_loss, ce_loss] => [0.44998372395833336, 0.35301106770833335, 0.44241536458333336, 1.4727213541666666, 0.541259765625]\n",
            "Epoch: 16, loss: 3.2595, lr: 0.00000396\n"
          ]
        },
        {
          "name": "stderr",
          "output_type": "stream",
          "text": [
            "epoch 17: 100%|██████████| 15/15 [01:27<00:00,  5.83s/it, cur_loss=3.24]\n"
          ]
        },
        {
          "name": "stdout",
          "output_type": "stream",
          "text": [
            "train acc=0.9396551724137931, [l1_loss, ce_loss] => [0.4398274739583333, 0.3521484375, 0.4298014322916667, 1.4380208333333333, 0.5253092447916666]\n",
            "Epoch: 17, loss: 3.1853, lr: 0.00000345\n"
          ]
        },
        {
          "name": "stderr",
          "output_type": "stream",
          "text": [
            "epoch 18: 100%|██████████| 15/15 [01:27<00:00,  5.81s/it, cur_loss=3.21]\n"
          ]
        },
        {
          "name": "stdout",
          "output_type": "stream",
          "text": [
            "train acc=0.9461206896551724, [l1_loss, ce_loss] => [0.4402669270833333, 0.35206705729166665, 0.42208658854166664, 1.4151041666666666, 0.5169759114583333]\n",
            "Epoch: 18, loss: 3.1467, lr: 0.00000297\n"
          ]
        },
        {
          "name": "stderr",
          "output_type": "stream",
          "text": [
            "epoch 19: 100%|██████████| 15/15 [01:34<00:00,  6.32s/it, cur_loss=3.09]\n"
          ]
        },
        {
          "name": "stdout",
          "output_type": "stream",
          "text": [
            "train acc=0.9407327586206896, [l1_loss, ce_loss] => [0.4381510416666667, 0.35309244791666666, 0.41334635416666665, 1.4053385416666666, 0.5065266927083333]\n",
            "Epoch: 19, loss: 3.1163, lr: 0.00000250\n"
          ]
        },
        {
          "name": "stderr",
          "output_type": "stream",
          "text": [
            "epoch 20: 100%|██████████| 15/15 [01:35<00:00,  6.37s/it, cur_loss=3.27]\n"
          ]
        },
        {
          "name": "stdout",
          "output_type": "stream",
          "text": [
            "train acc=0.9493534482758621, [l1_loss, ce_loss] => [0.43553059895833335, 0.35279947916666665, 0.40817057291666664, 1.3972005208333333, 0.498486328125]\n",
            "Epoch: 20, loss: 3.0921, lr: 0.00000206\n"
          ]
        },
        {
          "name": "stderr",
          "output_type": "stream",
          "text": [
            "epoch 21: 100%|██████████| 15/15 [01:36<00:00,  6.45s/it, cur_loss=3.15]\n"
          ]
        },
        {
          "name": "stdout",
          "output_type": "stream",
          "text": [
            "train acc=0.9418103448275862, [l1_loss, ce_loss] => [0.43474934895833334, 0.351513671875, 0.40011393229166664, 1.3888671875, 0.48927408854166665]\n",
            "Epoch: 21, loss: 3.0646, lr: 0.00000165\n"
          ]
        },
        {
          "name": "stderr",
          "output_type": "stream",
          "text": [
            "epoch 22: 100%|██████████| 15/15 [01:39<00:00,  6.61s/it, cur_loss=2.9] \n"
          ]
        },
        {
          "name": "stdout",
          "output_type": "stream",
          "text": [
            "train acc=0.947198275862069, [l1_loss, ce_loss] => [0.43089192708333335, 0.35231119791666665, 0.391064453125, 1.3671875, 0.47945963541666664]\n",
            "Epoch: 22, loss: 3.0206, lr: 0.00000128\n"
          ]
        },
        {
          "name": "stderr",
          "output_type": "stream",
          "text": [
            "epoch 23: 100%|██████████| 15/15 [01:41<00:00,  6.74s/it, cur_loss=3.74]\n"
          ]
        },
        {
          "name": "stdout",
          "output_type": "stream",
          "text": [
            "train acc=0.9493534482758621, [l1_loss, ce_loss] => [0.4325358072916667, 0.3521321614583333, 0.396728515625, 1.3641276041666666, 0.4832845052083333]\n",
            "Epoch: 23, loss: 3.0292, lr: 0.00000095\n"
          ]
        },
        {
          "name": "stderr",
          "output_type": "stream",
          "text": [
            "epoch 24: 100%|██████████| 15/15 [01:45<00:00,  7.01s/it, cur_loss=3.18]\n"
          ]
        },
        {
          "name": "stdout",
          "output_type": "stream",
          "text": [
            "train acc=0.9525862068965517, [l1_loss, ce_loss] => [0.431298828125, 0.35174153645833334, 0.391064453125, 1.3661458333333334, 0.477099609375]\n",
            "Epoch: 24, loss: 3.0177, lr: 0.00000067\n"
          ]
        },
        {
          "name": "stderr",
          "output_type": "stream",
          "text": [
            "epoch 25: 100%|██████████| 15/15 [01:53<00:00,  7.56s/it, cur_loss=2.69]\n"
          ]
        },
        {
          "name": "stdout",
          "output_type": "stream",
          "text": [
            "train acc=0.9493534482758621, [l1_loss, ce_loss] => [0.4310709635416667, 0.35224609375, 0.39383138020833336, 1.3612630208333334, 0.47882486979166666]\n",
            "Epoch: 25, loss: 3.0173, lr: 0.00000043\n"
          ]
        },
        {
          "name": "stderr",
          "output_type": "stream",
          "text": [
            "epoch 26: 100%|██████████| 15/15 [02:01<00:00,  8.07s/it, cur_loss=3.64]\n"
          ]
        },
        {
          "name": "stdout",
          "output_type": "stream",
          "text": [
            "train acc=0.9493534482758621, [l1_loss, ce_loss] => [0.4303059895833333, 0.35185546875, 0.398095703125, 1.3631510416666666, 0.48553059895833334]\n",
            "Epoch: 26, loss: 3.0289, lr: 0.00000024\n"
          ]
        },
        {
          "name": "stderr",
          "output_type": "stream",
          "text": [
            "epoch 27: 100%|██████████| 15/15 [02:07<00:00,  8.47s/it, cur_loss=3.06]\n"
          ]
        },
        {
          "name": "stdout",
          "output_type": "stream",
          "text": [
            "train acc=0.947198275862069, [l1_loss, ce_loss] => [0.4317220052083333, 0.352490234375, 0.3929361979166667, 1.3656901041666667, 0.48118489583333335]\n",
            "Epoch: 27, loss: 3.0237, lr: 0.00000011\n"
          ]
        },
        {
          "name": "stderr",
          "output_type": "stream",
          "text": [
            "epoch 28: 100%|██████████| 15/15 [02:12<00:00,  8.81s/it, cur_loss=3.07]\n"
          ]
        },
        {
          "name": "stdout",
          "output_type": "stream",
          "text": [
            "train acc=0.9493534482758621, [l1_loss, ce_loss] => [0.431689453125, 0.352294921875, 0.39651692708333336, 1.3697916666666667, 0.48736979166666666]\n",
            "Epoch: 28, loss: 3.0378, lr: 0.00000003\n"
          ]
        },
        {
          "name": "stderr",
          "output_type": "stream",
          "text": [
            "epoch 29: 100%|██████████| 15/15 [02:21<00:00,  9.41s/it, cur_loss=2.77]\n"
          ]
        },
        {
          "name": "stdout",
          "output_type": "stream",
          "text": [
            "train acc=0.9504310344827587, [l1_loss, ce_loss] => [0.43125, 0.3517578125, 0.38798828125, 1.3626302083333333, 0.4808430989583333]\n",
            "Epoch: 29, loss: 3.0145, lr: 0.00000000\n",
            "Training complete!\n"
          ]
        },
        {
          "name": "stderr",
          "output_type": "stream",
          "text": [
            "Evaluate: 100%|██████████| 44/44 [02:57<00:00,  4.02s/it]\n"
          ]
        },
        {
          "name": "stdout",
          "output_type": "stream",
          "text": [
            "\n",
            "Test F1-macro:  0.8602420751183693\n",
            "#######################################\n",
            "\n",
            "Iteration:  1\n",
            "\n",
            "#######################################\n",
            "Training non-few shot model...\n",
            "Train dataset size:  175\n",
            "Test dataset size:  44\n",
            "Epoch 1/10\n",
            "  Training Loss: 3.9441\n",
            "Epoch 2/10\n",
            "  Training Loss: 3.8561\n",
            "Epoch 3/10\n",
            "  Training Loss: 3.8221\n",
            "Epoch 4/10\n",
            "  Training Loss: 3.8012\n",
            "Epoch 5/10\n",
            "  Training Loss: 3.7923\n",
            "Epoch 6/10\n",
            "  Training Loss: 3.7753\n",
            "Epoch 7/10\n",
            "  Training Loss: 3.7644\n",
            "Epoch 8/10\n",
            "  Training Loss: 3.7609\n",
            "Epoch 9/10\n",
            "  Training Loss: 3.7575\n",
            "Epoch 10/10\n",
            "  Training Loss: 3.7511\n",
            "Training complete!\n",
            "\n",
            "Test F1-macro:  0.13873429603584025\n",
            "##########################################\n",
            "2025-06-09 14:28:53 Getting cached textual weights W ...\n",
            "2025-06-09 14:28:53 Loading texture features from ./__few_shot_cache__\\indian_dataset_ViT-B/16_textfeats.pt\n",
            "\n",
            "#######################################\n",
            "Training few-shot model...\n",
            "Train dataset size:  15\n",
            "Test dataset size:  44\n"
          ]
        },
        {
          "name": "stderr",
          "output_type": "stream",
          "text": [
            "epoch 0: 100%|██████████| 15/15 [01:19<00:00,  5.32s/it, cur_loss=11.4]\n"
          ]
        },
        {
          "name": "stdout",
          "output_type": "stream",
          "text": [
            "train acc=0.15948275862068967, [l1_loss, ce_loss] => [4.138151041666666, 0.3368326822916667, 3.5947916666666666, 3.8877604166666666, 3.687890625]\n",
            "Epoch: 0, loss: 15.6432, lr: 0.00000997\n"
          ]
        },
        {
          "name": "stderr",
          "output_type": "stream",
          "text": [
            "epoch 1: 100%|██████████| 15/15 [01:50<00:00,  7.34s/it, cur_loss=9.45]\n"
          ]
        },
        {
          "name": "stdout",
          "output_type": "stream",
          "text": [
            "train acc=0.5495689655172413, [l1_loss, ce_loss] => [0.5879231770833333, 0.348583984375, 2.642578125, 3.435286458333333, 2.9114583333333335]\n",
            "Epoch: 1, loss: 9.9260, lr: 0.00000989\n"
          ]
        },
        {
          "name": "stderr",
          "output_type": "stream",
          "text": [
            "epoch 2: 100%|██████████| 15/15 [01:53<00:00,  7.58s/it, cur_loss=8.41]\n"
          ]
        },
        {
          "name": "stdout",
          "output_type": "stream",
          "text": [
            "train acc=0.7079741379310345, [l1_loss, ce_loss] => [0.551171875, 0.3597330729166667, 2.1169921875, 3.1337239583333334, 2.435807291666667]\n",
            "Epoch: 2, loss: 8.5984, lr: 0.00000976\n"
          ]
        },
        {
          "name": "stderr",
          "output_type": "stream",
          "text": [
            "epoch 3: 100%|██████████| 15/15 [01:54<00:00,  7.65s/it, cur_loss=7.45]\n"
          ]
        },
        {
          "name": "stdout",
          "output_type": "stream",
          "text": [
            "train acc=0.8060344827586207, [l1_loss, ce_loss] => [0.5490234375, 0.3668619791666667, 1.7213541666666667, 2.865364583333333, 2.0684244791666666]\n",
            "Epoch: 3, loss: 7.5714, lr: 0.00000957\n"
          ]
        },
        {
          "name": "stderr",
          "output_type": "stream",
          "text": [
            "epoch 4: 100%|██████████| 15/15 [02:15<00:00,  9.05s/it, cur_loss=6.08]\n"
          ]
        },
        {
          "name": "stdout",
          "output_type": "stream",
          "text": [
            "train acc=0.8620689655172413, [l1_loss, ce_loss] => [0.5362955729166666, 0.37210286458333336, 1.4097005208333333, 2.630598958333333, 1.7653645833333333]\n",
            "Epoch: 4, loss: 6.7135, lr: 0.00000933\n"
          ]
        },
        {
          "name": "stderr",
          "output_type": "stream",
          "text": [
            "epoch 5: 100%|██████████| 15/15 [02:26<00:00,  9.74s/it, cur_loss=6.3] \n"
          ]
        },
        {
          "name": "stdout",
          "output_type": "stream",
          "text": [
            "train acc=0.8825431034482759, [l1_loss, ce_loss] => [0.5264322916666667, 0.3785319010416667, 1.1792317708333333, 2.4014322916666666, 1.5126953125]\n",
            "Epoch: 5, loss: 5.9977, lr: 0.00000905\n"
          ]
        },
        {
          "name": "stderr",
          "output_type": "stream",
          "text": [
            "epoch 6: 100%|██████████| 15/15 [2:42:22<00:00, 649.47s/it, cur_loss=5.09]   \n"
          ]
        },
        {
          "name": "stdout",
          "output_type": "stream",
          "text": [
            "train acc=0.8976293103448276, [l1_loss, ce_loss] => [0.5170572916666667, 0.38009440104166664, 0.978125, 2.2158854166666666, 1.2850260416666666]\n",
            "Epoch: 6, loss: 5.3763, lr: 0.00000872\n"
          ]
        },
        {
          "name": "stderr",
          "output_type": "stream",
          "text": [
            "epoch 7: 100%|██████████| 15/15 [02:45<00:00, 11.01s/it, cur_loss=5.5] \n"
          ]
        },
        {
          "name": "stdout",
          "output_type": "stream",
          "text": [
            "train acc=0.8987068965517241, [l1_loss, ce_loss] => [0.5141764322916667, 0.38212890625, 0.8428385416666667, 2.0961588541666667, 1.1247721354166667]\n",
            "Epoch: 7, loss: 4.9604, lr: 0.00000835\n"
          ]
        },
        {
          "name": "stderr",
          "output_type": "stream",
          "text": [
            "epoch 8: 100%|██████████| 15/15 [02:24<00:00,  9.66s/it, cur_loss=4.73]\n"
          ]
        },
        {
          "name": "stdout",
          "output_type": "stream",
          "text": [
            "train acc=0.9224137931034483, [l1_loss, ce_loss] => [0.506201171875, 0.38238932291666666, 0.7234049479166667, 1.9462890625, 0.9712239583333333]\n",
            "Epoch: 8, loss: 4.5297, lr: 0.00000794\n"
          ]
        },
        {
          "name": "stderr",
          "output_type": "stream",
          "text": [
            "epoch 9: 100%|██████████| 15/15 [01:53<00:00,  7.60s/it, cur_loss=4.64]\n"
          ]
        },
        {
          "name": "stdout",
          "output_type": "stream",
          "text": [
            "train acc=0.9213362068965517, [l1_loss, ce_loss] => [0.49514973958333336, 0.38466796875, 0.6357096354166667, 1.8517578125, 0.85986328125]\n",
            "Epoch: 9, loss: 4.2268, lr: 0.00000750\n"
          ]
        },
        {
          "name": "stderr",
          "output_type": "stream",
          "text": [
            "epoch 10: 100%|██████████| 15/15 [01:18<00:00,  5.26s/it, cur_loss=3.9] \n"
          ]
        },
        {
          "name": "stdout",
          "output_type": "stream",
          "text": [
            "train acc=0.9224137931034483, [l1_loss, ce_loss] => [0.4864583333333333, 0.38434244791666666, 0.5710611979166667, 1.7334635416666666, 0.7622721354166667]\n",
            "Epoch: 10, loss: 3.9376, lr: 0.00000703\n"
          ]
        },
        {
          "name": "stderr",
          "output_type": "stream",
          "text": [
            "epoch 11: 100%|██████████| 15/15 [01:17<00:00,  5.14s/it, cur_loss=3.8] \n"
          ]
        },
        {
          "name": "stdout",
          "output_type": "stream",
          "text": [
            "train acc=0.9267241379310345, [l1_loss, ce_loss] => [0.4789225260416667, 0.3829264322916667, 0.5113118489583334, 1.6615885416666667, 0.68935546875]\n",
            "Epoch: 11, loss: 3.7241, lr: 0.00000655\n"
          ]
        },
        {
          "name": "stderr",
          "output_type": "stream",
          "text": [
            "epoch 12: 100%|██████████| 15/15 [01:17<00:00,  5.18s/it, cur_loss=3.55]\n"
          ]
        },
        {
          "name": "stdout",
          "output_type": "stream",
          "text": [
            "train acc=0.9321120689655172, [l1_loss, ce_loss] => [0.46844075520833334, 0.383642578125, 0.4751790364583333, 1.5811848958333334, 0.6329752604166666]\n",
            "Epoch: 12, loss: 3.5417, lr: 0.00000604\n"
          ]
        },
        {
          "name": "stderr",
          "output_type": "stream",
          "text": [
            "epoch 13: 100%|██████████| 15/15 [01:16<00:00,  5.08s/it, cur_loss=3.41]\n"
          ]
        },
        {
          "name": "stdout",
          "output_type": "stream",
          "text": [
            "train acc=0.9375, [l1_loss, ce_loss] => [0.46140950520833335, 0.382373046875, 0.44259440104166664, 1.5266276041666667, 0.589453125]\n",
            "Epoch: 13, loss: 3.4022, lr: 0.00000552\n"
          ]
        },
        {
          "name": "stderr",
          "output_type": "stream",
          "text": [
            "epoch 14: 100%|██████████| 15/15 [01:17<00:00,  5.18s/it, cur_loss=3.16]\n"
          ]
        },
        {
          "name": "stdout",
          "output_type": "stream",
          "text": [
            "train acc=0.9396551724137931, [l1_loss, ce_loss] => [0.459912109375, 0.38136393229166665, 0.4244791666666667, 1.487109375, 0.561767578125]\n",
            "Epoch: 14, loss: 3.3147, lr: 0.00000500\n"
          ]
        },
        {
          "name": "stderr",
          "output_type": "stream",
          "text": [
            "epoch 15: 100%|██████████| 15/15 [01:18<00:00,  5.21s/it, cur_loss=3.23]\n"
          ]
        },
        {
          "name": "stdout",
          "output_type": "stream",
          "text": [
            "train acc=0.9321120689655172, [l1_loss, ce_loss] => [0.4522623697916667, 0.38063151041666665, 0.4078450520833333, 1.4530598958333334, 0.536669921875]\n",
            "Epoch: 15, loss: 3.2305, lr: 0.00000448\n"
          ]
        },
        {
          "name": "stderr",
          "output_type": "stream",
          "text": [
            "epoch 16: 100%|██████████| 15/15 [01:18<00:00,  5.21s/it, cur_loss=3.29]\n"
          ]
        },
        {
          "name": "stdout",
          "output_type": "stream",
          "text": [
            "train acc=0.9385775862068966, [l1_loss, ce_loss] => [0.44488932291666666, 0.3802408854166667, 0.3914713541666667, 1.4212890625, 0.513232421875]\n",
            "Epoch: 16, loss: 3.1510, lr: 0.00000396\n"
          ]
        },
        {
          "name": "stderr",
          "output_type": "stream",
          "text": [
            "epoch 17: 100%|██████████| 15/15 [01:19<00:00,  5.29s/it, cur_loss=3.24]\n"
          ]
        },
        {
          "name": "stdout",
          "output_type": "stream",
          "text": [
            "train acc=0.9418103448275862, [l1_loss, ce_loss] => [0.44212239583333335, 0.37957356770833334, 0.38084309895833335, 1.3811197916666667, 0.499658203125]\n",
            "Epoch: 17, loss: 3.0833, lr: 0.00000345\n"
          ]
        },
        {
          "name": "stderr",
          "output_type": "stream",
          "text": [
            "epoch 18: 100%|██████████| 15/15 [01:19<00:00,  5.29s/it, cur_loss=3.01]\n"
          ]
        },
        {
          "name": "stdout",
          "output_type": "stream",
          "text": [
            "train acc=0.9385775862068966, [l1_loss, ce_loss] => [0.4386393229166667, 0.37967122395833336, 0.37618815104166664, 1.3671875, 0.49246419270833336]\n",
            "Epoch: 18, loss: 3.0543, lr: 0.00000297\n"
          ]
        },
        {
          "name": "stderr",
          "output_type": "stream",
          "text": [
            "epoch 19: 100%|██████████| 15/15 [01:17<00:00,  5.18s/it, cur_loss=3.2] \n"
          ]
        },
        {
          "name": "stdout",
          "output_type": "stream",
          "text": [
            "train acc=0.9418103448275862, [l1_loss, ce_loss] => [0.43819986979166664, 0.37913411458333335, 0.3610758463541667, 1.3484375, 0.47415364583333336]\n",
            "Epoch: 19, loss: 3.0009, lr: 0.00000250\n"
          ]
        },
        {
          "name": "stderr",
          "output_type": "stream",
          "text": [
            "epoch 20: 100%|██████████| 15/15 [01:18<00:00,  5.25s/it, cur_loss=2.85]\n"
          ]
        },
        {
          "name": "stdout",
          "output_type": "stream",
          "text": [
            "train acc=0.9450431034482759, [l1_loss, ce_loss] => [0.4353515625, 0.379150390625, 0.35654296875, 1.3391276041666667, 0.4677734375]\n",
            "Epoch: 20, loss: 2.9777, lr: 0.00000206\n"
          ]
        },
        {
          "name": "stderr",
          "output_type": "stream",
          "text": [
            "epoch 21: 100%|██████████| 15/15 [01:18<00:00,  5.26s/it, cur_loss=3.25]\n"
          ]
        },
        {
          "name": "stdout",
          "output_type": "stream",
          "text": [
            "train acc=0.9418103448275862, [l1_loss, ce_loss] => [0.43435872395833336, 0.37861328125, 0.35670572916666665, 1.3311848958333334, 0.465478515625]\n",
            "Epoch: 21, loss: 2.9661, lr: 0.00000165\n"
          ]
        },
        {
          "name": "stderr",
          "output_type": "stream",
          "text": [
            "epoch 22: 100%|██████████| 15/15 [01:18<00:00,  5.21s/it, cur_loss=2.99]\n"
          ]
        },
        {
          "name": "stdout",
          "output_type": "stream",
          "text": [
            "train acc=0.9396551724137931, [l1_loss, ce_loss] => [0.4327799479166667, 0.378271484375, 0.3538330078125, 1.3265625, 0.46502278645833334]\n",
            "Epoch: 22, loss: 2.9564, lr: 0.00000128\n"
          ]
        },
        {
          "name": "stderr",
          "output_type": "stream",
          "text": [
            "epoch 23: 100%|██████████| 15/15 [01:18<00:00,  5.20s/it, cur_loss=3]   \n"
          ]
        },
        {
          "name": "stdout",
          "output_type": "stream",
          "text": [
            "train acc=0.9461206896551724, [l1_loss, ce_loss] => [0.43076171875, 0.37845052083333336, 0.34182942708333336, 1.3064453125, 0.45240885416666665]\n",
            "Epoch: 23, loss: 2.9096, lr: 0.00000095\n"
          ]
        },
        {
          "name": "stderr",
          "output_type": "stream",
          "text": [
            "epoch 24: 100%|██████████| 15/15 [01:16<00:00,  5.13s/it, cur_loss=3.09]\n"
          ]
        },
        {
          "name": "stdout",
          "output_type": "stream",
          "text": [
            "train acc=0.9439655172413793, [l1_loss, ce_loss] => [0.43307291666666664, 0.37724609375, 0.3502685546875, 1.3326171875, 0.4583658854166667]\n",
            "Epoch: 24, loss: 2.9518, lr: 0.00000067\n"
          ]
        },
        {
          "name": "stderr",
          "output_type": "stream",
          "text": [
            "epoch 25: 100%|██████████| 15/15 [01:17<00:00,  5.15s/it, cur_loss=2.98]\n"
          ]
        },
        {
          "name": "stdout",
          "output_type": "stream",
          "text": [
            "train acc=0.9482758620689655, [l1_loss, ce_loss] => [0.431982421875, 0.378515625, 0.349169921875, 1.3202473958333334, 0.45693359375]\n",
            "Epoch: 25, loss: 2.9370, lr: 0.00000043\n"
          ]
        },
        {
          "name": "stderr",
          "output_type": "stream",
          "text": [
            "epoch 26: 100%|██████████| 15/15 [01:17<00:00,  5.15s/it, cur_loss=3.44]\n"
          ]
        },
        {
          "name": "stdout",
          "output_type": "stream",
          "text": [
            "train acc=0.9439655172413793, [l1_loss, ce_loss] => [0.43064778645833335, 0.37810872395833334, 0.35360514322916664, 1.3079427083333333, 0.4573893229166667]\n",
            "Epoch: 26, loss: 2.9280, lr: 0.00000024\n"
          ]
        },
        {
          "name": "stderr",
          "output_type": "stream",
          "text": [
            "epoch 27: 100%|██████████| 15/15 [01:19<00:00,  5.27s/it, cur_loss=2.9] \n"
          ]
        },
        {
          "name": "stdout",
          "output_type": "stream",
          "text": [
            "train acc=0.9439655172413793, [l1_loss, ce_loss] => [0.43059895833333334, 0.377734375, 0.34978841145833334, 1.31796875, 0.45970052083333335]\n",
            "Epoch: 27, loss: 2.9354, lr: 0.00000011\n"
          ]
        },
        {
          "name": "stderr",
          "output_type": "stream",
          "text": [
            "epoch 28: 100%|██████████| 15/15 [01:20<00:00,  5.36s/it, cur_loss=3.42]\n"
          ]
        },
        {
          "name": "stdout",
          "output_type": "stream",
          "text": [
            "train acc=0.9418103448275862, [l1_loss, ce_loss] => [0.432568359375, 0.37786458333333334, 0.3538411458333333, 1.3252604166666666, 0.46681315104166665]\n",
            "Epoch: 28, loss: 2.9564, lr: 0.00000003\n"
          ]
        },
        {
          "name": "stderr",
          "output_type": "stream",
          "text": [
            "epoch 29: 100%|██████████| 15/15 [01:19<00:00,  5.30s/it, cur_loss=3.15]\n"
          ]
        },
        {
          "name": "stdout",
          "output_type": "stream",
          "text": [
            "train acc=0.9428879310344828, [l1_loss, ce_loss] => [0.43089192708333335, 0.3785481770833333, 0.35064290364583334, 1.3143229166666666, 0.459912109375]\n",
            "Epoch: 29, loss: 2.9342, lr: 0.00000000\n",
            "Training complete!\n"
          ]
        },
        {
          "name": "stderr",
          "output_type": "stream",
          "text": [
            "Evaluate: 100%|██████████| 44/44 [01:27<00:00,  1.98s/it]\n"
          ]
        },
        {
          "name": "stdout",
          "output_type": "stream",
          "text": [
            "\n",
            "Test F1-macro:  0.8558865986037165\n",
            "#######################################\n",
            "\n",
            "Iteration:  2\n",
            "\n",
            "#######################################\n",
            "Training non-few shot model...\n",
            "Train dataset size:  175\n",
            "Test dataset size:  44\n",
            "Epoch 1/10\n",
            "  Training Loss: 3.9649\n",
            "Epoch 2/10\n",
            "  Training Loss: 3.9120\n",
            "Epoch 3/10\n",
            "  Training Loss: 3.8992\n",
            "Epoch 4/10\n",
            "  Training Loss: 3.8946\n",
            "Epoch 5/10\n",
            "  Training Loss: 3.8870\n",
            "Epoch 6/10\n",
            "  Training Loss: 3.8728\n",
            "Epoch 7/10\n",
            "  Training Loss: 3.8457\n",
            "Epoch 8/10\n",
            "  Training Loss: 3.8389\n",
            "Epoch 9/10\n",
            "  Training Loss: 3.8360\n",
            "Epoch 10/10\n",
            "  Training Loss: 3.8212\n",
            "Training complete!\n",
            "\n",
            "Test F1-macro:  0.07730315604487667\n",
            "##########################################\n",
            "2025-06-09 18:02:27 Getting cached textual weights W ...\n",
            "2025-06-09 18:02:27 Loading texture features from ./__few_shot_cache__\\indian_dataset_ViT-B/16_textfeats.pt\n",
            "\n",
            "#######################################\n",
            "Training few-shot model...\n",
            "Train dataset size:  15\n",
            "Test dataset size:  44\n"
          ]
        },
        {
          "name": "stderr",
          "output_type": "stream",
          "text": [
            "epoch 0: 100%|██████████| 15/15 [01:28<00:00,  5.90s/it, cur_loss=11.2]\n"
          ]
        },
        {
          "name": "stdout",
          "output_type": "stream",
          "text": [
            "train acc=0.1724137931034483, [l1_loss, ce_loss] => [3.8251953125, 0.333984375, 3.630989583333333, 3.896484375, 3.737890625]\n",
            "Epoch: 0, loss: 15.4240, lr: 0.00000997\n"
          ]
        },
        {
          "name": "stderr",
          "output_type": "stream",
          "text": [
            "epoch 1: 100%|██████████| 15/15 [01:29<00:00,  5.97s/it, cur_loss=9.41]\n"
          ]
        },
        {
          "name": "stdout",
          "output_type": "stream",
          "text": [
            "train acc=0.5754310344827587, [l1_loss, ce_loss] => [0.5218912760416666, 0.34137369791666666, 2.6828125, 3.4369791666666667, 3.008984375]\n",
            "Epoch: 1, loss: 9.9922, lr: 0.00000989\n"
          ]
        },
        {
          "name": "stderr",
          "output_type": "stream",
          "text": [
            "epoch 2: 100%|██████████| 15/15 [01:27<00:00,  5.81s/it, cur_loss=8.3] \n"
          ]
        },
        {
          "name": "stdout",
          "output_type": "stream",
          "text": [
            "train acc=0.7230603448275862, [l1_loss, ce_loss] => [0.506103515625, 0.3492838541666667, 2.129752604166667, 3.126822916666667, 2.52421875]\n",
            "Epoch: 2, loss: 8.6365, lr: 0.00000976\n"
          ]
        },
        {
          "name": "stderr",
          "output_type": "stream",
          "text": [
            "epoch 3: 100%|██████████| 15/15 [01:26<00:00,  5.76s/it, cur_loss=7.43]\n"
          ]
        },
        {
          "name": "stdout",
          "output_type": "stream",
          "text": [
            "train acc=0.8200431034482759, [l1_loss, ce_loss] => [0.5051920572916667, 0.363037109375, 1.6942057291666666, 2.8569010416666667, 2.1090494791666665]\n",
            "Epoch: 3, loss: 7.5286, lr: 0.00000957\n"
          ]
        },
        {
          "name": "stderr",
          "output_type": "stream",
          "text": [
            "epoch 4: 100%|██████████| 15/15 [01:26<00:00,  5.75s/it, cur_loss=5.92]\n"
          ]
        },
        {
          "name": "stdout",
          "output_type": "stream",
          "text": [
            "train acc=0.8480603448275862, [l1_loss, ce_loss] => [0.5185872395833333, 0.36861979166666664, 1.3509114583333333, 2.604296875, 1.7255208333333334]\n",
            "Epoch: 4, loss: 6.5682, lr: 0.00000933\n"
          ]
        },
        {
          "name": "stderr",
          "output_type": "stream",
          "text": [
            "epoch 5: 100%|██████████| 15/15 [01:26<00:00,  5.74s/it, cur_loss=5.41]\n"
          ]
        },
        {
          "name": "stdout",
          "output_type": "stream",
          "text": [
            "train acc=0.8814655172413793, [l1_loss, ce_loss] => [0.5007649739583333, 0.373828125, 1.0958984375, 2.3838541666666666, 1.4055989583333333]\n",
            "Epoch: 5, loss: 5.7607, lr: 0.00000905\n"
          ]
        },
        {
          "name": "stderr",
          "output_type": "stream",
          "text": [
            "epoch 6: 100%|██████████| 15/15 [01:25<00:00,  5.73s/it, cur_loss=5.57]\n"
          ]
        },
        {
          "name": "stdout",
          "output_type": "stream",
          "text": [
            "train acc=0.8890086206896551, [l1_loss, ce_loss] => [0.496484375, 0.37970377604166666, 0.9166341145833333, 2.185807291666667, 1.1714192708333333]\n",
            "Epoch: 6, loss: 5.1500, lr: 0.00000872\n"
          ]
        },
        {
          "name": "stderr",
          "output_type": "stream",
          "text": [
            "epoch 7: 100%|██████████| 15/15 [01:26<00:00,  5.74s/it, cur_loss=4.78]\n"
          ]
        },
        {
          "name": "stdout",
          "output_type": "stream",
          "text": [
            "train acc=0.9084051724137931, [l1_loss, ce_loss] => [0.4878743489583333, 0.38230794270833335, 0.77236328125, 2.045703125, 0.9856770833333334]\n",
            "Epoch: 7, loss: 4.6742, lr: 0.00000835\n"
          ]
        },
        {
          "name": "stderr",
          "output_type": "stream",
          "text": [
            "epoch 8: 100%|██████████| 15/15 [01:26<00:00,  5.79s/it, cur_loss=4.03]\n"
          ]
        },
        {
          "name": "stdout",
          "output_type": "stream",
          "text": [
            "train acc=0.9224137931034483, [l1_loss, ce_loss] => [0.4900390625, 0.3841959635416667, 0.6734049479166667, 1.9124348958333333, 0.8590169270833333]\n",
            "Epoch: 8, loss: 4.3190, lr: 0.00000794\n"
          ]
        },
        {
          "name": "stderr",
          "output_type": "stream",
          "text": [
            "epoch 9: 100%|██████████| 15/15 [01:27<00:00,  5.82s/it, cur_loss=4.15]\n"
          ]
        },
        {
          "name": "stdout",
          "output_type": "stream",
          "text": [
            "train acc=0.9191810344827587, [l1_loss, ce_loss] => [0.4771647135416667, 0.38328450520833335, 0.5968098958333333, 1.7893229166666667, 0.7500325520833333]\n",
            "Epoch: 9, loss: 3.9964, lr: 0.00000750\n"
          ]
        },
        {
          "name": "stderr",
          "output_type": "stream",
          "text": [
            "epoch 10: 100%|██████████| 15/15 [01:16<00:00,  5.08s/it, cur_loss=3.81]\n"
          ]
        },
        {
          "name": "stdout",
          "output_type": "stream",
          "text": [
            "train acc=0.9234913793103449, [l1_loss, ce_loss] => [0.480126953125, 0.385009765625, 0.5457682291666667, 1.6999348958333333, 0.682421875]\n",
            "Epoch: 10, loss: 3.7932, lr: 0.00000703\n"
          ]
        },
        {
          "name": "stderr",
          "output_type": "stream",
          "text": [
            "epoch 11: 100%|██████████| 15/15 [00:54<00:00,  3.61s/it, cur_loss=4.41]\n"
          ]
        },
        {
          "name": "stdout",
          "output_type": "stream",
          "text": [
            "train acc=0.9288793103448276, [l1_loss, ce_loss] => [0.4630208333333333, 0.3856119791666667, 0.5080891927083333, 1.6229166666666666, 0.6338216145833333]\n",
            "Epoch: 11, loss: 3.6142, lr: 0.00000655\n"
          ]
        },
        {
          "name": "stderr",
          "output_type": "stream",
          "text": [
            "epoch 12: 100%|██████████| 15/15 [00:49<00:00,  3.32s/it, cur_loss=3.71]\n"
          ]
        },
        {
          "name": "stdout",
          "output_type": "stream",
          "text": [
            "train acc=0.9288793103448276, [l1_loss, ce_loss] => [0.4513671875, 0.3841796875, 0.46360677083333335, 1.5569661458333333, 0.5994466145833334]\n",
            "Epoch: 12, loss: 3.4555, lr: 0.00000604\n"
          ]
        },
        {
          "name": "stderr",
          "output_type": "stream",
          "text": [
            "epoch 13: 100%|██████████| 15/15 [00:49<00:00,  3.28s/it, cur_loss=3.65]\n"
          ]
        },
        {
          "name": "stdout",
          "output_type": "stream",
          "text": [
            "train acc=0.9375, [l1_loss, ce_loss] => [0.4453938802083333, 0.385302734375, 0.44627278645833335, 1.4897135416666667, 0.5559733072916667]\n",
            "Epoch: 13, loss: 3.3225, lr: 0.00000552\n"
          ]
        },
        {
          "name": "stderr",
          "output_type": "stream",
          "text": [
            "epoch 14: 100%|██████████| 15/15 [00:49<00:00,  3.31s/it, cur_loss=3.26]\n"
          ]
        },
        {
          "name": "stdout",
          "output_type": "stream",
          "text": [
            "train acc=0.9418103448275862, [l1_loss, ce_loss] => [0.4365234375, 0.3831868489583333, 0.42509765625, 1.4393229166666666, 0.52919921875]\n",
            "Epoch: 14, loss: 3.2135, lr: 0.00000500\n"
          ]
        },
        {
          "name": "stderr",
          "output_type": "stream",
          "text": [
            "epoch 15: 100%|██████████| 15/15 [00:49<00:00,  3.28s/it, cur_loss=3.39]\n"
          ]
        },
        {
          "name": "stdout",
          "output_type": "stream",
          "text": [
            "train acc=0.9418103448275862, [l1_loss, ce_loss] => [0.42986653645833334, 0.38331705729166665, 0.411181640625, 1.4084635416666667, 0.5164388020833334]\n",
            "Epoch: 15, loss: 3.1493, lr: 0.00000448\n"
          ]
        },
        {
          "name": "stderr",
          "output_type": "stream",
          "text": [
            "epoch 16: 100%|██████████| 15/15 [00:50<00:00,  3.39s/it, cur_loss=3.09]\n"
          ]
        },
        {
          "name": "stdout",
          "output_type": "stream",
          "text": [
            "train acc=0.9493534482758621, [l1_loss, ce_loss] => [0.425244140625, 0.38235677083333336, 0.3937744140625, 1.367578125, 0.49078776041666666]\n",
            "Epoch: 16, loss: 3.0595, lr: 0.00000396\n"
          ]
        },
        {
          "name": "stderr",
          "output_type": "stream",
          "text": [
            "epoch 17: 100%|██████████| 15/15 [00:50<00:00,  3.40s/it, cur_loss=3.22]\n"
          ]
        },
        {
          "name": "stdout",
          "output_type": "stream",
          "text": [
            "train acc=0.9461206896551724, [l1_loss, ce_loss] => [0.42327473958333334, 0.38230794270833335, 0.3817545572916667, 1.3415364583333333, 0.48043619791666664]\n",
            "Epoch: 17, loss: 3.0096, lr: 0.00000345\n"
          ]
        },
        {
          "name": "stderr",
          "output_type": "stream",
          "text": [
            "epoch 18: 100%|██████████| 15/15 [00:50<00:00,  3.37s/it, cur_loss=2.75]\n"
          ]
        },
        {
          "name": "stdout",
          "output_type": "stream",
          "text": [
            "train acc=0.9418103448275862, [l1_loss, ce_loss] => [0.41728515625, 0.38287760416666666, 0.36912434895833335, 1.3110026041666667, 0.45558268229166665]\n",
            "Epoch: 18, loss: 2.9361, lr: 0.00000297\n"
          ]
        },
        {
          "name": "stderr",
          "output_type": "stream",
          "text": [
            "epoch 19: 100%|██████████| 15/15 [00:53<00:00,  3.56s/it, cur_loss=3.16]\n"
          ]
        },
        {
          "name": "stdout",
          "output_type": "stream",
          "text": [
            "train acc=0.9493534482758621, [l1_loss, ce_loss] => [0.41595052083333334, 0.381787109375, 0.36774088541666666, 1.3020833333333333, 0.4586263020833333]\n",
            "Epoch: 19, loss: 2.9258, lr: 0.00000250\n"
          ]
        },
        {
          "name": "stderr",
          "output_type": "stream",
          "text": [
            "epoch 20: 100%|██████████| 15/15 [00:53<00:00,  3.58s/it, cur_loss=3.05]\n"
          ]
        },
        {
          "name": "stdout",
          "output_type": "stream",
          "text": [
            "train acc=0.9515086206896551, [l1_loss, ce_loss] => [0.4132161458333333, 0.38165690104166666, 0.3616455078125, 1.2923828125, 0.44892578125]\n",
            "Epoch: 20, loss: 2.8977, lr: 0.00000206\n"
          ]
        },
        {
          "name": "stderr",
          "output_type": "stream",
          "text": [
            "epoch 21: 100%|██████████| 15/15 [00:51<00:00,  3.44s/it, cur_loss=2.65]\n"
          ]
        },
        {
          "name": "stdout",
          "output_type": "stream",
          "text": [
            "train acc=0.9504310344827587, [l1_loss, ce_loss] => [0.4114908854166667, 0.3817545572916667, 0.3554280598958333, 1.276171875, 0.43902994791666666]\n",
            "Epoch: 21, loss: 2.8637, lr: 0.00000165\n"
          ]
        },
        {
          "name": "stderr",
          "output_type": "stream",
          "text": [
            "epoch 22: 100%|██████████| 15/15 [00:51<00:00,  3.46s/it, cur_loss=3.13]\n"
          ]
        },
        {
          "name": "stdout",
          "output_type": "stream",
          "text": [
            "train acc=0.9504310344827587, [l1_loss, ce_loss] => [0.41232096354166664, 0.381640625, 0.3625244140625, 1.2807942708333333, 0.4547526041666667]\n",
            "Epoch: 22, loss: 2.8917, lr: 0.00000128\n"
          ]
        },
        {
          "name": "stderr",
          "output_type": "stream",
          "text": [
            "epoch 23: 100%|██████████| 15/15 [00:52<00:00,  3.49s/it, cur_loss=2.94]\n"
          ]
        },
        {
          "name": "stdout",
          "output_type": "stream",
          "text": [
            "train acc=0.9525862068965517, [l1_loss, ce_loss] => [0.4127115885416667, 0.38185221354166665, 0.3540445963541667, 1.2879557291666666, 0.44484049479166665]\n",
            "Epoch: 23, loss: 2.8811, lr: 0.00000095\n"
          ]
        },
        {
          "name": "stderr",
          "output_type": "stream",
          "text": [
            "epoch 24: 100%|██████████| 15/15 [00:50<00:00,  3.40s/it, cur_loss=3.07]\n"
          ]
        },
        {
          "name": "stdout",
          "output_type": "stream",
          "text": [
            "train acc=0.9525862068965517, [l1_loss, ce_loss] => [0.41009114583333334, 0.38141276041666666, 0.35137532552083334, 1.2697916666666667, 0.4370930989583333]\n",
            "Epoch: 24, loss: 2.8497, lr: 0.00000067\n"
          ]
        },
        {
          "name": "stderr",
          "output_type": "stream",
          "text": [
            "epoch 25: 100%|██████████| 15/15 [00:51<00:00,  3.46s/it, cur_loss=2.77]\n"
          ]
        },
        {
          "name": "stdout",
          "output_type": "stream",
          "text": [
            "train acc=0.947198275862069, [l1_loss, ce_loss] => [0.410595703125, 0.381103515625, 0.3526529947916667, 1.2686848958333334, 0.4395670572916667]\n",
            "Epoch: 25, loss: 2.8523, lr: 0.00000043\n"
          ]
        },
        {
          "name": "stderr",
          "output_type": "stream",
          "text": [
            "epoch 26: 100%|██████████| 15/15 [00:51<00:00,  3.46s/it, cur_loss=3.32]\n"
          ]
        },
        {
          "name": "stdout",
          "output_type": "stream",
          "text": [
            "train acc=0.9515086206896551, [l1_loss, ce_loss] => [0.40966796875, 0.3817057291666667, 0.35162760416666666, 1.2561848958333333, 0.43746744791666664]\n",
            "Epoch: 26, loss: 2.8365, lr: 0.00000024\n"
          ]
        },
        {
          "name": "stderr",
          "output_type": "stream",
          "text": [
            "epoch 27: 100%|██████████| 15/15 [00:51<00:00,  3.46s/it, cur_loss=2.56]\n"
          ]
        },
        {
          "name": "stdout",
          "output_type": "stream",
          "text": [
            "train acc=0.9515086206896551, [l1_loss, ce_loss] => [0.4095377604166667, 0.3812337239583333, 0.3448567708333333, 1.2553385416666667, 0.4303385416666667]\n",
            "Epoch: 27, loss: 2.8215, lr: 0.00000011\n"
          ]
        },
        {
          "name": "stderr",
          "output_type": "stream",
          "text": [
            "epoch 28: 100%|██████████| 15/15 [00:51<00:00,  3.46s/it, cur_loss=3.09]\n"
          ]
        },
        {
          "name": "stdout",
          "output_type": "stream",
          "text": [
            "train acc=0.9493534482758621, [l1_loss, ce_loss] => [0.4097493489583333, 0.381787109375, 0.35215657552083335, 1.270703125, 0.439892578125]\n",
            "Epoch: 28, loss: 2.8538, lr: 0.00000003\n"
          ]
        },
        {
          "name": "stderr",
          "output_type": "stream",
          "text": [
            "epoch 29: 100%|██████████| 15/15 [00:50<00:00,  3.40s/it, cur_loss=3.01]\n"
          ]
        },
        {
          "name": "stdout",
          "output_type": "stream",
          "text": [
            "train acc=0.9558189655172413, [l1_loss, ce_loss] => [0.41036783854166664, 0.3806640625, 0.35574544270833336, 1.2613932291666667, 0.4449544270833333]\n",
            "Epoch: 29, loss: 2.8529, lr: 0.00000000\n",
            "Training complete!\n"
          ]
        },
        {
          "name": "stderr",
          "output_type": "stream",
          "text": [
            "Evaluate: 100%|██████████| 44/44 [00:26<00:00,  1.65it/s]\n"
          ]
        },
        {
          "name": "stdout",
          "output_type": "stream",
          "text": [
            "\n",
            "Test F1-macro:  0.8677545530663671\n",
            "#######################################\n",
            "\n",
            "Iteration:  3\n",
            "\n",
            "#######################################\n",
            "Training non-few shot model...\n",
            "Train dataset size:  175\n",
            "Test dataset size:  44\n",
            "Epoch 1/10\n",
            "  Training Loss: 3.9642\n",
            "Epoch 2/10\n",
            "  Training Loss: 3.9235\n",
            "Epoch 3/10\n",
            "  Training Loss: 3.8794\n",
            "Epoch 4/10\n",
            "  Training Loss: 3.8500\n",
            "Epoch 5/10\n",
            "  Training Loss: 3.8367\n",
            "Epoch 6/10\n",
            "  Training Loss: 3.8302\n",
            "Epoch 7/10\n",
            "  Training Loss: 3.8149\n",
            "Epoch 8/10\n",
            "  Training Loss: 3.8081\n",
            "Epoch 9/10\n",
            "  Training Loss: 3.7869\n",
            "Epoch 10/10\n",
            "  Training Loss: 3.7782\n",
            "Training complete!\n",
            "\n",
            "Test F1-macro:  0.11504352016608074\n",
            "##########################################\n",
            "2025-06-09 18:39:53 Getting cached textual weights W ...\n",
            "2025-06-09 18:39:53 Loading texture features from ./__few_shot_cache__\\indian_dataset_ViT-B/16_textfeats.pt\n",
            "\n",
            "#######################################\n",
            "Training few-shot model...\n",
            "Train dataset size:  15\n",
            "Test dataset size:  44\n"
          ]
        },
        {
          "name": "stderr",
          "output_type": "stream",
          "text": [
            "epoch 0: 100%|██████████| 15/15 [00:50<00:00,  3.36s/it, cur_loss=11]  \n"
          ]
        },
        {
          "name": "stdout",
          "output_type": "stream",
          "text": [
            "train acc=0.16163793103448276, [l1_loss, ce_loss] => [3.790234375, 0.32111002604166666, 3.63515625, 3.903515625, 3.714583333333333]\n",
            "Epoch: 0, loss: 15.3641, lr: 0.00000997\n"
          ]
        },
        {
          "name": "stderr",
          "output_type": "stream",
          "text": [
            "epoch 1: 100%|██████████| 15/15 [00:56<00:00,  3.74s/it, cur_loss=9.44]\n"
          ]
        },
        {
          "name": "stdout",
          "output_type": "stream",
          "text": [
            "train acc=0.5075431034482759, [l1_loss, ce_loss] => [0.5610677083333333, 0.3272298177083333, 2.6885416666666666, 3.508072916666667, 2.9794270833333334]\n",
            "Epoch: 1, loss: 10.0630, lr: 0.00000989\n"
          ]
        },
        {
          "name": "stderr",
          "output_type": "stream",
          "text": [
            "epoch 2: 100%|██████████| 15/15 [00:51<00:00,  3.45s/it, cur_loss=8.45]\n"
          ]
        },
        {
          "name": "stdout",
          "output_type": "stream",
          "text": [
            "train acc=0.6885775862068966, [l1_loss, ce_loss] => [0.5353515625, 0.337255859375, 2.141796875, 3.193229166666667, 2.46171875]\n",
            "Epoch: 2, loss: 8.6703, lr: 0.00000976\n"
          ]
        },
        {
          "name": "stderr",
          "output_type": "stream",
          "text": [
            "epoch 3: 100%|██████████| 15/15 [00:51<00:00,  3.45s/it, cur_loss=7.59]\n"
          ]
        },
        {
          "name": "stdout",
          "output_type": "stream",
          "text": [
            "train acc=0.7984913793103449, [l1_loss, ce_loss] => [0.5262858072916666, 0.34132486979166665, 1.744140625, 2.954947916666667, 2.066666666666667]\n",
            "Epoch: 3, loss: 7.6328, lr: 0.00000957\n"
          ]
        },
        {
          "name": "stderr",
          "output_type": "stream",
          "text": [
            "epoch 4: 100%|██████████| 15/15 [00:58<00:00,  3.87s/it, cur_loss=6.55]\n"
          ]
        },
        {
          "name": "stdout",
          "output_type": "stream",
          "text": [
            "train acc=0.8523706896551724, [l1_loss, ce_loss] => [0.5212239583333333, 0.35110677083333336, 1.4268229166666666, 2.6614583333333335, 1.6969401041666667]\n",
            "Epoch: 4, loss: 6.6576, lr: 0.00000933\n"
          ]
        },
        {
          "name": "stderr",
          "output_type": "stream",
          "text": [
            "epoch 5: 100%|██████████| 15/15 [00:48<00:00,  3.25s/it, cur_loss=6.24]\n"
          ]
        },
        {
          "name": "stdout",
          "output_type": "stream",
          "text": [
            "train acc=0.8760775862068966, [l1_loss, ce_loss] => [0.5153971354166667, 0.35699869791666666, 1.2001302083333334, 2.474609375, 1.4430338541666667]\n",
            "Epoch: 5, loss: 5.9901, lr: 0.00000905\n"
          ]
        },
        {
          "name": "stderr",
          "output_type": "stream",
          "text": [
            "epoch 6: 100%|██████████| 15/15 [00:52<00:00,  3.53s/it, cur_loss=4.92]\n"
          ]
        },
        {
          "name": "stdout",
          "output_type": "stream",
          "text": [
            "train acc=0.8782327586206896, [l1_loss, ce_loss] => [0.511474609375, 0.36318359375, 0.9996744791666666, 2.2729166666666667, 1.2155598958333333]\n",
            "Epoch: 6, loss: 5.3625, lr: 0.00000872\n"
          ]
        },
        {
          "name": "stderr",
          "output_type": "stream",
          "text": [
            "epoch 7: 100%|██████████| 15/15 [00:53<00:00,  3.54s/it, cur_loss=4.75]\n"
          ]
        },
        {
          "name": "stdout",
          "output_type": "stream",
          "text": [
            "train acc=0.8911637931034483, [l1_loss, ce_loss] => [0.49195963541666665, 0.36648763020833336, 0.85224609375, 2.102734375, 1.0515625]\n",
            "Epoch: 7, loss: 4.8651, lr: 0.00000835\n"
          ]
        },
        {
          "name": "stderr",
          "output_type": "stream",
          "text": [
            "epoch 8: 100%|██████████| 15/15 [00:52<00:00,  3.49s/it, cur_loss=4.26]\n"
          ]
        },
        {
          "name": "stdout",
          "output_type": "stream",
          "text": [
            "train acc=0.90625, [l1_loss, ce_loss] => [0.4849772135416667, 0.36917317708333336, 0.7283203125, 1.9586588541666667, 0.89482421875]\n",
            "Epoch: 8, loss: 4.4359, lr: 0.00000794\n"
          ]
        },
        {
          "name": "stderr",
          "output_type": "stream",
          "text": [
            "epoch 9: 100%|██████████| 15/15 [00:53<00:00,  3.56s/it, cur_loss=4.41]\n"
          ]
        },
        {
          "name": "stdout",
          "output_type": "stream",
          "text": [
            "train acc=0.9051724137931034, [l1_loss, ce_loss] => [0.4777018229166667, 0.36993815104166666, 0.6556315104166667, 1.8477864583333334, 0.8068033854166666]\n",
            "Epoch: 9, loss: 4.1582, lr: 0.00000750\n"
          ]
        },
        {
          "name": "stderr",
          "output_type": "stream",
          "text": [
            "epoch 10: 100%|██████████| 15/15 [00:52<00:00,  3.49s/it, cur_loss=4.04]\n"
          ]
        },
        {
          "name": "stdout",
          "output_type": "stream",
          "text": [
            "train acc=0.9148706896551724, [l1_loss, ce_loss] => [0.4698893229166667, 0.36842447916666665, 0.5879557291666667, 1.7486979166666667, 0.7357421875]\n",
            "Epoch: 10, loss: 3.9111, lr: 0.00000703\n"
          ]
        },
        {
          "name": "stderr",
          "output_type": "stream",
          "text": [
            "epoch 11: 100%|██████████| 15/15 [00:53<00:00,  3.59s/it, cur_loss=3.72]\n"
          ]
        },
        {
          "name": "stdout",
          "output_type": "stream",
          "text": [
            "train acc=0.9202586206896551, [l1_loss, ce_loss] => [0.4566569010416667, 0.37158203125, 0.5340983072916666, 1.649609375, 0.6535481770833333]\n",
            "Epoch: 11, loss: 3.6656, lr: 0.00000655\n"
          ]
        },
        {
          "name": "stderr",
          "output_type": "stream",
          "text": [
            "epoch 12: 100%|██████████| 15/15 [00:49<00:00,  3.30s/it, cur_loss=3.65]\n"
          ]
        },
        {
          "name": "stdout",
          "output_type": "stream",
          "text": [
            "train acc=0.9234913793103449, [l1_loss, ce_loss] => [0.45139973958333335, 0.37200520833333334, 0.5015299479166667, 1.5708333333333333, 0.6192708333333333]\n",
            "Epoch: 12, loss: 3.5148, lr: 0.00000604\n"
          ]
        },
        {
          "name": "stderr",
          "output_type": "stream",
          "text": [
            "epoch 13: 100%|██████████| 15/15 [00:47<00:00,  3.15s/it, cur_loss=3.38]\n"
          ]
        },
        {
          "name": "stdout",
          "output_type": "stream",
          "text": [
            "train acc=0.9245689655172413, [l1_loss, ce_loss] => [0.448095703125, 0.3721516927083333, 0.475, 1.5139322916666667, 0.5827473958333333]\n",
            "Epoch: 13, loss: 3.3919, lr: 0.00000552\n"
          ]
        },
        {
          "name": "stderr",
          "output_type": "stream",
          "text": [
            "epoch 14: 100%|██████████| 15/15 [00:46<00:00,  3.09s/it, cur_loss=3.17]\n"
          ]
        },
        {
          "name": "stdout",
          "output_type": "stream",
          "text": [
            "train acc=0.9299568965517241, [l1_loss, ce_loss] => [0.43924153645833336, 0.37224934895833334, 0.4545084635416667, 1.4580078125, 0.5576334635416667]\n",
            "Epoch: 14, loss: 3.2815, lr: 0.00000500\n"
          ]
        },
        {
          "name": "stderr",
          "output_type": "stream",
          "text": [
            "epoch 15: 100%|██████████| 15/15 [00:45<00:00,  3.05s/it, cur_loss=3.7] \n"
          ]
        },
        {
          "name": "stdout",
          "output_type": "stream",
          "text": [
            "train acc=0.9385775862068966, [l1_loss, ce_loss] => [0.43338216145833336, 0.371435546875, 0.43133138020833334, 1.4288411458333334, 0.5334798177083333]\n",
            "Epoch: 15, loss: 3.1988, lr: 0.00000448\n"
          ]
        },
        {
          "name": "stderr",
          "output_type": "stream",
          "text": [
            "epoch 16: 100%|██████████| 15/15 [00:44<00:00,  2.99s/it, cur_loss=2.87]\n"
          ]
        },
        {
          "name": "stdout",
          "output_type": "stream",
          "text": [
            "train acc=0.9439655172413793, [l1_loss, ce_loss] => [0.429248046875, 0.37210286458333336, 0.4049153645833333, 1.3720052083333334, 0.4982421875]\n",
            "Epoch: 16, loss: 3.0764, lr: 0.00000396\n"
          ]
        },
        {
          "name": "stderr",
          "output_type": "stream",
          "text": [
            "epoch 17: 100%|██████████| 15/15 [00:44<00:00,  2.99s/it, cur_loss=3.02]\n"
          ]
        },
        {
          "name": "stdout",
          "output_type": "stream",
          "text": [
            "train acc=0.9375, [l1_loss, ce_loss] => [0.42571614583333334, 0.370166015625, 0.40185546875, 1.3583333333333334, 0.49689127604166666]\n",
            "Epoch: 17, loss: 3.0533, lr: 0.00000345\n"
          ]
        },
        {
          "name": "stderr",
          "output_type": "stream",
          "text": [
            "epoch 18: 100%|██████████| 15/15 [00:44<00:00,  2.99s/it, cur_loss=3.16]\n"
          ]
        },
        {
          "name": "stdout",
          "output_type": "stream",
          "text": [
            "train acc=0.9450431034482759, [l1_loss, ce_loss] => [0.4232421875, 0.3704427083333333, 0.3970865885416667, 1.3383463541666667, 0.4918294270833333]\n",
            "Epoch: 18, loss: 3.0207, lr: 0.00000297\n"
          ]
        },
        {
          "name": "stderr",
          "output_type": "stream",
          "text": [
            "epoch 19: 100%|██████████| 15/15 [00:44<00:00,  2.95s/it, cur_loss=3.03]\n"
          ]
        },
        {
          "name": "stdout",
          "output_type": "stream",
          "text": [
            "train acc=0.9482758620689655, [l1_loss, ce_loss] => [0.41961263020833334, 0.3711751302083333, 0.385009765625, 1.3099609375, 0.47482096354166664]\n",
            "Epoch: 19, loss: 2.9605, lr: 0.00000250\n"
          ]
        },
        {
          "name": "stderr",
          "output_type": "stream",
          "text": [
            "epoch 20: 100%|██████████| 15/15 [00:44<00:00,  2.99s/it, cur_loss=2.8] \n"
          ]
        },
        {
          "name": "stdout",
          "output_type": "stream",
          "text": [
            "train acc=0.9439655172413793, [l1_loss, ce_loss] => [0.4175618489583333, 0.37008463541666664, 0.38055013020833334, 1.2963541666666667, 0.46650390625]\n",
            "Epoch: 20, loss: 2.9314, lr: 0.00000206\n"
          ]
        },
        {
          "name": "stderr",
          "output_type": "stream",
          "text": [
            "epoch 21: 100%|██████████| 15/15 [00:45<00:00,  3.06s/it, cur_loss=3.2] \n"
          ]
        },
        {
          "name": "stdout",
          "output_type": "stream",
          "text": [
            "train acc=0.9450431034482759, [l1_loss, ce_loss] => [0.41656901041666666, 0.37106119791666664, 0.38312174479166666, 1.2934244791666667, 0.46943359375]\n",
            "Epoch: 21, loss: 2.9336, lr: 0.00000165\n"
          ]
        },
        {
          "name": "stderr",
          "output_type": "stream",
          "text": [
            "epoch 22: 100%|██████████| 15/15 [00:45<00:00,  3.03s/it, cur_loss=3.2] \n"
          ]
        },
        {
          "name": "stdout",
          "output_type": "stream",
          "text": [
            "train acc=0.9407327586206896, [l1_loss, ce_loss] => [0.416064453125, 0.37042643229166666, 0.38546549479166664, 1.2978515625, 0.4713216145833333]\n",
            "Epoch: 22, loss: 2.9409, lr: 0.00000128\n"
          ]
        },
        {
          "name": "stderr",
          "output_type": "stream",
          "text": [
            "epoch 23: 100%|██████████| 15/15 [00:44<00:00,  2.98s/it, cur_loss=3.19]\n"
          ]
        },
        {
          "name": "stdout",
          "output_type": "stream",
          "text": [
            "train acc=0.9547413793103449, [l1_loss, ce_loss] => [0.4158203125, 0.37042643229166666, 0.376611328125, 1.2835286458333333, 0.46188151041666664]\n",
            "Epoch: 23, loss: 2.9085, lr: 0.00000095\n"
          ]
        },
        {
          "name": "stderr",
          "output_type": "stream",
          "text": [
            "epoch 24: 100%|██████████| 15/15 [00:45<00:00,  3.05s/it, cur_loss=2.73]\n"
          ]
        },
        {
          "name": "stdout",
          "output_type": "stream",
          "text": [
            "train acc=0.9536637931034483, [l1_loss, ce_loss] => [0.4139485677083333, 0.370556640625, 0.36793619791666665, 1.280859375, 0.45110677083333334]\n",
            "Epoch: 24, loss: 2.8841, lr: 0.00000067\n"
          ]
        },
        {
          "name": "stderr",
          "output_type": "stream",
          "text": [
            "epoch 25: 100%|██████████| 15/15 [00:45<00:00,  3.03s/it, cur_loss=2.74]\n"
          ]
        },
        {
          "name": "stdout",
          "output_type": "stream",
          "text": [
            "train acc=0.9504310344827587, [l1_loss, ce_loss] => [0.414501953125, 0.3697916666666667, 0.3655598958333333, 1.2719401041666667, 0.453857421875]\n",
            "Epoch: 25, loss: 2.8753, lr: 0.00000043\n"
          ]
        },
        {
          "name": "stderr",
          "output_type": "stream",
          "text": [
            "epoch 26: 100%|██████████| 15/15 [00:46<00:00,  3.09s/it, cur_loss=3.22]\n"
          ]
        },
        {
          "name": "stdout",
          "output_type": "stream",
          "text": [
            "train acc=0.9450431034482759, [l1_loss, ce_loss] => [0.414990234375, 0.3699869791666667, 0.37080078125, 1.2828776041666667, 0.46173502604166666]\n",
            "Epoch: 26, loss: 2.9001, lr: 0.00000024\n"
          ]
        },
        {
          "name": "stderr",
          "output_type": "stream",
          "text": [
            "epoch 27: 100%|██████████| 15/15 [00:47<00:00,  3.14s/it, cur_loss=3.32]\n"
          ]
        },
        {
          "name": "stdout",
          "output_type": "stream",
          "text": [
            "train acc=0.9547413793103449, [l1_loss, ce_loss] => [0.41432291666666665, 0.37014973958333336, 0.375439453125, 1.2852213541666666, 0.4632649739583333]\n",
            "Epoch: 27, loss: 2.9086, lr: 0.00000011\n"
          ]
        },
        {
          "name": "stderr",
          "output_type": "stream",
          "text": [
            "epoch 28: 100%|██████████| 15/15 [00:47<00:00,  3.17s/it, cur_loss=2.78]\n"
          ]
        },
        {
          "name": "stdout",
          "output_type": "stream",
          "text": [
            "train acc=0.9525862068965517, [l1_loss, ce_loss] => [0.41497395833333334, 0.37107747395833335, 0.3701985677083333, 1.2774739583333334, 0.45631510416666665]\n",
            "Epoch: 28, loss: 2.8895, lr: 0.00000003\n"
          ]
        },
        {
          "name": "stderr",
          "output_type": "stream",
          "text": [
            "epoch 29: 100%|██████████| 15/15 [00:44<00:00,  2.97s/it, cur_loss=3.21]\n"
          ]
        },
        {
          "name": "stdout",
          "output_type": "stream",
          "text": [
            "train acc=0.9493534482758621, [l1_loss, ce_loss] => [0.41648763020833335, 0.370703125, 0.37420247395833334, 1.2908854166666666, 0.4691569010416667]\n",
            "Epoch: 29, loss: 2.9215, lr: 0.00000000\n",
            "Training complete!\n"
          ]
        },
        {
          "name": "stderr",
          "output_type": "stream",
          "text": [
            "Evaluate: 100%|██████████| 44/44 [00:44<00:00,  1.02s/it]\n"
          ]
        },
        {
          "name": "stdout",
          "output_type": "stream",
          "text": [
            "\n",
            "Test F1-macro:  0.8575515259286502\n",
            "#######################################\n",
            "\n",
            "Iteration:  4\n",
            "\n",
            "#######################################\n",
            "Training non-few shot model...\n",
            "Train dataset size:  175\n",
            "Test dataset size:  44\n",
            "Epoch 1/10\n",
            "  Training Loss: 3.9976\n",
            "Epoch 2/10\n",
            "  Training Loss: 3.9552\n",
            "Epoch 3/10\n",
            "  Training Loss: 3.9478\n",
            "Epoch 4/10\n",
            "  Training Loss: 3.9432\n",
            "Epoch 5/10\n",
            "  Training Loss: 3.9344\n",
            "Epoch 6/10\n",
            "  Training Loss: 3.8867\n",
            "Epoch 7/10\n",
            "  Training Loss: 3.8787\n",
            "Epoch 8/10\n",
            "  Training Loss: 3.8695\n",
            "Epoch 9/10\n",
            "  Training Loss: 3.8602\n",
            "Epoch 10/10\n",
            "  Training Loss: 3.8578\n",
            "Training complete!\n",
            "\n",
            "Test F1-macro:  0.06331959759569766\n",
            "##########################################\n",
            "2025-06-09 19:09:40 Getting cached textual weights W ...\n",
            "2025-06-09 19:09:40 Loading texture features from ./__few_shot_cache__\\indian_dataset_ViT-B/16_textfeats.pt\n",
            "\n",
            "#######################################\n",
            "Training few-shot model...\n",
            "Train dataset size:  15\n",
            "Test dataset size:  44\n"
          ]
        },
        {
          "name": "stderr",
          "output_type": "stream",
          "text": [
            "epoch 0: 100%|██████████| 15/15 [00:35<00:00,  2.39s/it, cur_loss=11.4]\n"
          ]
        },
        {
          "name": "stdout",
          "output_type": "stream",
          "text": [
            "train acc=0.14547413793103448, [l1_loss, ce_loss] => [3.8506184895833333, 0.3118977864583333, 3.648046875, 3.8743489583333335, 3.6984375]\n",
            "Epoch: 0, loss: 15.3823, lr: 0.00000997\n"
          ]
        },
        {
          "name": "stderr",
          "output_type": "stream",
          "text": [
            "epoch 1: 100%|██████████| 15/15 [00:32<00:00,  2.17s/it, cur_loss=9.22]\n"
          ]
        },
        {
          "name": "stdout",
          "output_type": "stream",
          "text": [
            "train acc=0.5484913793103449, [l1_loss, ce_loss] => [0.5591145833333333, 0.32132161458333336, 2.694921875, 3.428515625, 2.910546875]\n",
            "Epoch: 1, loss: 9.9151, lr: 0.00000989\n"
          ]
        },
        {
          "name": "stderr",
          "output_type": "stream",
          "text": [
            "epoch 2: 100%|██████████| 15/15 [00:37<00:00,  2.50s/it, cur_loss=7.98]\n"
          ]
        },
        {
          "name": "stdout",
          "output_type": "stream",
          "text": [
            "train acc=0.7381465517241379, [l1_loss, ce_loss] => [0.5152669270833333, 0.33302408854166665, 2.1383463541666665, 3.115625, 2.4069010416666665]\n",
            "Epoch: 2, loss: 8.5083, lr: 0.00000976\n"
          ]
        },
        {
          "name": "stderr",
          "output_type": "stream",
          "text": [
            "epoch 3: 100%|██████████| 15/15 [00:32<00:00,  2.16s/it, cur_loss=6.8] \n"
          ]
        },
        {
          "name": "stdout",
          "output_type": "stream",
          "text": [
            "train acc=0.8318965517241379, [l1_loss, ce_loss] => [0.496142578125, 0.344287109375, 1.6993489583333334, 2.8346354166666665, 1.9901041666666666]\n",
            "Epoch: 3, loss: 7.3641, lr: 0.00000957\n"
          ]
        },
        {
          "name": "stderr",
          "output_type": "stream",
          "text": [
            "epoch 4: 100%|██████████| 15/15 [00:37<00:00,  2.52s/it, cur_loss=5.81]\n"
          ]
        },
        {
          "name": "stdout",
          "output_type": "stream",
          "text": [
            "train acc=0.8566810344827587, [l1_loss, ce_loss] => [0.4960123697916667, 0.3527018229166667, 1.3895182291666666, 2.5748697916666665, 1.6638020833333333]\n",
            "Epoch: 4, loss: 6.4760, lr: 0.00000933\n"
          ]
        },
        {
          "name": "stderr",
          "output_type": "stream",
          "text": [
            "epoch 5: 100%|██████████| 15/15 [00:33<00:00,  2.23s/it, cur_loss=5.67]\n"
          ]
        },
        {
          "name": "stdout",
          "output_type": "stream",
          "text": [
            "train acc=0.8717672413793104, [l1_loss, ce_loss] => [0.49072265625, 0.36025390625, 1.1391276041666667, 2.3606770833333335, 1.3930338541666667]\n",
            "Epoch: 5, loss: 5.7445, lr: 0.00000905\n"
          ]
        },
        {
          "name": "stderr",
          "output_type": "stream",
          "text": [
            "epoch 6: 100%|██████████| 15/15 [00:38<00:00,  2.59s/it, cur_loss=5.07]\n"
          ]
        },
        {
          "name": "stdout",
          "output_type": "stream",
          "text": [
            "train acc=0.8943965517241379, [l1_loss, ce_loss] => [0.508056640625, 0.3653971354166667, 0.941015625, 2.156510416666667, 1.17216796875]\n",
            "Epoch: 6, loss: 5.1432, lr: 0.00000872\n"
          ]
        },
        {
          "name": "stderr",
          "output_type": "stream",
          "text": [
            "epoch 7: 100%|██████████| 15/15 [00:34<00:00,  2.27s/it, cur_loss=4.92]\n"
          ]
        },
        {
          "name": "stdout",
          "output_type": "stream",
          "text": [
            "train acc=0.9137931034482759, [l1_loss, ce_loss] => [0.49599609375, 0.367626953125, 0.79951171875, 1.9837239583333333, 0.99365234375]\n",
            "Epoch: 7, loss: 4.6401, lr: 0.00000835\n"
          ]
        },
        {
          "name": "stderr",
          "output_type": "stream",
          "text": [
            "epoch 8: 100%|██████████| 15/15 [00:38<00:00,  2.59s/it, cur_loss=3.99]\n"
          ]
        },
        {
          "name": "stdout",
          "output_type": "stream",
          "text": [
            "train acc=0.9191810344827587, [l1_loss, ce_loss] => [0.47918294270833334, 0.36912434895833335, 0.6759765625, 1.8274088541666667, 0.8473307291666666]\n",
            "Epoch: 8, loss: 4.1993, lr: 0.00000794\n"
          ]
        },
        {
          "name": "stderr",
          "output_type": "stream",
          "text": [
            "epoch 9: 100%|██████████| 15/15 [00:33<00:00,  2.24s/it, cur_loss=4.09]\n"
          ]
        },
        {
          "name": "stdout",
          "output_type": "stream",
          "text": [
            "train acc=0.9310344827586207, [l1_loss, ce_loss] => [0.466748046875, 0.371142578125, 0.59912109375, 1.7159505208333334, 0.7469401041666667]\n",
            "Epoch: 9, loss: 3.9003, lr: 0.00000750\n"
          ]
        },
        {
          "name": "stderr",
          "output_type": "stream",
          "text": [
            "epoch 10: 100%|██████████| 15/15 [00:38<00:00,  2.58s/it, cur_loss=3.7] \n"
          ]
        },
        {
          "name": "stdout",
          "output_type": "stream",
          "text": [
            "train acc=0.9213362068965517, [l1_loss, ce_loss] => [0.4578450520833333, 0.37154947916666664, 0.5477701822916666, 1.6307291666666666, 0.6885416666666667]\n",
            "Epoch: 10, loss: 3.6965, lr: 0.00000703\n"
          ]
        },
        {
          "name": "stderr",
          "output_type": "stream",
          "text": [
            "epoch 11: 100%|██████████| 15/15 [00:33<00:00,  2.22s/it, cur_loss=3.8] \n"
          ]
        },
        {
          "name": "stdout",
          "output_type": "stream",
          "text": [
            "train acc=0.9450431034482759, [l1_loss, ce_loss] => [0.4490234375, 0.3716634114583333, 0.49659830729166665, 1.5218098958333333, 0.6130533854166667]\n",
            "Epoch: 11, loss: 3.4520, lr: 0.00000655\n"
          ]
        },
        {
          "name": "stderr",
          "output_type": "stream",
          "text": [
            "epoch 12: 100%|██████████| 15/15 [00:38<00:00,  2.55s/it, cur_loss=3.34]\n"
          ]
        },
        {
          "name": "stdout",
          "output_type": "stream",
          "text": [
            "train acc=0.9310344827586207, [l1_loss, ce_loss] => [0.443310546875, 0.37208658854166665, 0.46025390625, 1.4654296875, 0.570263671875]\n",
            "Epoch: 12, loss: 3.3118, lr: 0.00000604\n"
          ]
        },
        {
          "name": "stderr",
          "output_type": "stream",
          "text": [
            "epoch 13: 100%|██████████| 15/15 [00:33<00:00,  2.23s/it, cur_loss=3.68]\n"
          ]
        },
        {
          "name": "stdout",
          "output_type": "stream",
          "text": [
            "train acc=0.9396551724137931, [l1_loss, ce_loss] => [0.43829752604166666, 0.3704427083333333, 0.43544921875, 1.4158203125, 0.5397135416666666]\n",
            "Epoch: 13, loss: 3.1996, lr: 0.00000552\n"
          ]
        },
        {
          "name": "stderr",
          "output_type": "stream",
          "text": [
            "epoch 14: 100%|██████████| 15/15 [00:38<00:00,  2.57s/it, cur_loss=2.95]\n"
          ]
        },
        {
          "name": "stdout",
          "output_type": "stream",
          "text": [
            "train acc=0.9482758620689655, [l1_loss, ce_loss] => [0.434423828125, 0.37001953125, 0.4041341145833333, 1.3576171875, 0.5005859375]\n",
            "Epoch: 14, loss: 3.0669, lr: 0.00000500\n"
          ]
        },
        {
          "name": "stderr",
          "output_type": "stream",
          "text": [
            "epoch 15: 100%|██████████| 15/15 [00:33<00:00,  2.23s/it, cur_loss=2.92]\n"
          ]
        },
        {
          "name": "stdout",
          "output_type": "stream",
          "text": [
            "train acc=0.9407327586206896, [l1_loss, ce_loss] => [0.42794596354166664, 0.37029622395833334, 0.38523763020833335, 1.30859375, 0.47626953125]\n",
            "Epoch: 15, loss: 2.9681, lr: 0.00000448\n"
          ]
        },
        {
          "name": "stderr",
          "output_type": "stream",
          "text": [
            "epoch 16: 100%|██████████| 15/15 [00:38<00:00,  2.56s/it, cur_loss=3.16]\n"
          ]
        },
        {
          "name": "stdout",
          "output_type": "stream",
          "text": [
            "train acc=0.9515086206896551, [l1_loss, ce_loss] => [0.42353515625, 0.3697916666666667, 0.375, 1.2895833333333333, 0.4623046875]\n",
            "Epoch: 16, loss: 2.9202, lr: 0.00000396\n"
          ]
        },
        {
          "name": "stderr",
          "output_type": "stream",
          "text": [
            "epoch 17: 100%|██████████| 15/15 [00:33<00:00,  2.25s/it, cur_loss=2.98]\n"
          ]
        },
        {
          "name": "stdout",
          "output_type": "stream",
          "text": [
            "train acc=0.9493534482758621, [l1_loss, ce_loss] => [0.4203125, 0.37008463541666664, 0.36666666666666664, 1.2652994791666667, 0.4544596354166667]\n",
            "Epoch: 17, loss: 2.8768, lr: 0.00000345\n"
          ]
        },
        {
          "name": "stderr",
          "output_type": "stream",
          "text": [
            "epoch 18: 100%|██████████| 15/15 [00:38<00:00,  2.59s/it, cur_loss=2.95]\n"
          ]
        },
        {
          "name": "stdout",
          "output_type": "stream",
          "text": [
            "train acc=0.9558189655172413, [l1_loss, ce_loss] => [0.41603190104166665, 0.368701171875, 0.35380859375, 1.2483723958333333, 0.4398600260416667]\n",
            "Epoch: 18, loss: 2.8266, lr: 0.00000297\n"
          ]
        },
        {
          "name": "stderr",
          "output_type": "stream",
          "text": [
            "epoch 19: 100%|██████████| 15/15 [00:33<00:00,  2.25s/it, cur_loss=2.81]\n"
          ]
        },
        {
          "name": "stdout",
          "output_type": "stream",
          "text": [
            "train acc=0.9493534482758621, [l1_loss, ce_loss] => [0.41476236979166664, 0.3675130208333333, 0.346435546875, 1.2209635416666667, 0.4254069010416667]\n",
            "Epoch: 19, loss: 2.7754, lr: 0.00000250\n"
          ]
        },
        {
          "name": "stderr",
          "output_type": "stream",
          "text": [
            "epoch 20: 100%|██████████| 15/15 [00:39<00:00,  2.60s/it, cur_loss=3.05]\n"
          ]
        },
        {
          "name": "stdout",
          "output_type": "stream",
          "text": [
            "train acc=0.9558189655172413, [l1_loss, ce_loss] => [0.412841796875, 0.3685709635416667, 0.3443684895833333, 1.2215494791666666, 0.4271484375]\n",
            "Epoch: 20, loss: 2.7747, lr: 0.00000206\n"
          ]
        },
        {
          "name": "stderr",
          "output_type": "stream",
          "text": [
            "epoch 21: 100%|██████████| 15/15 [00:34<00:00,  2.28s/it, cur_loss=2.82]\n"
          ]
        },
        {
          "name": "stdout",
          "output_type": "stream",
          "text": [
            "train acc=0.9558189655172413, [l1_loss, ce_loss] => [0.40888671875, 0.3680013020833333, 0.334326171875, 1.1912109375, 0.41263020833333336]\n",
            "Epoch: 21, loss: 2.7148, lr: 0.00000165\n"
          ]
        },
        {
          "name": "stderr",
          "output_type": "stream",
          "text": [
            "epoch 22: 100%|██████████| 15/15 [00:39<00:00,  2.61s/it, cur_loss=2.91]\n"
          ]
        },
        {
          "name": "stdout",
          "output_type": "stream",
          "text": [
            "train acc=0.9547413793103449, [l1_loss, ce_loss] => [0.40862630208333334, 0.3673828125, 0.3362955729166667, 1.1921875, 0.41826171875]\n",
            "Epoch: 22, loss: 2.7225, lr: 0.00000128\n"
          ]
        },
        {
          "name": "stderr",
          "output_type": "stream",
          "text": [
            "epoch 23: 100%|██████████| 15/15 [00:34<00:00,  2.30s/it, cur_loss=2.61]\n"
          ]
        },
        {
          "name": "stdout",
          "output_type": "stream",
          "text": [
            "train acc=0.9612068965517241, [l1_loss, ce_loss] => [0.40875651041666666, 0.3685709635416667, 0.3305745442708333, 1.1921223958333333, 0.41486002604166666]\n",
            "Epoch: 23, loss: 2.7146, lr: 0.00000095\n"
          ]
        },
        {
          "name": "stderr",
          "output_type": "stream",
          "text": [
            "epoch 24: 100%|██████████| 15/15 [00:39<00:00,  2.66s/it, cur_loss=2.69]\n"
          ]
        },
        {
          "name": "stdout",
          "output_type": "stream",
          "text": [
            "train acc=0.9622844827586207, [l1_loss, ce_loss] => [0.4068522135416667, 0.36770833333333336, 0.32421875, 1.1802083333333333, 0.40387369791666666]\n",
            "Epoch: 24, loss: 2.6829, lr: 0.00000067\n"
          ]
        },
        {
          "name": "stderr",
          "output_type": "stream",
          "text": [
            "epoch 25: 100%|██████████| 15/15 [00:34<00:00,  2.29s/it, cur_loss=2.69]\n"
          ]
        },
        {
          "name": "stdout",
          "output_type": "stream",
          "text": [
            "train acc=0.9568965517241379, [l1_loss, ce_loss] => [0.4087890625, 0.36741536458333335, 0.33587239583333334, 1.1999348958333333, 0.4177734375]\n",
            "Epoch: 25, loss: 2.7299, lr: 0.00000043\n"
          ]
        },
        {
          "name": "stderr",
          "output_type": "stream",
          "text": [
            "epoch 26: 100%|██████████| 15/15 [00:39<00:00,  2.61s/it, cur_loss=2.72]\n"
          ]
        },
        {
          "name": "stdout",
          "output_type": "stream",
          "text": [
            "train acc=0.9558189655172413, [l1_loss, ce_loss] => [0.40859375, 0.3678059895833333, 0.3299641927083333, 1.1868489583333333, 0.40916341145833335]\n",
            "Epoch: 26, loss: 2.7023, lr: 0.00000024\n"
          ]
        },
        {
          "name": "stderr",
          "output_type": "stream",
          "text": [
            "epoch 27: 100%|██████████| 15/15 [00:35<00:00,  2.36s/it, cur_loss=2.96]\n"
          ]
        },
        {
          "name": "stdout",
          "output_type": "stream",
          "text": [
            "train acc=0.9601293103448276, [l1_loss, ce_loss] => [0.408447265625, 0.36809895833333334, 0.3296875, 1.2003255208333334, 0.410595703125]\n",
            "Epoch: 27, loss: 2.7169, lr: 0.00000011\n"
          ]
        },
        {
          "name": "stderr",
          "output_type": "stream",
          "text": [
            "epoch 28: 100%|██████████| 15/15 [00:41<00:00,  2.78s/it, cur_loss=3.05]\n"
          ]
        },
        {
          "name": "stdout",
          "output_type": "stream",
          "text": [
            "train acc=0.9568965517241379, [l1_loss, ce_loss] => [0.40773111979166665, 0.366845703125, 0.33173828125, 1.1921875, 0.41209309895833335]\n",
            "Epoch: 28, loss: 2.7105, lr: 0.00000003\n"
          ]
        },
        {
          "name": "stderr",
          "output_type": "stream",
          "text": [
            "epoch 29: 100%|██████████| 15/15 [00:35<00:00,  2.38s/it, cur_loss=3.19]\n"
          ]
        },
        {
          "name": "stdout",
          "output_type": "stream",
          "text": [
            "train acc=0.9515086206896551, [l1_loss, ce_loss] => [0.408984375, 0.36790364583333335, 0.33929036458333334, 1.1927083333333333, 0.41873372395833336]\n",
            "Epoch: 29, loss: 2.7277, lr: 0.00000000\n",
            "Training complete!\n"
          ]
        },
        {
          "name": "stderr",
          "output_type": "stream",
          "text": [
            "Evaluate: 100%|██████████| 44/44 [00:57<00:00,  1.32s/it]\n"
          ]
        },
        {
          "name": "stdout",
          "output_type": "stream",
          "text": [
            "\n",
            "Test F1-macro:  0.872681204057866\n",
            "#######################################\n",
            "Processing the Kaggle dataset: persian_dataset\n"
          ]
        },
        {
          "name": "stderr",
          "output_type": "stream",
          "text": [
            "Processing images: 100%|██████████| 14405/14405 [00:16<00:00, 863.11it/s] \n"
          ]
        },
        {
          "name": "stdout",
          "output_type": "stream",
          "text": [
            "Number of filtered labels:  43\n",
            "Number of removed labels:  0\n",
            "Number of samples in the dataset:  14405\n",
            "\n",
            "Iteration:  0\n",
            "\n",
            "#######################################\n",
            "Training non-few shot model...\n",
            "Train dataset size:  181\n",
            "Test dataset size:  46\n",
            "Epoch 1/10\n",
            "  Training Loss: 3.6604\n",
            "Epoch 2/10\n",
            "  Training Loss: 3.5898\n",
            "Epoch 3/10\n",
            "  Training Loss: 3.5677\n",
            "Epoch 4/10\n",
            "  Training Loss: 3.5360\n",
            "Epoch 5/10\n",
            "  Training Loss: 3.5391\n",
            "Epoch 6/10\n",
            "  Training Loss: 3.5361\n",
            "Epoch 7/10\n",
            "  Training Loss: 3.5346\n",
            "Epoch 8/10\n",
            "  Training Loss: 3.5279\n",
            "Epoch 9/10\n",
            "  Training Loss: 3.5299\n",
            "Epoch 10/10\n",
            "  Training Loss: 3.5279\n",
            "Training complete!\n",
            "\n",
            "Test F1-macro:  0.0623388842194536\n",
            "##########################################\n",
            "2025-06-09 19:41:11 Getting cached textual weights W ...\n",
            "\n",
            "#######################################\n",
            "Training few-shot model...\n",
            "Train dataset size:  11\n",
            "Test dataset size:  46\n"
          ]
        },
        {
          "name": "stderr",
          "output_type": "stream",
          "text": [
            "epoch 0: 100%|██████████| 11/11 [00:25<00:00,  2.31s/it, cur_loss=11]  \n"
          ]
        },
        {
          "name": "stdout",
          "output_type": "stream",
          "text": [
            "train acc=0.20348837209302326, [l1_loss, ce_loss] => [6.9130859375, 0.30033735795454547, 3.373934659090909, 3.6326349431818183, 3.454190340909091]\n",
            "Epoch: 0, loss: 17.6726, lr: 0.00000997\n"
          ]
        },
        {
          "name": "stderr",
          "output_type": "stream",
          "text": [
            "epoch 1: 100%|██████████| 11/11 [00:22<00:00,  2.07s/it, cur_loss=9.27]\n"
          ]
        },
        {
          "name": "stdout",
          "output_type": "stream",
          "text": [
            "train acc=0.5348837209302325, [l1_loss, ce_loss] => [0.8642578125, 0.30726207386363635, 2.495383522727273, 3.3069957386363638, 2.79296875]\n",
            "Epoch: 1, loss: 9.7678, lr: 0.00000989\n"
          ]
        },
        {
          "name": "stderr",
          "output_type": "stream",
          "text": [
            "epoch 2: 100%|██████████| 11/11 [00:20<00:00,  1.88s/it, cur_loss=7.66]\n"
          ]
        },
        {
          "name": "stdout",
          "output_type": "stream",
          "text": [
            "train acc=0.7194767441860465, [l1_loss, ce_loss] => [0.7023703835227273, 0.3166725852272727, 1.9043856534090908, 3.001065340909091, 2.2709517045454546]\n",
            "Epoch: 2, loss: 8.1946, lr: 0.00000976\n"
          ]
        },
        {
          "name": "stderr",
          "output_type": "stream",
          "text": [
            "epoch 3: 100%|██████████| 11/11 [00:22<00:00,  2.07s/it, cur_loss=6.87]\n"
          ]
        },
        {
          "name": "stdout",
          "output_type": "stream",
          "text": [
            "train acc=0.8590116279069767, [l1_loss, ce_loss] => [0.6911399147727273, 0.32588334517045453, 1.5085227272727273, 2.751953125, 1.8687855113636365]\n",
            "Epoch: 3, loss: 7.1460, lr: 0.00000957\n"
          ]
        },
        {
          "name": "stderr",
          "output_type": "stream",
          "text": [
            "epoch 4: 100%|██████████| 11/11 [00:23<00:00,  2.13s/it, cur_loss=5.96]\n"
          ]
        },
        {
          "name": "stdout",
          "output_type": "stream",
          "text": [
            "train acc=0.8953488372093024, [l1_loss, ce_loss] => [0.6720081676136364, 0.33427290482954547, 1.1982421875, 2.514559659090909, 1.5063920454545454]\n",
            "Epoch: 4, loss: 6.2251, lr: 0.00000933\n"
          ]
        },
        {
          "name": "stderr",
          "output_type": "stream",
          "text": [
            "epoch 5: 100%|██████████| 11/11 [00:22<00:00,  2.06s/it, cur_loss=5.8] \n"
          ]
        },
        {
          "name": "stdout",
          "output_type": "stream",
          "text": [
            "train acc=0.9287790697674418, [l1_loss, ce_loss] => [0.6365855823863636, 0.3402432528409091, 0.9864612926136364, 2.3462357954545454, 1.2476917613636365]\n",
            "Epoch: 5, loss: 5.5568, lr: 0.00000905\n"
          ]
        },
        {
          "name": "stderr",
          "output_type": "stream",
          "text": [
            "epoch 6: 100%|██████████| 11/11 [00:22<00:00,  2.07s/it, cur_loss=4.62]\n"
          ]
        },
        {
          "name": "stdout",
          "output_type": "stream",
          "text": [
            "train acc=0.9447674418604651, [l1_loss, ce_loss] => [0.6375621448863636, 0.34614701704545453, 0.8102361505681818, 2.1677911931818183, 1.0235262784090908]\n",
            "Epoch: 6, loss: 4.9854, lr: 0.00000872\n"
          ]
        },
        {
          "name": "stderr",
          "output_type": "stream",
          "text": [
            "epoch 7: 100%|██████████| 11/11 [00:22<00:00,  2.06s/it, cur_loss=4.02]\n"
          ]
        },
        {
          "name": "stdout",
          "output_type": "stream",
          "text": [
            "train acc=0.9563953488372093, [l1_loss, ce_loss] => [0.6479936079545454, 0.34901012073863635, 0.681640625, 2.0013316761363638, 0.8741122159090909]\n",
            "Epoch: 7, loss: 4.5543, lr: 0.00000835\n"
          ]
        },
        {
          "name": "stderr",
          "output_type": "stream",
          "text": [
            "epoch 8: 100%|██████████| 11/11 [00:22<00:00,  2.05s/it, cur_loss=4.25]\n"
          ]
        },
        {
          "name": "stdout",
          "output_type": "stream",
          "text": [
            "train acc=0.9709302325581395, [l1_loss, ce_loss] => [0.6170099431818182, 0.3581764914772727, 0.5849165482954546, 1.8544921875, 0.7555486505681818]\n",
            "Epoch: 8, loss: 4.1705, lr: 0.00000794\n"
          ]
        },
        {
          "name": "stderr",
          "output_type": "stream",
          "text": [
            "epoch 9: 100%|██████████| 11/11 [00:22<00:00,  2.04s/it, cur_loss=3.69]\n"
          ]
        },
        {
          "name": "stdout",
          "output_type": "stream",
          "text": [
            "train acc=0.9709302325581395, [l1_loss, ce_loss] => [0.6114169034090909, 0.3592196377840909, 0.4999112215909091, 1.72265625, 0.6440873579545454]\n",
            "Epoch: 9, loss: 3.8374, lr: 0.00000750\n"
          ]
        },
        {
          "name": "stderr",
          "output_type": "stream",
          "text": [
            "epoch 10: 100%|██████████| 11/11 [00:22<00:00,  2.06s/it, cur_loss=3.72]\n"
          ]
        },
        {
          "name": "stdout",
          "output_type": "stream",
          "text": [
            "train acc=0.9811046511627907, [l1_loss, ce_loss] => [0.5865589488636364, 0.36396928267045453, 0.4429598721590909, 1.6096413352272727, 0.5739524147727273]\n",
            "Epoch: 10, loss: 3.5772, lr: 0.00000703\n"
          ]
        },
        {
          "name": "stderr",
          "output_type": "stream",
          "text": [
            "epoch 11: 100%|██████████| 11/11 [00:23<00:00,  2.10s/it, cur_loss=3.32]\n"
          ]
        },
        {
          "name": "stdout",
          "output_type": "stream",
          "text": [
            "train acc=0.9825581395348837, [l1_loss, ce_loss] => [0.5582386363636364, 0.3664772727272727, 0.39570756392045453, 1.5134943181818181, 0.514892578125]\n",
            "Epoch: 11, loss: 3.3484, lr: 0.00000655\n"
          ]
        },
        {
          "name": "stderr",
          "output_type": "stream",
          "text": [
            "epoch 12: 100%|██████████| 11/11 [00:22<00:00,  2.05s/it, cur_loss=3]   \n"
          ]
        },
        {
          "name": "stdout",
          "output_type": "stream",
          "text": [
            "train acc=0.9869186046511628, [l1_loss, ce_loss] => [0.5547762784090909, 0.364990234375, 0.3615056818181818, 1.4556995738636365, 0.4805353338068182]\n",
            "Epoch: 12, loss: 3.2172, lr: 0.00000604\n"
          ]
        },
        {
          "name": "stderr",
          "output_type": "stream",
          "text": [
            "epoch 13: 100%|██████████| 11/11 [00:22<00:00,  2.03s/it, cur_loss=2.95]\n"
          ]
        },
        {
          "name": "stdout",
          "output_type": "stream",
          "text": [
            "train acc=0.9898255813953488, [l1_loss, ce_loss] => [0.5491832386363636, 0.3674982244318182, 0.3271706321022727, 1.3744673295454546, 0.43885387073863635]\n",
            "Epoch: 13, loss: 3.0574, lr: 0.00000552\n"
          ]
        },
        {
          "name": "stderr",
          "output_type": "stream",
          "text": [
            "epoch 14: 100%|██████████| 11/11 [00:23<00:00,  2.09s/it, cur_loss=2.97]\n"
          ]
        },
        {
          "name": "stdout",
          "output_type": "stream",
          "text": [
            "train acc=0.9912790697674418, [l1_loss, ce_loss] => [0.5313387784090909, 0.36772017045454547, 0.3011141690340909, 1.3125887784090908, 0.40214399857954547]\n",
            "Epoch: 14, loss: 2.9144, lr: 0.00000500\n"
          ]
        },
        {
          "name": "stderr",
          "output_type": "stream",
          "text": [
            "epoch 15: 100%|██████████| 11/11 [00:23<00:00,  2.13s/it, cur_loss=2.61]\n"
          ]
        },
        {
          "name": "stdout",
          "output_type": "stream",
          "text": [
            "train acc=0.9898255813953488, [l1_loss, ce_loss] => [0.5159135298295454, 0.369873046875, 0.28715376420454547, 1.2594105113636365, 0.385986328125]\n",
            "Epoch: 15, loss: 2.8180, lr: 0.00000448\n"
          ]
        },
        {
          "name": "stderr",
          "output_type": "stream",
          "text": [
            "epoch 16: 100%|██████████| 11/11 [00:23<00:00,  2.15s/it, cur_loss=2.68]\n"
          ]
        },
        {
          "name": "stdout",
          "output_type": "stream",
          "text": [
            "train acc=0.9912790697674418, [l1_loss, ce_loss] => [0.50634765625, 0.36927379261363635, 0.2687655362215909, 1.2196377840909092, 0.36323686079545453]\n",
            "Epoch: 16, loss: 2.7276, lr: 0.00000396\n"
          ]
        },
        {
          "name": "stderr",
          "output_type": "stream",
          "text": [
            "epoch 17: 100%|██████████| 11/11 [00:23<00:00,  2.14s/it, cur_loss=3]   \n"
          ]
        },
        {
          "name": "stdout",
          "output_type": "stream",
          "text": [
            "train acc=0.9941860465116279, [l1_loss, ce_loss] => [0.5021306818181818, 0.37049449573863635, 0.2595436789772727, 1.1963778409090908, 0.3511629971590909]\n",
            "Epoch: 17, loss: 2.6799, lr: 0.00000345\n"
          ]
        },
        {
          "name": "stderr",
          "output_type": "stream",
          "text": [
            "epoch 18: 100%|██████████| 11/11 [00:23<00:00,  2.15s/it, cur_loss=2.81]\n"
          ]
        },
        {
          "name": "stdout",
          "output_type": "stream",
          "text": [
            "train acc=0.9941860465116279, [l1_loss, ce_loss] => [0.5024857954545454, 0.3697842684659091, 0.2488680752840909, 1.1707208806818181, 0.3377352627840909]\n",
            "Epoch: 18, loss: 2.6296, lr: 0.00000297\n"
          ]
        },
        {
          "name": "stderr",
          "output_type": "stream",
          "text": [
            "epoch 19: 100%|██████████| 11/11 [00:23<00:00,  2.16s/it, cur_loss=2.57]\n"
          ]
        },
        {
          "name": "stdout",
          "output_type": "stream",
          "text": [
            "train acc=0.9912790697674418, [l1_loss, ce_loss] => [0.4950284090909091, 0.37064985795454547, 0.2434414950284091, 1.1556285511363635, 0.33385120738636365]\n",
            "Epoch: 19, loss: 2.5984, lr: 0.00000250\n"
          ]
        },
        {
          "name": "stderr",
          "output_type": "stream",
          "text": [
            "epoch 20: 100%|██████████| 11/11 [00:23<00:00,  2.14s/it, cur_loss=2.73]\n"
          ]
        },
        {
          "name": "stdout",
          "output_type": "stream",
          "text": [
            "train acc=0.9956395348837209, [l1_loss, ce_loss] => [0.49638227982954547, 0.3714932528409091, 0.2403897372159091, 1.1389382102272727, 0.3280584161931818]\n",
            "Epoch: 20, loss: 2.5751, lr: 0.00000206\n"
          ]
        },
        {
          "name": "stderr",
          "output_type": "stream",
          "text": [
            "epoch 21: 100%|██████████| 11/11 [00:23<00:00,  2.15s/it, cur_loss=2.62]\n"
          ]
        },
        {
          "name": "stdout",
          "output_type": "stream",
          "text": [
            "train acc=0.9898255813953488, [l1_loss, ce_loss] => [0.4871493252840909, 0.37138227982954547, 0.235595703125, 1.1266867897727273, 0.3172607421875]\n",
            "Epoch: 21, loss: 2.5382, lr: 0.00000165\n"
          ]
        },
        {
          "name": "stderr",
          "output_type": "stream",
          "text": [
            "epoch 22: 100%|██████████| 11/11 [00:24<00:00,  2.21s/it, cur_loss=2.39]\n"
          ]
        },
        {
          "name": "stdout",
          "output_type": "stream",
          "text": [
            "train acc=0.997093023255814, [l1_loss, ce_loss] => [0.4861505681818182, 0.37064985795454547, 0.22721724076704544, 1.1118607954545454, 0.31190074573863635]\n",
            "Epoch: 22, loss: 2.5080, lr: 0.00000128\n"
          ]
        },
        {
          "name": "stderr",
          "output_type": "stream",
          "text": [
            "epoch 23: 100%|██████████| 11/11 [00:24<00:00,  2.18s/it, cur_loss=2.37]\n"
          ]
        },
        {
          "name": "stdout",
          "output_type": "stream",
          "text": [
            "train acc=0.9941860465116279, [l1_loss, ce_loss] => [0.4824440696022727, 0.37220348011363635, 0.22472034801136365, 1.0966796875, 0.3073508522727273]\n",
            "Epoch: 23, loss: 2.4831, lr: 0.00000095\n"
          ]
        },
        {
          "name": "stderr",
          "output_type": "stream",
          "text": [
            "epoch 24: 100%|██████████| 11/11 [00:23<00:00,  2.15s/it, cur_loss=2.76]\n"
          ]
        },
        {
          "name": "stdout",
          "output_type": "stream",
          "text": [
            "train acc=0.9941860465116279, [l1_loss, ce_loss] => [0.4827547940340909, 0.3705388849431818, 0.23166725852272727, 1.1147904829545454, 0.32115589488636365]\n",
            "Epoch: 24, loss: 2.5213, lr: 0.00000067\n"
          ]
        },
        {
          "name": "stderr",
          "output_type": "stream",
          "text": [
            "epoch 25: 100%|██████████| 11/11 [00:23<00:00,  2.18s/it, cur_loss=2.6] \n"
          ]
        },
        {
          "name": "stdout",
          "output_type": "stream",
          "text": [
            "train acc=0.997093023255814, [l1_loss, ce_loss] => [0.4811345880681818, 0.37113813920454547, 0.22674005681818182, 1.11328125, 0.3098699396306818]\n",
            "Epoch: 25, loss: 2.5021, lr: 0.00000043\n"
          ]
        },
        {
          "name": "stderr",
          "output_type": "stream",
          "text": [
            "epoch 26: 100%|██████████| 11/11 [00:23<00:00,  2.14s/it, cur_loss=2.5] \n"
          ]
        },
        {
          "name": "stdout",
          "output_type": "stream",
          "text": [
            "train acc=0.9956395348837209, [l1_loss, ce_loss] => [0.4806241122159091, 0.3712491122159091, 0.22742808948863635, 1.0965909090909092, 0.3107244318181818]\n",
            "Epoch: 26, loss: 2.4863, lr: 0.00000024\n"
          ]
        },
        {
          "name": "stderr",
          "output_type": "stream",
          "text": [
            "epoch 27: 100%|██████████| 11/11 [00:23<00:00,  2.15s/it, cur_loss=2.5] \n"
          ]
        },
        {
          "name": "stdout",
          "output_type": "stream",
          "text": [
            "train acc=0.9941860465116279, [l1_loss, ce_loss] => [0.4833762428977273, 0.37060546875, 0.22758345170454544, 1.1099076704545454, 0.3121892755681818]\n",
            "Epoch: 27, loss: 2.5039, lr: 0.00000011\n"
          ]
        },
        {
          "name": "stderr",
          "output_type": "stream",
          "text": [
            "epoch 28: 100%|██████████| 11/11 [00:23<00:00,  2.15s/it, cur_loss=2.38]\n"
          ]
        },
        {
          "name": "stdout",
          "output_type": "stream",
          "text": [
            "train acc=0.9956395348837209, [l1_loss, ce_loss] => [0.4817116477272727, 0.371826171875, 0.2235995205965909, 1.1007634943181819, 0.30729536576704547]\n",
            "Epoch: 28, loss: 2.4851, lr: 0.00000003\n"
          ]
        },
        {
          "name": "stderr",
          "output_type": "stream",
          "text": [
            "epoch 29: 100%|██████████| 11/11 [00:23<00:00,  2.13s/it, cur_loss=2.45]\n"
          ]
        },
        {
          "name": "stdout",
          "output_type": "stream",
          "text": [
            "train acc=0.9956395348837209, [l1_loss, ce_loss] => [0.4808904474431818, 0.37227006392045453, 0.2222012606534091, 1.0913529829545454, 0.3024347478693182]\n",
            "Epoch: 29, loss: 2.4688, lr: 0.00000000\n",
            "Training complete!\n"
          ]
        },
        {
          "name": "stderr",
          "output_type": "stream",
          "text": [
            "Evaluate: 100%|██████████| 46/46 [00:34<00:00,  1.33it/s]\n"
          ]
        },
        {
          "name": "stdout",
          "output_type": "stream",
          "text": [
            "\n",
            "Test F1-macro:  0.9178790372150966\n",
            "#######################################\n",
            "\n",
            "Iteration:  1\n",
            "\n",
            "#######################################\n",
            "Training non-few shot model...\n",
            "Train dataset size:  181\n",
            "Test dataset size:  46\n",
            "Epoch 1/10\n",
            "  Training Loss: 3.5887\n",
            "Epoch 2/10\n",
            "  Training Loss: 3.4596\n",
            "Epoch 3/10\n",
            "  Training Loss: 3.4082\n",
            "Epoch 4/10\n",
            "  Training Loss: 3.3889\n",
            "Epoch 5/10\n",
            "  Training Loss: 3.3656\n",
            "Epoch 6/10\n",
            "  Training Loss: 3.3639\n",
            "Epoch 7/10\n",
            "  Training Loss: 3.3603\n",
            "Epoch 8/10\n",
            "  Training Loss: 3.3623\n",
            "Epoch 9/10\n",
            "  Training Loss: 3.3604\n",
            "Epoch 10/10\n",
            "  Training Loss: 3.3609\n",
            "Training complete!\n",
            "\n",
            "Test F1-macro:  0.16067477843527134\n",
            "##########################################\n",
            "2025-06-09 20:03:17 Getting cached textual weights W ...\n",
            "2025-06-09 20:03:17 Loading texture features from ./__few_shot_cache__\\persian_dataset_ViT-B/16_textfeats.pt\n",
            "\n",
            "#######################################\n",
            "Training few-shot model...\n",
            "Train dataset size:  11\n",
            "Test dataset size:  46\n"
          ]
        },
        {
          "name": "stderr",
          "output_type": "stream",
          "text": [
            "epoch 0: 100%|██████████| 11/11 [00:28<00:00,  2.61s/it, cur_loss=12.8]\n"
          ]
        },
        {
          "name": "stdout",
          "output_type": "stream",
          "text": [
            "train acc=0.11046511627906977, [l1_loss, ce_loss] => [7.250088778409091, 0.3032892400568182, 3.5236150568181817, 3.6638849431818183, 3.547585227272727]\n",
            "Epoch: 0, loss: 18.2891, lr: 0.00000997\n"
          ]
        },
        {
          "name": "stderr",
          "output_type": "stream",
          "text": [
            "epoch 1: 100%|██████████| 11/11 [00:28<00:00,  2.63s/it, cur_loss=9.78]\n"
          ]
        },
        {
          "name": "stdout",
          "output_type": "stream",
          "text": [
            "train acc=0.4476744186046512, [l1_loss, ce_loss] => [1.0766157670454546, 0.3034446022727273, 2.713778409090909, 3.3732244318181817, 2.983309659090909]\n",
            "Epoch: 1, loss: 10.4503, lr: 0.00000989\n"
          ]
        },
        {
          "name": "stderr",
          "output_type": "stream",
          "text": [
            "epoch 2: 100%|██████████| 11/11 [00:33<00:00,  3.07s/it, cur_loss=8.27]\n"
          ]
        },
        {
          "name": "stdout",
          "output_type": "stream",
          "text": [
            "train acc=0.7093023255813954, [l1_loss, ce_loss] => [0.8271484375, 0.3125221946022727, 2.1144353693181817, 3.1075994318181817, 2.5078125]\n",
            "Epoch: 2, loss: 8.8686, lr: 0.00000976\n"
          ]
        },
        {
          "name": "stderr",
          "output_type": "stream",
          "text": [
            "epoch 3: 100%|██████████| 11/11 [00:28<00:00,  2.63s/it, cur_loss=7.23]\n"
          ]
        },
        {
          "name": "stdout",
          "output_type": "stream",
          "text": [
            "train acc=0.8284883720930233, [l1_loss, ce_loss] => [0.6851473721590909, 0.3181818181818182, 1.65625, 2.8638139204545454, 2.0927734375]\n",
            "Epoch: 3, loss: 7.6151, lr: 0.00000957\n"
          ]
        },
        {
          "name": "stderr",
          "output_type": "stream",
          "text": [
            "epoch 4: 100%|██████████| 11/11 [00:34<00:00,  3.10s/it, cur_loss=6.21]\n"
          ]
        },
        {
          "name": "stdout",
          "output_type": "stream",
          "text": [
            "train acc=0.8895348837209303, [l1_loss, ce_loss] => [0.6906072443181818, 0.3266379616477273, 1.2983842329545454, 2.606356534090909, 1.7168856534090908]\n",
            "Epoch: 4, loss: 6.6399, lr: 0.00000933\n"
          ]
        },
        {
          "name": "stderr",
          "output_type": "stream",
          "text": [
            "epoch 5: 100%|██████████| 11/11 [00:29<00:00,  2.64s/it, cur_loss=5.84]\n"
          ]
        },
        {
          "name": "stdout",
          "output_type": "stream",
          "text": [
            "train acc=0.9331395348837209, [l1_loss, ce_loss] => [0.6539417613636364, 0.33680308948863635, 1.0370205965909092, 2.4021661931818183, 1.4152166193181819]\n",
            "Epoch: 5, loss: 5.8445, lr: 0.00000905\n"
          ]
        },
        {
          "name": "stderr",
          "output_type": "stream",
          "text": [
            "epoch 6: 100%|██████████| 11/11 [00:33<00:00,  3.08s/it, cur_loss=5.2] \n"
          ]
        },
        {
          "name": "stdout",
          "output_type": "stream",
          "text": [
            "train acc=0.9520348837209303, [l1_loss, ce_loss] => [0.6416459517045454, 0.34033203125, 0.8377130681818182, 2.20703125, 1.1615767045454546]\n",
            "Epoch: 6, loss: 5.1875, lr: 0.00000872\n"
          ]
        },
        {
          "name": "stderr",
          "output_type": "stream",
          "text": [
            "epoch 7: 100%|██████████| 11/11 [00:27<00:00,  2.47s/it, cur_loss=4.44]\n"
          ]
        },
        {
          "name": "stdout",
          "output_type": "stream",
          "text": [
            "train acc=0.9607558139534884, [l1_loss, ce_loss] => [0.6179865056818182, 0.347900390625, 0.6893199573863636, 2.046875, 0.9535245028409091]\n",
            "Epoch: 7, loss: 4.6552, lr: 0.00000835\n"
          ]
        },
        {
          "name": "stderr",
          "output_type": "stream",
          "text": [
            "epoch 8: 100%|██████████| 11/11 [00:32<00:00,  2.94s/it, cur_loss=4.13]\n"
          ]
        },
        {
          "name": "stdout",
          "output_type": "stream",
          "text": [
            "train acc=0.9752906976744186, [l1_loss, ce_loss] => [0.6050248579545454, 0.3499200994318182, 0.5633877840909091, 1.9083806818181819, 0.7885298295454546]\n",
            "Epoch: 8, loss: 4.2156, lr: 0.00000794\n"
          ]
        },
        {
          "name": "stderr",
          "output_type": "stream",
          "text": [
            "epoch 9: 100%|██████████| 11/11 [00:28<00:00,  2.63s/it, cur_loss=3.93]\n"
          ]
        },
        {
          "name": "stdout",
          "output_type": "stream",
          "text": [
            "train acc=0.9781976744186046, [l1_loss, ce_loss] => [0.5818536931818182, 0.3544699928977273, 0.47119140625, 1.7938565340909092, 0.6768022017045454]\n",
            "Epoch: 9, loss: 3.8786, lr: 0.00000750\n"
          ]
        },
        {
          "name": "stderr",
          "output_type": "stream",
          "text": [
            "epoch 10: 100%|██████████| 11/11 [00:34<00:00,  3.12s/it, cur_loss=3.37]\n"
          ]
        },
        {
          "name": "stdout",
          "output_type": "stream",
          "text": [
            "train acc=0.9811046511627907, [l1_loss, ce_loss] => [0.5715110085227273, 0.355224609375, 0.39774946732954547, 1.6828835227272727, 0.5818093039772727]\n",
            "Epoch: 10, loss: 3.5890, lr: 0.00000703\n"
          ]
        },
        {
          "name": "stderr",
          "output_type": "stream",
          "text": [
            "epoch 11: 100%|██████████| 11/11 [00:30<00:00,  2.75s/it, cur_loss=3.45]\n"
          ]
        },
        {
          "name": "stdout",
          "output_type": "stream",
          "text": [
            "train acc=0.9854651162790697, [l1_loss, ce_loss] => [0.5624556107954546, 0.3601296164772727, 0.3444602272727273, 1.5918856534090908, 0.49873490767045453]\n",
            "Epoch: 11, loss: 3.3580, lr: 0.00000655\n"
          ]
        },
        {
          "name": "stderr",
          "output_type": "stream",
          "text": [
            "epoch 12: 100%|██████████| 11/11 [00:33<00:00,  3.08s/it, cur_loss=2.97]\n"
          ]
        },
        {
          "name": "stdout",
          "output_type": "stream",
          "text": [
            "train acc=0.9854651162790697, [l1_loss, ce_loss] => [0.5432350852272727, 0.36083984375, 0.30040394176136365, 1.4976029829545454, 0.4311745383522727]\n",
            "Epoch: 12, loss: 3.1328, lr: 0.00000604\n"
          ]
        },
        {
          "name": "stderr",
          "output_type": "stream",
          "text": [
            "epoch 13: 100%|██████████| 11/11 [00:29<00:00,  2.68s/it, cur_loss=2.89]\n"
          ]
        },
        {
          "name": "stdout",
          "output_type": "stream",
          "text": [
            "train acc=0.9869186046511628, [l1_loss, ce_loss] => [0.5339577414772727, 0.3627041903409091, 0.27799849076704547, 1.4367009943181819, 0.3932439630681818]\n",
            "Epoch: 13, loss: 3.0043, lr: 0.00000552\n"
          ]
        },
        {
          "name": "stderr",
          "output_type": "stream",
          "text": [
            "epoch 14: 100%|██████████| 11/11 [00:34<00:00,  3.11s/it, cur_loss=2.72]\n"
          ]
        },
        {
          "name": "stdout",
          "output_type": "stream",
          "text": [
            "train acc=0.9912790697674418, [l1_loss, ce_loss] => [0.5280983664772727, 0.36292613636363635, 0.2556485262784091, 1.4041193181818181, 0.384033203125]\n",
            "Epoch: 14, loss: 2.9350, lr: 0.00000500\n"
          ]
        },
        {
          "name": "stderr",
          "output_type": "stream",
          "text": [
            "epoch 15: 100%|██████████| 11/11 [00:29<00:00,  2.67s/it, cur_loss=2.7] \n"
          ]
        },
        {
          "name": "stdout",
          "output_type": "stream",
          "text": [
            "train acc=0.9898255813953488, [l1_loss, ce_loss] => [0.517578125, 0.3637029474431818, 0.2358065518465909, 1.3470348011363635, 0.3438165838068182]\n",
            "Epoch: 15, loss: 2.8081, lr: 0.00000448\n"
          ]
        },
        {
          "name": "stderr",
          "output_type": "stream",
          "text": [
            "epoch 16: 100%|██████████| 11/11 [00:34<00:00,  3.12s/it, cur_loss=2.7] \n"
          ]
        },
        {
          "name": "stdout",
          "output_type": "stream",
          "text": [
            "train acc=0.9883720930232558, [l1_loss, ce_loss] => [0.5093217329545454, 0.36543412642045453, 0.2231778231534091, 1.3068181818181819, 0.3230646306818182]\n",
            "Epoch: 16, loss: 2.7275, lr: 0.00000396\n"
          ]
        },
        {
          "name": "stderr",
          "output_type": "stream",
          "text": [
            "epoch 17: 100%|██████████| 11/11 [00:29<00:00,  2.65s/it, cur_loss=2.73]\n"
          ]
        },
        {
          "name": "stdout",
          "output_type": "stream",
          "text": [
            "train acc=0.9927325581395349, [l1_loss, ce_loss] => [0.5015314275568182, 0.36561168323863635, 0.214111328125, 1.2701526988636365, 0.3130104758522727]\n",
            "Epoch: 17, loss: 2.6641, lr: 0.00000345\n"
          ]
        },
        {
          "name": "stderr",
          "output_type": "stream",
          "text": [
            "epoch 18: 100%|██████████| 11/11 [00:34<00:00,  3.15s/it, cur_loss=2.61]\n"
          ]
        },
        {
          "name": "stdout",
          "output_type": "stream",
          "text": [
            "train acc=0.9956395348837209, [l1_loss, ce_loss] => [0.49238725142045453, 0.3662109375, 0.20429021661931818, 1.2405894886363635, 0.2947443181818182]\n",
            "Epoch: 18, loss: 2.5975, lr: 0.00000297\n"
          ]
        },
        {
          "name": "stderr",
          "output_type": "stream",
          "text": [
            "epoch 19: 100%|██████████| 11/11 [00:29<00:00,  2.69s/it, cur_loss=2.6] \n"
          ]
        },
        {
          "name": "stdout",
          "output_type": "stream",
          "text": [
            "train acc=0.9927325581395349, [l1_loss, ce_loss] => [0.49400745738636365, 0.3649680397727273, 0.20234818892045456, 1.2308238636363635, 0.3039772727272727]\n",
            "Epoch: 19, loss: 2.5957, lr: 0.00000250\n"
          ]
        },
        {
          "name": "stderr",
          "output_type": "stream",
          "text": [
            "epoch 20: 100%|██████████| 11/11 [00:33<00:00,  3.08s/it, cur_loss=2.47]\n"
          ]
        },
        {
          "name": "stdout",
          "output_type": "stream",
          "text": [
            "train acc=0.9912790697674418, [l1_loss, ce_loss] => [0.4873712713068182, 0.3654563210227273, 0.1932705965909091, 1.2098721590909092, 0.2829256924715909]\n",
            "Epoch: 20, loss: 2.5384, lr: 0.00000206\n"
          ]
        },
        {
          "name": "stderr",
          "output_type": "stream",
          "text": [
            "epoch 21: 100%|██████████| 11/11 [00:28<00:00,  2.62s/it, cur_loss=2.32]\n"
          ]
        },
        {
          "name": "stdout",
          "output_type": "stream",
          "text": [
            "train acc=0.9941860465116279, [l1_loss, ce_loss] => [0.48612837357954547, 0.3667214133522727, 0.19384765625, 1.1973544034090908, 0.2824152166193182]\n",
            "Epoch: 21, loss: 2.5263, lr: 0.00000165\n"
          ]
        },
        {
          "name": "stderr",
          "output_type": "stream",
          "text": [
            "epoch 22: 100%|██████████| 11/11 [00:33<00:00,  3.08s/it, cur_loss=2.67]\n"
          ]
        },
        {
          "name": "stdout",
          "output_type": "stream",
          "text": [
            "train acc=0.9941860465116279, [l1_loss, ce_loss] => [0.4849520596590909, 0.36512340198863635, 0.19019664417613635, 1.1904296875, 0.2794522372159091]\n",
            "Epoch: 22, loss: 2.5098, lr: 0.00000128\n"
          ]
        },
        {
          "name": "stderr",
          "output_type": "stream",
          "text": [
            "epoch 23: 100%|██████████| 11/11 [00:29<00:00,  2.66s/it, cur_loss=2.79]\n"
          ]
        },
        {
          "name": "stdout",
          "output_type": "stream",
          "text": [
            "train acc=0.998546511627907, [l1_loss, ce_loss] => [0.4839089133522727, 0.3662997159090909, 0.1884432705965909, 1.1886541193181819, 0.2799960049715909]\n",
            "Epoch: 23, loss: 2.5075, lr: 0.00000095\n"
          ]
        },
        {
          "name": "stderr",
          "output_type": "stream",
          "text": [
            "epoch 24: 100%|██████████| 11/11 [00:34<00:00,  3.14s/it, cur_loss=2.6] \n"
          ]
        },
        {
          "name": "stdout",
          "output_type": "stream",
          "text": [
            "train acc=0.9941860465116279, [l1_loss, ce_loss] => [0.4843528053977273, 0.3667879971590909, 0.18809925426136365, 1.1715198863636365, 0.27473588423295453]\n",
            "Epoch: 24, loss: 2.4858, lr: 0.00000067\n"
          ]
        },
        {
          "name": "stderr",
          "output_type": "stream",
          "text": [
            "epoch 25: 100%|██████████| 11/11 [00:29<00:00,  2.68s/it, cur_loss=2.45]\n"
          ]
        },
        {
          "name": "stdout",
          "output_type": "stream",
          "text": [
            "train acc=0.9956395348837209, [l1_loss, ce_loss] => [0.4816672585227273, 0.36601118607954547, 0.18651234019886365, 1.1715198863636365, 0.2790749289772727]\n",
            "Epoch: 25, loss: 2.4844, lr: 0.00000043\n"
          ]
        },
        {
          "name": "stderr",
          "output_type": "stream",
          "text": [
            "epoch 26: 100%|██████████| 11/11 [00:34<00:00,  3.13s/it, cur_loss=2.79]\n"
          ]
        },
        {
          "name": "stdout",
          "output_type": "stream",
          "text": [
            "train acc=0.9912790697674418, [l1_loss, ce_loss] => [0.48497425426136365, 0.365478515625, 0.1904629794034091, 1.2026811079545454, 0.2977294921875]\n",
            "Epoch: 26, loss: 2.5414, lr: 0.00000024\n"
          ]
        },
        {
          "name": "stderr",
          "output_type": "stream",
          "text": [
            "epoch 27: 100%|██████████| 11/11 [00:30<00:00,  2.75s/it, cur_loss=2.45]\n"
          ]
        },
        {
          "name": "stdout",
          "output_type": "stream",
          "text": [
            "train acc=0.9941860465116279, [l1_loss, ce_loss] => [0.4817560369318182, 0.36527876420454547, 0.18632368607954544, 1.1775568181818181, 0.27604536576704547]\n",
            "Epoch: 27, loss: 2.4870, lr: 0.00000011\n"
          ]
        },
        {
          "name": "stderr",
          "output_type": "stream",
          "text": [
            "epoch 28: 100%|██████████| 11/11 [00:35<00:00,  3.24s/it, cur_loss=2.62]\n"
          ]
        },
        {
          "name": "stdout",
          "output_type": "stream",
          "text": [
            "train acc=0.9956395348837209, [l1_loss, ce_loss] => [0.4830877130681818, 0.36609996448863635, 0.18630149147727273, 1.1848366477272727, 0.27208362926136365]\n",
            "Epoch: 28, loss: 2.4925, lr: 0.00000003\n"
          ]
        },
        {
          "name": "stderr",
          "output_type": "stream",
          "text": [
            "epoch 29: 100%|██████████| 11/11 [00:29<00:00,  2.70s/it, cur_loss=2.49]\n"
          ]
        },
        {
          "name": "stdout",
          "output_type": "stream",
          "text": [
            "train acc=0.9941860465116279, [l1_loss, ce_loss] => [0.48279918323863635, 0.36632191051136365, 0.1871337890625, 1.1832386363636365, 0.2732821377840909]\n",
            "Epoch: 29, loss: 2.4927, lr: 0.00000000\n",
            "Training complete!\n"
          ]
        },
        {
          "name": "stderr",
          "output_type": "stream",
          "text": [
            "Evaluate: 100%|██████████| 46/46 [00:29<00:00,  1.54it/s]\n"
          ]
        },
        {
          "name": "stdout",
          "output_type": "stream",
          "text": [
            "\n",
            "Test F1-macro:  0.9345343387280044\n",
            "#######################################\n",
            "\n",
            "Iteration:  2\n",
            "\n",
            "#######################################\n",
            "Training non-few shot model...\n",
            "Train dataset size:  181\n",
            "Test dataset size:  46\n",
            "Epoch 1/10\n",
            "  Training Loss: 3.7292\n",
            "Epoch 2/10\n",
            "  Training Loss: 3.7261\n",
            "Epoch 3/10\n",
            "  Training Loss: 3.7261\n",
            "Epoch 4/10\n",
            "  Training Loss: 3.7248\n",
            "Epoch 5/10\n",
            "  Training Loss: 3.7248\n",
            "Epoch 6/10\n",
            "  Training Loss: 3.7261\n",
            "Epoch 7/10\n",
            "  Training Loss: 3.7261\n",
            "Epoch 8/10\n",
            "  Training Loss: 3.7261\n",
            "Epoch 9/10\n",
            "  Training Loss: 3.7261\n",
            "Epoch 10/10\n",
            "  Training Loss: 3.7223\n",
            "Training complete!\n",
            "\n",
            "Test F1-macro:  0.0032299741602067186\n",
            "##########################################\n",
            "2025-06-09 20:30:07 Getting cached textual weights W ...\n",
            "2025-06-09 20:30:07 Loading texture features from ./__few_shot_cache__\\persian_dataset_ViT-B/16_textfeats.pt\n",
            "\n",
            "#######################################\n",
            "Training few-shot model...\n",
            "Train dataset size:  11\n",
            "Test dataset size:  46\n"
          ]
        },
        {
          "name": "stderr",
          "output_type": "stream",
          "text": [
            "epoch 0: 100%|██████████| 11/11 [00:21<00:00,  1.96s/it, cur_loss=11.7]\n"
          ]
        },
        {
          "name": "stdout",
          "output_type": "stream",
          "text": [
            "train acc=0.12063953488372094, [l1_loss, ce_loss] => [6.677334872159091, 0.3322975852272727, 3.5120738636363638, 3.7091619318181817, 3.563387784090909]\n",
            "Epoch: 0, loss: 17.7955, lr: 0.00000997\n"
          ]
        },
        {
          "name": "stderr",
          "output_type": "stream",
          "text": [
            "epoch 1: 100%|██████████| 11/11 [00:22<00:00,  2.03s/it, cur_loss=9.61]\n"
          ]
        },
        {
          "name": "stdout",
          "output_type": "stream",
          "text": [
            "train acc=0.4578488372093023, [l1_loss, ce_loss] => [0.7946111505681818, 0.3253728693181818, 2.719815340909091, 3.389559659090909, 2.970703125]\n",
            "Epoch: 1, loss: 10.2003, lr: 0.00000989\n"
          ]
        },
        {
          "name": "stderr",
          "output_type": "stream",
          "text": [
            "epoch 2: 100%|██████████| 11/11 [00:21<00:00,  1.98s/it, cur_loss=7.98]\n"
          ]
        },
        {
          "name": "stdout",
          "output_type": "stream",
          "text": [
            "train acc=0.7209302325581395, [l1_loss, ce_loss] => [0.6678355823863636, 0.33735795454545453, 2.096413352272727, 3.0900213068181817, 2.463955965909091]\n",
            "Epoch: 2, loss: 8.6541, lr: 0.00000976\n"
          ]
        },
        {
          "name": "stderr",
          "output_type": "stream",
          "text": [
            "epoch 3: 100%|██████████| 11/11 [00:21<00:00,  1.99s/it, cur_loss=7.62]\n"
          ]
        },
        {
          "name": "stdout",
          "output_type": "stream",
          "text": [
            "train acc=0.8313953488372093, [l1_loss, ce_loss] => [0.6438654119318182, 0.34834428267045453, 1.6661044034090908, 2.838600852272727, 2.0795454545454546]\n",
            "Epoch: 3, loss: 7.5760, lr: 0.00000957\n"
          ]
        },
        {
          "name": "stderr",
          "output_type": "stream",
          "text": [
            "epoch 4: 100%|██████████| 11/11 [00:21<00:00,  1.97s/it, cur_loss=6.02]\n"
          ]
        },
        {
          "name": "stdout",
          "output_type": "stream",
          "text": [
            "train acc=0.8938953488372093, [l1_loss, ce_loss] => [0.6091974431818182, 0.3566006747159091, 1.3132102272727273, 2.5699573863636362, 1.7146661931818181]\n",
            "Epoch: 4, loss: 6.5632, lr: 0.00000933\n"
          ]
        },
        {
          "name": "stderr",
          "output_type": "stream",
          "text": [
            "epoch 5: 100%|██████████| 11/11 [00:21<00:00,  1.98s/it, cur_loss=5.66]\n"
          ]
        },
        {
          "name": "stdout",
          "output_type": "stream",
          "text": [
            "train acc=0.9273255813953488, [l1_loss, ce_loss] => [0.5966796875, 0.36250443892045453, 1.0626331676136365, 2.3599076704545454, 1.4379438920454546]\n",
            "Epoch: 5, loss: 5.8207, lr: 0.00000905\n"
          ]
        },
        {
          "name": "stderr",
          "output_type": "stream",
          "text": [
            "epoch 6: 100%|██████████| 11/11 [00:21<00:00,  1.97s/it, cur_loss=4.86]\n"
          ]
        },
        {
          "name": "stdout",
          "output_type": "stream",
          "text": [
            "train acc=0.9491279069767442, [l1_loss, ce_loss] => [0.5925514914772727, 0.3680087002840909, 0.8601740056818182, 2.1896306818181817, 1.2133345170454546]\n",
            "Epoch: 6, loss: 5.2237, lr: 0.00000872\n"
          ]
        },
        {
          "name": "stderr",
          "output_type": "stream",
          "text": [
            "epoch 7: 100%|██████████| 11/11 [00:21<00:00,  1.97s/it, cur_loss=4.69]\n"
          ]
        },
        {
          "name": "stdout",
          "output_type": "stream",
          "text": [
            "train acc=0.9651162790697675, [l1_loss, ce_loss] => [0.5824751420454546, 0.3721590909090909, 0.6837713068181818, 2.0125177556818183, 1.0054154829545454]\n",
            "Epoch: 7, loss: 4.6566, lr: 0.00000835\n"
          ]
        },
        {
          "name": "stderr",
          "output_type": "stream",
          "text": [
            "epoch 8: 100%|██████████| 11/11 [00:21<00:00,  1.97s/it, cur_loss=4.18]\n"
          ]
        },
        {
          "name": "stdout",
          "output_type": "stream",
          "text": [
            "train acc=0.9796511627906976, [l1_loss, ce_loss] => [0.580078125, 0.3755548650568182, 0.5714222301136364, 1.8626598011363635, 0.8562677556818182]\n",
            "Epoch: 8, loss: 4.2461, lr: 0.00000794\n"
          ]
        },
        {
          "name": "stderr",
          "output_type": "stream",
          "text": [
            "epoch 9: 100%|██████████| 11/11 [00:21<00:00,  1.99s/it, cur_loss=4.02]\n"
          ]
        },
        {
          "name": "stdout",
          "output_type": "stream",
          "text": [
            "train acc=0.9752906976744186, [l1_loss, ce_loss] => [0.5603249289772727, 0.37764115767045453, 0.47620738636363635, 1.7414772727272727, 0.7337979403409091]\n",
            "Epoch: 9, loss: 3.8892, lr: 0.00000750\n"
          ]
        },
        {
          "name": "stderr",
          "output_type": "stream",
          "text": [
            "epoch 10: 100%|██████████| 11/11 [00:21<00:00,  1.99s/it, cur_loss=3.81]\n"
          ]
        },
        {
          "name": "stdout",
          "output_type": "stream",
          "text": [
            "train acc=0.9767441860465116, [l1_loss, ce_loss] => [0.5506924715909091, 0.3811257102272727, 0.4069602272727273, 1.6284623579545454, 0.6340997869318182]\n",
            "Epoch: 10, loss: 3.6010, lr: 0.00000703\n"
          ]
        },
        {
          "name": "stderr",
          "output_type": "stream",
          "text": [
            "epoch 11: 100%|██████████| 11/11 [00:22<00:00,  2.00s/it, cur_loss=3.24]\n"
          ]
        },
        {
          "name": "stdout",
          "output_type": "stream",
          "text": [
            "train acc=0.9854651162790697, [l1_loss, ce_loss] => [0.5387073863636364, 0.3818137428977273, 0.3479225852272727, 1.5280539772727273, 0.5457430752840909]\n",
            "Epoch: 11, loss: 3.3422, lr: 0.00000655\n"
          ]
        },
        {
          "name": "stderr",
          "output_type": "stream",
          "text": [
            "epoch 12: 100%|██████████| 11/11 [00:21<00:00,  1.99s/it, cur_loss=2.91]\n"
          ]
        },
        {
          "name": "stdout",
          "output_type": "stream",
          "text": [
            "train acc=0.9912790697674418, [l1_loss, ce_loss] => [0.52587890625, 0.38221324573863635, 0.3048317649147727, 1.4403409090909092, 0.4842196377840909]\n",
            "Epoch: 12, loss: 3.1374, lr: 0.00000604\n"
          ]
        },
        {
          "name": "stderr",
          "output_type": "stream",
          "text": [
            "epoch 13: 100%|██████████| 11/11 [00:21<00:00,  2.00s/it, cur_loss=2.87]\n"
          ]
        },
        {
          "name": "stdout",
          "output_type": "stream",
          "text": [
            "train acc=0.9898255813953488, [l1_loss, ce_loss] => [0.515869140625, 0.3825461647727273, 0.2761008522727273, 1.3684303977272727, 0.4494406960227273]\n",
            "Epoch: 13, loss: 2.9924, lr: 0.00000552\n"
          ]
        },
        {
          "name": "stderr",
          "output_type": "stream",
          "text": [
            "epoch 14: 100%|██████████| 11/11 [00:21<00:00,  1.99s/it, cur_loss=2.83]\n"
          ]
        },
        {
          "name": "stdout",
          "output_type": "stream",
          "text": [
            "train acc=0.9927325581395349, [l1_loss, ce_loss] => [0.505859375, 0.3840997869318182, 0.24990012428977273, 1.3107244318181819, 0.40522904829545453]\n",
            "Epoch: 14, loss: 2.8564, lr: 0.00000500\n"
          ]
        },
        {
          "name": "stderr",
          "output_type": "stream",
          "text": [
            "epoch 15: 100%|██████████| 11/11 [00:21<00:00,  2.00s/it, cur_loss=2.63]\n"
          ]
        },
        {
          "name": "stdout",
          "output_type": "stream",
          "text": [
            "train acc=0.9912790697674418, [l1_loss, ce_loss] => [0.49891246448863635, 0.38343394886363635, 0.235107421875, 1.2697088068181819, 0.37608753551136365]\n",
            "Epoch: 15, loss: 2.7628, lr: 0.00000448\n"
          ]
        },
        {
          "name": "stderr",
          "output_type": "stream",
          "text": [
            "epoch 16: 100%|██████████| 11/11 [00:21<00:00,  1.99s/it, cur_loss=2.83]\n"
          ]
        },
        {
          "name": "stdout",
          "output_type": "stream",
          "text": [
            "train acc=0.9956395348837209, [l1_loss, ce_loss] => [0.4895241477272727, 0.3837002840909091, 0.2221346768465909, 1.2310901988636365, 0.3574884588068182]\n",
            "Epoch: 16, loss: 2.6841, lr: 0.00000396\n"
          ]
        },
        {
          "name": "stderr",
          "output_type": "stream",
          "text": [
            "epoch 17: 100%|██████████| 11/11 [00:21<00:00,  1.99s/it, cur_loss=2.66]\n"
          ]
        },
        {
          "name": "stdout",
          "output_type": "stream",
          "text": [
            "train acc=0.9941860465116279, [l1_loss, ce_loss] => [0.48173384232954547, 0.3844327059659091, 0.20864035866477273, 1.2027698863636365, 0.33720259232954547]\n",
            "Epoch: 17, loss: 2.6142, lr: 0.00000345\n"
          ]
        },
        {
          "name": "stderr",
          "output_type": "stream",
          "text": [
            "epoch 18: 100%|██████████| 11/11 [00:21<00:00,  2.00s/it, cur_loss=2.8] \n"
          ]
        },
        {
          "name": "stdout",
          "output_type": "stream",
          "text": [
            "train acc=0.997093023255814, [l1_loss, ce_loss] => [0.4779385653409091, 0.38481001420454547, 0.20371315696022727, 1.1873224431818181, 0.33833451704545453]\n",
            "Epoch: 18, loss: 2.5923, lr: 0.00000297\n"
          ]
        },
        {
          "name": "stderr",
          "output_type": "stream",
          "text": [
            "epoch 19: 100%|██████████| 11/11 [00:22<00:00,  2.06s/it, cur_loss=2.55]\n"
          ]
        },
        {
          "name": "stdout",
          "output_type": "stream",
          "text": [
            "train acc=0.998546511627907, [l1_loss, ce_loss] => [0.47383256392045453, 0.38438831676136365, 0.1892977627840909, 1.1472833806818181, 0.3122336647727273]\n",
            "Epoch: 19, loss: 2.5066, lr: 0.00000250\n"
          ]
        },
        {
          "name": "stderr",
          "output_type": "stream",
          "text": [
            "epoch 20: 100%|██████████| 11/11 [00:22<00:00,  2.07s/it, cur_loss=2.56]\n"
          ]
        },
        {
          "name": "stdout",
          "output_type": "stream",
          "text": [
            "train acc=1.0, [l1_loss, ce_loss] => [0.4704367897727273, 0.38441051136363635, 0.1849365234375, 1.1476384943181819, 0.30601917613636365]\n",
            "Epoch: 20, loss: 2.4933, lr: 0.00000206\n"
          ]
        },
        {
          "name": "stderr",
          "output_type": "stream",
          "text": [
            "epoch 21: 100%|██████████| 11/11 [00:23<00:00,  2.12s/it, cur_loss=2.6] \n"
          ]
        },
        {
          "name": "stdout",
          "output_type": "stream",
          "text": [
            "train acc=0.998546511627907, [l1_loss, ce_loss] => [0.46855024857954547, 0.38554243607954547, 0.18340509588068182, 1.1340553977272727, 0.3081276633522727]\n",
            "Epoch: 21, loss: 2.4799, lr: 0.00000165\n"
          ]
        },
        {
          "name": "stderr",
          "output_type": "stream",
          "text": [
            "epoch 22: 100%|██████████| 11/11 [00:22<00:00,  2.08s/it, cur_loss=2.43]\n"
          ]
        },
        {
          "name": "stdout",
          "output_type": "stream",
          "text": [
            "train acc=0.9956395348837209, [l1_loss, ce_loss] => [0.46577592329545453, 0.384521484375, 0.18236194957386365, 1.1238458806818181, 0.2967862215909091]\n",
            "Epoch: 22, loss: 2.4531, lr: 0.00000128\n"
          ]
        },
        {
          "name": "stderr",
          "output_type": "stream",
          "text": [
            "epoch 23: 100%|██████████| 11/11 [00:22<00:00,  2.07s/it, cur_loss=2.41]\n"
          ]
        },
        {
          "name": "stdout",
          "output_type": "stream",
          "text": [
            "train acc=0.9956395348837209, [l1_loss, ce_loss] => [0.4640447443181818, 0.3834783380681818, 0.17400568181818182, 1.1089311079545454, 0.28331409801136365]\n",
            "Epoch: 23, loss: 2.4137, lr: 0.00000095\n"
          ]
        },
        {
          "name": "stderr",
          "output_type": "stream",
          "text": [
            "epoch 24: 100%|██████████| 11/11 [00:22<00:00,  2.08s/it, cur_loss=2.33]\n"
          ]
        },
        {
          "name": "stdout",
          "output_type": "stream",
          "text": [
            "train acc=0.9956395348837209, [l1_loss, ce_loss] => [0.46586470170454547, 0.3845880681818182, 0.1812411221590909, 1.1226917613636365, 0.30106977982954547]\n",
            "Epoch: 24, loss: 2.4554, lr: 0.00000067\n"
          ]
        },
        {
          "name": "stderr",
          "output_type": "stream",
          "text": [
            "epoch 25: 100%|██████████| 11/11 [00:22<00:00,  2.08s/it, cur_loss=2.5] \n"
          ]
        },
        {
          "name": "stdout",
          "output_type": "stream",
          "text": [
            "train acc=0.997093023255814, [l1_loss, ce_loss] => [0.463134765625, 0.3840553977272727, 0.17592551491477273, 1.1071555397727273, 0.28617720170454547]\n",
            "Epoch: 25, loss: 2.4164, lr: 0.00000043\n"
          ]
        },
        {
          "name": "stderr",
          "output_type": "stream",
          "text": [
            "epoch 26: 100%|██████████| 11/11 [00:22<00:00,  2.08s/it, cur_loss=2.42]\n"
          ]
        },
        {
          "name": "stdout",
          "output_type": "stream",
          "text": [
            "train acc=0.997093023255814, [l1_loss, ce_loss] => [0.46473277698863635, 0.3834783380681818, 0.17802290482954544, 1.1160333806818181, 0.29248046875]\n",
            "Epoch: 26, loss: 2.4347, lr: 0.00000024\n"
          ]
        },
        {
          "name": "stderr",
          "output_type": "stream",
          "text": [
            "epoch 27: 100%|██████████| 11/11 [00:23<00:00,  2.10s/it, cur_loss=2.62]\n"
          ]
        },
        {
          "name": "stdout",
          "output_type": "stream",
          "text": [
            "train acc=0.998546511627907, [l1_loss, ce_loss] => [0.46533203125, 0.3844992897727273, 0.18235085227272727, 1.1298828125, 0.30333362926136365]\n",
            "Epoch: 27, loss: 2.4656, lr: 0.00000011\n"
          ]
        },
        {
          "name": "stderr",
          "output_type": "stream",
          "text": [
            "epoch 28: 100%|██████████| 11/11 [00:23<00:00,  2.09s/it, cur_loss=2.36]\n"
          ]
        },
        {
          "name": "stdout",
          "output_type": "stream",
          "text": [
            "train acc=0.998546511627907, [l1_loss, ce_loss] => [0.46220259232954547, 0.3844327059659091, 0.17604758522727273, 1.1073330965909092, 0.2919034090909091]\n",
            "Epoch: 28, loss: 2.4219, lr: 0.00000003\n"
          ]
        },
        {
          "name": "stderr",
          "output_type": "stream",
          "text": [
            "epoch 29: 100%|██████████| 11/11 [00:22<00:00,  2.09s/it, cur_loss=2.42]\n"
          ]
        },
        {
          "name": "stdout",
          "output_type": "stream",
          "text": [
            "train acc=0.9956395348837209, [l1_loss, ce_loss] => [0.46269087357954547, 0.3835671164772727, 0.1772128018465909, 1.1032492897727273, 0.2874977805397727]\n",
            "Epoch: 29, loss: 2.4137, lr: 0.00000000\n",
            "Training complete!\n"
          ]
        },
        {
          "name": "stderr",
          "output_type": "stream",
          "text": [
            "Evaluate: 100%|██████████| 46/46 [00:31<00:00,  1.47it/s]\n"
          ]
        },
        {
          "name": "stdout",
          "output_type": "stream",
          "text": [
            "\n",
            "Test F1-macro:  0.9221798815282247\n",
            "#######################################\n",
            "\n",
            "Iteration:  3\n",
            "\n",
            "#######################################\n",
            "Training non-few shot model...\n",
            "Train dataset size:  181\n",
            "Test dataset size:  46\n",
            "Epoch 1/10\n",
            "  Training Loss: 3.5138\n",
            "Epoch 2/10\n",
            "  Training Loss: 3.3657\n",
            "Epoch 3/10\n",
            "  Training Loss: 3.3206\n",
            "Epoch 4/10\n",
            "  Training Loss: 3.2876\n",
            "Epoch 5/10\n",
            "  Training Loss: 3.2858\n",
            "Epoch 6/10\n",
            "  Training Loss: 3.2789\n",
            "Epoch 7/10\n",
            "  Training Loss: 3.2777\n",
            "Epoch 8/10\n",
            "  Training Loss: 3.2782\n",
            "Epoch 9/10\n",
            "  Training Loss: 3.2669\n",
            "Epoch 10/10\n",
            "  Training Loss: 3.2566\n",
            "Training complete!\n",
            "\n",
            "Test F1-macro:  0.2435891325460475\n",
            "##########################################\n",
            "2025-06-09 22:45:09 Getting cached textual weights W ...\n",
            "2025-06-09 22:45:09 Loading texture features from ./__few_shot_cache__\\persian_dataset_ViT-B/16_textfeats.pt\n",
            "\n",
            "#######################################\n",
            "Training few-shot model...\n",
            "Train dataset size:  11\n",
            "Test dataset size:  46\n"
          ]
        },
        {
          "name": "stderr",
          "output_type": "stream",
          "text": [
            "epoch 0: 100%|██████████| 11/11 [00:26<00:00,  2.37s/it, cur_loss=11.9]\n"
          ]
        },
        {
          "name": "stdout",
          "output_type": "stream",
          "text": [
            "train acc=0.1569767441860465, [l1_loss, ce_loss] => [7.1916725852272725, 0.3225319602272727, 3.410866477272727, 3.6812855113636362, 3.4865056818181817]\n",
            "Epoch: 0, loss: 18.0916, lr: 0.00000997\n"
          ]
        },
        {
          "name": "stderr",
          "output_type": "stream",
          "text": [
            "epoch 1: 100%|██████████| 11/11 [00:24<00:00,  2.19s/it, cur_loss=9.5] \n"
          ]
        },
        {
          "name": "stdout",
          "output_type": "stream",
          "text": [
            "train acc=0.502906976744186, [l1_loss, ce_loss] => [0.9323064630681818, 0.3279474431818182, 2.6129261363636362, 3.3744673295454546, 2.8673650568181817]\n",
            "Epoch: 1, loss: 10.1165, lr: 0.00000989\n"
          ]
        },
        {
          "name": "stderr",
          "output_type": "stream",
          "text": [
            "epoch 2: 100%|██████████| 11/11 [00:25<00:00,  2.30s/it, cur_loss=7.95]\n"
          ]
        },
        {
          "name": "stdout",
          "output_type": "stream",
          "text": [
            "train acc=0.688953488372093, [l1_loss, ce_loss] => [0.7034357244318182, 0.333251953125, 2.0296519886363638, 3.067649147727273, 2.358309659090909]\n",
            "Epoch: 2, loss: 8.4933, lr: 0.00000976\n"
          ]
        },
        {
          "name": "stderr",
          "output_type": "stream",
          "text": [
            "epoch 3: 100%|██████████| 11/11 [00:27<00:00,  2.47s/it, cur_loss=7.01]\n"
          ]
        },
        {
          "name": "stdout",
          "output_type": "stream",
          "text": [
            "train acc=0.7848837209302325, [l1_loss, ce_loss] => [0.6513227982954546, 0.340576171875, 1.6037819602272727, 2.800071022727273, 1.9588955965909092]\n",
            "Epoch: 3, loss: 7.3533, lr: 0.00000957\n"
          ]
        },
        {
          "name": "stderr",
          "output_type": "stream",
          "text": [
            "epoch 4: 100%|██████████| 11/11 [00:26<00:00,  2.41s/it, cur_loss=5.98]\n"
          ]
        },
        {
          "name": "stdout",
          "output_type": "stream",
          "text": [
            "train acc=0.8633720930232558, [l1_loss, ce_loss] => [0.65234375, 0.346923828125, 1.279296875, 2.580078125, 1.6433771306818181]\n",
            "Epoch: 4, loss: 6.5021, lr: 0.00000933\n"
          ]
        },
        {
          "name": "stderr",
          "output_type": "stream",
          "text": [
            "epoch 5: 100%|██████████| 11/11 [00:26<00:00,  2.43s/it, cur_loss=5.6]\n"
          ]
        },
        {
          "name": "stdout",
          "output_type": "stream",
          "text": [
            "train acc=0.9215116279069767, [l1_loss, ce_loss] => [0.6441761363636364, 0.35356001420454547, 1.0382191051136365, 2.3394886363636362, 1.3707386363636365]\n",
            "Epoch: 5, loss: 5.7464, lr: 0.00000905\n"
          ]
        },
        {
          "name": "stderr",
          "output_type": "stream",
          "text": [
            "epoch 6: 100%|██████████| 11/11 [00:25<00:00,  2.31s/it, cur_loss=4.91]\n"
          ]
        },
        {
          "name": "stdout",
          "output_type": "stream",
          "text": [
            "train acc=0.9433139534883721, [l1_loss, ce_loss] => [0.6121715198863636, 0.3611505681818182, 0.8576882102272727, 2.1486150568181817, 1.1661931818181819]\n",
            "Epoch: 6, loss: 5.1467, lr: 0.00000872\n"
          ]
        },
        {
          "name": "stderr",
          "output_type": "stream",
          "text": [
            "epoch 7: 100%|██████████| 11/11 [00:24<00:00,  2.26s/it, cur_loss=4.55]\n"
          ]
        },
        {
          "name": "stdout",
          "output_type": "stream",
          "text": [
            "train acc=0.9593023255813954, [l1_loss, ce_loss] => [0.6070667613636364, 0.3649014559659091, 0.7195490056818182, 1.9866832386363635, 0.9838423295454546]\n",
            "Epoch: 7, loss: 4.6623, lr: 0.00000835\n"
          ]
        },
        {
          "name": "stderr",
          "output_type": "stream",
          "text": [
            "epoch 8: 100%|██████████| 11/11 [00:27<00:00,  2.51s/it, cur_loss=4.04]\n"
          ]
        },
        {
          "name": "stdout",
          "output_type": "stream",
          "text": [
            "train acc=0.9709302325581395, [l1_loss, ce_loss] => [0.6058682528409091, 0.36827503551136365, 0.5988991477272727, 1.82421875, 0.8378462357954546]\n",
            "Epoch: 8, loss: 4.2351, lr: 0.00000794\n"
          ]
        },
        {
          "name": "stderr",
          "output_type": "stream",
          "text": [
            "epoch 9: 100%|██████████| 11/11 [00:24<00:00,  2.26s/it, cur_loss=3.94]\n"
          ]
        },
        {
          "name": "stdout",
          "output_type": "stream",
          "text": [
            "train acc=0.9796511627906976, [l1_loss, ce_loss] => [0.58837890625, 0.3709161931818182, 0.5037730823863636, 1.7180397727272727, 0.71728515625]\n",
            "Epoch: 9, loss: 3.8983, lr: 0.00000750\n"
          ]
        },
        {
          "name": "stderr",
          "output_type": "stream",
          "text": [
            "epoch 10: 100%|██████████| 11/11 [00:25<00:00,  2.36s/it, cur_loss=3.73]\n"
          ]
        },
        {
          "name": "stdout",
          "output_type": "stream",
          "text": [
            "train acc=0.9796511627906976, [l1_loss, ce_loss] => [0.57568359375, 0.37235884232954547, 0.4442693536931818, 1.5989879261363635, 0.6266867897727273]\n",
            "Epoch: 10, loss: 3.6177, lr: 0.00000703\n"
          ]
        },
        {
          "name": "stderr",
          "output_type": "stream",
          "text": [
            "epoch 11: 100%|██████████| 11/11 [00:27<00:00,  2.52s/it, cur_loss=3.29]\n"
          ]
        },
        {
          "name": "stdout",
          "output_type": "stream",
          "text": [
            "train acc=0.9898255813953488, [l1_loss, ce_loss] => [0.5548650568181818, 0.3732022372159091, 0.3838556463068182, 1.5126953125, 0.5525346235795454]\n",
            "Epoch: 11, loss: 3.3773, lr: 0.00000655\n"
          ]
        },
        {
          "name": "stderr",
          "output_type": "stream",
          "text": [
            "epoch 12: 100%|██████████| 11/11 [00:26<00:00,  2.41s/it, cur_loss=3.31]\n"
          ]
        },
        {
          "name": "stdout",
          "output_type": "stream",
          "text": [
            "train acc=0.9912790697674418, [l1_loss, ce_loss] => [0.5427468039772727, 0.3742009943181818, 0.33931107954545453, 1.4390092329545454, 0.49462890625]\n",
            "Epoch: 12, loss: 3.1895, lr: 0.00000604\n"
          ]
        },
        {
          "name": "stderr",
          "output_type": "stream",
          "text": [
            "epoch 13: 100%|██████████| 11/11 [00:26<00:00,  2.45s/it, cur_loss=2.94]\n"
          ]
        },
        {
          "name": "stdout",
          "output_type": "stream",
          "text": [
            "train acc=0.9912790697674418, [l1_loss, ce_loss] => [0.5333362926136364, 0.3755104758522727, 0.30677379261363635, 1.3690518465909092, 0.43761097301136365]\n",
            "Epoch: 13, loss: 3.0225, lr: 0.00000552\n"
          ]
        },
        {
          "name": "stderr",
          "output_type": "stream",
          "text": [
            "epoch 14: 100%|██████████| 11/11 [00:26<00:00,  2.38s/it, cur_loss=2.8] \n"
          ]
        },
        {
          "name": "stdout",
          "output_type": "stream",
          "text": [
            "train acc=0.9927325581395349, [l1_loss, ce_loss] => [0.5210848721590909, 0.37486683238636365, 0.27916370738636365, 1.3172940340909092, 0.40653852982954547]\n",
            "Epoch: 14, loss: 2.8990, lr: 0.00000500\n"
          ]
        },
        {
          "name": "stderr",
          "output_type": "stream",
          "text": [
            "epoch 15: 100%|██████████| 11/11 [00:25<00:00,  2.28s/it, cur_loss=2.75]\n"
          ]
        },
        {
          "name": "stdout",
          "output_type": "stream",
          "text": [
            "train acc=0.9927325581395349, [l1_loss, ce_loss] => [0.5109419389204546, 0.37657581676136365, 0.2606534090909091, 1.2652698863636365, 0.37757457386363635]\n",
            "Epoch: 15, loss: 2.7910, lr: 0.00000448\n"
          ]
        },
        {
          "name": "stderr",
          "output_type": "stream",
          "text": [
            "epoch 16: 100%|██████████| 11/11 [00:28<00:00,  2.58s/it, cur_loss=2.83]\n"
          ]
        },
        {
          "name": "stdout",
          "output_type": "stream",
          "text": [
            "train acc=0.9956395348837209, [l1_loss, ce_loss] => [0.5090110085227273, 0.37666459517045453, 0.2512761896306818, 1.2418323863636365, 0.3644797585227273]\n",
            "Epoch: 16, loss: 2.7429, lr: 0.00000396\n"
          ]
        },
        {
          "name": "stderr",
          "output_type": "stream",
          "text": [
            "epoch 17: 100%|██████████| 11/11 [00:25<00:00,  2.33s/it, cur_loss=2.88]\n"
          ]
        },
        {
          "name": "stdout",
          "output_type": "stream",
          "text": [
            "train acc=0.997093023255814, [l1_loss, ce_loss] => [0.4995783025568182, 0.37528852982954547, 0.23570667613636365, 1.2194602272727273, 0.3407315340909091]\n",
            "Epoch: 17, loss: 2.6712, lr: 0.00000345\n"
          ]
        },
        {
          "name": "stderr",
          "output_type": "stream",
          "text": [
            "epoch 18: 100%|██████████| 11/11 [00:26<00:00,  2.41s/it, cur_loss=2.56]\n"
          ]
        },
        {
          "name": "stdout",
          "output_type": "stream",
          "text": [
            "train acc=0.997093023255814, [l1_loss, ce_loss] => [0.4978915127840909, 0.3758212002840909, 0.2242431640625, 1.1795099431818181, 0.32763671875]\n",
            "Epoch: 18, loss: 2.6048, lr: 0.00000297\n"
          ]
        },
        {
          "name": "stderr",
          "output_type": "stream",
          "text": [
            "epoch 19: 100%|██████████| 11/11 [00:29<00:00,  2.65s/it, cur_loss=2.59]\n"
          ]
        },
        {
          "name": "stdout",
          "output_type": "stream",
          "text": [
            "train acc=0.998546511627907, [l1_loss, ce_loss] => [0.4942959872159091, 0.37553267045454547, 0.21978204900568182, 1.1756924715909092, 0.32140003551136365]\n",
            "Epoch: 19, loss: 2.5866, lr: 0.00000250\n"
          ]
        },
        {
          "name": "stderr",
          "output_type": "stream",
          "text": [
            "epoch 20: 100%|██████████| 11/11 [00:27<00:00,  2.53s/it, cur_loss=2.45]\n"
          ]
        },
        {
          "name": "stdout",
          "output_type": "stream",
          "text": [
            "train acc=0.998546511627907, [l1_loss, ce_loss] => [0.49043412642045453, 0.37608753551136365, 0.2120694247159091, 1.1492365056818181, 0.3176047585227273]\n",
            "Epoch: 20, loss: 2.5456, lr: 0.00000206\n"
          ]
        },
        {
          "name": "stderr",
          "output_type": "stream",
          "text": [
            "epoch 21: 100%|██████████| 11/11 [00:27<00:00,  2.54s/it, cur_loss=2.37]\n"
          ]
        },
        {
          "name": "stdout",
          "output_type": "stream",
          "text": [
            "train acc=0.9956395348837209, [l1_loss, ce_loss] => [0.4891912286931818, 0.37764115767045453, 0.20832963423295456, 1.1312144886363635, 0.3074396306818182]\n",
            "Epoch: 21, loss: 2.5133, lr: 0.00000165\n"
          ]
        },
        {
          "name": "stderr",
          "output_type": "stream",
          "text": [
            "epoch 22: 100%|██████████| 11/11 [00:26<00:00,  2.43s/it, cur_loss=2.48]\n"
          ]
        },
        {
          "name": "stdout",
          "output_type": "stream",
          "text": [
            "train acc=0.997093023255814, [l1_loss, ce_loss] => [0.48546253551136365, 0.3759099786931818, 0.20879572088068182, 1.1356534090909092, 0.3047096946022727]\n",
            "Epoch: 22, loss: 2.5105, lr: 0.00000128\n"
          ]
        },
        {
          "name": "stderr",
          "output_type": "stream",
          "text": [
            "epoch 23: 100%|██████████| 11/11 [00:26<00:00,  2.39s/it, cur_loss=2.51]\n"
          ]
        },
        {
          "name": "stdout",
          "output_type": "stream",
          "text": [
            "train acc=0.997093023255814, [l1_loss, ce_loss] => [0.48450816761363635, 0.37602095170454547, 0.20704234730113635, 1.1391157670454546, 0.3049982244318182]\n",
            "Epoch: 23, loss: 2.5115, lr: 0.00000095\n"
          ]
        },
        {
          "name": "stderr",
          "output_type": "stream",
          "text": [
            "epoch 24: 100%|██████████| 11/11 [00:29<00:00,  2.65s/it, cur_loss=2.57]\n"
          ]
        },
        {
          "name": "stdout",
          "output_type": "stream",
          "text": [
            "train acc=1.0, [l1_loss, ce_loss] => [0.48157848011363635, 0.3772194602272727, 0.2025146484375, 1.1171875, 0.29554332386363635]\n",
            "Epoch: 24, loss: 2.4732, lr: 0.00000067\n"
          ]
        },
        {
          "name": "stderr",
          "output_type": "stream",
          "text": [
            "epoch 25: 100%|██████████| 11/11 [00:25<00:00,  2.35s/it, cur_loss=2.43]\n"
          ]
        },
        {
          "name": "stdout",
          "output_type": "stream",
          "text": [
            "train acc=0.9956395348837209, [l1_loss, ce_loss] => [0.48344282670454547, 0.3765536221590909, 0.2073641690340909, 1.1281072443181819, 0.3053311434659091]\n",
            "Epoch: 25, loss: 2.5004, lr: 0.00000043\n"
          ]
        },
        {
          "name": "stderr",
          "output_type": "stream",
          "text": [
            "epoch 26: 100%|██████████| 11/11 [00:26<00:00,  2.41s/it, cur_loss=2.51]\n"
          ]
        },
        {
          "name": "stdout",
          "output_type": "stream",
          "text": [
            "train acc=0.997093023255814, [l1_loss, ce_loss] => [0.4834650213068182, 0.3762872869318182, 0.20597700639204544, 1.1388494318181819, 0.3099032315340909]\n",
            "Epoch: 26, loss: 2.5146, lr: 0.00000024\n"
          ]
        },
        {
          "name": "stderr",
          "output_type": "stream",
          "text": [
            "epoch 27: 100%|██████████| 11/11 [00:28<00:00,  2.61s/it, cur_loss=2.56]\n"
          ]
        },
        {
          "name": "stdout",
          "output_type": "stream",
          "text": [
            "train acc=0.998546511627907, [l1_loss, ce_loss] => [0.4820223721590909, 0.3767977627840909, 0.20464533025568182, 1.1216264204545454, 0.303955078125]\n",
            "Epoch: 27, loss: 2.4890, lr: 0.00000011\n"
          ]
        },
        {
          "name": "stderr",
          "output_type": "stream",
          "text": [
            "epoch 28: 100%|██████████| 11/11 [00:27<00:00,  2.55s/it, cur_loss=2.48]\n"
          ]
        },
        {
          "name": "stdout",
          "output_type": "stream",
          "text": [
            "train acc=0.998546511627907, [l1_loss, ce_loss] => [0.4812677556818182, 0.37690873579545453, 0.202880859375, 1.1209161931818181, 0.29545454545454547]\n",
            "Epoch: 28, loss: 2.4778, lr: 0.00000003\n"
          ]
        },
        {
          "name": "stderr",
          "output_type": "stream",
          "text": [
            "epoch 29: 100%|██████████| 11/11 [00:27<00:00,  2.54s/it, cur_loss=2.38]\n"
          ]
        },
        {
          "name": "stdout",
          "output_type": "stream",
          "text": [
            "train acc=0.998546511627907, [l1_loss, ce_loss] => [0.4834872159090909, 0.37617631392045453, 0.20381303267045456, 1.1265980113636365, 0.2985617897727273]\n",
            "Epoch: 29, loss: 2.4888, lr: 0.00000000\n",
            "Training complete!\n"
          ]
        },
        {
          "name": "stderr",
          "output_type": "stream",
          "text": [
            "Evaluate: 100%|██████████| 46/46 [00:30<00:00,  1.50it/s]\n"
          ]
        },
        {
          "name": "stdout",
          "output_type": "stream",
          "text": [
            "\n",
            "Test F1-macro:  0.929458427048249\n",
            "#######################################\n",
            "\n",
            "Iteration:  4\n",
            "\n",
            "#######################################\n",
            "Training non-few shot model...\n",
            "Train dataset size:  181\n",
            "Test dataset size:  46\n",
            "Epoch 1/10\n",
            "  Training Loss: 3.5829\n",
            "Epoch 2/10\n",
            "  Training Loss: 3.4787\n",
            "Epoch 3/10\n",
            "  Training Loss: 3.4498\n",
            "Epoch 4/10\n",
            "  Training Loss: 3.4426\n",
            "Epoch 5/10\n",
            "  Training Loss: 3.4249\n",
            "Epoch 6/10\n",
            "  Training Loss: 3.4030\n",
            "Epoch 7/10\n",
            "  Training Loss: 3.3965\n",
            "Epoch 8/10\n",
            "  Training Loss: 3.3976\n",
            "Epoch 9/10\n",
            "  Training Loss: 3.3937\n",
            "Epoch 10/10\n",
            "  Training Loss: 3.3918\n",
            "Training complete!\n",
            "\n",
            "Test F1-macro:  0.11836191037998572\n",
            "##########################################\n",
            "2025-06-09 23:09:28 Getting cached textual weights W ...\n",
            "2025-06-09 23:09:28 Loading texture features from ./__few_shot_cache__\\persian_dataset_ViT-B/16_textfeats.pt\n",
            "\n",
            "#######################################\n",
            "Training few-shot model...\n",
            "Train dataset size:  11\n",
            "Test dataset size:  46\n"
          ]
        },
        {
          "name": "stderr",
          "output_type": "stream",
          "text": [
            "epoch 0: 100%|██████████| 11/11 [00:22<00:00,  2.05s/it, cur_loss=11.3]\n"
          ]
        },
        {
          "name": "stdout",
          "output_type": "stream",
          "text": [
            "train acc=0.16569767441860464, [l1_loss, ce_loss] => [7.1618874289772725, 0.31977982954545453, 3.3908025568181817, 3.6439985795454546, 3.467862215909091]\n",
            "Epoch: 0, loss: 17.9830, lr: 0.00000997\n"
          ]
        },
        {
          "name": "stderr",
          "output_type": "stream",
          "text": [
            "epoch 1: 100%|██████████| 11/11 [00:22<00:00,  2.06s/it, cur_loss=8.96]\n"
          ]
        },
        {
          "name": "stdout",
          "output_type": "stream",
          "text": [
            "train acc=0.5712209302325582, [l1_loss, ce_loss] => [1.0365767045454546, 0.32628284801136365, 2.460227272727273, 3.2853338068181817, 2.7991832386363638]\n",
            "Epoch: 1, loss: 9.9084, lr: 0.00000989\n"
          ]
        },
        {
          "name": "stderr",
          "output_type": "stream",
          "text": [
            "epoch 2: 100%|██████████| 11/11 [00:22<00:00,  2.03s/it, cur_loss=7.54]\n"
          ]
        },
        {
          "name": "stdout",
          "output_type": "stream",
          "text": [
            "train acc=0.7688953488372093, [l1_loss, ce_loss] => [0.7491122159090909, 0.3340731534090909, 1.8642578125, 2.9955610795454546, 2.303799715909091]\n",
            "Epoch: 2, loss: 8.2472, lr: 0.00000976\n"
          ]
        },
        {
          "name": "stderr",
          "output_type": "stream",
          "text": [
            "epoch 3: 100%|██████████| 11/11 [00:22<00:00,  2.05s/it, cur_loss=7.03]\n"
          ]
        },
        {
          "name": "stdout",
          "output_type": "stream",
          "text": [
            "train acc=0.876453488372093, [l1_loss, ce_loss] => [0.693359375, 0.33973277698863635, 1.4426491477272727, 2.7562144886363638, 1.9104225852272727]\n",
            "Epoch: 3, loss: 7.1435, lr: 0.00000957\n"
          ]
        },
        {
          "name": "stderr",
          "output_type": "stream",
          "text": [
            "epoch 4: 100%|██████████| 11/11 [00:22<00:00,  2.05s/it, cur_loss=6.21]\n"
          ]
        },
        {
          "name": "stdout",
          "output_type": "stream",
          "text": [
            "train acc=0.9215116279069767, [l1_loss, ce_loss] => [0.6322354403409091, 0.3525612571022727, 1.1340997869318181, 2.502663352272727, 1.5680930397727273]\n",
            "Epoch: 4, loss: 6.1903, lr: 0.00000933\n"
          ]
        },
        {
          "name": "stderr",
          "output_type": "stream",
          "text": [
            "epoch 5: 100%|██████████| 11/11 [00:22<00:00,  2.05s/it, cur_loss=5.16]\n"
          ]
        },
        {
          "name": "stdout",
          "output_type": "stream",
          "text": [
            "train acc=0.9375, [l1_loss, ce_loss] => [0.6255770596590909, 0.3568448153409091, 0.8861416903409091, 2.2826704545454546, 1.2691761363636365]\n",
            "Epoch: 5, loss: 5.4197, lr: 0.00000905\n"
          ]
        },
        {
          "name": "stderr",
          "output_type": "stream",
          "text": [
            "epoch 6: 100%|██████████| 11/11 [00:22<00:00,  2.05s/it, cur_loss=4.38]\n"
          ]
        },
        {
          "name": "stdout",
          "output_type": "stream",
          "text": [
            "train acc=0.9549418604651163, [l1_loss, ce_loss] => [0.61328125, 0.36348100142045453, 0.6945134943181818, 2.087890625, 1.0185990767045454]\n",
            "Epoch: 6, loss: 4.7777, lr: 0.00000872\n"
          ]
        },
        {
          "name": "stderr",
          "output_type": "stream",
          "text": [
            "epoch 7: 100%|██████████| 11/11 [00:22<00:00,  2.05s/it, cur_loss=3.9] \n"
          ]
        },
        {
          "name": "stdout",
          "output_type": "stream",
          "text": [
            "train acc=0.9680232558139535, [l1_loss, ce_loss] => [0.5921075994318182, 0.36510120738636365, 0.5605690696022727, 1.9177911931818181, 0.8255060369318182]\n",
            "Epoch: 7, loss: 4.2610, lr: 0.00000835\n"
          ]
        },
        {
          "name": "stderr",
          "output_type": "stream",
          "text": [
            "epoch 8: 100%|██████████| 11/11 [00:22<00:00,  2.06s/it, cur_loss=3.93]\n"
          ]
        },
        {
          "name": "stdout",
          "output_type": "stream",
          "text": [
            "train acc=0.9781976744186046, [l1_loss, ce_loss] => [0.57958984375, 0.36902965198863635, 0.45439009232954547, 1.7905717329545454, 0.6795543323863636]\n",
            "Epoch: 8, loss: 3.8730, lr: 0.00000794\n"
          ]
        },
        {
          "name": "stderr",
          "output_type": "stream",
          "text": [
            "epoch 9: 100%|██████████| 11/11 [00:22<00:00,  2.06s/it, cur_loss=3.36]\n"
          ]
        },
        {
          "name": "stdout",
          "output_type": "stream",
          "text": [
            "train acc=0.9869186046511628, [l1_loss, ce_loss] => [0.5632546164772727, 0.3723366477272727, 0.3857643821022727, 1.6678799715909092, 0.5768155184659091]\n",
            "Epoch: 9, loss: 3.5661, lr: 0.00000750\n"
          ]
        },
        {
          "name": "stderr",
          "output_type": "stream",
          "text": [
            "epoch 10: 100%|██████████| 11/11 [00:23<00:00,  2.15s/it, cur_loss=3.28]\n"
          ]
        },
        {
          "name": "stdout",
          "output_type": "stream",
          "text": [
            "train acc=0.9898255813953488, [l1_loss, ce_loss] => [0.5439009232954546, 0.37357954545454547, 0.32410777698863635, 1.5577947443181819, 0.48035777698863635]\n",
            "Epoch: 10, loss: 3.2797, lr: 0.00000703\n"
          ]
        },
        {
          "name": "stderr",
          "output_type": "stream",
          "text": [
            "epoch 11: 100%|██████████| 11/11 [00:23<00:00,  2.14s/it, cur_loss=3.05]\n"
          ]
        },
        {
          "name": "stdout",
          "output_type": "stream",
          "text": [
            "train acc=0.9869186046511628, [l1_loss, ce_loss] => [0.5308948863636364, 0.37537730823863635, 0.2842351740056818, 1.4849964488636365, 0.4261807528409091]\n",
            "Epoch: 11, loss: 3.1017, lr: 0.00000655\n"
          ]
        },
        {
          "name": "stderr",
          "output_type": "stream",
          "text": [
            "epoch 12: 100%|██████████| 11/11 [00:23<00:00,  2.14s/it, cur_loss=3.09]\n"
          ]
        },
        {
          "name": "stdout",
          "output_type": "stream",
          "text": [
            "train acc=0.9883720930232558, [l1_loss, ce_loss] => [0.5159801136363636, 0.376220703125, 0.25663618607954547, 1.40234375, 0.3861638849431818]\n",
            "Epoch: 12, loss: 2.9373, lr: 0.00000604\n"
          ]
        },
        {
          "name": "stderr",
          "output_type": "stream",
          "text": [
            "epoch 13: 100%|██████████| 11/11 [00:23<00:00,  2.14s/it, cur_loss=2.8] \n"
          ]
        },
        {
          "name": "stdout",
          "output_type": "stream",
          "text": [
            "train acc=0.9883720930232558, [l1_loss, ce_loss] => [0.5059259588068182, 0.3768865411931818, 0.23095703125, 1.3467684659090908, 0.34656871448863635]\n",
            "Epoch: 13, loss: 2.8068, lr: 0.00000552\n"
          ]
        },
        {
          "name": "stderr",
          "output_type": "stream",
          "text": [
            "epoch 14: 100%|██████████| 11/11 [00:23<00:00,  2.14s/it, cur_loss=2.85]\n"
          ]
        },
        {
          "name": "stdout",
          "output_type": "stream",
          "text": [
            "train acc=0.9898255813953488, [l1_loss, ce_loss] => [0.4940740411931818, 0.37828480113636365, 0.21930486505681818, 1.2859552556818181, 0.3232199928977273]\n",
            "Epoch: 14, loss: 2.7008, lr: 0.00000500\n"
          ]
        },
        {
          "name": "stderr",
          "output_type": "stream",
          "text": [
            "epoch 15: 100%|██████████| 11/11 [00:23<00:00,  2.14s/it, cur_loss=2.7] \n"
          ]
        },
        {
          "name": "stdout",
          "output_type": "stream",
          "text": [
            "train acc=0.9956395348837209, [l1_loss, ce_loss] => [0.4848410866477273, 0.37806285511363635, 0.20131613991477273, 1.2500887784090908, 0.300048828125]\n",
            "Epoch: 15, loss: 2.6142, lr: 0.00000448\n"
          ]
        },
        {
          "name": "stderr",
          "output_type": "stream",
          "text": [
            "epoch 16: 100%|██████████| 11/11 [00:23<00:00,  2.14s/it, cur_loss=2.44]\n"
          ]
        },
        {
          "name": "stdout",
          "output_type": "stream",
          "text": [
            "train acc=0.997093023255814, [l1_loss, ce_loss] => [0.4787375710227273, 0.3785955255681818, 0.18769975142045456, 1.1967329545454546, 0.2773104580965909]\n",
            "Epoch: 16, loss: 2.5194, lr: 0.00000396\n"
          ]
        },
        {
          "name": "stderr",
          "output_type": "stream",
          "text": [
            "epoch 17: 100%|██████████| 11/11 [00:23<00:00,  2.15s/it, cur_loss=2.58]\n"
          ]
        },
        {
          "name": "stdout",
          "output_type": "stream",
          "text": [
            "train acc=0.9956395348837209, [l1_loss, ce_loss] => [0.4717018821022727, 0.3787508877840909, 0.18184037642045456, 1.1756036931818181, 0.27323774857954547]\n",
            "Epoch: 17, loss: 2.4810, lr: 0.00000345\n"
          ]
        },
        {
          "name": "stderr",
          "output_type": "stream",
          "text": [
            "epoch 18: 100%|██████████| 11/11 [00:23<00:00,  2.15s/it, cur_loss=2.55]\n"
          ]
        },
        {
          "name": "stdout",
          "output_type": "stream",
          "text": [
            "train acc=0.998546511627907, [l1_loss, ce_loss] => [0.4701926491477273, 0.3781072443181818, 0.1748379794034091, 1.1513671875, 0.26659046519886365]\n",
            "Epoch: 18, loss: 2.4407, lr: 0.00000297\n"
          ]
        },
        {
          "name": "stderr",
          "output_type": "stream",
          "text": [
            "epoch 19: 100%|██████████| 11/11 [00:23<00:00,  2.16s/it, cur_loss=2.42]\n"
          ]
        },
        {
          "name": "stdout",
          "output_type": "stream",
          "text": [
            "train acc=0.9927325581395349, [l1_loss, ce_loss] => [0.46406693892045453, 0.3792391690340909, 0.16953346946022727, 1.1344105113636365, 0.2615300958806818]\n",
            "Epoch: 19, loss: 2.4094, lr: 0.00000250\n"
          ]
        },
        {
          "name": "stderr",
          "output_type": "stream",
          "text": [
            "epoch 20: 100%|██████████| 11/11 [00:23<00:00,  2.15s/it, cur_loss=2.46]\n"
          ]
        },
        {
          "name": "stdout",
          "output_type": "stream",
          "text": [
            "train acc=0.998546511627907, [l1_loss, ce_loss] => [0.4621803977272727, 0.37895063920454547, 0.16544966264204544, 1.123046875, 0.25416148792613635]\n",
            "Epoch: 20, loss: 2.3833, lr: 0.00000206\n"
          ]
        },
        {
          "name": "stderr",
          "output_type": "stream",
          "text": [
            "epoch 21: 100%|██████████| 11/11 [00:23<00:00,  2.16s/it, cur_loss=2.41]\n"
          ]
        },
        {
          "name": "stdout",
          "output_type": "stream",
          "text": [
            "train acc=0.997093023255814, [l1_loss, ce_loss] => [0.46226917613636365, 0.37928355823863635, 0.16611550071022727, 1.1075994318181819, 0.2505770596590909]\n",
            "Epoch: 21, loss: 2.3651, lr: 0.00000165\n"
          ]
        },
        {
          "name": "stderr",
          "output_type": "stream",
          "text": [
            "epoch 22: 100%|██████████| 11/11 [00:23<00:00,  2.15s/it, cur_loss=2.25]\n"
          ]
        },
        {
          "name": "stdout",
          "output_type": "stream",
          "text": [
            "train acc=0.998546511627907, [l1_loss, ce_loss] => [0.4596280184659091, 0.37855113636363635, 0.16355202414772727, 1.1096413352272727, 0.24461780894886365]\n",
            "Epoch: 22, loss: 2.3562, lr: 0.00000128\n"
          ]
        },
        {
          "name": "stderr",
          "output_type": "stream",
          "text": [
            "epoch 23: 100%|██████████| 11/11 [00:23<00:00,  2.15s/it, cur_loss=2.33]\n"
          ]
        },
        {
          "name": "stdout",
          "output_type": "stream",
          "text": [
            "train acc=0.9956395348837209, [l1_loss, ce_loss] => [0.45933948863636365, 0.3797052556818182, 0.162353515625, 1.0993430397727273, 0.2580011541193182]\n",
            "Epoch: 23, loss: 2.3590, lr: 0.00000095\n"
          ]
        },
        {
          "name": "stderr",
          "output_type": "stream",
          "text": [
            "epoch 24: 100%|██████████| 11/11 [00:23<00:00,  2.16s/it, cur_loss=2.39]\n"
          ]
        },
        {
          "name": "stdout",
          "output_type": "stream",
          "text": [
            "train acc=0.9956395348837209, [l1_loss, ce_loss] => [0.4560324928977273, 0.3770197088068182, 0.15925736860795456, 1.1066228693181819, 0.24036754261363635]\n",
            "Epoch: 24, loss: 2.3393, lr: 0.00000067\n"
          ]
        },
        {
          "name": "stderr",
          "output_type": "stream",
          "text": [
            "epoch 25: 100%|██████████| 11/11 [00:23<00:00,  2.15s/it, cur_loss=2.38]\n"
          ]
        },
        {
          "name": "stdout",
          "output_type": "stream",
          "text": [
            "train acc=0.9956395348837209, [l1_loss, ce_loss] => [0.45667613636363635, 0.379150390625, 0.1595791903409091, 1.0983664772727273, 0.24391867897727273]\n",
            "Epoch: 25, loss: 2.3374, lr: 0.00000043\n"
          ]
        },
        {
          "name": "stderr",
          "output_type": "stream",
          "text": [
            "epoch 26: 100%|██████████| 11/11 [00:23<00:00,  2.17s/it, cur_loss=2.38]\n"
          ]
        },
        {
          "name": "stdout",
          "output_type": "stream",
          "text": [
            "train acc=0.997093023255814, [l1_loss, ce_loss] => [0.45674272017045453, 0.37772993607954547, 0.16064453125, 1.1060014204545454, 0.24064497514204544]\n",
            "Epoch: 26, loss: 2.3411, lr: 0.00000024\n"
          ]
        },
        {
          "name": "stderr",
          "output_type": "stream",
          "text": [
            "epoch 27: 100%|██████████| 11/11 [00:23<00:00,  2.13s/it, cur_loss=2.29]\n"
          ]
        },
        {
          "name": "stdout",
          "output_type": "stream",
          "text": [
            "train acc=0.998546511627907, [l1_loss, ce_loss] => [0.4544122869318182, 0.37708629261363635, 0.1608553799715909, 1.1056463068181819, 0.24277565696022727]\n",
            "Epoch: 27, loss: 2.3407, lr: 0.00000011\n"
          ]
        },
        {
          "name": "stderr",
          "output_type": "stream",
          "text": [
            "epoch 28: 100%|██████████| 11/11 [00:23<00:00,  2.12s/it, cur_loss=2.23]\n"
          ]
        },
        {
          "name": "stdout",
          "output_type": "stream",
          "text": [
            "train acc=0.9956395348837209, [l1_loss, ce_loss] => [0.45478959517045453, 0.37699751420454547, 0.1581087979403409, 1.0981889204545454, 0.23818137428977273]\n",
            "Epoch: 28, loss: 2.3263, lr: 0.00000003\n"
          ]
        },
        {
          "name": "stderr",
          "output_type": "stream",
          "text": [
            "epoch 29: 100%|██████████| 11/11 [00:23<00:00,  2.14s/it, cur_loss=2.39]\n"
          ]
        },
        {
          "name": "stdout",
          "output_type": "stream",
          "text": [
            "train acc=0.997093023255814, [l1_loss, ce_loss] => [0.45454545454545453, 0.3775301846590909, 0.1565274325284091, 1.0988991477272727, 0.23555131392045456]\n",
            "Epoch: 29, loss: 2.3228, lr: 0.00000000\n",
            "Training complete!\n"
          ]
        },
        {
          "name": "stderr",
          "output_type": "stream",
          "text": [
            "Evaluate: 100%|██████████| 46/46 [00:29<00:00,  1.55it/s]\n"
          ]
        },
        {
          "name": "stdout",
          "output_type": "stream",
          "text": [
            "\n",
            "Test F1-macro:  0.9312447136205662\n",
            "#######################################\n",
            "Processing the Kaggle dataset: bangladesh_dataset\n"
          ]
        },
        {
          "name": "stderr",
          "output_type": "stream",
          "text": [
            "Processing images: 100%|██████████| 73139/73139 [00:52<00:00, 1383.85it/s]\n"
          ]
        },
        {
          "name": "stdout",
          "output_type": "stream",
          "text": [
            "Number of filtered labels:  43\n",
            "Number of removed labels:  0\n",
            "Number of samples in the dataset:  73139\n",
            "\n",
            "Iteration:  0\n",
            "\n",
            "#######################################\n",
            "Training non-few shot model...\n",
            "Train dataset size:  915\n",
            "Test dataset size:  229\n",
            "Epoch 1/10\n",
            "  Training Loss: 3.5622\n",
            "Epoch 2/10\n",
            "  Training Loss: 3.3652\n",
            "Epoch 3/10\n",
            "  Training Loss: 3.3347\n",
            "Epoch 4/10\n",
            "  Training Loss: 3.3305\n",
            "Epoch 5/10\n",
            "  Training Loss: 3.2717\n",
            "Epoch 6/10\n",
            "  Training Loss: 3.2615\n",
            "Epoch 7/10\n",
            "  Training Loss: 3.2604\n",
            "Epoch 8/10\n",
            "  Training Loss: 3.2597\n",
            "Epoch 9/10\n",
            "  Training Loss: 3.2580\n",
            "Epoch 10/10\n",
            "  Training Loss: 3.2478\n",
            "Training complete!\n",
            "\n",
            "Test F1-macro:  0.22954959758135765\n",
            "##########################################\n",
            "2025-06-09 23:51:31 Getting cached textual weights W ...\n",
            "\n",
            "#######################################\n",
            "Training few-shot model...\n",
            "Train dataset size:  11\n",
            "Test dataset size:  229\n"
          ]
        },
        {
          "name": "stderr",
          "output_type": "stream",
          "text": [
            "epoch 0: 100%|██████████| 11/11 [00:23<00:00,  2.18s/it, cur_loss=11.2]\n"
          ]
        },
        {
          "name": "stdout",
          "output_type": "stream",
          "text": [
            "train acc=0.07412790697674419, [l1_loss, ce_loss] => [4.120649857954546, 0.3125221946022727, 3.6051136363636362, 3.6821732954545454, 3.6127485795454546]\n",
            "Epoch: 0, loss: 15.3317, lr: 0.00000997\n"
          ]
        },
        {
          "name": "stderr",
          "output_type": "stream",
          "text": [
            "epoch 1: 100%|██████████| 11/11 [00:24<00:00,  2.26s/it, cur_loss=9.73]\n"
          ]
        },
        {
          "name": "stdout",
          "output_type": "stream",
          "text": [
            "train acc=0.33575581395348836, [l1_loss, ce_loss] => [0.5368430397727273, 0.31800426136363635, 2.9193892045454546, 3.3774857954545454, 3.139559659090909]\n",
            "Epoch: 1, loss: 10.2912, lr: 0.00000989\n"
          ]
        },
        {
          "name": "stderr",
          "output_type": "stream",
          "text": [
            "epoch 2: 100%|██████████| 11/11 [00:21<00:00,  1.91s/it, cur_loss=8.97]\n"
          ]
        },
        {
          "name": "stdout",
          "output_type": "stream",
          "text": [
            "train acc=0.5232558139534884, [l1_loss, ce_loss] => [0.5580166903409091, 0.3280362215909091, 2.4252485795454546, 3.1422230113636362, 2.752663352272727]\n",
            "Epoch: 2, loss: 9.2067, lr: 0.00000976\n"
          ]
        },
        {
          "name": "stderr",
          "output_type": "stream",
          "text": [
            "epoch 3: 100%|██████████| 11/11 [00:22<00:00,  2.06s/it, cur_loss=8.14]\n"
          ]
        },
        {
          "name": "stdout",
          "output_type": "stream",
          "text": [
            "train acc=0.6729651162790697, [l1_loss, ce_loss] => [0.5940607244318182, 0.3401100852272727, 2.0580610795454546, 2.923117897727273, 2.401633522727273]\n",
            "Epoch: 3, loss: 8.3161, lr: 0.00000957\n"
          ]
        },
        {
          "name": "stderr",
          "output_type": "stream",
          "text": [
            "epoch 4: 100%|██████████| 11/11 [00:22<00:00,  2.03s/it, cur_loss=6.92]\n"
          ]
        },
        {
          "name": "stdout",
          "output_type": "stream",
          "text": [
            "train acc=0.7616279069767442, [l1_loss, ce_loss] => [0.5729758522727273, 0.34803355823863635, 1.7516867897727273, 2.7205255681818183, 2.080344460227273]\n",
            "Epoch: 4, loss: 7.4741, lr: 0.00000933\n"
          ]
        },
        {
          "name": "stderr",
          "output_type": "stream",
          "text": [
            "epoch 5: 100%|██████████| 11/11 [00:22<00:00,  2.03s/it, cur_loss=6.71]\n"
          ]
        },
        {
          "name": "stdout",
          "output_type": "stream",
          "text": [
            "train acc=0.8255813953488372, [l1_loss, ce_loss] => [0.5793678977272727, 0.3543146306818182, 1.5039950284090908, 2.544211647727273, 1.8021129261363635]\n",
            "Epoch: 5, loss: 6.7834, lr: 0.00000905\n"
          ]
        },
        {
          "name": "stderr",
          "output_type": "stream",
          "text": [
            "epoch 6: 100%|██████████| 11/11 [00:22<00:00,  2.02s/it, cur_loss=6.17]\n"
          ]
        },
        {
          "name": "stdout",
          "output_type": "stream",
          "text": [
            "train acc=0.8837209302325582, [l1_loss, ce_loss] => [0.5838955965909091, 0.36274857954545453, 1.2781427556818181, 2.372159090909091, 1.5506924715909092]\n",
            "Epoch: 6, loss: 6.1481, lr: 0.00000872\n"
          ]
        },
        {
          "name": "stderr",
          "output_type": "stream",
          "text": [
            "epoch 7: 100%|██████████| 11/11 [00:22<00:00,  2.02s/it, cur_loss=5.32]\n"
          ]
        },
        {
          "name": "stdout",
          "output_type": "stream",
          "text": [
            "train acc=0.9040697674418605, [l1_loss, ce_loss] => [0.5839399857954546, 0.3670987215909091, 1.0939719460227273, 2.2192826704545454, 1.3368252840909092]\n",
            "Epoch: 7, loss: 5.6009, lr: 0.00000835\n"
          ]
        },
        {
          "name": "stderr",
          "output_type": "stream",
          "text": [
            "epoch 8: 100%|██████████| 11/11 [00:22<00:00,  2.03s/it, cur_loss=5.07]\n"
          ]
        },
        {
          "name": "stdout",
          "output_type": "stream",
          "text": [
            "train acc=0.9331395348837209, [l1_loss, ce_loss] => [0.5816317471590909, 0.3695401278409091, 0.9299982244318182, 2.079012784090909, 1.1444424715909092]\n",
            "Epoch: 8, loss: 5.1048, lr: 0.00000794\n"
          ]
        },
        {
          "name": "stderr",
          "output_type": "stream",
          "text": [
            "epoch 9: 100%|██████████| 11/11 [00:22<00:00,  2.03s/it, cur_loss=4.78]\n"
          ]
        },
        {
          "name": "stdout",
          "output_type": "stream",
          "text": [
            "train acc=0.9563953488372093, [l1_loss, ce_loss] => [0.5741743607954546, 0.3723810369318182, 0.7818714488636364, 1.9480646306818181, 0.9856622869318182]\n",
            "Epoch: 9, loss: 4.6619, lr: 0.00000750\n"
          ]
        },
        {
          "name": "stderr",
          "output_type": "stream",
          "text": [
            "epoch 10: 100%|██████████| 11/11 [00:22<00:00,  2.03s/it, cur_loss=4.07]\n"
          ]
        },
        {
          "name": "stdout",
          "output_type": "stream",
          "text": [
            "train acc=0.9767441860465116, [l1_loss, ce_loss] => [0.5718217329545454, 0.3719815340909091, 0.6667702414772727, 1.8323863636363635, 0.8544477982954546]\n",
            "Epoch: 10, loss: 4.2972, lr: 0.00000703\n"
          ]
        },
        {
          "name": "stderr",
          "output_type": "stream",
          "text": [
            "epoch 11: 100%|██████████| 11/11 [00:22<00:00,  2.04s/it, cur_loss=3.97]\n"
          ]
        },
        {
          "name": "stdout",
          "output_type": "stream",
          "text": [
            "train acc=0.9825581395348837, [l1_loss, ce_loss] => [0.5627663352272727, 0.3717595880681818, 0.5908203125, 1.7401455965909092, 0.7684659090909091]\n",
            "Epoch: 11, loss: 4.0346, lr: 0.00000655\n"
          ]
        },
        {
          "name": "stderr",
          "output_type": "stream",
          "text": [
            "epoch 12: 100%|██████████| 11/11 [00:22<00:00,  2.03s/it, cur_loss=3.56]\n"
          ]
        },
        {
          "name": "stdout",
          "output_type": "stream",
          "text": [
            "train acc=0.9869186046511628, [l1_loss, ce_loss] => [0.5565962357954546, 0.3720925071022727, 0.5099431818181818, 1.6584694602272727, 0.6702325994318182]\n",
            "Epoch: 12, loss: 3.7678, lr: 0.00000604\n"
          ]
        },
        {
          "name": "stderr",
          "output_type": "stream",
          "text": [
            "epoch 13: 100%|██████████| 11/11 [00:22<00:00,  2.03s/it, cur_loss=3.72]\n"
          ]
        },
        {
          "name": "stdout",
          "output_type": "stream",
          "text": [
            "train acc=0.9927325581395349, [l1_loss, ce_loss] => [0.54931640625, 0.3733575994318182, 0.45068359375, 1.5968572443181819, 0.6190962357954546]\n",
            "Epoch: 13, loss: 3.5895, lr: 0.00000552\n"
          ]
        },
        {
          "name": "stderr",
          "output_type": "stream",
          "text": [
            "epoch 14: 100%|██████████| 11/11 [00:22<00:00,  2.03s/it, cur_loss=3.39]\n"
          ]
        },
        {
          "name": "stdout",
          "output_type": "stream",
          "text": [
            "train acc=0.998546511627907, [l1_loss, ce_loss] => [0.5406161221590909, 0.37218128551136365, 0.3998801491477273, 1.5355113636363635, 0.5562411221590909]\n",
            "Epoch: 14, loss: 3.4043, lr: 0.00000500\n"
          ]
        },
        {
          "name": "stderr",
          "output_type": "stream",
          "text": [
            "epoch 15: 100%|██████████| 11/11 [00:22<00:00,  2.08s/it, cur_loss=3.23]\n"
          ]
        },
        {
          "name": "stdout",
          "output_type": "stream",
          "text": [
            "train acc=0.9956395348837209, [l1_loss, ce_loss] => [0.5317826704545454, 0.3721590909090909, 0.35136274857954547, 1.4703480113636365, 0.5015092329545454]\n",
            "Epoch: 15, loss: 3.2271, lr: 0.00000448\n"
          ]
        },
        {
          "name": "stderr",
          "output_type": "stream",
          "text": [
            "epoch 16: 100%|██████████| 11/11 [00:23<00:00,  2.14s/it, cur_loss=3]   \n"
          ]
        },
        {
          "name": "stdout",
          "output_type": "stream",
          "text": [
            "train acc=0.997093023255814, [l1_loss, ce_loss] => [0.5295188210227273, 0.3735129616477273, 0.3279474431818182, 1.4272904829545454, 0.47172407670454547]\n",
            "Epoch: 16, loss: 3.1305, lr: 0.00000396\n"
          ]
        },
        {
          "name": "stderr",
          "output_type": "stream",
          "text": [
            "epoch 17: 100%|██████████| 11/11 [00:24<00:00,  2.21s/it, cur_loss=2.86]\n"
          ]
        },
        {
          "name": "stdout",
          "output_type": "stream",
          "text": [
            "train acc=0.9941860465116279, [l1_loss, ce_loss] => [0.5202192826704546, 0.3734463778409091, 0.3000710227272727, 1.3872514204545454, 0.4389426491477273]\n",
            "Epoch: 17, loss: 3.0202, lr: 0.00000345\n"
          ]
        },
        {
          "name": "stderr",
          "output_type": "stream",
          "text": [
            "epoch 18: 100%|██████████| 11/11 [00:24<00:00,  2.24s/it, cur_loss=3.12]\n"
          ]
        },
        {
          "name": "stdout",
          "output_type": "stream",
          "text": [
            "train acc=0.998546511627907, [l1_loss, ce_loss] => [0.5146484375, 0.3722478693181818, 0.28785289417613635, 1.3606178977272727, 0.42236328125]\n",
            "Epoch: 18, loss: 2.9576, lr: 0.00000297\n"
          ]
        },
        {
          "name": "stderr",
          "output_type": "stream",
          "text": [
            "epoch 19: 100%|██████████| 11/11 [00:23<00:00,  2.17s/it, cur_loss=2.85]\n"
          ]
        },
        {
          "name": "stdout",
          "output_type": "stream",
          "text": [
            "train acc=1.0, [l1_loss, ce_loss] => [0.5093217329545454, 0.37178178267045453, 0.2704745205965909, 1.3346058238636365, 0.4022549715909091]\n",
            "Epoch: 19, loss: 2.8881, lr: 0.00000250\n"
          ]
        },
        {
          "name": "stderr",
          "output_type": "stream",
          "text": [
            "epoch 20: 100%|██████████| 11/11 [00:23<00:00,  2.15s/it, cur_loss=2.79]\n"
          ]
        },
        {
          "name": "stdout",
          "output_type": "stream",
          "text": [
            "train acc=1.0, [l1_loss, ce_loss] => [0.5069025213068182, 0.37275834517045453, 0.2664129083806818, 1.3212890625, 0.39404296875]\n",
            "Epoch: 20, loss: 2.8619, lr: 0.00000206\n"
          ]
        },
        {
          "name": "stderr",
          "output_type": "stream",
          "text": [
            "epoch 21: 100%|██████████| 11/11 [00:23<00:00,  2.16s/it, cur_loss=2.84]\n"
          ]
        },
        {
          "name": "stdout",
          "output_type": "stream",
          "text": [
            "train acc=1.0, [l1_loss, ce_loss] => [0.5031072443181818, 0.3723366477272727, 0.26106400923295453, 1.3170276988636365, 0.39359907670454547]\n",
            "Epoch: 21, loss: 2.8475, lr: 0.00000165\n"
          ]
        },
        {
          "name": "stderr",
          "output_type": "stream",
          "text": [
            "epoch 22: 100%|██████████| 11/11 [00:23<00:00,  2.16s/it, cur_loss=3.11]\n"
          ]
        },
        {
          "name": "stdout",
          "output_type": "stream",
          "text": [
            "train acc=0.998546511627907, [l1_loss, ce_loss] => [0.5003107244318182, 0.37284712357954547, 0.2608420632102273, 1.2966086647727273, 0.39286665482954547]\n",
            "Epoch: 22, loss: 2.8237, lr: 0.00000128\n"
          ]
        },
        {
          "name": "stderr",
          "output_type": "stream",
          "text": [
            "epoch 23: 100%|██████████| 11/11 [00:23<00:00,  2.17s/it, cur_loss=3.18]\n"
          ]
        },
        {
          "name": "stdout",
          "output_type": "stream",
          "text": [
            "train acc=1.0, [l1_loss, ce_loss] => [0.5019309303977273, 0.37193714488636365, 0.2525412819602273, 1.2972301136363635, 0.3829900568181818]\n",
            "Epoch: 23, loss: 2.8066, lr: 0.00000095\n"
          ]
        },
        {
          "name": "stderr",
          "output_type": "stream",
          "text": [
            "epoch 24: 100%|██████████| 11/11 [00:24<00:00,  2.19s/it, cur_loss=2.88]\n"
          ]
        },
        {
          "name": "stdout",
          "output_type": "stream",
          "text": [
            "train acc=0.998546511627907, [l1_loss, ce_loss] => [0.4978915127840909, 0.3706720525568182, 0.24602716619318182, 1.2872869318181819, 0.37610973011363635]\n",
            "Epoch: 24, loss: 2.7781, lr: 0.00000067\n"
          ]
        },
        {
          "name": "stderr",
          "output_type": "stream",
          "text": [
            "epoch 25: 100%|██████████| 11/11 [00:23<00:00,  2.11s/it, cur_loss=2.7] \n"
          ]
        },
        {
          "name": "stdout",
          "output_type": "stream",
          "text": [
            "train acc=1.0, [l1_loss, ce_loss] => [0.49866832386363635, 0.3716042258522727, 0.24596058238636365, 1.2820490056818181, 0.37309126420454547]\n",
            "Epoch: 25, loss: 2.7711, lr: 0.00000043\n"
          ]
        },
        {
          "name": "stderr",
          "output_type": "stream",
          "text": [
            "epoch 26: 100%|██████████| 11/11 [00:23<00:00,  2.11s/it, cur_loss=2.88]\n"
          ]
        },
        {
          "name": "stdout",
          "output_type": "stream",
          "text": [
            "train acc=1.0, [l1_loss, ce_loss] => [0.4986239346590909, 0.372314453125, 0.2511541193181818, 1.2898615056818181, 0.3765314275568182]\n",
            "Epoch: 26, loss: 2.7882, lr: 0.00000024\n"
          ]
        },
        {
          "name": "stderr",
          "output_type": "stream",
          "text": [
            "epoch 27: 100%|██████████| 11/11 [00:23<00:00,  2.12s/it, cur_loss=2.91]\n"
          ]
        },
        {
          "name": "stdout",
          "output_type": "stream",
          "text": [
            "train acc=1.0, [l1_loss, ce_loss] => [0.4993563565340909, 0.3722256747159091, 0.24662642045454544, 1.2839133522727273, 0.37309126420454547]\n",
            "Epoch: 27, loss: 2.7752, lr: 0.00000011\n"
          ]
        },
        {
          "name": "stderr",
          "output_type": "stream",
          "text": [
            "epoch 28: 100%|██████████| 11/11 [00:23<00:00,  2.11s/it, cur_loss=2.7] \n"
          ]
        },
        {
          "name": "stdout",
          "output_type": "stream",
          "text": [
            "train acc=1.0, [l1_loss, ce_loss] => [0.49784712357954547, 0.37187056107954547, 0.24418501420454544, 1.2838245738636365, 0.3720037286931818]\n",
            "Epoch: 28, loss: 2.7699, lr: 0.00000003\n"
          ]
        },
        {
          "name": "stderr",
          "output_type": "stream",
          "text": [
            "epoch 29: 100%|██████████| 11/11 [00:23<00:00,  2.12s/it, cur_loss=2.62]\n"
          ]
        },
        {
          "name": "stdout",
          "output_type": "stream",
          "text": [
            "train acc=1.0, [l1_loss, ce_loss] => [0.4977361505681818, 0.3713600852272727, 0.24250932173295456, 1.2780539772727273, 0.36878551136363635]\n",
            "Epoch: 29, loss: 2.7585, lr: 0.00000000\n",
            "Training complete!\n"
          ]
        },
        {
          "name": "stderr",
          "output_type": "stream",
          "text": [
            "Evaluate: 100%|██████████| 229/229 [01:40<00:00,  2.29it/s]\n"
          ]
        },
        {
          "name": "stdout",
          "output_type": "stream",
          "text": [
            "\n",
            "Test F1-macro:  0.8598116834529123\n",
            "#######################################\n",
            "\n",
            "Iteration:  1\n",
            "\n",
            "#######################################\n",
            "Training non-few shot model...\n",
            "Train dataset size:  915\n",
            "Test dataset size:  229\n",
            "Epoch 1/10\n",
            "  Training Loss: 3.4972\n",
            "Epoch 2/10\n",
            "  Training Loss: 3.3512\n",
            "Epoch 3/10\n",
            "  Training Loss: 3.2752\n",
            "Epoch 4/10\n",
            "  Training Loss: 3.2599\n",
            "Epoch 5/10\n",
            "  Training Loss: 3.2576\n",
            "Epoch 6/10\n",
            "  Training Loss: 3.2519\n",
            "Epoch 7/10\n",
            "  Training Loss: 3.2512\n",
            "Epoch 8/10\n",
            "  Training Loss: 3.2506\n",
            "Epoch 9/10\n",
            "  Training Loss: 3.2469\n",
            "Epoch 10/10\n",
            "  Training Loss: 3.2389\n",
            "Training complete!\n",
            "\n",
            "Test F1-macro:  0.2314468290381526\n",
            "##########################################\n",
            "2025-06-10 00:29:17 Getting cached textual weights W ...\n",
            "2025-06-10 00:29:17 Loading texture features from ./__few_shot_cache__\\bangladesh_dataset_ViT-B/16_textfeats.pt\n",
            "\n",
            "#######################################\n",
            "Training few-shot model...\n",
            "Train dataset size:  11\n",
            "Test dataset size:  229\n"
          ]
        },
        {
          "name": "stderr",
          "output_type": "stream",
          "text": [
            "epoch 0: 100%|██████████| 11/11 [00:28<00:00,  2.57s/it, cur_loss=11.3]\n"
          ]
        },
        {
          "name": "stdout",
          "output_type": "stream",
          "text": [
            "train acc=0.08139534883720931, [l1_loss, ce_loss] => [4.296564275568182, 0.3200017755681818, 3.581143465909091, 3.735440340909091, 3.5999644886363638]\n",
            "Epoch: 0, loss: 15.5312, lr: 0.00000997\n"
          ]
        },
        {
          "name": "stderr",
          "output_type": "stream",
          "text": [
            "epoch 1: 100%|██████████| 11/11 [00:28<00:00,  2.59s/it, cur_loss=10.2]\n"
          ]
        },
        {
          "name": "stdout",
          "output_type": "stream",
          "text": [
            "train acc=0.27906976744186046, [l1_loss, ce_loss] => [0.6172762784090909, 0.3295676491477273, 2.969815340909091, 3.461647727272727, 3.1091974431818183]\n",
            "Epoch: 1, loss: 10.4865, lr: 0.00000989\n"
          ]
        },
        {
          "name": "stderr",
          "output_type": "stream",
          "text": [
            "epoch 2: 100%|██████████| 11/11 [00:33<00:00,  3.09s/it, cur_loss=9.44]\n"
          ]
        },
        {
          "name": "stdout",
          "output_type": "stream",
          "text": [
            "train acc=0.4941860465116279, [l1_loss, ce_loss] => [0.5978781960227273, 0.3379794034090909, 2.5317826704545454, 3.2203480113636362, 2.7341974431818183]\n",
            "Epoch: 2, loss: 9.4233, lr: 0.00000976\n"
          ]
        },
        {
          "name": "stderr",
          "output_type": "stream",
          "text": [
            "epoch 3: 100%|██████████| 11/11 [00:29<00:00,  2.64s/it, cur_loss=8.88]\n"
          ]
        },
        {
          "name": "stdout",
          "output_type": "stream",
          "text": [
            "train acc=0.626453488372093, [l1_loss, ce_loss] => [0.5975674715909091, 0.3405539772727273, 2.186434659090909, 3.026455965909091, 2.4254261363636362]\n",
            "Epoch: 3, loss: 8.5760, lr: 0.00000957\n"
          ]
        },
        {
          "name": "stderr",
          "output_type": "stream",
          "text": [
            "epoch 4: 100%|██████████| 11/11 [00:35<00:00,  3.21s/it, cur_loss=7.44]\n"
          ]
        },
        {
          "name": "stdout",
          "output_type": "stream",
          "text": [
            "train acc=0.7151162790697675, [l1_loss, ce_loss] => [0.5948153409090909, 0.34765625, 1.8926669034090908, 2.8279474431818183, 2.1507457386363638]\n",
            "Epoch: 4, loss: 7.8146, lr: 0.00000933\n"
          ]
        },
        {
          "name": "stderr",
          "output_type": "stream",
          "text": [
            "epoch 5: 100%|██████████| 11/11 [00:28<00:00,  2.61s/it, cur_loss=7.33]\n"
          ]
        },
        {
          "name": "stdout",
          "output_type": "stream",
          "text": [
            "train acc=0.7863372093023255, [l1_loss, ce_loss] => [0.5914417613636364, 0.3536709872159091, 1.6524325284090908, 2.6617542613636362, 1.9141512784090908]\n",
            "Epoch: 5, loss: 7.1740, lr: 0.00000905\n"
          ]
        },
        {
          "name": "stderr",
          "output_type": "stream",
          "text": [
            "epoch 6: 100%|██████████| 11/11 [00:33<00:00,  3.09s/it, cur_loss=6.13]\n"
          ]
        },
        {
          "name": "stdout",
          "output_type": "stream",
          "text": [
            "train acc=0.8299418604651163, [l1_loss, ce_loss] => [0.60205078125, 0.35731090198863635, 1.4161931818181819, 2.4884588068181817, 1.6830610795454546]\n",
            "Epoch: 6, loss: 6.5465, lr: 0.00000872\n"
          ]
        },
        {
          "name": "stderr",
          "output_type": "stream",
          "text": [
            "epoch 7: 100%|██████████| 11/11 [00:28<00:00,  2.60s/it, cur_loss=5.91]\n"
          ]
        },
        {
          "name": "stdout",
          "output_type": "stream",
          "text": [
            "train acc=0.8837209302325582, [l1_loss, ce_loss] => [0.5926402698863636, 0.36567826704545453, 1.2161754261363635, 2.3400213068181817, 1.4841974431818181]\n",
            "Epoch: 7, loss: 5.9986, lr: 0.00000835\n"
          ]
        },
        {
          "name": "stderr",
          "output_type": "stream",
          "text": [
            "epoch 8: 100%|██████████| 11/11 [00:33<00:00,  3.09s/it, cur_loss=5.2] \n"
          ]
        },
        {
          "name": "stdout",
          "output_type": "stream",
          "text": [
            "train acc=0.9011627906976745, [l1_loss, ce_loss] => [0.5818536931818182, 0.3672540838068182, 1.0565962357954546, 2.1938920454545454, 1.3085049715909092]\n",
            "Epoch: 8, loss: 5.5078, lr: 0.00000794\n"
          ]
        },
        {
          "name": "stderr",
          "output_type": "stream",
          "text": [
            "epoch 9: 100%|██████████| 11/11 [00:29<00:00,  2.69s/it, cur_loss=4.66]\n"
          ]
        },
        {
          "name": "stdout",
          "output_type": "stream",
          "text": [
            "train acc=0.9156976744186046, [l1_loss, ce_loss] => [0.5786576704545454, 0.3701837713068182, 0.8983487215909091, 2.0548650568181817, 1.1348544034090908]\n",
            "Epoch: 9, loss: 5.0373, lr: 0.00000750\n"
          ]
        },
        {
          "name": "stderr",
          "output_type": "stream",
          "text": [
            "epoch 10: 100%|██████████| 11/11 [00:35<00:00,  3.24s/it, cur_loss=4.56]\n"
          ]
        },
        {
          "name": "stdout",
          "output_type": "stream",
          "text": [
            "train acc=0.9534883720930233, [l1_loss, ce_loss] => [0.5814098011363636, 0.3732688210227273, 0.7770774147727273, 1.9534801136363635, 1.0016424005681819]\n",
            "Epoch: 10, loss: 4.6868, lr: 0.00000703\n"
          ]
        },
        {
          "name": "stderr",
          "output_type": "stream",
          "text": [
            "epoch 11: 100%|██████████| 11/11 [00:30<00:00,  2.73s/it, cur_loss=4.31]\n"
          ]
        },
        {
          "name": "stdout",
          "output_type": "stream",
          "text": [
            "train acc=0.9578488372093024, [l1_loss, ce_loss] => [0.576171875, 0.3755104758522727, 0.6796431107954546, 1.8426846590909092, 0.8875621448863636]\n",
            "Epoch: 11, loss: 4.3615, lr: 0.00000655\n"
          ]
        },
        {
          "name": "stderr",
          "output_type": "stream",
          "text": [
            "epoch 12: 100%|██████████| 11/11 [00:35<00:00,  3.23s/it, cur_loss=4.08]\n"
          ]
        },
        {
          "name": "stdout",
          "output_type": "stream",
          "text": [
            "train acc=0.9738372093023255, [l1_loss, ce_loss] => [0.56689453125, 0.3759987571022727, 0.5952370383522727, 1.7522194602272727, 0.7874200994318182]\n",
            "Epoch: 12, loss: 4.0778, lr: 0.00000604\n"
          ]
        },
        {
          "name": "stderr",
          "output_type": "stream",
          "text": [
            "epoch 13: 100%|██████████| 11/11 [00:30<00:00,  2.74s/it, cur_loss=3.86]\n"
          ]
        },
        {
          "name": "stdout",
          "output_type": "stream",
          "text": [
            "train acc=0.9781976744186046, [l1_loss, ce_loss] => [0.5580166903409091, 0.37724165482954547, 0.5328258167613636, 1.6645063920454546, 0.7116921164772727]\n",
            "Epoch: 13, loss: 3.8446, lr: 0.00000552\n"
          ]
        },
        {
          "name": "stderr",
          "output_type": "stream",
          "text": [
            "epoch 14: 100%|██████████| 11/11 [00:35<00:00,  3.24s/it, cur_loss=3.5] \n"
          ]
        },
        {
          "name": "stdout",
          "output_type": "stream",
          "text": [
            "train acc=0.9796511627906976, [l1_loss, ce_loss] => [0.5553533380681818, 0.37855113636363635, 0.48475230823863635, 1.6170099431818181, 0.6530983664772727]\n",
            "Epoch: 14, loss: 3.6887, lr: 0.00000500\n"
          ]
        },
        {
          "name": "stderr",
          "output_type": "stream",
          "text": [
            "epoch 15: 100%|██████████| 11/11 [00:30<00:00,  2.75s/it, cur_loss=3.6] \n"
          ]
        },
        {
          "name": "stdout",
          "output_type": "stream",
          "text": [
            "train acc=0.9883720930232558, [l1_loss, ce_loss] => [0.5466530539772727, 0.376953125, 0.4376775568181818, 1.5391512784090908, 0.5881125710227273]\n",
            "Epoch: 15, loss: 3.4881, lr: 0.00000448\n"
          ]
        },
        {
          "name": "stderr",
          "output_type": "stream",
          "text": [
            "epoch 16: 100%|██████████| 11/11 [00:35<00:00,  3.27s/it, cur_loss=3.58]\n"
          ]
        },
        {
          "name": "stdout",
          "output_type": "stream",
          "text": [
            "train acc=0.9883720930232558, [l1_loss, ce_loss] => [0.5403497869318182, 0.3791725852272727, 0.4085360440340909, 1.4909446022727273, 0.5552645596590909]\n",
            "Epoch: 16, loss: 3.3745, lr: 0.00000396\n"
          ]
        },
        {
          "name": "stderr",
          "output_type": "stream",
          "text": [
            "epoch 17: 100%|██████████| 11/11 [00:30<00:00,  2.77s/it, cur_loss=3.15]\n"
          ]
        },
        {
          "name": "stdout",
          "output_type": "stream",
          "text": [
            "train acc=0.9941860465116279, [l1_loss, ce_loss] => [0.5332919034090909, 0.3782626065340909, 0.38301225142045453, 1.4441583806818181, 0.5178666548295454]\n",
            "Epoch: 17, loss: 3.2566, lr: 0.00000345\n"
          ]
        },
        {
          "name": "stderr",
          "output_type": "stream",
          "text": [
            "epoch 18: 100%|██████████| 11/11 [00:35<00:00,  3.27s/it, cur_loss=3.21]\n"
          ]
        },
        {
          "name": "stdout",
          "output_type": "stream",
          "text": [
            "train acc=0.9912790697674418, [l1_loss, ce_loss] => [0.5323597301136364, 0.3785067471590909, 0.37129350142045453, 1.4292436079545454, 0.5054598721590909]\n",
            "Epoch: 18, loss: 3.2166, lr: 0.00000297\n"
          ]
        },
        {
          "name": "stderr",
          "output_type": "stream",
          "text": [
            "epoch 19: 100%|██████████| 11/11 [00:30<00:00,  2.75s/it, cur_loss=3.3] \n"
          ]
        },
        {
          "name": "stdout",
          "output_type": "stream",
          "text": [
            "train acc=0.9956395348837209, [l1_loss, ce_loss] => [0.5261008522727273, 0.38032670454545453, 0.351806640625, 1.3897372159090908, 0.48393110795454547]\n",
            "Epoch: 19, loss: 3.1319, lr: 0.00000250\n"
          ]
        },
        {
          "name": "stderr",
          "output_type": "stream",
          "text": [
            "epoch 20: 100%|██████████| 11/11 [00:35<00:00,  3.27s/it, cur_loss=3.23]\n"
          ]
        },
        {
          "name": "stdout",
          "output_type": "stream",
          "text": [
            "train acc=0.9941860465116279, [l1_loss, ce_loss] => [0.5237482244318182, 0.3790838068181818, 0.34443803267045453, 1.3809481534090908, 0.47310014204545453]\n",
            "Epoch: 20, loss: 3.1016, lr: 0.00000206\n"
          ]
        },
        {
          "name": "stderr",
          "output_type": "stream",
          "text": [
            "epoch 21: 100%|██████████| 11/11 [00:30<00:00,  2.76s/it, cur_loss=3.04]\n"
          ]
        },
        {
          "name": "stdout",
          "output_type": "stream",
          "text": [
            "train acc=0.9912790697674418, [l1_loss, ce_loss] => [0.5225941051136364, 0.37877308238636365, 0.3351384943181818, 1.3641690340909092, 0.462158203125]\n",
            "Epoch: 21, loss: 3.0627, lr: 0.00000165\n"
          ]
        },
        {
          "name": "stderr",
          "output_type": "stream",
          "text": [
            "epoch 22: 100%|██████████| 11/11 [00:35<00:00,  3.24s/it, cur_loss=3.06]\n"
          ]
        },
        {
          "name": "stdout",
          "output_type": "stream",
          "text": [
            "train acc=0.9927325581395349, [l1_loss, ce_loss] => [0.521484375, 0.3781072443181818, 0.3296564275568182, 1.3663884943181819, 0.4592063210227273]\n",
            "Epoch: 22, loss: 3.0549, lr: 0.00000128\n"
          ]
        },
        {
          "name": "stderr",
          "output_type": "stream",
          "text": [
            "epoch 23: 100%|██████████| 11/11 [00:30<00:00,  2.78s/it, cur_loss=3.16]\n"
          ]
        },
        {
          "name": "stdout",
          "output_type": "stream",
          "text": [
            "train acc=0.9956395348837209, [l1_loss, ce_loss] => [0.5203302556818182, 0.3788396661931818, 0.32612748579545453, 1.3441051136363635, 0.44520152698863635]\n",
            "Epoch: 23, loss: 3.0140, lr: 0.00000095\n"
          ]
        },
        {
          "name": "stderr",
          "output_type": "stream",
          "text": [
            "epoch 24: 100%|██████████| 11/11 [00:35<00:00,  3.25s/it, cur_loss=3.15]\n"
          ]
        },
        {
          "name": "stdout",
          "output_type": "stream",
          "text": [
            "train acc=0.997093023255814, [l1_loss, ce_loss] => [0.5201083096590909, 0.3787508877840909, 0.327880859375, 1.3545809659090908, 0.45820756392045453]\n",
            "Epoch: 24, loss: 3.0398, lr: 0.00000067\n"
          ]
        },
        {
          "name": "stderr",
          "output_type": "stream",
          "text": [
            "epoch 25: 100%|██████████| 11/11 [00:30<00:00,  2.76s/it, cur_loss=3.07]\n"
          ]
        },
        {
          "name": "stdout",
          "output_type": "stream",
          "text": [
            "train acc=1.0, [l1_loss, ce_loss] => [0.5196644176136364, 0.37852894176136365, 0.31733842329545453, 1.3461470170454546, 0.4415838068181818]\n",
            "Epoch: 25, loss: 3.0030, lr: 0.00000043\n"
          ]
        },
        {
          "name": "stderr",
          "output_type": "stream",
          "text": [
            "epoch 26: 100%|██████████| 11/11 [00:35<00:00,  3.24s/it, cur_loss=2.97]\n"
          ]
        },
        {
          "name": "stdout",
          "output_type": "stream",
          "text": [
            "train acc=0.9956395348837209, [l1_loss, ce_loss] => [0.5194424715909091, 0.3783957741477273, 0.3181818181818182, 1.3418856534090908, 0.4397638494318182]\n",
            "Epoch: 26, loss: 2.9975, lr: 0.00000024\n"
          ]
        },
        {
          "name": "stderr",
          "output_type": "stream",
          "text": [
            "epoch 27: 100%|██████████| 11/11 [00:30<00:00,  2.76s/it, cur_loss=3.1] \n"
          ]
        },
        {
          "name": "stdout",
          "output_type": "stream",
          "text": [
            "train acc=0.997093023255814, [l1_loss, ce_loss] => [0.5191983309659091, 0.3804376775568182, 0.322021484375, 1.3449041193181819, 0.4480646306818182]\n",
            "Epoch: 27, loss: 3.0151, lr: 0.00000011\n"
          ]
        },
        {
          "name": "stderr",
          "output_type": "stream",
          "text": [
            "epoch 28: 100%|██████████| 11/11 [00:35<00:00,  3.25s/it, cur_loss=3.18]\n"
          ]
        },
        {
          "name": "stdout",
          "output_type": "stream",
          "text": [
            "train acc=0.9927325581395349, [l1_loss, ce_loss] => [0.5189985795454546, 0.37992720170454547, 0.3215553977272727, 1.3411754261363635, 0.447509765625]\n",
            "Epoch: 28, loss: 3.0092, lr: 0.00000003\n"
          ]
        },
        {
          "name": "stderr",
          "output_type": "stream",
          "text": [
            "epoch 29: 100%|██████████| 11/11 [00:30<00:00,  2.74s/it, cur_loss=3.26]\n"
          ]
        },
        {
          "name": "stdout",
          "output_type": "stream",
          "text": [
            "train acc=0.9956395348837209, [l1_loss, ce_loss] => [0.5200639204545454, 0.37870649857954547, 0.327392578125, 1.3496981534090908, 0.45463423295454547]\n",
            "Epoch: 29, loss: 3.0307, lr: 0.00000000\n",
            "Training complete!\n"
          ]
        },
        {
          "name": "stderr",
          "output_type": "stream",
          "text": [
            "Evaluate: 100%|██████████| 229/229 [01:37<00:00,  2.35it/s]\n"
          ]
        },
        {
          "name": "stdout",
          "output_type": "stream",
          "text": [
            "\n",
            "Test F1-macro:  0.8564588720772275\n",
            "#######################################\n",
            "\n",
            "Iteration:  2\n",
            "\n",
            "#######################################\n",
            "Training non-few shot model...\n",
            "Train dataset size:  915\n",
            "Test dataset size:  229\n",
            "Epoch 1/10\n",
            "  Training Loss: 3.5300\n",
            "Epoch 2/10\n",
            "  Training Loss: 3.3715\n",
            "Epoch 3/10\n",
            "  Training Loss: 3.3451\n",
            "Epoch 4/10\n",
            "  Training Loss: 3.3136\n",
            "Epoch 5/10\n",
            "  Training Loss: 3.2814\n",
            "Epoch 6/10\n",
            "  Training Loss: 3.2581\n",
            "Epoch 7/10\n",
            "  Training Loss: 3.2555\n",
            "Epoch 8/10\n",
            "  Training Loss: 3.2542\n",
            "Epoch 9/10\n",
            "  Training Loss: 3.2538\n",
            "Epoch 10/10\n",
            "  Training Loss: 3.2458\n",
            "Training complete!\n",
            "\n",
            "Test F1-macro:  0.23277511366733283\n",
            "##########################################\n",
            "2025-06-10 01:17:31 Getting cached textual weights W ...\n",
            "2025-06-10 01:17:31 Loading texture features from ./__few_shot_cache__\\bangladesh_dataset_ViT-B/16_textfeats.pt\n",
            "\n",
            "#######################################\n",
            "Training few-shot model...\n",
            "Train dataset size:  11\n",
            "Test dataset size:  229\n"
          ]
        },
        {
          "name": "stderr",
          "output_type": "stream",
          "text": [
            "epoch 0: 100%|██████████| 11/11 [00:22<00:00,  2.05s/it, cur_loss=11.1]\n"
          ]
        },
        {
          "name": "stdout",
          "output_type": "stream",
          "text": [
            "train acc=0.08866279069767442, [l1_loss, ce_loss] => [4.264515269886363, 0.3093483664772727, 3.5349786931818183, 3.711647727272727, 3.573330965909091]\n",
            "Epoch: 0, loss: 15.3963, lr: 0.00000997\n"
          ]
        },
        {
          "name": "stderr",
          "output_type": "stream",
          "text": [
            "epoch 1: 100%|██████████| 11/11 [00:23<00:00,  2.10s/it, cur_loss=10.2]\n"
          ]
        },
        {
          "name": "stdout",
          "output_type": "stream",
          "text": [
            "train acc=0.39098837209302323, [l1_loss, ce_loss] => [0.6247336647727273, 0.304931640625, 2.8673650568181817, 3.4078480113636362, 3.045632102272727]\n",
            "Epoch: 1, loss: 10.2493, lr: 0.00000989\n"
          ]
        },
        {
          "name": "stderr",
          "output_type": "stream",
          "text": [
            "epoch 2: 100%|██████████| 11/11 [00:23<00:00,  2.09s/it, cur_loss=8.73]\n"
          ]
        },
        {
          "name": "stdout",
          "output_type": "stream",
          "text": [
            "train acc=0.561046511627907, [l1_loss, ce_loss] => [0.5866477272727273, 0.31864790482954547, 2.4140625, 3.1832386363636362, 2.661221590909091]\n",
            "Epoch: 2, loss: 9.1641, lr: 0.00000976\n"
          ]
        },
        {
          "name": "stderr",
          "output_type": "stream",
          "text": [
            "epoch 3: 100%|██████████| 11/11 [00:23<00:00,  2.11s/it, cur_loss=8.27]\n"
          ]
        },
        {
          "name": "stdout",
          "output_type": "stream",
          "text": [
            "train acc=0.6642441860465116, [l1_loss, ce_loss] => [0.5785245028409091, 0.322998046875, 2.0806995738636362, 3.0035511363636362, 2.3671875]\n",
            "Epoch: 3, loss: 8.3526, lr: 0.00000957\n"
          ]
        },
        {
          "name": "stderr",
          "output_type": "stream",
          "text": [
            "epoch 4: 100%|██████████| 11/11 [00:22<00:00,  2.08s/it, cur_loss=7.27]\n"
          ]
        },
        {
          "name": "stdout",
          "output_type": "stream",
          "text": [
            "train acc=0.7572674418604651, [l1_loss, ce_loss] => [0.5865589488636364, 0.3271706321022727, 1.7912819602272727, 2.824928977272727, 2.0962357954545454]\n",
            "Epoch: 4, loss: 7.6268, lr: 0.00000933\n"
          ]
        },
        {
          "name": "stderr",
          "output_type": "stream",
          "text": [
            "epoch 5: 100%|██████████| 11/11 [00:23<00:00,  2.11s/it, cur_loss=6.85]\n"
          ]
        },
        {
          "name": "stdout",
          "output_type": "stream",
          "text": [
            "train acc=0.8241279069767442, [l1_loss, ce_loss] => [0.5879350142045454, 0.3360262784090909, 1.521484375, 2.630859375, 1.8290127840909092]\n",
            "Epoch: 5, loss: 6.9066, lr: 0.00000905\n"
          ]
        },
        {
          "name": "stderr",
          "output_type": "stream",
          "text": [
            "epoch 6: 100%|██████████| 11/11 [00:23<00:00,  2.11s/it, cur_loss=6.27]\n"
          ]
        },
        {
          "name": "stdout",
          "output_type": "stream",
          "text": [
            "train acc=0.8662790697674418, [l1_loss, ce_loss] => [0.6007191051136364, 0.34217418323863635, 1.3045987215909092, 2.4533025568181817, 1.6006747159090908]\n",
            "Epoch: 6, loss: 6.3029, lr: 0.00000872\n"
          ]
        },
        {
          "name": "stderr",
          "output_type": "stream",
          "text": [
            "epoch 7: 100%|██████████| 11/11 [00:23<00:00,  2.11s/it, cur_loss=5.41]\n"
          ]
        },
        {
          "name": "stdout",
          "output_type": "stream",
          "text": [
            "train acc=0.9069767441860465, [l1_loss, ce_loss] => [0.5867808948863636, 0.345947265625, 1.1024946732954546, 2.2991832386363638, 1.392578125]\n",
            "Epoch: 7, loss: 5.7283, lr: 0.00000835\n"
          ]
        },
        {
          "name": "stderr",
          "output_type": "stream",
          "text": [
            "epoch 8: 100%|██████████| 11/11 [00:23<00:00,  2.13s/it, cur_loss=5.17]\n"
          ]
        },
        {
          "name": "stdout",
          "output_type": "stream",
          "text": [
            "train acc=0.9244186046511628, [l1_loss, ce_loss] => [0.5842507102272727, 0.3514071377840909, 0.9352361505681818, 2.133877840909091, 1.1929154829545454]\n",
            "Epoch: 8, loss: 5.1971, lr: 0.00000794\n"
          ]
        },
        {
          "name": "stderr",
          "output_type": "stream",
          "text": [
            "epoch 9: 100%|██████████| 11/11 [00:23<00:00,  2.13s/it, cur_loss=4.66]\n"
          ]
        },
        {
          "name": "stdout",
          "output_type": "stream",
          "text": [
            "train acc=0.9462209302325582, [l1_loss, ce_loss] => [0.5791459517045454, 0.35233931107954547, 0.8057084517045454, 2.020774147727273, 1.0476740056818181]\n",
            "Epoch: 9, loss: 4.8061, lr: 0.00000750\n"
          ]
        },
        {
          "name": "stderr",
          "output_type": "stream",
          "text": [
            "epoch 10: 100%|██████████| 11/11 [00:23<00:00,  2.16s/it, cur_loss=4.11]\n"
          ]
        },
        {
          "name": "stdout",
          "output_type": "stream",
          "text": [
            "train acc=0.9622093023255814, [l1_loss, ce_loss] => [0.5628551136363636, 0.35664506392045453, 0.6871448863636364, 1.9002130681818181, 0.9079367897727273]\n",
            "Epoch: 10, loss: 4.4144, lr: 0.00000703\n"
          ]
        },
        {
          "name": "stderr",
          "output_type": "stream",
          "text": [
            "epoch 11: 100%|██████████| 11/11 [00:24<00:00,  2.23s/it, cur_loss=3.79]\n"
          ]
        },
        {
          "name": "stdout",
          "output_type": "stream",
          "text": [
            "train acc=0.9651162790697675, [l1_loss, ce_loss] => [0.5588156960227273, 0.35917524857954547, 0.5911976207386364, 1.7930575284090908, 0.7935901988636364]\n",
            "Epoch: 11, loss: 4.0957, lr: 0.00000655\n"
          ]
        },
        {
          "name": "stderr",
          "output_type": "stream",
          "text": [
            "epoch 12: 100%|██████████| 11/11 [00:24<00:00,  2.23s/it, cur_loss=3.61]\n"
          ]
        },
        {
          "name": "stdout",
          "output_type": "stream",
          "text": [
            "train acc=0.9752906976744186, [l1_loss, ce_loss] => [0.55078125, 0.36030717329545453, 0.5259898792613636, 1.7166193181818181, 0.7143998579545454]\n",
            "Epoch: 12, loss: 3.8681, lr: 0.00000604\n"
          ]
        },
        {
          "name": "stderr",
          "output_type": "stream",
          "text": [
            "epoch 13: 100%|██████████| 11/11 [00:24<00:00,  2.26s/it, cur_loss=3.47]\n"
          ]
        },
        {
          "name": "stdout",
          "output_type": "stream",
          "text": [
            "train acc=0.9767441860465116, [l1_loss, ce_loss] => [0.5419921875, 0.3607732599431818, 0.4632235440340909, 1.6204723011363635, 0.625]\n",
            "Epoch: 13, loss: 3.6112, lr: 0.00000552\n"
          ]
        },
        {
          "name": "stderr",
          "output_type": "stream",
          "text": [
            "epoch 14: 100%|██████████| 11/11 [00:24<00:00,  2.25s/it, cur_loss=3.38]\n"
          ]
        },
        {
          "name": "stdout",
          "output_type": "stream",
          "text": [
            "train acc=0.9869186046511628, [l1_loss, ce_loss] => [0.5337357954545454, 0.36241566051136365, 0.41688121448863635, 1.5652521306818181, 0.5711115056818182]\n",
            "Epoch: 14, loss: 3.4492, lr: 0.00000500\n"
          ]
        },
        {
          "name": "stderr",
          "output_type": "stream",
          "text": [
            "epoch 15: 100%|██████████| 11/11 [00:24<00:00,  2.26s/it, cur_loss=3.3] \n"
          ]
        },
        {
          "name": "stdout",
          "output_type": "stream",
          "text": [
            "train acc=0.9840116279069767, [l1_loss, ce_loss] => [0.5246803977272727, 0.3624822443181818, 0.3781072443181818, 1.5083451704545454, 0.5252352627840909]\n",
            "Epoch: 15, loss: 3.2992, lr: 0.00000448\n"
          ]
        },
        {
          "name": "stderr",
          "output_type": "stream",
          "text": [
            "epoch 16: 100%|██████████| 11/11 [00:24<00:00,  2.26s/it, cur_loss=3.35]\n"
          ]
        },
        {
          "name": "stdout",
          "output_type": "stream",
          "text": [
            "train acc=0.9912790697674418, [l1_loss, ce_loss] => [0.5221058238636364, 0.3629705255681818, 0.3518954190340909, 1.4683061079545454, 0.48896928267045453]\n",
            "Epoch: 16, loss: 3.1944, lr: 0.00000396\n"
          ]
        },
        {
          "name": "stderr",
          "output_type": "stream",
          "text": [
            "epoch 17: 100%|██████████| 11/11 [00:24<00:00,  2.25s/it, cur_loss=3.02]\n"
          ]
        },
        {
          "name": "stdout",
          "output_type": "stream",
          "text": [
            "train acc=0.9912790697674418, [l1_loss, ce_loss] => [0.51611328125, 0.3631036931818182, 0.32750355113636365, 1.4200106534090908, 0.45967240767045453]\n",
            "Epoch: 17, loss: 3.0863, lr: 0.00000345\n"
          ]
        },
        {
          "name": "stderr",
          "output_type": "stream",
          "text": [
            "epoch 18: 100%|██████████| 11/11 [00:24<00:00,  2.27s/it, cur_loss=3.22]\n"
          ]
        },
        {
          "name": "stdout",
          "output_type": "stream",
          "text": [
            "train acc=0.9956395348837209, [l1_loss, ce_loss] => [0.513671875, 0.3628817471590909, 0.31254438920454547, 1.3904474431818181, 0.4406516335227273]\n",
            "Epoch: 18, loss: 3.0206, lr: 0.00000297\n"
          ]
        },
        {
          "name": "stderr",
          "output_type": "stream",
          "text": [
            "epoch 19: 100%|██████████| 11/11 [00:24<00:00,  2.27s/it, cur_loss=2.94]\n"
          ]
        },
        {
          "name": "stdout",
          "output_type": "stream",
          "text": [
            "train acc=0.9941860465116279, [l1_loss, ce_loss] => [0.510009765625, 0.36328125, 0.3013250177556818, 1.3638139204545454, 0.4200106534090909]\n",
            "Epoch: 19, loss: 2.9588, lr: 0.00000250\n"
          ]
        },
        {
          "name": "stderr",
          "output_type": "stream",
          "text": [
            "epoch 20: 100%|██████████| 11/11 [00:24<00:00,  2.27s/it, cur_loss=2.84]\n"
          ]
        },
        {
          "name": "stdout",
          "output_type": "stream",
          "text": [
            "train acc=0.9941860465116279, [l1_loss, ce_loss] => [0.5066139914772727, 0.36405806107954547, 0.2925692471590909, 1.3562677556818181, 0.412109375]\n",
            "Epoch: 20, loss: 2.9315, lr: 0.00000206\n"
          ]
        },
        {
          "name": "stderr",
          "output_type": "stream",
          "text": [
            "epoch 21: 100%|██████████| 11/11 [00:25<00:00,  2.28s/it, cur_loss=2.69]\n"
          ]
        },
        {
          "name": "stdout",
          "output_type": "stream",
          "text": [
            "train acc=0.9956395348837209, [l1_loss, ce_loss] => [0.5046164772727273, 0.36396928267045453, 0.28235973011363635, 1.3362926136363635, 0.3960626775568182]\n",
            "Epoch: 21, loss: 2.8833, lr: 0.00000165\n"
          ]
        },
        {
          "name": "stderr",
          "output_type": "stream",
          "text": [
            "epoch 22: 100%|██████████| 11/11 [00:24<00:00,  2.27s/it, cur_loss=3.16]\n"
          ]
        },
        {
          "name": "stdout",
          "output_type": "stream",
          "text": [
            "train acc=0.9956395348837209, [l1_loss, ce_loss] => [0.5013316761363636, 0.36445756392045453, 0.2798739346590909, 1.3251953125, 0.3978604403409091]\n",
            "Epoch: 22, loss: 2.8691, lr: 0.00000128\n"
          ]
        },
        {
          "name": "stderr",
          "output_type": "stream",
          "text": [
            "epoch 23: 100%|██████████| 11/11 [00:25<00:00,  2.33s/it, cur_loss=2.87]\n"
          ]
        },
        {
          "name": "stdout",
          "output_type": "stream",
          "text": [
            "train acc=0.9956395348837209, [l1_loss, ce_loss] => [0.5015980113636364, 0.3640358664772727, 0.2794522372159091, 1.3203125, 0.39197887073863635]\n",
            "Epoch: 23, loss: 2.8574, lr: 0.00000095\n"
          ]
        },
        {
          "name": "stderr",
          "output_type": "stream",
          "text": [
            "epoch 24: 100%|██████████| 11/11 [00:25<00:00,  2.33s/it, cur_loss=2.98]\n"
          ]
        },
        {
          "name": "stdout",
          "output_type": "stream",
          "text": [
            "train acc=0.997093023255814, [l1_loss, ce_loss] => [0.5005770596590909, 0.3628817471590909, 0.2701416015625, 1.3120561079545454, 0.3792169744318182]\n",
            "Epoch: 24, loss: 2.8246, lr: 0.00000067\n"
          ]
        },
        {
          "name": "stderr",
          "output_type": "stream",
          "text": [
            "epoch 25: 100%|██████████| 11/11 [00:25<00:00,  2.34s/it, cur_loss=2.99]\n"
          ]
        },
        {
          "name": "stdout",
          "output_type": "stream",
          "text": [
            "train acc=0.998546511627907, [l1_loss, ce_loss] => [0.4998224431818182, 0.36405806107954547, 0.2712624289772727, 1.3169389204545454, 0.3836115056818182]\n",
            "Epoch: 25, loss: 2.8354, lr: 0.00000043\n"
          ]
        },
        {
          "name": "stderr",
          "output_type": "stream",
          "text": [
            "epoch 26: 100%|██████████| 11/11 [00:25<00:00,  2.28s/it, cur_loss=2.8] \n"
          ]
        },
        {
          "name": "stdout",
          "output_type": "stream",
          "text": [
            "train acc=0.9941860465116279, [l1_loss, ce_loss] => [0.5009987571022727, 0.3643465909090909, 0.2751131924715909, 1.3093039772727273, 0.38383345170454547]\n",
            "Epoch: 26, loss: 2.8338, lr: 0.00000024\n"
          ]
        },
        {
          "name": "stderr",
          "output_type": "stream",
          "text": [
            "epoch 27: 100%|██████████| 11/11 [00:25<00:00,  2.28s/it, cur_loss=2.88]\n"
          ]
        },
        {
          "name": "stdout",
          "output_type": "stream",
          "text": [
            "train acc=0.998546511627907, [l1_loss, ce_loss] => [0.49824662642045453, 0.36356977982954547, 0.26649058948863635, 1.3080610795454546, 0.3772194602272727]\n",
            "Epoch: 27, loss: 2.8134, lr: 0.00000011\n"
          ]
        },
        {
          "name": "stderr",
          "output_type": "stream",
          "text": [
            "epoch 28: 100%|██████████| 11/11 [00:25<00:00,  2.28s/it, cur_loss=2.96]\n"
          ]
        },
        {
          "name": "stdout",
          "output_type": "stream",
          "text": [
            "train acc=0.9927325581395349, [l1_loss, ce_loss] => [0.499755859375, 0.3640358664772727, 0.27013050426136365, 1.3121448863636365, 0.387451171875]\n",
            "Epoch: 28, loss: 2.8338, lr: 0.00000003\n"
          ]
        },
        {
          "name": "stderr",
          "output_type": "stream",
          "text": [
            "epoch 29: 100%|██████████| 11/11 [00:25<00:00,  2.28s/it, cur_loss=2.98]\n"
          ]
        },
        {
          "name": "stdout",
          "output_type": "stream",
          "text": [
            "train acc=0.997093023255814, [l1_loss, ce_loss] => [0.5020862926136364, 0.3639248934659091, 0.2723943536931818, 1.3103693181818181, 0.38441051136363635]\n",
            "Epoch: 29, loss: 2.8331, lr: 0.00000000\n",
            "Training complete!\n"
          ]
        },
        {
          "name": "stderr",
          "output_type": "stream",
          "text": [
            "Evaluate: 100%|██████████| 229/229 [01:51<00:00,  2.06it/s]\n"
          ]
        },
        {
          "name": "stdout",
          "output_type": "stream",
          "text": [
            "\n",
            "Test F1-macro:  0.856921707289871\n",
            "#######################################\n",
            "\n",
            "Iteration:  3\n",
            "\n",
            "#######################################\n",
            "Training non-few shot model...\n",
            "Train dataset size:  915\n",
            "Test dataset size:  229\n",
            "Epoch 1/10\n",
            "  Training Loss: 3.6021\n",
            "Epoch 2/10\n",
            "  Training Loss: 3.3580\n",
            "Epoch 3/10\n",
            "  Training Loss: 3.3199\n",
            "Epoch 4/10\n",
            "  Training Loss: 3.3170\n",
            "Epoch 5/10\n",
            "  Training Loss: 3.2779\n",
            "Epoch 6/10\n",
            "  Training Loss: 3.2436\n",
            "Epoch 7/10\n",
            "  Training Loss: 3.2410\n",
            "Epoch 8/10\n",
            "  Training Loss: 3.2294\n",
            "Epoch 9/10\n",
            "  Training Loss: 3.2148\n",
            "Epoch 10/10\n",
            "  Training Loss: 3.2143\n",
            "Training complete!\n",
            "\n",
            "Test F1-macro:  0.23447562053351415\n",
            "##########################################\n",
            "2025-06-10 01:59:20 Getting cached textual weights W ...\n",
            "2025-06-10 01:59:20 Loading texture features from ./__few_shot_cache__\\bangladesh_dataset_ViT-B/16_textfeats.pt\n",
            "\n",
            "#######################################\n",
            "Training few-shot model...\n",
            "Train dataset size:  11\n",
            "Test dataset size:  229\n"
          ]
        },
        {
          "name": "stderr",
          "output_type": "stream",
          "text": [
            "epoch 0: 100%|██████████| 11/11 [00:27<00:00,  2.48s/it, cur_loss=11.3]\n"
          ]
        },
        {
          "name": "stdout",
          "output_type": "stream",
          "text": [
            "train acc=0.09156976744186046, [l1_loss, ce_loss] => [4.4372336647727275, 0.30790571732954547, 3.5997869318181817, 3.7446732954545454, 3.616299715909091]\n",
            "Epoch: 0, loss: 15.7053, lr: 0.00000997\n"
          ]
        },
        {
          "name": "stderr",
          "output_type": "stream",
          "text": [
            "epoch 1: 100%|██████████| 11/11 [00:24<00:00,  2.23s/it, cur_loss=9.99]\n"
          ]
        },
        {
          "name": "stdout",
          "output_type": "stream",
          "text": [
            "train acc=0.30377906976744184, [l1_loss, ce_loss] => [0.7321555397727273, 0.3148748224431818, 2.9275568181818183, 3.4566761363636362, 3.1088423295454546]\n",
            "Epoch: 1, loss: 10.5384, lr: 0.00000989\n"
          ]
        },
        {
          "name": "stderr",
          "output_type": "stream",
          "text": [
            "epoch 2: 100%|██████████| 11/11 [00:26<00:00,  2.37s/it, cur_loss=9.34]\n"
          ]
        },
        {
          "name": "stdout",
          "output_type": "stream",
          "text": [
            "train acc=0.47238372093023256, [l1_loss, ce_loss] => [0.6460404829545454, 0.32304243607954547, 2.506924715909091, 3.218039772727273, 2.7455610795454546]\n",
            "Epoch: 2, loss: 9.4389, lr: 0.00000976\n"
          ]
        },
        {
          "name": "stderr",
          "output_type": "stream",
          "text": [
            "epoch 3: 100%|██████████| 11/11 [00:28<00:00,  2.61s/it, cur_loss=8.76]\n"
          ]
        },
        {
          "name": "stdout",
          "output_type": "stream",
          "text": [
            "train acc=0.6061046511627907, [l1_loss, ce_loss] => [0.6124822443181818, 0.33094371448863635, 2.1791548295454546, 3.0094105113636362, 2.4419389204545454]\n",
            "Epoch: 3, loss: 8.5724, lr: 0.00000957\n"
          ]
        },
        {
          "name": "stderr",
          "output_type": "stream",
          "text": [
            "epoch 4: 100%|██████████| 11/11 [00:28<00:00,  2.55s/it, cur_loss=7.74]\n"
          ]
        },
        {
          "name": "stdout",
          "output_type": "stream",
          "text": [
            "train acc=0.6802325581395349, [l1_loss, ce_loss] => [0.5983220880681818, 0.3348055752840909, 1.9280894886363635, 2.854225852272727, 2.2112926136363638]\n",
            "Epoch: 4, loss: 7.9261, lr: 0.00000933\n"
          ]
        },
        {
          "name": "stderr",
          "output_type": "stream",
          "text": [
            "epoch 5: 100%|██████████| 11/11 [00:29<00:00,  2.68s/it, cur_loss=7]   \n"
          ]
        },
        {
          "name": "stdout",
          "output_type": "stream",
          "text": [
            "train acc=0.7936046511627907, [l1_loss, ce_loss] => [0.6032936789772727, 0.3460138494318182, 1.6778231534090908, 2.666015625, 1.9643110795454546]\n",
            "Epoch: 5, loss: 7.2567, lr: 0.00000905\n"
          ]
        },
        {
          "name": "stderr",
          "output_type": "stream",
          "text": [
            "epoch 6: 100%|██████████| 11/11 [00:27<00:00,  2.49s/it, cur_loss=6.2] \n"
          ]
        },
        {
          "name": "stdout",
          "output_type": "stream",
          "text": [
            "train acc=0.8299418604651163, [l1_loss, ce_loss] => [0.5961026278409091, 0.3532936789772727, 1.4703480113636365, 2.528053977272727, 1.7699751420454546]\n",
            "Epoch: 6, loss: 6.7184, lr: 0.00000872\n"
          ]
        },
        {
          "name": "stderr",
          "output_type": "stream",
          "text": [
            "epoch 7: 100%|██████████| 11/11 [00:25<00:00,  2.33s/it, cur_loss=6.29]\n"
          ]
        },
        {
          "name": "stdout",
          "output_type": "stream",
          "text": [
            "train acc=0.8808139534883721, [l1_loss, ce_loss] => [0.58544921875, 0.35957475142045453, 1.2872869318181819, 2.376242897727273, 1.5849609375]\n",
            "Epoch: 7, loss: 6.1932, lr: 0.00000835\n"
          ]
        },
        {
          "name": "stderr",
          "output_type": "stream",
          "text": [
            "epoch 8: 100%|██████████| 11/11 [00:29<00:00,  2.72s/it, cur_loss=5.2]\n"
          ]
        },
        {
          "name": "stdout",
          "output_type": "stream",
          "text": [
            "train acc=0.9069767441860465, [l1_loss, ce_loss] => [0.5862926136363636, 0.3633700284090909, 1.1070223721590908, 2.2503551136363638, 1.41015625]\n",
            "Epoch: 8, loss: 5.7180, lr: 0.00000794\n"
          ]
        },
        {
          "name": "stderr",
          "output_type": "stream",
          "text": [
            "epoch 9: 100%|██████████| 11/11 [00:26<00:00,  2.43s/it, cur_loss=4.96]\n"
          ]
        },
        {
          "name": "stdout",
          "output_type": "stream",
          "text": [
            "train acc=0.9520348837209303, [l1_loss, ce_loss] => [0.5875355113636364, 0.36803089488636365, 0.9374556107954546, 2.112038352272727, 1.2325994318181819]\n",
            "Epoch: 9, loss: 5.2372, lr: 0.00000750\n"
          ]
        },
        {
          "name": "stderr",
          "output_type": "stream",
          "text": [
            "epoch 10: 100%|██████████| 11/11 [00:27<00:00,  2.47s/it, cur_loss=4.62]\n"
          ]
        },
        {
          "name": "stdout",
          "output_type": "stream",
          "text": [
            "train acc=0.9549418604651163, [l1_loss, ce_loss] => [0.5775923295454546, 0.3707608309659091, 0.8165838068181818, 2.006125710227273, 1.0989879261363635]\n",
            "Epoch: 10, loss: 4.8700, lr: 0.00000703\n"
          ]
        },
        {
          "name": "stderr",
          "output_type": "stream",
          "text": [
            "epoch 11: 100%|██████████| 11/11 [00:29<00:00,  2.69s/it, cur_loss=4.3] \n"
          ]
        },
        {
          "name": "stdout",
          "output_type": "stream",
          "text": [
            "train acc=0.9651162790697675, [l1_loss, ce_loss] => [0.5723544034090909, 0.3736905184659091, 0.7120472301136364, 1.9154829545454546, 0.9789595170454546]\n",
            "Epoch: 11, loss: 4.5533, lr: 0.00000655\n"
          ]
        },
        {
          "name": "stderr",
          "output_type": "stream",
          "text": [
            "epoch 12: 100%|██████████| 11/11 [00:28<00:00,  2.63s/it, cur_loss=4.2] \n"
          ]
        },
        {
          "name": "stdout",
          "output_type": "stream",
          "text": [
            "train acc=0.9796511627906976, [l1_loss, ce_loss] => [0.5706232244318182, 0.376708984375, 0.6115944602272727, 1.8172052556818181, 0.8643465909090909]\n",
            "Epoch: 12, loss: 4.2408, lr: 0.00000604\n"
          ]
        },
        {
          "name": "stderr",
          "output_type": "stream",
          "text": [
            "epoch 13: 100%|██████████| 11/11 [00:30<00:00,  2.73s/it, cur_loss=4.1] \n"
          ]
        },
        {
          "name": "stdout",
          "output_type": "stream",
          "text": [
            "train acc=0.9840116279069767, [l1_loss, ce_loss] => [0.5611239346590909, 0.3768643465909091, 0.5498934659090909, 1.7327769886363635, 0.7880415482954546]\n",
            "Epoch: 13, loss: 4.0085, lr: 0.00000552\n"
          ]
        },
        {
          "name": "stderr",
          "output_type": "stream",
          "text": [
            "epoch 14: 100%|██████████| 11/11 [00:27<00:00,  2.52s/it, cur_loss=3.88]\n"
          ]
        },
        {
          "name": "stdout",
          "output_type": "stream",
          "text": [
            "train acc=0.9869186046511628, [l1_loss, ce_loss] => [0.5546875, 0.3777077414772727, 0.48255504261363635, 1.6633522727272727, 0.7049449573863636]\n",
            "Epoch: 14, loss: 3.7827, lr: 0.00000500\n"
          ]
        },
        {
          "name": "stderr",
          "output_type": "stream",
          "text": [
            "epoch 15: 100%|██████████| 11/11 [00:26<00:00,  2.38s/it, cur_loss=3.46]\n"
          ]
        },
        {
          "name": "stdout",
          "output_type": "stream",
          "text": [
            "train acc=0.9883720930232558, [l1_loss, ce_loss] => [0.5480735085227273, 0.3794833096590909, 0.4457120028409091, 1.5980113636363635, 0.6449751420454546]\n",
            "Epoch: 15, loss: 3.6159, lr: 0.00000448\n"
          ]
        },
        {
          "name": "stderr",
          "output_type": "stream",
          "text": [
            "epoch 16: 100%|██████████| 11/11 [00:30<00:00,  2.76s/it, cur_loss=3.64]\n"
          ]
        },
        {
          "name": "stdout",
          "output_type": "stream",
          "text": [
            "train acc=0.9869186046511628, [l1_loss, ce_loss] => [0.5435014204545454, 0.3785733309659091, 0.40937943892045453, 1.5600142045454546, 0.6047585227272727]\n",
            "Epoch: 16, loss: 3.4972, lr: 0.00000396\n"
          ]
        },
        {
          "name": "stderr",
          "output_type": "stream",
          "text": [
            "epoch 17: 100%|██████████| 11/11 [00:26<00:00,  2.44s/it, cur_loss=3.39]\n"
          ]
        },
        {
          "name": "stdout",
          "output_type": "stream",
          "text": [
            "train acc=0.9898255813953488, [l1_loss, ce_loss] => [0.5382634943181818, 0.37846235795454547, 0.38057084517045453, 1.5189098011363635, 0.5635653409090909]\n",
            "Epoch: 17, loss: 3.3794, lr: 0.00000345\n"
          ]
        },
        {
          "name": "stderr",
          "output_type": "stream",
          "text": [
            "epoch 18: 100%|██████████| 11/11 [00:27<00:00,  2.52s/it, cur_loss=3.19]\n"
          ]
        },
        {
          "name": "stdout",
          "output_type": "stream",
          "text": [
            "train acc=0.997093023255814, [l1_loss, ce_loss] => [0.5326704545454546, 0.3787508877840909, 0.3628151633522727, 1.4874822443181819, 0.5388849431818182]\n",
            "Epoch: 18, loss: 3.3011, lr: 0.00000297\n"
          ]
        },
        {
          "name": "stderr",
          "output_type": "stream",
          "text": [
            "epoch 19: 100%|██████████| 11/11 [00:29<00:00,  2.70s/it, cur_loss=3.36]\n"
          ]
        },
        {
          "name": "stdout",
          "output_type": "stream",
          "text": [
            "train acc=0.9956395348837209, [l1_loss, ce_loss] => [0.5330699573863636, 0.37879527698863635, 0.34794477982954547, 1.4628018465909092, 0.5189319957386364]\n",
            "Epoch: 19, loss: 3.2418, lr: 0.00000250\n"
          ]
        },
        {
          "name": "stderr",
          "output_type": "stream",
          "text": [
            "epoch 20: 100%|██████████| 11/11 [00:28<00:00,  2.63s/it, cur_loss=3.22]\n"
          ]
        },
        {
          "name": "stdout",
          "output_type": "stream",
          "text": [
            "train acc=0.997093023255814, [l1_loss, ce_loss] => [0.5305841619318182, 0.3803932883522727, 0.3350275213068182, 1.4327947443181819, 0.4951393821022727]\n",
            "Epoch: 20, loss: 3.1737, lr: 0.00000206\n"
          ]
        },
        {
          "name": "stderr",
          "output_type": "stream",
          "text": [
            "epoch 21: 100%|██████████| 11/11 [00:30<00:00,  2.74s/it, cur_loss=3.24]\n"
          ]
        },
        {
          "name": "stdout",
          "output_type": "stream",
          "text": [
            "train acc=0.9956395348837209, [l1_loss, ce_loss] => [0.5247691761363636, 0.38026012073863635, 0.3323419744318182, 1.4276455965909092, 0.49043412642045453]\n",
            "Epoch: 21, loss: 3.1557, lr: 0.00000165\n"
          ]
        },
        {
          "name": "stderr",
          "output_type": "stream",
          "text": [
            "epoch 22: 100%|██████████| 11/11 [00:27<00:00,  2.54s/it, cur_loss=3.13]\n"
          ]
        },
        {
          "name": "stdout",
          "output_type": "stream",
          "text": [
            "train acc=0.9941860465116279, [l1_loss, ce_loss] => [0.5252574573863636, 0.3795498934659091, 0.32310901988636365, 1.4215198863636365, 0.4814231178977273]\n",
            "Epoch: 22, loss: 3.1312, lr: 0.00000128\n"
          ]
        },
        {
          "name": "stderr",
          "output_type": "stream",
          "text": [
            "epoch 23: 100%|██████████| 11/11 [00:26<00:00,  2.38s/it, cur_loss=2.98]\n"
          ]
        },
        {
          "name": "stdout",
          "output_type": "stream",
          "text": [
            "train acc=0.997093023255814, [l1_loss, ce_loss] => [0.5249467329545454, 0.37901722301136365, 0.3159401633522727, 1.4167258522727273, 0.4703036221590909]\n",
            "Epoch: 23, loss: 3.1076, lr: 0.00000095\n"
          ]
        },
        {
          "name": "stderr",
          "output_type": "stream",
          "text": [
            "epoch 24: 100%|██████████| 11/11 [00:30<00:00,  2.77s/it, cur_loss=3.02]\n"
          ]
        },
        {
          "name": "stdout",
          "output_type": "stream",
          "text": [
            "train acc=0.9956395348837209, [l1_loss, ce_loss] => [0.5222389914772727, 0.37974964488636365, 0.3108132102272727, 1.3955078125, 0.4583407315340909]\n",
            "Epoch: 24, loss: 3.0669, lr: 0.00000067\n"
          ]
        },
        {
          "name": "stderr",
          "output_type": "stream",
          "text": [
            "epoch 25: 100%|██████████| 11/11 [00:27<00:00,  2.47s/it, cur_loss=3.22]\n"
          ]
        },
        {
          "name": "stdout",
          "output_type": "stream",
          "text": [
            "train acc=0.997093023255814, [l1_loss, ce_loss] => [0.5253018465909091, 0.37890625, 0.3127219460227273, 1.4091796875, 0.47008167613636365]\n",
            "Epoch: 25, loss: 3.0966, lr: 0.00000043\n"
          ]
        },
        {
          "name": "stderr",
          "output_type": "stream",
          "text": [
            "epoch 26: 100%|██████████| 11/11 [00:27<00:00,  2.50s/it, cur_loss=3.18]\n"
          ]
        },
        {
          "name": "stdout",
          "output_type": "stream",
          "text": [
            "train acc=0.997093023255814, [l1_loss, ce_loss] => [0.5222833806818182, 0.3800603693181818, 0.31685014204545453, 1.4029651988636365, 0.4696599786931818]\n",
            "Epoch: 26, loss: 3.0914, lr: 0.00000024\n"
          ]
        },
        {
          "name": "stderr",
          "output_type": "stream",
          "text": [
            "epoch 27: 100%|██████████| 11/11 [00:29<00:00,  2.71s/it, cur_loss=3.19]\n"
          ]
        },
        {
          "name": "stdout",
          "output_type": "stream",
          "text": [
            "train acc=0.997093023255814, [l1_loss, ce_loss] => [0.5235262784090909, 0.37999378551136365, 0.3183815696022727, 1.4108664772727273, 0.470947265625]\n",
            "Epoch: 27, loss: 3.1037, lr: 0.00000011\n"
          ]
        },
        {
          "name": "stderr",
          "output_type": "stream",
          "text": [
            "epoch 28: 100%|██████████| 11/11 [00:28<00:00,  2.63s/it, cur_loss=3.25]\n"
          ]
        },
        {
          "name": "stdout",
          "output_type": "stream",
          "text": [
            "train acc=0.9956395348837209, [l1_loss, ce_loss] => [0.5253018465909091, 0.37950550426136365, 0.3179376775568182, 1.4117542613636365, 0.47802734375]\n",
            "Epoch: 28, loss: 3.1126, lr: 0.00000003\n"
          ]
        },
        {
          "name": "stderr",
          "output_type": "stream",
          "text": [
            "epoch 29: 100%|██████████| 11/11 [00:30<00:00,  2.75s/it, cur_loss=3.01]\n"
          ]
        },
        {
          "name": "stdout",
          "output_type": "stream",
          "text": [
            "train acc=0.9956395348837209, [l1_loss, ce_loss] => [0.5228604403409091, 0.3797274502840909, 0.30985884232954547, 1.4020774147727273, 0.4668634588068182]\n",
            "Epoch: 29, loss: 3.0815, lr: 0.00000000\n",
            "Training complete!\n"
          ]
        },
        {
          "name": "stderr",
          "output_type": "stream",
          "text": [
            "Evaluate: 100%|██████████| 229/229 [01:53<00:00,  2.02it/s]\n"
          ]
        },
        {
          "name": "stdout",
          "output_type": "stream",
          "text": [
            "\n",
            "Test F1-macro:  0.8501511984255443\n",
            "#######################################\n",
            "\n",
            "Iteration:  4\n",
            "\n",
            "#######################################\n",
            "Training non-few shot model...\n",
            "Train dataset size:  915\n",
            "Test dataset size:  229\n",
            "Epoch 1/10\n",
            "  Training Loss: 3.5860\n",
            "Epoch 2/10\n",
            "  Training Loss: 3.4368\n",
            "Epoch 3/10\n",
            "  Training Loss: 3.3925\n",
            "Epoch 4/10\n",
            "  Training Loss: 3.3307\n",
            "Epoch 5/10\n",
            "  Training Loss: 3.2767\n",
            "Epoch 6/10\n",
            "  Training Loss: 3.2719\n",
            "Epoch 7/10\n",
            "  Training Loss: 3.2707\n",
            "Epoch 8/10\n",
            "  Training Loss: 3.2533\n",
            "Epoch 9/10\n",
            "  Training Loss: 3.2321\n",
            "Epoch 10/10\n",
            "  Training Loss: 3.2156\n",
            "Training complete!\n",
            "\n",
            "Test F1-macro:  0.2587758739939063\n",
            "##########################################\n",
            "2025-06-10 02:40:11 Getting cached textual weights W ...\n",
            "2025-06-10 02:40:11 Loading texture features from ./__few_shot_cache__\\bangladesh_dataset_ViT-B/16_textfeats.pt\n",
            "\n",
            "#######################################\n",
            "Training few-shot model...\n",
            "Train dataset size:  11\n",
            "Test dataset size:  229\n"
          ]
        },
        {
          "name": "stderr",
          "output_type": "stream",
          "text": [
            "epoch 0: 100%|██████████| 11/11 [00:23<00:00,  2.12s/it, cur_loss=11.3]\n"
          ]
        },
        {
          "name": "stdout",
          "output_type": "stream",
          "text": [
            "train acc=0.07703488372093023, [l1_loss, ce_loss] => [4.182572798295454, 0.2918368252840909, 3.5619673295454546, 3.700461647727273, 3.595703125]\n",
            "Epoch: 0, loss: 15.3331, lr: 0.00000997\n"
          ]
        },
        {
          "name": "stderr",
          "output_type": "stream",
          "text": [
            "epoch 1: 100%|██████████| 11/11 [00:24<00:00,  2.21s/it, cur_loss=9.68]\n"
          ]
        },
        {
          "name": "stdout",
          "output_type": "stream",
          "text": [
            "train acc=0.3706395348837209, [l1_loss, ce_loss] => [0.5383522727272727, 0.2998712713068182, 2.887784090909091, 3.386008522727273, 3.0916193181818183]\n",
            "Epoch: 1, loss: 10.2045, lr: 0.00000989\n"
          ]
        },
        {
          "name": "stderr",
          "output_type": "stream",
          "text": [
            "epoch 2: 100%|██████████| 11/11 [00:24<00:00,  2.23s/it, cur_loss=9.05]\n"
          ]
        },
        {
          "name": "stdout",
          "output_type": "stream",
          "text": [
            "train acc=0.5566860465116279, [l1_loss, ce_loss] => [0.5443448153409091, 0.3072842684659091, 2.442649147727273, 3.1617542613636362, 2.685546875]\n",
            "Epoch: 2, loss: 9.1399, lr: 0.00000976\n"
          ]
        },
        {
          "name": "stderr",
          "output_type": "stream",
          "text": [
            "epoch 3: 100%|██████████| 11/11 [00:24<00:00,  2.23s/it, cur_loss=7.3] \n"
          ]
        },
        {
          "name": "stdout",
          "output_type": "stream",
          "text": [
            "train acc=0.688953488372093, [l1_loss, ce_loss] => [0.5630770596590909, 0.315185546875, 2.0474964488636362, 2.9256036931818183, 2.254616477272727]\n",
            "Epoch: 3, loss: 8.1040, lr: 0.00000957\n"
          ]
        },
        {
          "name": "stderr",
          "output_type": "stream",
          "text": [
            "epoch 4: 100%|██████████| 11/11 [00:24<00:00,  2.27s/it, cur_loss=6.97]\n"
          ]
        },
        {
          "name": "stdout",
          "output_type": "stream",
          "text": [
            "train acc=0.7630813953488372, [l1_loss, ce_loss] => [0.5653409090909091, 0.31953568892045453, 1.7492009943181819, 2.7263849431818183, 1.9016335227272727]\n",
            "Epoch: 4, loss: 7.2610, lr: 0.00000933\n"
          ]
        },
        {
          "name": "stderr",
          "output_type": "stream",
          "text": [
            "epoch 5: 100%|██████████| 11/11 [00:25<00:00,  2.29s/it, cur_loss=6.1] \n"
          ]
        },
        {
          "name": "stdout",
          "output_type": "stream",
          "text": [
            "train acc=0.8415697674418605, [l1_loss, ce_loss] => [0.5622336647727273, 0.33045543323863635, 1.4988458806818181, 2.5484730113636362, 1.6261541193181819]\n",
            "Epoch: 5, loss: 6.5664, lr: 0.00000905\n"
          ]
        },
        {
          "name": "stderr",
          "output_type": "stream",
          "text": [
            "epoch 6: 100%|██████████| 11/11 [00:25<00:00,  2.29s/it, cur_loss=5.89]\n"
          ]
        },
        {
          "name": "stdout",
          "output_type": "stream",
          "text": [
            "train acc=0.8837209302325582, [l1_loss, ce_loss] => [0.5660067471590909, 0.3363591974431818, 1.2965198863636365, 2.377840909090909, 1.4014559659090908]\n",
            "Epoch: 6, loss: 5.9776, lr: 0.00000872\n"
          ]
        },
        {
          "name": "stderr",
          "output_type": "stream",
          "text": [
            "epoch 7: 100%|██████████| 11/11 [00:25<00:00,  2.30s/it, cur_loss=5.06]\n"
          ]
        },
        {
          "name": "stdout",
          "output_type": "stream",
          "text": [
            "train acc=0.9127906976744186, [l1_loss, ce_loss] => [0.5601473721590909, 0.34388316761363635, 1.1004971590909092, 2.188210227272727, 1.1877663352272727]\n",
            "Epoch: 7, loss: 5.3814, lr: 0.00000835\n"
          ]
        },
        {
          "name": "stderr",
          "output_type": "stream",
          "text": [
            "epoch 8: 100%|██████████| 11/11 [00:25<00:00,  2.30s/it, cur_loss=4.98]\n"
          ]
        },
        {
          "name": "stdout",
          "output_type": "stream",
          "text": [
            "train acc=0.9287790697674418, [l1_loss, ce_loss] => [0.5515358664772727, 0.34825550426136365, 0.9601828835227273, 2.066495028409091, 1.0439009232954546]\n",
            "Epoch: 8, loss: 4.9702, lr: 0.00000794\n"
          ]
        },
        {
          "name": "stderr",
          "output_type": "stream",
          "text": [
            "epoch 9: 100%|██████████| 11/11 [00:25<00:00,  2.31s/it, cur_loss=4.3] \n"
          ]
        },
        {
          "name": "stdout",
          "output_type": "stream",
          "text": [
            "train acc=0.9520348837209303, [l1_loss, ce_loss] => [0.5533558238636364, 0.3544256036931818, 0.8248845880681818, 1.9118430397727273, 0.9045188210227273]\n",
            "Epoch: 9, loss: 4.5483, lr: 0.00000750\n"
          ]
        },
        {
          "name": "stderr",
          "output_type": "stream",
          "text": [
            "epoch 10: 100%|██████████| 11/11 [00:25<00:00,  2.30s/it, cur_loss=4.46]\n"
          ]
        },
        {
          "name": "stdout",
          "output_type": "stream",
          "text": [
            "train acc=0.9665697674418605, [l1_loss, ce_loss] => [0.5485174005681818, 0.3572443181818182, 0.7111594460227273, 1.7954545454545454, 0.7945223721590909]\n",
            "Epoch: 10, loss: 4.2077, lr: 0.00000703\n"
          ]
        },
        {
          "name": "stderr",
          "output_type": "stream",
          "text": [
            "epoch 11: 100%|██████████| 11/11 [00:25<00:00,  2.32s/it, cur_loss=3.88]\n"
          ]
        },
        {
          "name": "stdout",
          "output_type": "stream",
          "text": [
            "train acc=0.9694767441860465, [l1_loss, ce_loss] => [0.5419921875, 0.35791015625, 0.6104847301136364, 1.6844815340909092, 0.6913618607954546]\n",
            "Epoch: 11, loss: 3.8864, lr: 0.00000655\n"
          ]
        },
        {
          "name": "stderr",
          "output_type": "stream",
          "text": [
            "epoch 12: 100%|██████████| 11/11 [00:25<00:00,  2.31s/it, cur_loss=3.47]\n"
          ]
        },
        {
          "name": "stdout",
          "output_type": "stream",
          "text": [
            "train acc=0.9811046511627907, [l1_loss, ce_loss] => [0.5255681818181818, 0.3610617897727273, 0.5483176491477273, 1.5870028409090908, 0.6278852982954546]\n",
            "Epoch: 12, loss: 3.6495, lr: 0.00000604\n"
          ]
        },
        {
          "name": "stderr",
          "output_type": "stream",
          "text": [
            "epoch 13: 100%|██████████| 11/11 [00:25<00:00,  2.32s/it, cur_loss=3.48]\n"
          ]
        },
        {
          "name": "stdout",
          "output_type": "stream",
          "text": [
            "train acc=0.9869186046511628, [l1_loss, ce_loss] => [0.5184215198863636, 0.36250443892045453, 0.4866388494318182, 1.5154474431818181, 0.5704456676136364]\n",
            "Epoch: 13, loss: 3.4537, lr: 0.00000552\n"
          ]
        },
        {
          "name": "stderr",
          "output_type": "stream",
          "text": [
            "epoch 14: 100%|██████████| 11/11 [00:25<00:00,  2.32s/it, cur_loss=3.07]\n"
          ]
        },
        {
          "name": "stdout",
          "output_type": "stream",
          "text": [
            "train acc=0.9898255813953488, [l1_loss, ce_loss] => [0.5083451704545454, 0.36292613636363635, 0.44031871448863635, 1.4547230113636365, 0.5254794034090909]\n",
            "Epoch: 14, loss: 3.2917, lr: 0.00000500\n"
          ]
        },
        {
          "name": "stderr",
          "output_type": "stream",
          "text": [
            "epoch 15: 100%|██████████| 11/11 [00:25<00:00,  2.33s/it, cur_loss=3.34]\n"
          ]
        },
        {
          "name": "stdout",
          "output_type": "stream",
          "text": [
            "train acc=0.9883720930232558, [l1_loss, ce_loss] => [0.504638671875, 0.36414683948863635, 0.40831409801136365, 1.4215198863636365, 0.502197265625]\n",
            "Epoch: 15, loss: 3.2010, lr: 0.00000448\n"
          ]
        },
        {
          "name": "stderr",
          "output_type": "stream",
          "text": [
            "epoch 16: 100%|██████████| 11/11 [00:25<00:00,  2.32s/it, cur_loss=3.29]\n"
          ]
        },
        {
          "name": "stdout",
          "output_type": "stream",
          "text": [
            "train acc=0.9941860465116279, [l1_loss, ce_loss] => [0.5059259588068182, 0.364990234375, 0.37886186079545453, 1.3567116477272727, 0.4720791903409091]\n",
            "Epoch: 16, loss: 3.0787, lr: 0.00000396\n"
          ]
        },
        {
          "name": "stderr",
          "output_type": "stream",
          "text": [
            "epoch 17: 100%|██████████| 11/11 [00:25<00:00,  2.32s/it, cur_loss=2.95]\n"
          ]
        },
        {
          "name": "stdout",
          "output_type": "stream",
          "text": [
            "train acc=0.9941860465116279, [l1_loss, ce_loss] => [0.4970703125, 0.3662331321022727, 0.35600142045454547, 1.326171875, 0.4427157315340909]\n",
            "Epoch: 17, loss: 2.9888, lr: 0.00000345\n"
          ]
        },
        {
          "name": "stderr",
          "output_type": "stream",
          "text": [
            "epoch 18: 100%|██████████| 11/11 [00:25<00:00,  2.35s/it, cur_loss=2.88]\n"
          ]
        },
        {
          "name": "stdout",
          "output_type": "stream",
          "text": [
            "train acc=0.9927325581395349, [l1_loss, ce_loss] => [0.4914772727272727, 0.3647682883522727, 0.3348055752840909, 1.3011363636363635, 0.4231178977272727]\n",
            "Epoch: 18, loss: 2.9150, lr: 0.00000297\n"
          ]
        },
        {
          "name": "stderr",
          "output_type": "stream",
          "text": [
            "epoch 19: 100%|██████████| 11/11 [00:25<00:00,  2.33s/it, cur_loss=2.9] \n"
          ]
        },
        {
          "name": "stdout",
          "output_type": "stream",
          "text": [
            "train acc=0.9956395348837209, [l1_loss, ce_loss] => [0.4878595525568182, 0.36396928267045453, 0.320068359375, 1.2733487215909092, 0.41053355823863635]\n",
            "Epoch: 19, loss: 2.8562, lr: 0.00000250\n"
          ]
        },
        {
          "name": "stderr",
          "output_type": "stream",
          "text": [
            "epoch 20: 100%|██████████| 11/11 [00:25<00:00,  2.35s/it, cur_loss=2.86]\n"
          ]
        },
        {
          "name": "stdout",
          "output_type": "stream",
          "text": [
            "train acc=0.997093023255814, [l1_loss, ce_loss] => [0.48506303267045453, 0.3644131747159091, 0.3135431463068182, 1.2542613636363635, 0.4030983664772727]\n",
            "Epoch: 20, loss: 2.8205, lr: 0.00000206\n"
          ]
        },
        {
          "name": "stderr",
          "output_type": "stream",
          "text": [
            "epoch 21: 100%|██████████| 11/11 [00:25<00:00,  2.33s/it, cur_loss=2.78]\n"
          ]
        },
        {
          "name": "stdout",
          "output_type": "stream",
          "text": [
            "train acc=0.9941860465116279, [l1_loss, ce_loss] => [0.48490767045454547, 0.3655007102272727, 0.3053977272727273, 1.25, 0.4054509943181818]\n",
            "Epoch: 21, loss: 2.8114, lr: 0.00000165\n"
          ]
        },
        {
          "name": "stderr",
          "output_type": "stream",
          "text": [
            "epoch 22: 100%|██████████| 11/11 [00:25<00:00,  2.32s/it, cur_loss=2.8] \n"
          ]
        },
        {
          "name": "stdout",
          "output_type": "stream",
          "text": [
            "train acc=0.997093023255814, [l1_loss, ce_loss] => [0.47920365767045453, 0.3645685369318182, 0.3009588068181818, 1.2315340909090908, 0.3924893465909091]\n",
            "Epoch: 22, loss: 2.7686, lr: 0.00000128\n"
          ]
        },
        {
          "name": "stderr",
          "output_type": "stream",
          "text": [
            "epoch 23: 100%|██████████| 11/11 [00:25<00:00,  2.36s/it, cur_loss=2.77]\n"
          ]
        },
        {
          "name": "stdout",
          "output_type": "stream",
          "text": [
            "train acc=0.997093023255814, [l1_loss, ce_loss] => [0.47636274857954547, 0.36607776988636365, 0.29285777698863635, 1.2170632102272727, 0.38105912642045453]\n",
            "Epoch: 23, loss: 2.7337, lr: 0.00000095\n"
          ]
        },
        {
          "name": "stderr",
          "output_type": "stream",
          "text": [
            "epoch 24: 100%|██████████| 11/11 [00:25<00:00,  2.36s/it, cur_loss=2.66]\n"
          ]
        },
        {
          "name": "stdout",
          "output_type": "stream",
          "text": [
            "train acc=0.9956395348837209, [l1_loss, ce_loss] => [0.47791637073863635, 0.36470170454545453, 0.29234730113636365, 1.2139559659090908, 0.37764115767045453]\n",
            "Epoch: 24, loss: 2.7260, lr: 0.00000067\n"
          ]
        },
        {
          "name": "stderr",
          "output_type": "stream",
          "text": [
            "epoch 25: 100%|██████████| 11/11 [00:25<00:00,  2.34s/it, cur_loss=2.84]\n"
          ]
        },
        {
          "name": "stdout",
          "output_type": "stream",
          "text": [
            "train acc=0.997093023255814, [l1_loss, ce_loss] => [0.4780495383522727, 0.3649680397727273, 0.2946555397727273, 1.2222123579545454, 0.3870516690340909]\n",
            "Epoch: 25, loss: 2.7473, lr: 0.00000043\n"
          ]
        },
        {
          "name": "stderr",
          "output_type": "stream",
          "text": [
            "epoch 26: 100%|██████████| 11/11 [00:25<00:00,  2.33s/it, cur_loss=2.77]\n"
          ]
        },
        {
          "name": "stdout",
          "output_type": "stream",
          "text": [
            "train acc=0.997093023255814, [l1_loss, ce_loss] => [0.4756747159090909, 0.364501953125, 0.2934237393465909, 1.2211470170454546, 0.3897372159090909]\n",
            "Epoch: 26, loss: 2.7443, lr: 0.00000024\n"
          ]
        },
        {
          "name": "stderr",
          "output_type": "stream",
          "text": [
            "epoch 27: 100%|██████████| 11/11 [00:25<00:00,  2.34s/it, cur_loss=2.72]\n"
          ]
        },
        {
          "name": "stdout",
          "output_type": "stream",
          "text": [
            "train acc=0.997093023255814, [l1_loss, ce_loss] => [0.4762517755681818, 0.36503462357954547, 0.28868519176136365, 1.2175958806818181, 0.3783291903409091]\n",
            "Epoch: 27, loss: 2.7260, lr: 0.00000011\n"
          ]
        },
        {
          "name": "stderr",
          "output_type": "stream",
          "text": [
            "epoch 28: 100%|██████████| 11/11 [00:25<00:00,  2.36s/it, cur_loss=2.73]\n"
          ]
        },
        {
          "name": "stdout",
          "output_type": "stream",
          "text": [
            "train acc=0.997093023255814, [l1_loss, ce_loss] => [0.47685102982954547, 0.3658114346590909, 0.2948996803977273, 1.2229225852272727, 0.385009765625]\n",
            "Epoch: 28, loss: 2.7457, lr: 0.00000003\n"
          ]
        },
        {
          "name": "stderr",
          "output_type": "stream",
          "text": [
            "epoch 29: 100%|██████████| 11/11 [00:25<00:00,  2.34s/it, cur_loss=2.77]\n"
          ]
        },
        {
          "name": "stdout",
          "output_type": "stream",
          "text": [
            "train acc=0.9956395348837209, [l1_loss, ce_loss] => [0.47831587357954547, 0.36474609375, 0.2920809659090909, 1.2218572443181819, 0.3824795809659091]\n",
            "Epoch: 29, loss: 2.7397, lr: 0.00000000\n",
            "Training complete!\n"
          ]
        },
        {
          "name": "stderr",
          "output_type": "stream",
          "text": [
            "Evaluate: 100%|██████████| 229/229 [01:52<00:00,  2.03it/s]\n"
          ]
        },
        {
          "name": "stdout",
          "output_type": "stream",
          "text": [
            "\n",
            "Test F1-macro:  0.8712177844277512\n",
            "#######################################\n",
            "Processing the Hugging Face dataset: chinese_dataset\n"
          ]
        },
        {
          "name": "stderr",
          "output_type": "stream",
          "text": [
            "Processing images: 100%|██████████| 5902/5902 [00:00<00:00, 783825.67it/s]\n"
          ]
        },
        {
          "name": "stdout",
          "output_type": "stream",
          "text": [
            "Number of filtered labels:  47\n",
            "Number of removed labels:  11\n",
            "Number of samples in the dataset:  5902\n",
            "\n",
            "Iteration:  0\n",
            "\n",
            "#######################################\n",
            "Training non-few shot model...\n",
            "Train dataset size:  74\n",
            "Test dataset size:  19\n",
            "Epoch 1/10\n",
            "  Training Loss: 3.8092\n",
            "Epoch 2/10\n",
            "  Training Loss: 3.8014\n",
            "Epoch 3/10\n",
            "  Training Loss: 3.8015\n",
            "Epoch 4/10\n",
            "  Training Loss: 3.8012\n",
            "Epoch 5/10\n",
            "  Training Loss: 3.6990\n",
            "Epoch 6/10\n",
            "  Training Loss: 3.6135\n",
            "Epoch 7/10\n",
            "  Training Loss: 3.5958\n",
            "Epoch 8/10\n",
            "  Training Loss: 3.5939\n",
            "Epoch 9/10\n",
            "  Training Loss: 3.5928\n",
            "Epoch 10/10\n",
            "  Training Loss: 3.5912\n",
            "Training complete!\n",
            "\n",
            "Test F1-macro:  0.05696035202050413\n",
            "##########################################\n",
            "2025-06-10 02:58:18 Getting cached textual weights W ...\n",
            "\n",
            "#######################################\n",
            "Training few-shot model...\n",
            "Train dataset size:  12\n",
            "Test dataset size:  19\n"
          ]
        },
        {
          "name": "stderr",
          "output_type": "stream",
          "text": [
            "epoch 0: 100%|██████████| 12/12 [00:35<00:00,  2.96s/it, cur_loss=11.5]\n"
          ]
        },
        {
          "name": "stdout",
          "output_type": "stream",
          "text": [
            "train acc=0.19148936170212766, [l1_loss, ce_loss] => [6.609944661458333, 0.3224894205729167, 3.4344075520833335, 3.6988932291666665, 3.5263671875]\n",
            "Epoch: 0, loss: 17.5931, lr: 0.00000997\n"
          ]
        },
        {
          "name": "stderr",
          "output_type": "stream",
          "text": [
            "epoch 1: 100%|██████████| 12/12 [00:32<00:00,  2.68s/it, cur_loss=9.07]\n"
          ]
        },
        {
          "name": "stdout",
          "output_type": "stream",
          "text": [
            "train acc=0.5997340425531915, [l1_loss, ce_loss] => [0.9113362630208334, 0.3335367838541667, 2.5568033854166665, 3.3131510416666665, 2.8474934895833335]\n",
            "Epoch: 1, loss: 9.9622, lr: 0.00000989\n"
          ]
        },
        {
          "name": "stderr",
          "output_type": "stream",
          "text": [
            "epoch 2: 100%|██████████| 12/12 [00:28<00:00,  2.37s/it, cur_loss=7.46]\n"
          ]
        },
        {
          "name": "stdout",
          "output_type": "stream",
          "text": [
            "train acc=0.7965425531914894, [l1_loss, ce_loss] => [0.7176106770833334, 0.3420003255208333, 1.9610188802083333, 3.0244140625, 2.2900390625]\n",
            "Epoch: 2, loss: 8.3363, lr: 0.00000976\n"
          ]
        },
        {
          "name": "stderr",
          "output_type": "stream",
          "text": [
            "epoch 3: 100%|██████████| 12/12 [00:29<00:00,  2.43s/it, cur_loss=6.79]\n"
          ]
        },
        {
          "name": "stdout",
          "output_type": "stream",
          "text": [
            "train acc=0.8710106382978723, [l1_loss, ce_loss] => [0.6466064453125, 0.3476155598958333, 1.543212890625, 2.77099609375, 1.8157552083333333]\n",
            "Epoch: 3, loss: 7.1247, lr: 0.00000957\n"
          ]
        },
        {
          "name": "stderr",
          "output_type": "stream",
          "text": [
            "epoch 4: 100%|██████████| 12/12 [00:29<00:00,  2.42s/it, cur_loss=5.81]\n"
          ]
        },
        {
          "name": "stdout",
          "output_type": "stream",
          "text": [
            "train acc=0.9335106382978723, [l1_loss, ce_loss] => [0.6475016276041666, 0.3527018229166667, 1.2420247395833333, 2.55224609375, 1.4691569010416667]\n",
            "Epoch: 4, loss: 6.2637, lr: 0.00000933\n"
          ]
        },
        {
          "name": "stderr",
          "output_type": "stream",
          "text": [
            "epoch 5: 100%|██████████| 12/12 [00:29<00:00,  2.43s/it, cur_loss=5.81]\n"
          ]
        },
        {
          "name": "stdout",
          "output_type": "stream",
          "text": [
            "train acc=0.9375, [l1_loss, ce_loss] => [0.6199951171875, 0.35882568359375, 1.0263671875, 2.3603515625, 1.21826171875]\n",
            "Epoch: 5, loss: 5.5840, lr: 0.00000905\n"
          ]
        },
        {
          "name": "stderr",
          "output_type": "stream",
          "text": [
            "epoch 6: 100%|██████████| 12/12 [00:29<00:00,  2.44s/it, cur_loss=4.92]\n"
          ]
        },
        {
          "name": "stdout",
          "output_type": "stream",
          "text": [
            "train acc=0.9534574468085106, [l1_loss, ce_loss] => [0.612060546875, 0.3613484700520833, 0.8513997395833334, 2.16796875, 1.0183919270833333]\n",
            "Epoch: 6, loss: 5.0111, lr: 0.00000872\n"
          ]
        },
        {
          "name": "stderr",
          "output_type": "stream",
          "text": [
            "epoch 7: 100%|██████████| 12/12 [00:29<00:00,  2.44s/it, cur_loss=4.83]\n"
          ]
        },
        {
          "name": "stdout",
          "output_type": "stream",
          "text": [
            "train acc=0.9707446808510638, [l1_loss, ce_loss] => [0.5932210286458334, 0.3665974934895833, 0.7281901041666666, 2.0225423177083335, 0.8937174479166666]\n",
            "Epoch: 7, loss: 4.6042, lr: 0.00000835\n"
          ]
        },
        {
          "name": "stderr",
          "output_type": "stream",
          "text": [
            "epoch 8: 100%|██████████| 12/12 [00:29<00:00,  2.45s/it, cur_loss=4]   \n"
          ]
        },
        {
          "name": "stdout",
          "output_type": "stream",
          "text": [
            "train acc=0.9800531914893617, [l1_loss, ce_loss] => [0.5751546223958334, 0.369140625, 0.6098225911458334, 1.8748372395833333, 0.77001953125]\n",
            "Epoch: 8, loss: 4.1991, lr: 0.00000794\n"
          ]
        },
        {
          "name": "stderr",
          "output_type": "stream",
          "text": [
            "epoch 9: 100%|██████████| 12/12 [00:29<00:00,  2.45s/it, cur_loss=3.78]\n"
          ]
        },
        {
          "name": "stdout",
          "output_type": "stream",
          "text": [
            "train acc=0.9800531914893617, [l1_loss, ce_loss] => [0.54833984375, 0.3703816731770833, 0.5293172200520834, 1.73486328125, 0.68603515625]\n",
            "Epoch: 9, loss: 3.8691, lr: 0.00000750\n"
          ]
        },
        {
          "name": "stderr",
          "output_type": "stream",
          "text": [
            "epoch 10: 100%|██████████| 12/12 [00:29<00:00,  2.44s/it, cur_loss=3.6] \n"
          ]
        },
        {
          "name": "stdout",
          "output_type": "stream",
          "text": [
            "train acc=0.9853723404255319, [l1_loss, ce_loss] => [0.5357666015625, 0.3736775716145833, 0.4550374348958333, 1.6463216145833333, 0.6131795247395834]\n",
            "Epoch: 10, loss: 3.6243, lr: 0.00000703\n"
          ]
        },
        {
          "name": "stderr",
          "output_type": "stream",
          "text": [
            "epoch 11: 100%|██████████| 12/12 [00:29<00:00,  2.45s/it, cur_loss=3.26]\n"
          ]
        },
        {
          "name": "stdout",
          "output_type": "stream",
          "text": [
            "train acc=0.9853723404255319, [l1_loss, ce_loss] => [0.532470703125, 0.37548828125, 0.4066162109375, 1.5436197916666667, 0.5598958333333334]\n",
            "Epoch: 11, loss: 3.4183, lr: 0.00000655\n"
          ]
        },
        {
          "name": "stderr",
          "output_type": "stream",
          "text": [
            "epoch 12: 100%|██████████| 12/12 [00:29<00:00,  2.45s/it, cur_loss=3.45]\n"
          ]
        },
        {
          "name": "stdout",
          "output_type": "stream",
          "text": [
            "train acc=0.9867021276595744, [l1_loss, ce_loss] => [0.5195515950520834, 0.3770345052083333, 0.3659871419270833, 1.4645182291666667, 0.508056640625]\n",
            "Epoch: 12, loss: 3.2350, lr: 0.00000604\n"
          ]
        },
        {
          "name": "stderr",
          "output_type": "stream",
          "text": [
            "epoch 13: 100%|██████████| 12/12 [00:29<00:00,  2.46s/it, cur_loss=3.19]\n"
          ]
        },
        {
          "name": "stdout",
          "output_type": "stream",
          "text": [
            "train acc=0.9920212765957447, [l1_loss, ce_loss] => [0.5029093424479166, 0.3797200520833333, 0.3334147135416667, 1.4022623697916667, 0.4798990885416667]\n",
            "Epoch: 13, loss: 3.0981, lr: 0.00000552\n"
          ]
        },
        {
          "name": "stderr",
          "output_type": "stream",
          "text": [
            "epoch 14: 100%|██████████| 12/12 [00:29<00:00,  2.45s/it, cur_loss=3.12]\n"
          ]
        },
        {
          "name": "stdout",
          "output_type": "stream",
          "text": [
            "train acc=0.9906914893617021, [l1_loss, ce_loss] => [0.4933064778645833, 0.3798828125, 0.3062337239583333, 1.3472493489583333, 0.443603515625]\n",
            "Epoch: 14, loss: 2.9704, lr: 0.00000500\n"
          ]
        },
        {
          "name": "stderr",
          "output_type": "stream",
          "text": [
            "epoch 15: 100%|██████████| 12/12 [00:29<00:00,  2.44s/it, cur_loss=2.91]\n"
          ]
        },
        {
          "name": "stdout",
          "output_type": "stream",
          "text": [
            "train acc=0.9933510638297872, [l1_loss, ce_loss] => [0.4841715494791667, 0.3795369466145833, 0.2891947428385417, 1.2845865885416667, 0.4217529296875]\n",
            "Epoch: 15, loss: 2.8595, lr: 0.00000448\n"
          ]
        },
        {
          "name": "stderr",
          "output_type": "stream",
          "text": [
            "epoch 16: 100%|██████████| 12/12 [00:29<00:00,  2.46s/it, cur_loss=2.84]\n"
          ]
        },
        {
          "name": "stdout",
          "output_type": "stream",
          "text": [
            "train acc=0.9946808510638298, [l1_loss, ce_loss] => [0.4731852213541667, 0.3785196940104167, 0.27001953125, 1.254150390625, 0.3980916341145833]\n",
            "Epoch: 16, loss: 2.7738, lr: 0.00000396\n"
          ]
        },
        {
          "name": "stderr",
          "output_type": "stream",
          "text": [
            "epoch 17: 100%|██████████| 12/12 [00:29<00:00,  2.45s/it, cur_loss=2.84]\n"
          ]
        },
        {
          "name": "stdout",
          "output_type": "stream",
          "text": [
            "train acc=0.9946808510638298, [l1_loss, ce_loss] => [0.4719645182291667, 0.3798014322916667, 0.2651468912760417, 1.2356770833333333, 0.3979695638020833]\n",
            "Epoch: 17, loss: 2.7505, lr: 0.00000345\n"
          ]
        },
        {
          "name": "stderr",
          "output_type": "stream",
          "text": [
            "epoch 18: 100%|██████████| 12/12 [00:29<00:00,  2.45s/it, cur_loss=2.8] \n"
          ]
        },
        {
          "name": "stdout",
          "output_type": "stream",
          "text": [
            "train acc=0.9946808510638298, [l1_loss, ce_loss] => [0.4658203125, 0.3809407552083333, 0.25335693359375, 1.202392578125, 0.38134765625]\n",
            "Epoch: 18, loss: 2.6839, lr: 0.00000297\n"
          ]
        },
        {
          "name": "stderr",
          "output_type": "stream",
          "text": [
            "epoch 19: 100%|██████████| 12/12 [00:29<00:00,  2.48s/it, cur_loss=2.7] \n"
          ]
        },
        {
          "name": "stdout",
          "output_type": "stream",
          "text": [
            "train acc=0.9960106382978723, [l1_loss, ce_loss] => [0.4605916341145833, 0.3799845377604167, 0.24432373046875, 1.184326171875, 0.3705647786458333]\n",
            "Epoch: 19, loss: 2.6400, lr: 0.00000250\n"
          ]
        },
        {
          "name": "stderr",
          "output_type": "stream",
          "text": [
            "epoch 20: 100%|██████████| 12/12 [00:29<00:00,  2.47s/it, cur_loss=2.69]\n"
          ]
        },
        {
          "name": "stdout",
          "output_type": "stream",
          "text": [
            "train acc=0.9933510638297872, [l1_loss, ce_loss] => [0.4572550455729167, 0.38153076171875, 0.23918660481770834, 1.175048828125, 0.3638712565104167]\n",
            "Epoch: 20, loss: 2.6169, lr: 0.00000206\n"
          ]
        },
        {
          "name": "stderr",
          "output_type": "stream",
          "text": [
            "epoch 21: 100%|██████████| 12/12 [00:29<00:00,  2.47s/it, cur_loss=2.64]\n"
          ]
        },
        {
          "name": "stdout",
          "output_type": "stream",
          "text": [
            "train acc=0.9960106382978723, [l1_loss, ce_loss] => [0.4567464192708333, 0.380859375, 0.23555501302083334, 1.1630859375, 0.3591105143229167]\n",
            "Epoch: 21, loss: 2.5957, lr: 0.00000165\n"
          ]
        },
        {
          "name": "stderr",
          "output_type": "stream",
          "text": [
            "epoch 22: 100%|██████████| 12/12 [00:29<00:00,  2.46s/it, cur_loss=2.51]\n"
          ]
        },
        {
          "name": "stdout",
          "output_type": "stream",
          "text": [
            "train acc=0.9946808510638298, [l1_loss, ce_loss] => [0.4533284505208333, 0.3810628255208333, 0.23192342122395834, 1.1551106770833333, 0.3568115234375]\n",
            "Epoch: 22, loss: 2.5785, lr: 0.00000128\n"
          ]
        },
        {
          "name": "stderr",
          "output_type": "stream",
          "text": [
            "epoch 23: 100%|██████████| 12/12 [00:29<00:00,  2.46s/it, cur_loss=2.77]\n"
          ]
        },
        {
          "name": "stdout",
          "output_type": "stream",
          "text": [
            "train acc=0.9933510638297872, [l1_loss, ce_loss] => [0.4542643229166667, 0.38079833984375, 0.23259480794270834, 1.15380859375, 0.3558146158854167]\n",
            "Epoch: 23, loss: 2.5771, lr: 0.00000095\n"
          ]
        },
        {
          "name": "stderr",
          "output_type": "stream",
          "text": [
            "epoch 24: 100%|██████████| 12/12 [00:29<00:00,  2.45s/it, cur_loss=2.52]\n"
          ]
        },
        {
          "name": "stdout",
          "output_type": "stream",
          "text": [
            "train acc=0.9960106382978723, [l1_loss, ce_loss] => [0.4507039388020833, 0.3795369466145833, 0.23293050130208334, 1.1472981770833333, 0.3539835611979167]\n",
            "Epoch: 24, loss: 2.5646, lr: 0.00000067\n"
          ]
        },
        {
          "name": "stderr",
          "output_type": "stream",
          "text": [
            "epoch 25: 100%|██████████| 12/12 [00:29<00:00,  2.47s/it, cur_loss=2.49]\n"
          ]
        },
        {
          "name": "stdout",
          "output_type": "stream",
          "text": [
            "train acc=0.9946808510638298, [l1_loss, ce_loss] => [0.4510904947916667, 0.3808390299479167, 0.23206583658854166, 1.150634765625, 0.35748291015625]\n",
            "Epoch: 25, loss: 2.5724, lr: 0.00000043\n"
          ]
        },
        {
          "name": "stderr",
          "output_type": "stream",
          "text": [
            "epoch 26: 100%|██████████| 12/12 [00:29<00:00,  2.47s/it, cur_loss=2.49]\n"
          ]
        },
        {
          "name": "stdout",
          "output_type": "stream",
          "text": [
            "train acc=0.9960106382978723, [l1_loss, ce_loss] => [0.4513346354166667, 0.3792317708333333, 0.22889200846354166, 1.1466471354166667, 0.3536580403645833]\n",
            "Epoch: 26, loss: 2.5599, lr: 0.00000024\n"
          ]
        },
        {
          "name": "stderr",
          "output_type": "stream",
          "text": [
            "epoch 27: 100%|██████████| 12/12 [00:29<00:00,  2.46s/it, cur_loss=2.56]\n"
          ]
        },
        {
          "name": "stdout",
          "output_type": "stream",
          "text": [
            "train acc=0.9946808510638298, [l1_loss, ce_loss] => [0.4519246419270833, 0.3800862630208333, 0.23063151041666666, 1.148681640625, 0.3544108072916667]\n",
            "Epoch: 27, loss: 2.5654, lr: 0.00000011\n"
          ]
        },
        {
          "name": "stderr",
          "output_type": "stream",
          "text": [
            "epoch 28: 100%|██████████| 12/12 [00:29<00:00,  2.46s/it, cur_loss=2.56]\n"
          ]
        },
        {
          "name": "stdout",
          "output_type": "stream",
          "text": [
            "train acc=0.9946808510638298, [l1_loss, ce_loss] => [0.4512532552083333, 0.38104248046875, 0.229156494140625, 1.1357421875, 0.34820556640625]\n",
            "Epoch: 28, loss: 2.5456, lr: 0.00000003\n"
          ]
        },
        {
          "name": "stderr",
          "output_type": "stream",
          "text": [
            "epoch 29: 100%|██████████| 12/12 [00:29<00:00,  2.47s/it, cur_loss=2.54]\n"
          ]
        },
        {
          "name": "stdout",
          "output_type": "stream",
          "text": [
            "train acc=0.9960106382978723, [l1_loss, ce_loss] => [0.4494425455729167, 0.37982177734375, 0.23145548502604166, 1.1439615885416667, 0.3557332356770833]\n",
            "Epoch: 29, loss: 2.5605, lr: 0.00000000\n",
            "Training complete!\n"
          ]
        },
        {
          "name": "stderr",
          "output_type": "stream",
          "text": [
            "Evaluate: 100%|██████████| 19/19 [00:11<00:00,  1.64it/s]\n"
          ]
        },
        {
          "name": "stdout",
          "output_type": "stream",
          "text": [
            "\n",
            "Test F1-macro:  0.9624106370537779\n",
            "#######################################\n",
            "\n",
            "Iteration:  1\n",
            "\n",
            "#######################################\n",
            "Training non-few shot model...\n",
            "Train dataset size:  74\n",
            "Test dataset size:  19\n",
            "Epoch 1/10\n",
            "  Training Loss: 3.7483\n",
            "Epoch 2/10\n",
            "  Training Loss: 3.5848\n",
            "Epoch 3/10\n",
            "  Training Loss: 3.5537\n",
            "Epoch 4/10\n",
            "  Training Loss: 3.5255\n",
            "Epoch 5/10\n",
            "  Training Loss: 3.4849\n",
            "Epoch 6/10\n",
            "  Training Loss: 3.4617\n",
            "Epoch 7/10\n",
            "  Training Loss: 3.4522\n",
            "Epoch 8/10\n",
            "  Training Loss: 3.4365\n",
            "Epoch 9/10\n",
            "  Training Loss: 3.4256\n",
            "Epoch 10/10\n",
            "  Training Loss: 3.4181\n",
            "Training complete!\n",
            "\n",
            "Test F1-macro:  0.1466870561421339\n",
            "##########################################\n",
            "2025-06-10 03:16:43 Getting cached textual weights W ...\n",
            "2025-06-10 03:16:43 Loading texture features from ./__few_shot_cache__\\chinese_dataset_ViT-B/16_textfeats.pt\n",
            "\n",
            "#######################################\n",
            "Training few-shot model...\n",
            "Train dataset size:  12\n",
            "Test dataset size:  19\n"
          ]
        },
        {
          "name": "stderr",
          "output_type": "stream",
          "text": [
            "epoch 0: 100%|██████████| 12/12 [00:39<00:00,  3.31s/it, cur_loss=11.3]\n"
          ]
        },
        {
          "name": "stdout",
          "output_type": "stream",
          "text": [
            "train acc=0.15425531914893617, [l1_loss, ce_loss] => [6.547200520833333, 0.327880859375, 3.4835611979166665, 3.7034505208333335, 3.5218098958333335]\n",
            "Epoch: 0, loss: 17.5820, lr: 0.00000997\n"
          ]
        },
        {
          "name": "stderr",
          "output_type": "stream",
          "text": [
            "epoch 1: 100%|██████████| 12/12 [00:41<00:00,  3.43s/it, cur_loss=9.29]\n"
          ]
        },
        {
          "name": "stdout",
          "output_type": "stream",
          "text": [
            "train acc=0.5478723404255319, [l1_loss, ce_loss] => [0.9329020182291666, 0.3321329752604167, 2.5968424479166665, 3.3304036458333335, 2.8017578125]\n",
            "Epoch: 1, loss: 9.9954, lr: 0.00000989\n"
          ]
        },
        {
          "name": "stderr",
          "output_type": "stream",
          "text": [
            "epoch 2: 100%|██████████| 12/12 [00:41<00:00,  3.44s/it, cur_loss=8.05]\n"
          ]
        },
        {
          "name": "stdout",
          "output_type": "stream",
          "text": [
            "train acc=0.7632978723404256, [l1_loss, ce_loss] => [0.7167154947916666, 0.3400065104166667, 2.0411783854166665, 3.0652669270833335, 2.3126627604166665]\n",
            "Epoch: 2, loss: 8.4759, lr: 0.00000976\n"
          ]
        },
        {
          "name": "stderr",
          "output_type": "stream",
          "text": [
            "epoch 3: 100%|██████████| 12/12 [00:41<00:00,  3.45s/it, cur_loss=6.99]\n"
          ]
        },
        {
          "name": "stdout",
          "output_type": "stream",
          "text": [
            "train acc=0.8656914893617021, [l1_loss, ce_loss] => [0.6968994140625, 0.3511149088541667, 1.6356608072916667, 2.8312174479166665, 1.9373372395833333]\n",
            "Epoch: 3, loss: 7.4521, lr: 0.00000957\n"
          ]
        },
        {
          "name": "stderr",
          "output_type": "stream",
          "text": [
            "epoch 4: 100%|██████████| 12/12 [00:41<00:00,  3.48s/it, cur_loss=6.21]\n"
          ]
        },
        {
          "name": "stdout",
          "output_type": "stream",
          "text": [
            "train acc=0.9295212765957447, [l1_loss, ce_loss] => [0.66357421875, 0.3550821940104167, 1.3221028645833333, 2.6036783854166665, 1.6221516927083333]\n",
            "Epoch: 4, loss: 6.5661, lr: 0.00000933\n"
          ]
        },
        {
          "name": "stderr",
          "output_type": "stream",
          "text": [
            "epoch 5: 100%|██████████| 12/12 [00:41<00:00,  3.45s/it, cur_loss=5.79]\n"
          ]
        },
        {
          "name": "stdout",
          "output_type": "stream",
          "text": [
            "train acc=0.9601063829787234, [l1_loss, ce_loss] => [0.64599609375, 0.360107421875, 1.0610758463541667, 2.3849283854166665, 1.3485514322916667]\n",
            "Epoch: 5, loss: 5.7998, lr: 0.00000905\n"
          ]
        },
        {
          "name": "stderr",
          "output_type": "stream",
          "text": [
            "epoch 6: 100%|██████████| 12/12 [00:41<00:00,  3.47s/it, cur_loss=5.16]\n"
          ]
        },
        {
          "name": "stdout",
          "output_type": "stream",
          "text": [
            "train acc=0.964095744680851, [l1_loss, ce_loss] => [0.6303304036458334, 0.3648478190104167, 0.8553873697916666, 2.2096354166666665, 1.1265462239583333]\n",
            "Epoch: 6, loss: 5.1859, lr: 0.00000872\n"
          ]
        },
        {
          "name": "stderr",
          "output_type": "stream",
          "text": [
            "epoch 7: 100%|██████████| 12/12 [00:41<00:00,  3.47s/it, cur_loss=4.62]\n"
          ]
        },
        {
          "name": "stdout",
          "output_type": "stream",
          "text": [
            "train acc=0.973404255319149, [l1_loss, ce_loss] => [0.6270751953125, 0.3691813151041667, 0.6879475911458334, 2.0413411458333335, 0.9385579427083334]\n",
            "Epoch: 7, loss: 4.6644, lr: 0.00000835\n"
          ]
        },
        {
          "name": "stderr",
          "output_type": "stream",
          "text": [
            "epoch 8: 100%|██████████| 12/12 [00:41<00:00,  3.47s/it, cur_loss=4.38]\n"
          ]
        },
        {
          "name": "stdout",
          "output_type": "stream",
          "text": [
            "train acc=0.9800531914893617, [l1_loss, ce_loss] => [0.6057942708333334, 0.37249755859375, 0.5677897135416666, 1.8758951822916667, 0.7844645182291666]\n",
            "Epoch: 8, loss: 4.2064, lr: 0.00000794\n"
          ]
        },
        {
          "name": "stderr",
          "output_type": "stream",
          "text": [
            "epoch 9: 100%|██████████| 12/12 [00:41<00:00,  3.48s/it, cur_loss=3.63]\n"
          ]
        },
        {
          "name": "stdout",
          "output_type": "stream",
          "text": [
            "train acc=0.9813829787234043, [l1_loss, ce_loss] => [0.5822347005208334, 0.37530517578125, 0.4723307291666667, 1.7491048177083333, 0.6718343098958334]\n",
            "Epoch: 9, loss: 3.8512, lr: 0.00000750\n"
          ]
        },
        {
          "name": "stderr",
          "output_type": "stream",
          "text": [
            "epoch 10: 100%|██████████| 12/12 [00:41<00:00,  3.47s/it, cur_loss=3.72]\n"
          ]
        },
        {
          "name": "stdout",
          "output_type": "stream",
          "text": [
            "train acc=0.9867021276595744, [l1_loss, ce_loss] => [0.5760498046875, 0.3771565755208333, 0.4112345377604167, 1.648681640625, 0.5968017578125]\n",
            "Epoch: 10, loss: 3.6097, lr: 0.00000703\n"
          ]
        },
        {
          "name": "stderr",
          "output_type": "stream",
          "text": [
            "epoch 11: 100%|██████████| 12/12 [00:41<00:00,  3.46s/it, cur_loss=3.33]\n"
          ]
        },
        {
          "name": "stdout",
          "output_type": "stream",
          "text": [
            "train acc=0.9867021276595744, [l1_loss, ce_loss] => [0.5625, 0.37872314453125, 0.3567097981770833, 1.5442708333333333, 0.5214029947916666]\n",
            "Epoch: 11, loss: 3.3638, lr: 0.00000655\n"
          ]
        },
        {
          "name": "stderr",
          "output_type": "stream",
          "text": [
            "epoch 12: 100%|██████████| 12/12 [00:41<00:00,  3.49s/it, cur_loss=3.08]\n"
          ]
        },
        {
          "name": "stdout",
          "output_type": "stream",
          "text": [
            "train acc=0.9946808510638298, [l1_loss, ce_loss] => [0.5439860026041666, 0.37957763671875, 0.3152669270833333, 1.456787109375, 0.4640706380208333]\n",
            "Epoch: 12, loss: 3.1598, lr: 0.00000604\n"
          ]
        },
        {
          "name": "stderr",
          "output_type": "stream",
          "text": [
            "epoch 13: 100%|██████████| 12/12 [00:42<00:00,  3.50s/it, cur_loss=3.1] \n"
          ]
        },
        {
          "name": "stdout",
          "output_type": "stream",
          "text": [
            "train acc=0.9906914893617021, [l1_loss, ce_loss] => [0.5357666015625, 0.3818155924479167, 0.2930196126302083, 1.39892578125, 0.4325154622395833]\n",
            "Epoch: 13, loss: 3.0420, lr: 0.00000552\n"
          ]
        },
        {
          "name": "stderr",
          "output_type": "stream",
          "text": [
            "epoch 14: 100%|██████████| 12/12 [00:42<00:00,  3.52s/it, cur_loss=2.88]\n"
          ]
        },
        {
          "name": "stdout",
          "output_type": "stream",
          "text": [
            "train acc=0.9920212765957447, [l1_loss, ce_loss] => [0.5232747395833334, 0.3821614583333333, 0.2633565266927083, 1.3256022135416667, 0.3919881184895833]\n",
            "Epoch: 14, loss: 2.8864, lr: 0.00000500\n"
          ]
        },
        {
          "name": "stderr",
          "output_type": "stream",
          "text": [
            "epoch 15: 100%|██████████| 12/12 [00:41<00:00,  3.50s/it, cur_loss=2.81]\n"
          ]
        },
        {
          "name": "stdout",
          "output_type": "stream",
          "text": [
            "train acc=0.9920212765957447, [l1_loss, ce_loss] => [0.5145670572916666, 0.38214111328125, 0.24904378255208334, 1.2843424479166667, 0.3713175455729167]\n",
            "Epoch: 15, loss: 2.8011, lr: 0.00000448\n"
          ]
        },
        {
          "name": "stderr",
          "output_type": "stream",
          "text": [
            "epoch 16: 100%|██████████| 12/12 [00:42<00:00,  3.52s/it, cur_loss=2.68]\n"
          ]
        },
        {
          "name": "stdout",
          "output_type": "stream",
          "text": [
            "train acc=0.9986702127659575, [l1_loss, ce_loss] => [0.5089518229166666, 0.3813680013020833, 0.23549397786458334, 1.2493489583333333, 0.3516438802083333]\n",
            "Epoch: 16, loss: 2.7269, lr: 0.00000396\n"
          ]
        },
        {
          "name": "stderr",
          "output_type": "stream",
          "text": [
            "epoch 17: 100%|██████████| 12/12 [00:42<00:00,  3.51s/it, cur_loss=2.71]\n"
          ]
        },
        {
          "name": "stdout",
          "output_type": "stream",
          "text": [
            "train acc=0.9906914893617021, [l1_loss, ce_loss] => [0.4997355143229167, 0.3824666341145833, 0.22569783528645834, 1.2027994791666667, 0.3394571940104167]\n",
            "Epoch: 17, loss: 2.6506, lr: 0.00000345\n"
          ]
        },
        {
          "name": "stderr",
          "output_type": "stream",
          "text": [
            "epoch 18: 100%|██████████| 12/12 [00:42<00:00,  3.50s/it, cur_loss=2.65]\n"
          ]
        },
        {
          "name": "stdout",
          "output_type": "stream",
          "text": [
            "train acc=0.9933510638297872, [l1_loss, ce_loss] => [0.4943440755208333, 0.380859375, 0.219085693359375, 1.1879069010416667, 0.3269246419270833]\n",
            "Epoch: 18, loss: 2.6090, lr: 0.00000297\n"
          ]
        },
        {
          "name": "stderr",
          "output_type": "stream",
          "text": [
            "epoch 19: 100%|██████████| 12/12 [00:42<00:00,  3.50s/it, cur_loss=2.52]\n"
          ]
        },
        {
          "name": "stdout",
          "output_type": "stream",
          "text": [
            "train acc=0.9946808510638298, [l1_loss, ce_loss] => [0.4895426432291667, 0.3805745442708333, 0.2122802734375, 1.1737467447916667, 0.3181355794270833]\n",
            "Epoch: 19, loss: 2.5744, lr: 0.00000250\n"
          ]
        },
        {
          "name": "stderr",
          "output_type": "stream",
          "text": [
            "epoch 20: 100%|██████████| 12/12 [00:41<00:00,  3.49s/it, cur_loss=2.55]\n"
          ]
        },
        {
          "name": "stdout",
          "output_type": "stream",
          "text": [
            "train acc=0.9933510638297872, [l1_loss, ce_loss] => [0.4866739908854167, 0.3828328450520833, 0.20777384440104166, 1.1559244791666667, 0.31243896484375]\n",
            "Epoch: 20, loss: 2.5459, lr: 0.00000206\n"
          ]
        },
        {
          "name": "stderr",
          "output_type": "stream",
          "text": [
            "epoch 21: 100%|██████████| 12/12 [00:41<00:00,  3.50s/it, cur_loss=2.48]\n"
          ]
        },
        {
          "name": "stdout",
          "output_type": "stream",
          "text": [
            "train acc=0.9933510638297872, [l1_loss, ce_loss] => [0.4843953450520833, 0.3822835286458333, 0.20703125, 1.1359049479166667, 0.3113810221354167]\n",
            "Epoch: 21, loss: 2.5207, lr: 0.00000165\n"
          ]
        },
        {
          "name": "stderr",
          "output_type": "stream",
          "text": [
            "epoch 22: 100%|██████████| 12/12 [00:42<00:00,  3.50s/it, cur_loss=2.45]\n"
          ]
        },
        {
          "name": "stdout",
          "output_type": "stream",
          "text": [
            "train acc=0.9960106382978723, [l1_loss, ce_loss] => [0.4842732747395833, 0.3816935221354167, 0.20530192057291666, 1.1490071614583333, 0.3122151692708333]\n",
            "Epoch: 22, loss: 2.5322, lr: 0.00000128\n"
          ]
        },
        {
          "name": "stderr",
          "output_type": "stream",
          "text": [
            "epoch 23: 100%|██████████| 12/12 [00:42<00:00,  3.51s/it, cur_loss=2.35]\n"
          ]
        },
        {
          "name": "stdout",
          "output_type": "stream",
          "text": [
            "train acc=0.9960106382978723, [l1_loss, ce_loss] => [0.4808349609375, 0.3818766276041667, 0.20311482747395834, 1.1422526041666667, 0.3069661458333333]\n",
            "Epoch: 23, loss: 2.5156, lr: 0.00000095\n"
          ]
        },
        {
          "name": "stderr",
          "output_type": "stream",
          "text": [
            "epoch 24: 100%|██████████| 12/12 [00:42<00:00,  3.51s/it, cur_loss=2.64]\n"
          ]
        },
        {
          "name": "stdout",
          "output_type": "stream",
          "text": [
            "train acc=0.9946808510638298, [l1_loss, ce_loss] => [0.4813028971354167, 0.3811848958333333, 0.202850341796875, 1.12890625, 0.30462646484375]\n",
            "Epoch: 24, loss: 2.4985, lr: 0.00000067\n"
          ]
        },
        {
          "name": "stderr",
          "output_type": "stream",
          "text": [
            "epoch 25: 100%|██████████| 12/12 [00:41<00:00,  3.50s/it, cur_loss=2.6] \n"
          ]
        },
        {
          "name": "stdout",
          "output_type": "stream",
          "text": [
            "train acc=0.9973404255319149, [l1_loss, ce_loss] => [0.4808349609375, 0.3804524739583333, 0.20140584309895834, 1.13671875, 0.3039754231770833]\n",
            "Epoch: 25, loss: 2.5036, lr: 0.00000043\n"
          ]
        },
        {
          "name": "stderr",
          "output_type": "stream",
          "text": [
            "epoch 26: 100%|██████████| 12/12 [00:41<00:00,  3.50s/it, cur_loss=2.48]\n"
          ]
        },
        {
          "name": "stdout",
          "output_type": "stream",
          "text": [
            "train acc=0.9960106382978723, [l1_loss, ce_loss] => [0.4819539388020833, 0.3815714518229167, 0.19972737630208334, 1.1241861979166667, 0.30078125]\n",
            "Epoch: 26, loss: 2.4881, lr: 0.00000024\n"
          ]
        },
        {
          "name": "stderr",
          "output_type": "stream",
          "text": [
            "epoch 27: 100%|██████████| 12/12 [00:42<00:00,  3.51s/it, cur_loss=2.44]\n"
          ]
        },
        {
          "name": "stdout",
          "output_type": "stream",
          "text": [
            "train acc=0.9960106382978723, [l1_loss, ce_loss] => [0.48162841796875, 0.3820597330729167, 0.20197550455729166, 1.1321614583333333, 0.30523681640625]\n",
            "Epoch: 27, loss: 2.5028, lr: 0.00000011\n"
          ]
        },
        {
          "name": "stderr",
          "output_type": "stream",
          "text": [
            "epoch 28: 100%|██████████| 12/12 [00:42<00:00,  3.50s/it, cur_loss=2.46]\n"
          ]
        },
        {
          "name": "stdout",
          "output_type": "stream",
          "text": [
            "train acc=0.9960106382978723, [l1_loss, ce_loss] => [0.4779052734375, 0.3815714518229167, 0.19920857747395834, 1.1276041666666667, 0.30157470703125]\n",
            "Epoch: 28, loss: 2.4880, lr: 0.00000003\n"
          ]
        },
        {
          "name": "stderr",
          "output_type": "stream",
          "text": [
            "epoch 29: 100%|██████████| 12/12 [00:42<00:00,  3.51s/it, cur_loss=2.57]\n"
          ]
        },
        {
          "name": "stdout",
          "output_type": "stream",
          "text": [
            "train acc=0.9960106382978723, [l1_loss, ce_loss] => [0.4824625651041667, 0.3817545572916667, 0.19945271809895834, 1.1337890625, 0.30316162109375]\n",
            "Epoch: 29, loss: 2.5005, lr: 0.00000000\n",
            "Training complete!\n"
          ]
        },
        {
          "name": "stderr",
          "output_type": "stream",
          "text": [
            "Evaluate: 100%|██████████| 19/19 [00:19<00:00,  1.03s/it]\n"
          ]
        },
        {
          "name": "stdout",
          "output_type": "stream",
          "text": [
            "\n",
            "Test F1-macro:  0.9640748361787483\n",
            "#######################################\n",
            "\n",
            "Iteration:  2\n",
            "\n",
            "#######################################\n",
            "Training non-few shot model...\n",
            "Train dataset size:  74\n",
            "Test dataset size:  19\n",
            "Epoch 1/10\n",
            "  Training Loss: 3.7985\n",
            "Epoch 2/10\n",
            "  Training Loss: 3.7370\n",
            "Epoch 3/10\n",
            "  Training Loss: 3.7120\n",
            "Epoch 4/10\n",
            "  Training Loss: 3.6808\n",
            "Epoch 5/10\n",
            "  Training Loss: 3.6805\n",
            "Epoch 6/10\n",
            "  Training Loss: 3.6800\n",
            "Epoch 7/10\n",
            "  Training Loss: 3.6793\n",
            "Epoch 8/10\n",
            "  Training Loss: 3.6791\n",
            "Epoch 9/10\n",
            "  Training Loss: 3.6791\n",
            "Epoch 10/10\n",
            "  Training Loss: 3.6771\n",
            "Training complete!\n",
            "\n",
            "Test F1-macro:  0.04401137569795166\n",
            "##########################################\n",
            "2025-06-10 03:41:15 Getting cached textual weights W ...\n",
            "2025-06-10 03:41:15 Loading texture features from ./__few_shot_cache__\\chinese_dataset_ViT-B/16_textfeats.pt\n",
            "\n",
            "#######################################\n",
            "Training few-shot model...\n",
            "Train dataset size:  12\n",
            "Test dataset size:  19\n"
          ]
        },
        {
          "name": "stderr",
          "output_type": "stream",
          "text": [
            "epoch 0: 100%|██████████| 12/12 [00:29<00:00,  2.45s/it, cur_loss=11.2]\n"
          ]
        },
        {
          "name": "stdout",
          "output_type": "stream",
          "text": [
            "train acc=0.19148936170212766, [l1_loss, ce_loss] => [6.23291015625, 0.3186442057291667, 3.4249674479166665, 3.70654296875, 3.5042317708333335]\n",
            "Epoch: 0, loss: 17.1862, lr: 0.00000997\n"
          ]
        },
        {
          "name": "stderr",
          "output_type": "stream",
          "text": [
            "epoch 1: 100%|██████████| 12/12 [00:29<00:00,  2.45s/it, cur_loss=9.37]\n"
          ]
        },
        {
          "name": "stdout",
          "output_type": "stream",
          "text": [
            "train acc=0.5651595744680851, [l1_loss, ce_loss] => [0.8666585286458334, 0.3272501627604167, 2.5091145833333335, 3.3069661458333335, 2.7890625]\n",
            "Epoch: 1, loss: 9.7988, lr: 0.00000989\n"
          ]
        },
        {
          "name": "stderr",
          "output_type": "stream",
          "text": [
            "epoch 2: 100%|██████████| 12/12 [00:28<00:00,  2.41s/it, cur_loss=8.11]\n"
          ]
        },
        {
          "name": "stdout",
          "output_type": "stream",
          "text": [
            "train acc=0.7579787234042553, [l1_loss, ce_loss] => [0.7377522786458334, 0.3336995442708333, 1.9326171875, 3.0275065104166665, 2.2967122395833335]\n",
            "Epoch: 2, loss: 8.3285, lr: 0.00000976\n"
          ]
        },
        {
          "name": "stderr",
          "output_type": "stream",
          "text": [
            "epoch 3: 100%|██████████| 12/12 [00:29<00:00,  2.47s/it, cur_loss=6.89]\n"
          ]
        },
        {
          "name": "stdout",
          "output_type": "stream",
          "text": [
            "train acc=0.8763297872340425, [l1_loss, ce_loss] => [0.6993408203125, 0.3390299479166667, 1.50341796875, 2.7452799479166665, 1.8902180989583333]\n",
            "Epoch: 3, loss: 7.1771, lr: 0.00000957\n"
          ]
        },
        {
          "name": "stderr",
          "output_type": "stream",
          "text": [
            "epoch 4: 100%|██████████| 12/12 [00:29<00:00,  2.47s/it, cur_loss=5.61]\n"
          ]
        },
        {
          "name": "stdout",
          "output_type": "stream",
          "text": [
            "train acc=0.9148936170212766, [l1_loss, ce_loss] => [0.6442464192708334, 0.3452351888020833, 1.15673828125, 2.4977213541666665, 1.5394694010416667]\n",
            "Epoch: 4, loss: 6.1833, lr: 0.00000933\n"
          ]
        },
        {
          "name": "stderr",
          "output_type": "stream",
          "text": [
            "epoch 5: 100%|██████████| 12/12 [00:29<00:00,  2.48s/it, cur_loss=5.66]\n"
          ]
        },
        {
          "name": "stdout",
          "output_type": "stream",
          "text": [
            "train acc=0.9454787234042553, [l1_loss, ce_loss] => [0.6353759765625, 0.3519694010416667, 0.9232991536458334, 2.3043619791666665, 1.27294921875]\n",
            "Epoch: 5, loss: 5.4873, lr: 0.00000905\n"
          ]
        },
        {
          "name": "stderr",
          "output_type": "stream",
          "text": [
            "epoch 6: 100%|██████████| 12/12 [00:29<00:00,  2.48s/it, cur_loss=4.38]\n"
          ]
        },
        {
          "name": "stdout",
          "output_type": "stream",
          "text": [
            "train acc=0.9587765957446809, [l1_loss, ce_loss] => [0.6283365885416666, 0.35931396484375, 0.725830078125, 2.0985514322916665, 1.0274658203125]\n",
            "Epoch: 6, loss: 4.8402, lr: 0.00000872\n"
          ]
        },
        {
          "name": "stderr",
          "output_type": "stream",
          "text": [
            "epoch 7: 100%|██████████| 12/12 [00:29<00:00,  2.48s/it, cur_loss=4.21]\n"
          ]
        },
        {
          "name": "stdout",
          "output_type": "stream",
          "text": [
            "train acc=0.9747340425531915, [l1_loss, ce_loss] => [0.5837809244791666, 0.3628336588541667, 0.5926106770833334, 1.93408203125, 0.8544108072916666]\n",
            "Epoch: 7, loss: 4.3268, lr: 0.00000835\n"
          ]
        },
        {
          "name": "stderr",
          "output_type": "stream",
          "text": [
            "epoch 8: 100%|██████████| 12/12 [00:29<00:00,  2.49s/it, cur_loss=3.67]\n"
          ]
        },
        {
          "name": "stdout",
          "output_type": "stream",
          "text": [
            "train acc=0.9800531914893617, [l1_loss, ce_loss] => [0.5897216796875, 0.36578369140625, 0.49591064453125, 1.78857421875, 0.7236328125]\n",
            "Epoch: 8, loss: 3.9639, lr: 0.00000794\n"
          ]
        },
        {
          "name": "stderr",
          "output_type": "stream",
          "text": [
            "epoch 9: 100%|██████████| 12/12 [00:30<00:00,  2.50s/it, cur_loss=3.71]\n"
          ]
        },
        {
          "name": "stdout",
          "output_type": "stream",
          "text": [
            "train acc=0.9853723404255319, [l1_loss, ce_loss] => [0.5680745442708334, 0.3682047526041667, 0.4234212239583333, 1.6795247395833333, 0.6131184895833334]\n",
            "Epoch: 9, loss: 3.6522, lr: 0.00000750\n"
          ]
        },
        {
          "name": "stderr",
          "output_type": "stream",
          "text": [
            "epoch 10: 100%|██████████| 12/12 [00:29<00:00,  2.50s/it, cur_loss=3.4] \n"
          ]
        },
        {
          "name": "stdout",
          "output_type": "stream",
          "text": [
            "train acc=0.9800531914893617, [l1_loss, ce_loss] => [0.5507405598958334, 0.3706258138020833, 0.3571573893229167, 1.5628255208333333, 0.521240234375]\n",
            "Epoch: 10, loss: 3.3628, lr: 0.00000703\n"
          ]
        },
        {
          "name": "stderr",
          "output_type": "stream",
          "text": [
            "epoch 11: 100%|██████████| 12/12 [00:29<00:00,  2.50s/it, cur_loss=2.82]\n"
          ]
        },
        {
          "name": "stdout",
          "output_type": "stream",
          "text": [
            "train acc=0.9906914893617021, [l1_loss, ce_loss] => [0.5346272786458334, 0.3734334309895833, 0.31475830078125, 1.4591471354166667, 0.4659627278645833]\n",
            "Epoch: 11, loss: 3.1483, lr: 0.00000655\n"
          ]
        },
        {
          "name": "stderr",
          "output_type": "stream",
          "text": [
            "epoch 12: 100%|██████████| 12/12 [00:29<00:00,  2.49s/it, cur_loss=2.94]\n"
          ]
        },
        {
          "name": "stdout",
          "output_type": "stream",
          "text": [
            "train acc=0.9893617021276596, [l1_loss, ce_loss] => [0.5271402994791666, 0.3749593098958333, 0.2880757649739583, 1.3793131510416667, 0.4220784505208333]\n",
            "Epoch: 12, loss: 2.9909, lr: 0.00000604\n"
          ]
        },
        {
          "name": "stderr",
          "output_type": "stream",
          "text": [
            "epoch 13: 100%|██████████| 12/12 [00:30<00:00,  2.51s/it, cur_loss=3.06]\n"
          ]
        },
        {
          "name": "stdout",
          "output_type": "stream",
          "text": [
            "train acc=0.9960106382978723, [l1_loss, ce_loss] => [0.5158487955729166, 0.3758341471354167, 0.2683003743489583, 1.3360188802083333, 0.3949381510416667]\n",
            "Epoch: 13, loss: 2.8906, lr: 0.00000552\n"
          ]
        },
        {
          "name": "stderr",
          "output_type": "stream",
          "text": [
            "epoch 14: 100%|██████████| 12/12 [00:30<00:00,  2.51s/it, cur_loss=2.98]\n"
          ]
        },
        {
          "name": "stdout",
          "output_type": "stream",
          "text": [
            "train acc=0.9920212765957447, [l1_loss, ce_loss] => [0.5009562174479166, 0.3755086263020833, 0.245849609375, 1.2718098958333333, 0.3626302083333333]\n",
            "Epoch: 14, loss: 2.7570, lr: 0.00000500\n"
          ]
        },
        {
          "name": "stderr",
          "output_type": "stream",
          "text": [
            "epoch 15: 100%|██████████| 12/12 [00:29<00:00,  2.49s/it, cur_loss=2.59]\n"
          ]
        },
        {
          "name": "stdout",
          "output_type": "stream",
          "text": [
            "train acc=0.9960106382978723, [l1_loss, ce_loss] => [0.4937337239583333, 0.3759765625, 0.22691853841145834, 1.2166341145833333, 0.3385213216145833]\n",
            "Epoch: 15, loss: 2.6517, lr: 0.00000448\n"
          ]
        },
        {
          "name": "stderr",
          "output_type": "stream",
          "text": [
            "epoch 16: 100%|██████████| 12/12 [00:30<00:00,  2.51s/it, cur_loss=2.64]\n"
          ]
        },
        {
          "name": "stdout",
          "output_type": "stream",
          "text": [
            "train acc=0.9946808510638298, [l1_loss, ce_loss] => [0.4844970703125, 0.3763427734375, 0.21820068359375, 1.1836751302083333, 0.3241170247395833]\n",
            "Epoch: 16, loss: 2.5869, lr: 0.00000396\n"
          ]
        },
        {
          "name": "stderr",
          "output_type": "stream",
          "text": [
            "epoch 17: 100%|██████████| 12/12 [00:30<00:00,  2.50s/it, cur_loss=2.53]\n"
          ]
        },
        {
          "name": "stdout",
          "output_type": "stream",
          "text": [
            "train acc=0.9946808510638298, [l1_loss, ce_loss] => [0.47802734375, 0.3754069010416667, 0.20933024088541666, 1.1534016927083333, 0.3152669270833333]\n",
            "Epoch: 17, loss: 2.5316, lr: 0.00000345\n"
          ]
        },
        {
          "name": "stderr",
          "output_type": "stream",
          "text": [
            "epoch 18: 100%|██████████| 12/12 [00:30<00:00,  2.50s/it, cur_loss=2.46]\n"
          ]
        },
        {
          "name": "stdout",
          "output_type": "stream",
          "text": [
            "train acc=0.9933510638297872, [l1_loss, ce_loss] => [0.47039794921875, 0.3762410481770833, 0.20131429036458334, 1.12890625, 0.30224609375]\n",
            "Epoch: 18, loss: 2.4792, lr: 0.00000297\n"
          ]
        },
        {
          "name": "stderr",
          "output_type": "stream",
          "text": [
            "epoch 19: 100%|██████████| 12/12 [00:30<00:00,  2.51s/it, cur_loss=2.39]\n"
          ]
        },
        {
          "name": "stdout",
          "output_type": "stream",
          "text": [
            "train acc=0.9946808510638298, [l1_loss, ce_loss] => [0.4676310221354167, 0.3746337890625, 0.19744873046875, 1.114013671875, 0.295501708984375]\n",
            "Epoch: 19, loss: 2.4492, lr: 0.00000250\n"
          ]
        },
        {
          "name": "stderr",
          "output_type": "stream",
          "text": [
            "epoch 20: 100%|██████████| 12/12 [00:30<00:00,  2.50s/it, cur_loss=2.42]\n"
          ]
        },
        {
          "name": "stdout",
          "output_type": "stream",
          "text": [
            "train acc=0.9960106382978723, [l1_loss, ce_loss] => [0.4612833658854167, 0.3764851888020833, 0.1903076171875, 1.0986328125, 0.2893269856770833]\n",
            "Epoch: 20, loss: 2.4159, lr: 0.00000206\n"
          ]
        },
        {
          "name": "stderr",
          "output_type": "stream",
          "text": [
            "epoch 21: 100%|██████████| 12/12 [00:30<00:00,  2.51s/it, cur_loss=2.33]\n"
          ]
        },
        {
          "name": "stdout",
          "output_type": "stream",
          "text": [
            "train acc=0.9973404255319149, [l1_loss, ce_loss] => [0.4622599283854167, 0.3747151692708333, 0.18949381510416666, 1.0945638020833333, 0.283111572265625]\n",
            "Epoch: 21, loss: 2.4041, lr: 0.00000165\n"
          ]
        },
        {
          "name": "stderr",
          "output_type": "stream",
          "text": [
            "epoch 22: 100%|██████████| 12/12 [00:29<00:00,  2.50s/it, cur_loss=2.38]\n"
          ]
        },
        {
          "name": "stdout",
          "output_type": "stream",
          "text": [
            "train acc=0.9960106382978723, [l1_loss, ce_loss] => [0.4584554036458333, 0.3769124348958333, 0.18628946940104166, 1.08203125, 0.279144287109375]\n",
            "Epoch: 22, loss: 2.3830, lr: 0.00000128\n"
          ]
        },
        {
          "name": "stderr",
          "output_type": "stream",
          "text": [
            "epoch 23: 100%|██████████| 12/12 [00:30<00:00,  2.52s/it, cur_loss=2.24]\n"
          ]
        },
        {
          "name": "stdout",
          "output_type": "stream",
          "text": [
            "train acc=0.9960106382978723, [l1_loss, ce_loss] => [0.4562174479166667, 0.3759765625, 0.18638102213541666, 1.07177734375, 0.2761128743489583]\n",
            "Epoch: 23, loss: 2.3660, lr: 0.00000095\n"
          ]
        },
        {
          "name": "stderr",
          "output_type": "stream",
          "text": [
            "epoch 24: 100%|██████████| 12/12 [00:30<00:00,  2.51s/it, cur_loss=2.44]\n"
          ]
        },
        {
          "name": "stdout",
          "output_type": "stream",
          "text": [
            "train acc=0.9960106382978723, [l1_loss, ce_loss] => [0.4566446940104167, 0.3764241536458333, 0.1864013671875, 1.0703938802083333, 0.2755228678385417]\n",
            "Epoch: 24, loss: 2.3656, lr: 0.00000067\n"
          ]
        },
        {
          "name": "stderr",
          "output_type": "stream",
          "text": [
            "epoch 25: 100%|██████████| 12/12 [00:30<00:00,  2.52s/it, cur_loss=2.34]\n"
          ]
        },
        {
          "name": "stdout",
          "output_type": "stream",
          "text": [
            "train acc=0.9960106382978723, [l1_loss, ce_loss] => [0.4566853841145833, 0.3755086263020833, 0.18436686197916666, 1.0744222005208333, 0.2797444661458333]\n",
            "Epoch: 25, loss: 2.3703, lr: 0.00000043\n"
          ]
        },
        {
          "name": "stderr",
          "output_type": "stream",
          "text": [
            "epoch 26: 100%|██████████| 12/12 [00:30<00:00,  2.50s/it, cur_loss=2.35]\n"
          ]
        },
        {
          "name": "stdout",
          "output_type": "stream",
          "text": [
            "train acc=0.9960106382978723, [l1_loss, ce_loss] => [0.4552815755208333, 0.3752237955729167, 0.18585205078125, 1.082763671875, 0.2810872395833333]\n",
            "Epoch: 26, loss: 2.3804, lr: 0.00000024\n"
          ]
        },
        {
          "name": "stderr",
          "output_type": "stream",
          "text": [
            "epoch 27: 100%|██████████| 12/12 [00:30<00:00,  2.51s/it, cur_loss=2.26]\n"
          ]
        },
        {
          "name": "stdout",
          "output_type": "stream",
          "text": [
            "train acc=0.9946808510638298, [l1_loss, ce_loss] => [0.45672607421875, 0.3753865559895833, 0.183624267578125, 1.0785319010416667, 0.2773030598958333]\n",
            "Epoch: 27, loss: 2.3716, lr: 0.00000011\n"
          ]
        },
        {
          "name": "stderr",
          "output_type": "stream",
          "text": [
            "epoch 28: 100%|██████████| 12/12 [00:30<00:00,  2.51s/it, cur_loss=2.4] \n"
          ]
        },
        {
          "name": "stdout",
          "output_type": "stream",
          "text": [
            "train acc=0.9973404255319149, [l1_loss, ce_loss] => [0.4565633138020833, 0.3757527669270833, 0.189208984375, 1.0843912760416667, 0.2847188313802083]\n",
            "Epoch: 28, loss: 2.3906, lr: 0.00000003\n"
          ]
        },
        {
          "name": "stderr",
          "output_type": "stream",
          "text": [
            "epoch 29: 100%|██████████| 12/12 [00:30<00:00,  2.53s/it, cur_loss=2.27]\n"
          ]
        },
        {
          "name": "stdout",
          "output_type": "stream",
          "text": [
            "train acc=0.9973404255319149, [l1_loss, ce_loss] => [0.4575602213541667, 0.375732421875, 0.18358357747395834, 1.0808919270833333, 0.2779032389322917]\n",
            "Epoch: 29, loss: 2.3753, lr: 0.00000000\n",
            "Training complete!\n"
          ]
        },
        {
          "name": "stderr",
          "output_type": "stream",
          "text": [
            "Evaluate: 100%|██████████| 19/19 [00:13<00:00,  1.36it/s]\n"
          ]
        },
        {
          "name": "stdout",
          "output_type": "stream",
          "text": [
            "\n",
            "Test F1-macro:  0.965106301171454\n",
            "#######################################\n",
            "\n",
            "Iteration:  3\n",
            "\n",
            "#######################################\n",
            "Training non-few shot model...\n",
            "Train dataset size:  74\n",
            "Test dataset size:  19\n",
            "Epoch 1/10\n",
            "  Training Loss: 3.7463\n",
            "Epoch 2/10\n",
            "  Training Loss: 3.6259\n",
            "Epoch 3/10\n",
            "  Training Loss: 3.6019\n",
            "Epoch 4/10\n",
            "  Training Loss: 3.5861\n",
            "Epoch 5/10\n",
            "  Training Loss: 3.5737\n",
            "Epoch 6/10\n",
            "  Training Loss: 3.5629\n",
            "Epoch 7/10\n",
            "  Training Loss: 3.5610\n",
            "Epoch 8/10\n",
            "  Training Loss: 3.5593\n",
            "Epoch 9/10\n",
            "  Training Loss: 3.5586\n",
            "Epoch 10/10\n",
            "  Training Loss: 3.5595\n",
            "Training complete!\n",
            "\n",
            "Test F1-macro:  0.07054506560153716\n",
            "##########################################\n",
            "2025-06-10 03:59:49 Getting cached textual weights W ...\n",
            "2025-06-10 03:59:49 Loading texture features from ./__few_shot_cache__\\chinese_dataset_ViT-B/16_textfeats.pt\n",
            "\n",
            "#######################################\n",
            "Training few-shot model...\n",
            "Train dataset size:  12\n",
            "Test dataset size:  19\n"
          ]
        },
        {
          "name": "stderr",
          "output_type": "stream",
          "text": [
            "epoch 0: 100%|██████████| 12/12 [00:38<00:00,  3.21s/it, cur_loss=11.7]\n"
          ]
        },
        {
          "name": "stdout",
          "output_type": "stream",
          "text": [
            "train acc=0.11702127659574468, [l1_loss, ce_loss] => [6.4747314453125, 0.3036295572916667, 3.6070963541666665, 3.798828125, 3.6552734375]\n",
            "Epoch: 0, loss: 17.8392, lr: 0.00000997\n"
          ]
        },
        {
          "name": "stderr",
          "output_type": "stream",
          "text": [
            "epoch 1: 100%|██████████| 12/12 [00:40<00:00,  3.38s/it, cur_loss=9.85]\n"
          ]
        },
        {
          "name": "stdout",
          "output_type": "stream",
          "text": [
            "train acc=0.4348404255319149, [l1_loss, ce_loss] => [0.8072916666666666, 0.3064982096354167, 2.84912109375, 3.4283854166666665, 3.0496419270833335]\n",
            "Epoch: 1, loss: 10.4408, lr: 0.00000989\n"
          ]
        },
        {
          "name": "stderr",
          "output_type": "stream",
          "text": [
            "epoch 2: 100%|██████████| 12/12 [00:39<00:00,  3.25s/it, cur_loss=8.79]\n"
          ]
        },
        {
          "name": "stdout",
          "output_type": "stream",
          "text": [
            "train acc=0.7047872340425532, [l1_loss, ce_loss] => [0.7127685546875, 0.3132120768229167, 2.2819010416666665, 3.1819661458333335, 2.59765625]\n",
            "Epoch: 2, loss: 9.0885, lr: 0.00000976\n"
          ]
        },
        {
          "name": "stderr",
          "output_type": "stream",
          "text": [
            "epoch 3: 100%|██████████| 12/12 [00:41<00:00,  3.42s/it, cur_loss=7.57]\n"
          ]
        },
        {
          "name": "stdout",
          "output_type": "stream",
          "text": [
            "train acc=0.8430851063829787, [l1_loss, ce_loss] => [0.6628824869791666, 0.3253580729166667, 1.8406575520833333, 2.9254557291666665, 2.19970703125]\n",
            "Epoch: 3, loss: 7.9538, lr: 0.00000957\n"
          ]
        },
        {
          "name": "stderr",
          "output_type": "stream",
          "text": [
            "epoch 4: 100%|██████████| 12/12 [00:39<00:00,  3.28s/it, cur_loss=6.63]\n"
          ]
        },
        {
          "name": "stdout",
          "output_type": "stream",
          "text": [
            "train acc=0.8856382978723404, [l1_loss, ce_loss] => [0.6336263020833334, 0.33123779296875, 1.4962565104166667, 2.7096354166666665, 1.8721516927083333]\n",
            "Epoch: 4, loss: 7.0433, lr: 0.00000933\n"
          ]
        },
        {
          "name": "stderr",
          "output_type": "stream",
          "text": [
            "epoch 5: 100%|██████████| 12/12 [00:41<00:00,  3.44s/it, cur_loss=6.22]\n"
          ]
        },
        {
          "name": "stdout",
          "output_type": "stream",
          "text": [
            "train acc=0.9295212765957447, [l1_loss, ce_loss] => [0.62353515625, 0.3361409505208333, 1.2274576822916667, 2.5048828125, 1.5880533854166667]\n",
            "Epoch: 5, loss: 6.2803, lr: 0.00000905\n"
          ]
        },
        {
          "name": "stderr",
          "output_type": "stream",
          "text": [
            "epoch 6: 100%|██████████| 12/12 [00:39<00:00,  3.30s/it, cur_loss=5.3] \n"
          ]
        },
        {
          "name": "stdout",
          "output_type": "stream",
          "text": [
            "train acc=0.9574468085106383, [l1_loss, ce_loss] => [0.626708984375, 0.3436686197916667, 1.0109456380208333, 2.3138020833333335, 1.3518880208333333]\n",
            "Epoch: 6, loss: 5.6468, lr: 0.00000872\n"
          ]
        },
        {
          "name": "stderr",
          "output_type": "stream",
          "text": [
            "epoch 7: 100%|██████████| 12/12 [00:41<00:00,  3.43s/it, cur_loss=4.88]\n"
          ]
        },
        {
          "name": "stdout",
          "output_type": "stream",
          "text": [
            "train acc=0.9707446808510638, [l1_loss, ce_loss] => [0.6141357421875, 0.3494873046875, 0.845703125, 2.1575520833333335, 1.1516927083333333]\n",
            "Epoch: 7, loss: 5.1191, lr: 0.00000835\n"
          ]
        },
        {
          "name": "stderr",
          "output_type": "stream",
          "text": [
            "epoch 8: 100%|██████████| 12/12 [00:39<00:00,  3.28s/it, cur_loss=4.59]\n"
          ]
        },
        {
          "name": "stdout",
          "output_type": "stream",
          "text": [
            "train acc=0.9773936170212766, [l1_loss, ce_loss] => [0.5948486328125, 0.3561808268229167, 0.7053629557291666, 2.0140787760416665, 0.978759765625]\n",
            "Epoch: 8, loss: 4.6494, lr: 0.00000794\n"
          ]
        },
        {
          "name": "stderr",
          "output_type": "stream",
          "text": [
            "epoch 9: 100%|██████████| 12/12 [00:41<00:00,  3.43s/it, cur_loss=4.23]\n"
          ]
        },
        {
          "name": "stdout",
          "output_type": "stream",
          "text": [
            "train acc=0.9813829787234043, [l1_loss, ce_loss] => [0.5873616536458334, 0.3573811848958333, 0.5936075846354166, 1.8799641927083333, 0.8352457682291666]\n",
            "Epoch: 9, loss: 4.2542, lr: 0.00000750\n"
          ]
        },
        {
          "name": "stderr",
          "output_type": "stream",
          "text": [
            "epoch 10: 100%|██████████| 12/12 [00:39<00:00,  3.30s/it, cur_loss=3.54]\n"
          ]
        },
        {
          "name": "stdout",
          "output_type": "stream",
          "text": [
            "train acc=0.9867021276595744, [l1_loss, ce_loss] => [0.5723063151041666, 0.3621826171875, 0.5086873372395834, 1.7775065104166667, 0.7217610677083334]\n",
            "Epoch: 10, loss: 3.9417, lr: 0.00000703\n"
          ]
        },
        {
          "name": "stderr",
          "output_type": "stream",
          "text": [
            "epoch 11: 100%|██████████| 12/12 [00:41<00:00,  3.43s/it, cur_loss=3.46]\n"
          ]
        },
        {
          "name": "stdout",
          "output_type": "stream",
          "text": [
            "train acc=0.9840425531914894, [l1_loss, ce_loss] => [0.5694173177083334, 0.3652547200520833, 0.4388020833333333, 1.6717936197916667, 0.6256917317708334]\n",
            "Epoch: 11, loss: 3.6714, lr: 0.00000655\n"
          ]
        },
        {
          "name": "stderr",
          "output_type": "stream",
          "text": [
            "epoch 12: 100%|██████████| 12/12 [00:39<00:00,  3.31s/it, cur_loss=3.18]\n"
          ]
        },
        {
          "name": "stdout",
          "output_type": "stream",
          "text": [
            "train acc=0.9893617021276596, [l1_loss, ce_loss] => [0.556396484375, 0.3687540690104167, 0.39935302734375, 1.584228515625, 0.5667521158854166]\n",
            "Epoch: 12, loss: 3.4751, lr: 0.00000604\n"
          ]
        },
        {
          "name": "stderr",
          "output_type": "stream",
          "text": [
            "epoch 13: 100%|██████████| 12/12 [00:41<00:00,  3.44s/it, cur_loss=3.32]\n"
          ]
        },
        {
          "name": "stdout",
          "output_type": "stream",
          "text": [
            "train acc=0.9920212765957447, [l1_loss, ce_loss] => [0.5464680989583334, 0.3682047526041667, 0.3644205729166667, 1.5291341145833333, 0.5180257161458334]\n",
            "Epoch: 13, loss: 3.3265, lr: 0.00000552\n"
          ]
        },
        {
          "name": "stderr",
          "output_type": "stream",
          "text": [
            "epoch 14: 100%|██████████| 12/12 [00:39<00:00,  3.30s/it, cur_loss=3.23]\n"
          ]
        },
        {
          "name": "stdout",
          "output_type": "stream",
          "text": [
            "train acc=0.9920212765957447, [l1_loss, ce_loss] => [0.533935546875, 0.36944580078125, 0.33233642578125, 1.4794108072916667, 0.47247314453125]\n",
            "Epoch: 14, loss: 3.1875, lr: 0.00000500\n"
          ]
        },
        {
          "name": "stderr",
          "output_type": "stream",
          "text": [
            "epoch 15: 100%|██████████| 12/12 [00:41<00:00,  3.45s/it, cur_loss=3.11]\n"
          ]
        },
        {
          "name": "stdout",
          "output_type": "stream",
          "text": [
            "train acc=0.9960106382978723, [l1_loss, ce_loss] => [0.5234375, 0.3710530598958333, 0.3074849446614583, 1.4293619791666667, 0.43939208984375]\n",
            "Epoch: 15, loss: 3.0708, lr: 0.00000448\n"
          ]
        },
        {
          "name": "stderr",
          "output_type": "stream",
          "text": [
            "epoch 16: 100%|██████████| 12/12 [00:39<00:00,  3.30s/it, cur_loss=2.88]\n"
          ]
        },
        {
          "name": "stdout",
          "output_type": "stream",
          "text": [
            "train acc=0.9933510638297872, [l1_loss, ce_loss] => [0.5173746744791666, 0.370849609375, 0.2893575032552083, 1.3828125, 0.4148966471354167]\n",
            "Epoch: 16, loss: 2.9757, lr: 0.00000396\n"
          ]
        },
        {
          "name": "stderr",
          "output_type": "stream",
          "text": [
            "epoch 17: 100%|██████████| 12/12 [00:41<00:00,  3.45s/it, cur_loss=2.88]\n"
          ]
        },
        {
          "name": "stdout",
          "output_type": "stream",
          "text": [
            "train acc=0.9960106382978723, [l1_loss, ce_loss] => [0.5154215494791666, 0.3705647786458333, 0.2754313151041667, 1.3611653645833333, 0.3903605143229167]\n",
            "Epoch: 17, loss: 2.9128, lr: 0.00000345\n"
          ]
        },
        {
          "name": "stderr",
          "output_type": "stream",
          "text": [
            "epoch 18: 100%|██████████| 12/12 [00:39<00:00,  3.29s/it, cur_loss=2.74]\n"
          ]
        },
        {
          "name": "stdout",
          "output_type": "stream",
          "text": [
            "train acc=0.9946808510638298, [l1_loss, ce_loss] => [0.50958251953125, 0.3724772135416667, 0.2691446940104167, 1.32958984375, 0.38226318359375]\n",
            "Epoch: 18, loss: 2.8633, lr: 0.00000297\n"
          ]
        },
        {
          "name": "stderr",
          "output_type": "stream",
          "text": [
            "epoch 19: 100%|██████████| 12/12 [00:41<00:00,  3.43s/it, cur_loss=2.75]\n"
          ]
        },
        {
          "name": "stdout",
          "output_type": "stream",
          "text": [
            "train acc=0.9933510638297872, [l1_loss, ce_loss] => [0.5037638346354166, 0.3717447916666667, 0.2653299967447917, 1.3169759114583333, 0.3786214192708333]\n",
            "Epoch: 19, loss: 2.8366, lr: 0.00000250\n"
          ]
        },
        {
          "name": "stderr",
          "output_type": "stream",
          "text": [
            "epoch 20: 100%|██████████| 12/12 [00:39<00:00,  3.29s/it, cur_loss=2.82]\n"
          ]
        },
        {
          "name": "stdout",
          "output_type": "stream",
          "text": [
            "train acc=0.9933510638297872, [l1_loss, ce_loss] => [0.49664306640625, 0.37255859375, 0.2550048828125, 1.3009440104166667, 0.3661905924479167]\n",
            "Epoch: 20, loss: 2.7912, lr: 0.00000206\n"
          ]
        },
        {
          "name": "stderr",
          "output_type": "stream",
          "text": [
            "epoch 21: 100%|██████████| 12/12 [00:41<00:00,  3.45s/it, cur_loss=2.72]\n"
          ]
        },
        {
          "name": "stdout",
          "output_type": "stream",
          "text": [
            "train acc=0.9946808510638298, [l1_loss, ce_loss] => [0.4947916666666667, 0.372314453125, 0.2506001790364583, 1.2945149739583333, 0.3532918294270833]\n",
            "Epoch: 21, loss: 2.7650, lr: 0.00000165\n"
          ]
        },
        {
          "name": "stderr",
          "output_type": "stream",
          "text": [
            "epoch 22: 100%|██████████| 12/12 [00:39<00:00,  3.30s/it, cur_loss=2.75]\n"
          ]
        },
        {
          "name": "stdout",
          "output_type": "stream",
          "text": [
            "train acc=0.9973404255319149, [l1_loss, ce_loss] => [0.4938761393229167, 0.3719075520833333, 0.246795654296875, 1.285400390625, 0.3478800455729167]\n",
            "Epoch: 22, loss: 2.7453, lr: 0.00000128\n"
          ]
        },
        {
          "name": "stderr",
          "output_type": "stream",
          "text": [
            "epoch 23: 100%|██████████| 12/12 [00:41<00:00,  3.45s/it, cur_loss=2.84]\n"
          ]
        },
        {
          "name": "stdout",
          "output_type": "stream",
          "text": [
            "train acc=0.9946808510638298, [l1_loss, ce_loss] => [0.4953409830729167, 0.3724365234375, 0.2509053548177083, 1.281982421875, 0.3528645833333333]\n",
            "Epoch: 23, loss: 2.7536, lr: 0.00000095\n"
          ]
        },
        {
          "name": "stderr",
          "output_type": "stream",
          "text": [
            "epoch 24: 100%|██████████| 12/12 [00:39<00:00,  3.30s/it, cur_loss=2.73]\n"
          ]
        },
        {
          "name": "stdout",
          "output_type": "stream",
          "text": [
            "train acc=0.9933510638297872, [l1_loss, ce_loss] => [0.4934488932291667, 0.3737996419270833, 0.24609375, 1.2805989583333333, 0.35174560546875]\n",
            "Epoch: 24, loss: 2.7458, lr: 0.00000067\n"
          ]
        },
        {
          "name": "stderr",
          "output_type": "stream",
          "text": [
            "epoch 25: 100%|██████████| 12/12 [00:41<00:00,  3.45s/it, cur_loss=2.93]\n"
          ]
        },
        {
          "name": "stdout",
          "output_type": "stream",
          "text": [
            "train acc=0.9933510638297872, [l1_loss, ce_loss] => [0.491943359375, 0.37310791015625, 0.24573771158854166, 1.2752278645833333, 0.3513387044270833]\n",
            "Epoch: 25, loss: 2.7368, lr: 0.00000043\n"
          ]
        },
        {
          "name": "stderr",
          "output_type": "stream",
          "text": [
            "epoch 26: 100%|██████████| 12/12 [00:39<00:00,  3.30s/it, cur_loss=2.79]\n"
          ]
        },
        {
          "name": "stdout",
          "output_type": "stream",
          "text": [
            "train acc=0.9933510638297872, [l1_loss, ce_loss] => [0.4930216471354167, 0.3730875651041667, 0.24199422200520834, 1.2674153645833333, 0.3379109700520833]\n",
            "Epoch: 26, loss: 2.7139, lr: 0.00000024\n"
          ]
        },
        {
          "name": "stderr",
          "output_type": "stream",
          "text": [
            "epoch 27: 100%|██████████| 12/12 [00:41<00:00,  3.45s/it, cur_loss=2.71]\n"
          ]
        },
        {
          "name": "stdout",
          "output_type": "stream",
          "text": [
            "train acc=0.9946808510638298, [l1_loss, ce_loss] => [0.4923095703125, 0.3730672200520833, 0.24223836263020834, 1.2691243489583333, 0.3438313802083333]\n",
            "Epoch: 27, loss: 2.7209, lr: 0.00000011\n"
          ]
        },
        {
          "name": "stderr",
          "output_type": "stream",
          "text": [
            "epoch 28: 100%|██████████| 12/12 [00:39<00:00,  3.30s/it, cur_loss=2.74]\n"
          ]
        },
        {
          "name": "stdout",
          "output_type": "stream",
          "text": [
            "train acc=0.9933510638297872, [l1_loss, ce_loss] => [0.4943033854166667, 0.3724365234375, 0.24997965494791666, 1.2814127604166667, 0.3540445963541667]\n",
            "Epoch: 28, loss: 2.7523, lr: 0.00000003\n"
          ]
        },
        {
          "name": "stderr",
          "output_type": "stream",
          "text": [
            "epoch 29: 100%|██████████| 12/12 [00:41<00:00,  3.44s/it, cur_loss=2.82]\n"
          ]
        },
        {
          "name": "stdout",
          "output_type": "stream",
          "text": [
            "train acc=0.9933510638297872, [l1_loss, ce_loss] => [0.4928385416666667, 0.3717244466145833, 0.246612548828125, 1.2833658854166667, 0.3502604166666667]\n",
            "Epoch: 29, loss: 2.7445, lr: 0.00000000\n",
            "Training complete!\n"
          ]
        },
        {
          "name": "stderr",
          "output_type": "stream",
          "text": [
            "Evaluate: 100%|██████████| 19/19 [00:20<00:00,  1.09s/it]\n"
          ]
        },
        {
          "name": "stdout",
          "output_type": "stream",
          "text": [
            "\n",
            "Test F1-macro:  0.9593582994347349\n",
            "#######################################\n",
            "\n",
            "Iteration:  4\n",
            "\n",
            "#######################################\n",
            "Training non-few shot model...\n",
            "Train dataset size:  74\n",
            "Test dataset size:  19\n",
            "Epoch 1/10\n",
            "  Training Loss: 3.8119\n",
            "Epoch 2/10\n",
            "  Training Loss: 3.8014\n",
            "Epoch 3/10\n",
            "  Training Loss: 3.8015\n",
            "Epoch 4/10\n",
            "  Training Loss: 3.8014\n",
            "Epoch 5/10\n",
            "  Training Loss: 3.8015\n",
            "Epoch 6/10\n",
            "  Training Loss: 3.8012\n",
            "Epoch 7/10\n",
            "  Training Loss: 3.8012\n",
            "Epoch 8/10\n",
            "  Training Loss: 3.8015\n",
            "Epoch 9/10\n",
            "  Training Loss: 3.8014\n",
            "Epoch 10/10\n",
            "  Training Loss: 3.8013\n",
            "Training complete!\n",
            "\n",
            "Test F1-macro:  0.003324468085106383\n",
            "##########################################\n",
            "2025-06-10 04:23:41 Getting cached textual weights W ...\n",
            "2025-06-10 04:23:41 Loading texture features from ./__few_shot_cache__\\chinese_dataset_ViT-B/16_textfeats.pt\n",
            "\n",
            "#######################################\n",
            "Training few-shot model...\n",
            "Train dataset size:  12\n",
            "Test dataset size:  19\n"
          ]
        },
        {
          "name": "stderr",
          "output_type": "stream",
          "text": [
            "epoch 0: 100%|██████████| 12/12 [00:34<00:00,  2.87s/it, cur_loss=11.1]\n"
          ]
        },
        {
          "name": "stdout",
          "output_type": "stream",
          "text": [
            "train acc=0.1422872340425532, [l1_loss, ce_loss] => [6.294840494791667, 0.31817626953125, 3.4840494791666665, 3.7496744791666665, 3.5693359375]\n",
            "Epoch: 0, loss: 17.4121, lr: 0.00000997\n"
          ]
        },
        {
          "name": "stderr",
          "output_type": "stream",
          "text": [
            "epoch 1: 100%|██████████| 12/12 [00:34<00:00,  2.90s/it, cur_loss=8.98]\n"
          ]
        },
        {
          "name": "stdout",
          "output_type": "stream",
          "text": [
            "train acc=0.5811170212765957, [l1_loss, ce_loss] => [0.7476806640625, 0.3270670572916667, 2.5343424479166665, 3.3165690104166665, 2.8426106770833335]\n",
            "Epoch: 1, loss: 9.7676, lr: 0.00000989\n"
          ]
        },
        {
          "name": "stderr",
          "output_type": "stream",
          "text": [
            "epoch 2: 100%|██████████| 12/12 [00:35<00:00,  2.96s/it, cur_loss=7.79]\n"
          ]
        },
        {
          "name": "stdout",
          "output_type": "stream",
          "text": [
            "train acc=0.7726063829787234, [l1_loss, ce_loss] => [0.6679280598958334, 0.3353678385416667, 1.9293619791666667, 3.0074869791666665, 2.31591796875]\n",
            "Epoch: 2, loss: 8.2565, lr: 0.00000976\n"
          ]
        },
        {
          "name": "stderr",
          "output_type": "stream",
          "text": [
            "epoch 3: 100%|██████████| 12/12 [00:35<00:00,  2.96s/it, cur_loss=6.59]\n"
          ]
        },
        {
          "name": "stdout",
          "output_type": "stream",
          "text": [
            "train acc=0.863031914893617, [l1_loss, ce_loss] => [0.6343587239583334, 0.34326171875, 1.4891764322916667, 2.7478841145833335, 1.8844401041666667]\n",
            "Epoch: 3, loss: 7.0996, lr: 0.00000957\n"
          ]
        },
        {
          "name": "stderr",
          "output_type": "stream",
          "text": [
            "epoch 4: 100%|██████████| 12/12 [00:35<00:00,  2.97s/it, cur_loss=6.07]\n"
          ]
        },
        {
          "name": "stdout",
          "output_type": "stream",
          "text": [
            "train acc=0.9228723404255319, [l1_loss, ce_loss] => [0.6241455078125, 0.3492838541666667, 1.15380859375, 2.5275065104166665, 1.5030110677083333]\n",
            "Epoch: 4, loss: 6.1572, lr: 0.00000933\n"
          ]
        },
        {
          "name": "stderr",
          "output_type": "stream",
          "text": [
            "epoch 5: 100%|██████████| 12/12 [00:36<00:00,  3.02s/it, cur_loss=5.34]\n"
          ]
        },
        {
          "name": "stdout",
          "output_type": "stream",
          "text": [
            "train acc=0.949468085106383, [l1_loss, ce_loss] => [0.6144205729166666, 0.35186767578125, 0.9126790364583334, 2.3186848958333335, 1.2117513020833333]\n",
            "Epoch: 5, loss: 5.4095, lr: 0.00000905\n"
          ]
        },
        {
          "name": "stderr",
          "output_type": "stream",
          "text": [
            "epoch 6: 100%|██████████| 12/12 [00:35<00:00,  2.99s/it, cur_loss=4.37]\n"
          ]
        },
        {
          "name": "stdout",
          "output_type": "stream",
          "text": [
            "train acc=0.9720744680851063, [l1_loss, ce_loss] => [0.62353515625, 0.3590291341145833, 0.72802734375, 2.1197916666666665, 0.9775797526041666]\n",
            "Epoch: 6, loss: 4.8076, lr: 0.00000872\n"
          ]
        },
        {
          "name": "stderr",
          "output_type": "stream",
          "text": [
            "epoch 7: 100%|██████████| 12/12 [00:36<00:00,  3.02s/it, cur_loss=4.12]\n"
          ]
        },
        {
          "name": "stdout",
          "output_type": "stream",
          "text": [
            "train acc=0.9827127659574468, [l1_loss, ce_loss] => [0.5751139322916666, 0.3640950520833333, 0.5865681966145834, 1.9640299479166667, 0.8017578125]\n",
            "Epoch: 7, loss: 4.2910, lr: 0.00000835\n"
          ]
        },
        {
          "name": "stderr",
          "output_type": "stream",
          "text": [
            "epoch 8: 100%|██████████| 12/12 [00:35<00:00,  2.99s/it, cur_loss=3.93]\n"
          ]
        },
        {
          "name": "stdout",
          "output_type": "stream",
          "text": [
            "train acc=0.988031914893617, [l1_loss, ce_loss] => [0.5703938802083334, 0.3667195638020833, 0.5034586588541666, 1.8194173177083333, 0.6919352213541666]\n",
            "Epoch: 8, loss: 3.9521, lr: 0.00000794\n"
          ]
        },
        {
          "name": "stderr",
          "output_type": "stream",
          "text": [
            "epoch 9: 100%|██████████| 12/12 [00:35<00:00,  2.99s/it, cur_loss=3.53]\n"
          ]
        },
        {
          "name": "stdout",
          "output_type": "stream",
          "text": [
            "train acc=0.988031914893617, [l1_loss, ce_loss] => [0.5654703776041666, 0.3698933919270833, 0.4235636393229167, 1.6940104166666667, 0.5941975911458334]\n",
            "Epoch: 9, loss: 3.6468, lr: 0.00000750\n"
          ]
        },
        {
          "name": "stderr",
          "output_type": "stream",
          "text": [
            "epoch 10: 100%|██████████| 12/12 [00:36<00:00,  3.01s/it, cur_loss=3.26]\n"
          ]
        },
        {
          "name": "stdout",
          "output_type": "stream",
          "text": [
            "train acc=0.9906914893617021, [l1_loss, ce_loss] => [0.5410970052083334, 0.3720906575520833, 0.36767578125, 1.5802408854166667, 0.5172322591145834]\n",
            "Epoch: 10, loss: 3.3784, lr: 0.00000703\n"
          ]
        },
        {
          "name": "stderr",
          "output_type": "stream",
          "text": [
            "epoch 11: 100%|██████████| 12/12 [00:36<00:00,  3.01s/it, cur_loss=3.4] \n"
          ]
        },
        {
          "name": "stdout",
          "output_type": "stream",
          "text": [
            "train acc=0.988031914893617, [l1_loss, ce_loss] => [0.521240234375, 0.3742268880208333, 0.3260904947916667, 1.49560546875, 0.4683430989583333]\n",
            "Epoch: 11, loss: 3.1859, lr: 0.00000655\n"
          ]
        },
        {
          "name": "stderr",
          "output_type": "stream",
          "text": [
            "epoch 12: 100%|██████████| 12/12 [00:36<00:00,  3.02s/it, cur_loss=3.3] \n"
          ]
        },
        {
          "name": "stdout",
          "output_type": "stream",
          "text": [
            "train acc=0.9920212765957447, [l1_loss, ce_loss] => [0.5051472981770834, 0.3766682942708333, 0.2902425130208333, 1.4068196614583333, 0.4271240234375]\n",
            "Epoch: 12, loss: 3.0057, lr: 0.00000604\n"
          ]
        },
        {
          "name": "stderr",
          "output_type": "stream",
          "text": [
            "epoch 13: 100%|██████████| 12/12 [00:36<00:00,  3.01s/it, cur_loss=3.21]\n"
          ]
        },
        {
          "name": "stdout",
          "output_type": "stream",
          "text": [
            "train acc=0.9920212765957447, [l1_loss, ce_loss] => [0.4979248046875, 0.3788248697916667, 0.27099609375, 1.3538411458333333, 0.4022420247395833]\n",
            "Epoch: 13, loss: 2.9035, lr: 0.00000552\n"
          ]
        },
        {
          "name": "stderr",
          "output_type": "stream",
          "text": [
            "epoch 14: 100%|██████████| 12/12 [00:35<00:00,  2.99s/it, cur_loss=2.85]\n"
          ]
        },
        {
          "name": "stdout",
          "output_type": "stream",
          "text": [
            "train acc=0.9946808510638298, [l1_loss, ce_loss] => [0.4944661458333333, 0.37744140625, 0.24689737955729166, 1.2827962239583333, 0.3707478841145833]\n",
            "Epoch: 14, loss: 2.7728, lr: 0.00000500\n"
          ]
        },
        {
          "name": "stderr",
          "output_type": "stream",
          "text": [
            "epoch 15: 100%|██████████| 12/12 [00:35<00:00,  3.00s/it, cur_loss=2.65]\n"
          ]
        },
        {
          "name": "stdout",
          "output_type": "stream",
          "text": [
            "train acc=0.9986702127659575, [l1_loss, ce_loss] => [0.4847412109375, 0.3771769205729167, 0.23035685221354166, 1.2528483072916667, 0.3490397135416667]\n",
            "Epoch: 15, loss: 2.6942, lr: 0.00000448\n"
          ]
        },
        {
          "name": "stderr",
          "output_type": "stream",
          "text": [
            "epoch 16: 100%|██████████| 12/12 [00:36<00:00,  3.01s/it, cur_loss=2.82]\n"
          ]
        },
        {
          "name": "stdout",
          "output_type": "stream",
          "text": [
            "train acc=0.9946808510638298, [l1_loss, ce_loss] => [0.47784423828125, 0.3774210611979167, 0.22029622395833334, 1.2041829427083333, 0.3358357747395833]\n",
            "Epoch: 16, loss: 2.6159, lr: 0.00000396\n"
          ]
        },
        {
          "name": "stderr",
          "output_type": "stream",
          "text": [
            "epoch 17: 100%|██████████| 12/12 [00:36<00:00,  3.00s/it, cur_loss=2.59]\n"
          ]
        },
        {
          "name": "stdout",
          "output_type": "stream",
          "text": [
            "train acc=0.9973404255319149, [l1_loss, ce_loss] => [0.4691975911458333, 0.3772786458333333, 0.20688883463541666, 1.182861328125, 0.3177286783854167]\n",
            "Epoch: 17, loss: 2.5542, lr: 0.00000345\n"
          ]
        },
        {
          "name": "stderr",
          "output_type": "stream",
          "text": [
            "epoch 18: 100%|██████████| 12/12 [00:35<00:00,  3.00s/it, cur_loss=2.4] \n"
          ]
        },
        {
          "name": "stdout",
          "output_type": "stream",
          "text": [
            "train acc=0.9973404255319149, [l1_loss, ce_loss] => [0.46466064453125, 0.3770955403645833, 0.20368448893229166, 1.166259765625, 0.3178507486979167]\n",
            "Epoch: 18, loss: 2.5298, lr: 0.00000297\n"
          ]
        },
        {
          "name": "stderr",
          "output_type": "stream",
          "text": [
            "epoch 19: 100%|██████████| 12/12 [00:36<00:00,  3.00s/it, cur_loss=2.4] \n"
          ]
        },
        {
          "name": "stdout",
          "output_type": "stream",
          "text": [
            "train acc=0.9973404255319149, [l1_loss, ce_loss] => [0.4618326822916667, 0.3784993489583333, 0.19725545247395834, 1.137451171875, 0.30987548828125]\n",
            "Epoch: 19, loss: 2.4852, lr: 0.00000250\n"
          ]
        },
        {
          "name": "stderr",
          "output_type": "stream",
          "text": [
            "epoch 20: 100%|██████████| 12/12 [00:36<00:00,  3.02s/it, cur_loss=2.61]\n"
          ]
        },
        {
          "name": "stdout",
          "output_type": "stream",
          "text": [
            "train acc=0.9960106382978723, [l1_loss, ce_loss] => [0.45916748046875, 0.3784993489583333, 0.1956787109375, 1.134033203125, 0.3046468098958333]\n",
            "Epoch: 20, loss: 2.4718, lr: 0.00000206\n"
          ]
        },
        {
          "name": "stderr",
          "output_type": "stream",
          "text": [
            "epoch 21: 100%|██████████| 12/12 [00:36<00:00,  3.01s/it, cur_loss=2.5] \n"
          ]
        },
        {
          "name": "stdout",
          "output_type": "stream",
          "text": [
            "train acc=0.9946808510638298, [l1_loss, ce_loss] => [0.4545084635416667, 0.37738037109375, 0.19260660807291666, 1.1227213541666667, 0.305572509765625]\n",
            "Epoch: 21, loss: 2.4526, lr: 0.00000165\n"
          ]
        },
        {
          "name": "stderr",
          "output_type": "stream",
          "text": [
            "epoch 22: 100%|██████████| 12/12 [00:36<00:00,  3.00s/it, cur_loss=2.47]\n"
          ]
        },
        {
          "name": "stdout",
          "output_type": "stream",
          "text": [
            "train acc=0.9973404255319149, [l1_loss, ce_loss] => [0.4502970377604167, 0.3783365885416667, 0.19249471028645834, 1.1101888020833333, 0.3011372884114583]\n",
            "Epoch: 22, loss: 2.4323, lr: 0.00000128\n"
          ]
        },
        {
          "name": "stderr",
          "output_type": "stream",
          "text": [
            "epoch 23: 100%|██████████| 12/12 [00:36<00:00,  3.02s/it, cur_loss=2.57]\n"
          ]
        },
        {
          "name": "stdout",
          "output_type": "stream",
          "text": [
            "train acc=0.9973404255319149, [l1_loss, ce_loss] => [0.44854736328125, 0.3778483072916667, 0.190093994140625, 1.1104329427083333, 0.2987060546875]\n",
            "Epoch: 23, loss: 2.4255, lr: 0.00000095\n"
          ]
        },
        {
          "name": "stderr",
          "output_type": "stream",
          "text": [
            "epoch 24: 100%|██████████| 12/12 [00:36<00:00,  3.01s/it, cur_loss=2.43]\n"
          ]
        },
        {
          "name": "stdout",
          "output_type": "stream",
          "text": [
            "train acc=0.9986702127659575, [l1_loss, ce_loss] => [0.4494222005208333, 0.3773396809895833, 0.18393961588541666, 1.0992838541666667, 0.29486083984375]\n",
            "Epoch: 24, loss: 2.4045, lr: 0.00000067\n"
          ]
        },
        {
          "name": "stderr",
          "output_type": "stream",
          "text": [
            "epoch 25: 100%|██████████| 12/12 [00:36<00:00,  3.02s/it, cur_loss=2.49]\n"
          ]
        },
        {
          "name": "stdout",
          "output_type": "stream",
          "text": [
            "train acc=0.9960106382978723, [l1_loss, ce_loss] => [0.4499308268229167, 0.37725830078125, 0.187408447265625, 1.1044108072916667, 0.295745849609375]\n",
            "Epoch: 25, loss: 2.4147, lr: 0.00000043\n"
          ]
        },
        {
          "name": "stderr",
          "output_type": "stream",
          "text": [
            "epoch 26: 100%|██████████| 12/12 [00:36<00:00,  3.02s/it, cur_loss=2.38]\n"
          ]
        },
        {
          "name": "stdout",
          "output_type": "stream",
          "text": [
            "train acc=1.0, [l1_loss, ce_loss] => [0.44793701171875, 0.37799072265625, 0.18351236979166666, 1.0983072916666667, 0.2898152669270833]\n",
            "Epoch: 26, loss: 2.3978, lr: 0.00000024\n"
          ]
        },
        {
          "name": "stderr",
          "output_type": "stream",
          "text": [
            "epoch 27: 100%|██████████| 12/12 [00:36<00:00,  3.02s/it, cur_loss=2.47]\n"
          ]
        },
        {
          "name": "stdout",
          "output_type": "stream",
          "text": [
            "train acc=0.9986702127659575, [l1_loss, ce_loss] => [0.4487101236979167, 0.37835693359375, 0.185089111328125, 1.103515625, 0.2954813639322917]\n",
            "Epoch: 27, loss: 2.4110, lr: 0.00000011\n"
          ]
        },
        {
          "name": "stderr",
          "output_type": "stream",
          "text": [
            "epoch 28: 100%|██████████| 12/12 [00:36<00:00,  3.01s/it, cur_loss=2.41]\n"
          ]
        },
        {
          "name": "stdout",
          "output_type": "stream",
          "text": [
            "train acc=0.9986702127659575, [l1_loss, ce_loss] => [0.447998046875, 0.37823486328125, 0.18932088216145834, 1.1066080729166667, 0.3001200358072917]\n",
            "Epoch: 28, loss: 2.4224, lr: 0.00000003\n"
          ]
        },
        {
          "name": "stderr",
          "output_type": "stream",
          "text": [
            "epoch 29: 100%|██████████| 12/12 [00:35<00:00,  3.00s/it, cur_loss=2.37]\n"
          ]
        },
        {
          "name": "stdout",
          "output_type": "stream",
          "text": [
            "train acc=0.9933510638297872, [l1_loss, ce_loss] => [0.44915771484375, 0.3780924479166667, 0.18540445963541666, 1.1015625, 0.2908528645833333]\n",
            "Epoch: 29, loss: 2.4049, lr: 0.00000000\n",
            "Training complete!\n"
          ]
        },
        {
          "name": "stderr",
          "output_type": "stream",
          "text": [
            "Evaluate: 100%|██████████| 19/19 [00:13<00:00,  1.44it/s]\n"
          ]
        },
        {
          "name": "stdout",
          "output_type": "stream",
          "text": [
            "\n",
            "Test F1-macro:  0.9711810932327806\n",
            "#######################################\n",
            "Processing the Hugging Face dataset: german_dataset\n"
          ]
        },
        {
          "name": "stderr",
          "output_type": "stream",
          "text": [
            "Processing images: 100%|██████████| 51839/51839 [00:00<00:00, 1158426.39it/s]\n"
          ]
        },
        {
          "name": "stdout",
          "output_type": "stream",
          "text": [
            "Number of filtered labels:  43\n",
            "Number of removed labels:  0\n",
            "Number of samples in the dataset:  51839\n",
            "\n",
            "Iteration:  0\n",
            "\n",
            "#######################################\n",
            "Training non-few shot model...\n",
            "Train dataset size:  648\n",
            "Test dataset size:  162\n",
            "Epoch 1/10\n",
            "  Training Loss: 3.5597\n",
            "Epoch 2/10\n",
            "  Training Loss: 3.4100\n",
            "Epoch 3/10\n",
            "  Training Loss: 3.3761\n",
            "Epoch 4/10\n",
            "  Training Loss: 3.3538\n",
            "Epoch 5/10\n",
            "  Training Loss: 3.3507\n",
            "Epoch 6/10\n",
            "  Training Loss: 3.3470\n",
            "Epoch 7/10\n",
            "  Training Loss: 3.3205\n",
            "Epoch 8/10\n",
            "  Training Loss: 3.2974\n",
            "Epoch 9/10\n",
            "  Training Loss: 3.2754\n",
            "Epoch 10/10\n",
            "  Training Loss: 3.2255\n",
            "Training complete!\n",
            "\n",
            "Test F1-macro:  0.22262351856727802\n",
            "##########################################\n",
            "2025-06-10 05:01:34 Getting cached textual weights W ...\n",
            "\n",
            "#######################################\n",
            "Training few-shot model...\n",
            "Train dataset size:  11\n",
            "Test dataset size:  162\n"
          ]
        },
        {
          "name": "stderr",
          "output_type": "stream",
          "text": [
            "epoch 0: 100%|██████████| 11/11 [00:25<00:00,  2.36s/it, cur_loss=11]  \n"
          ]
        },
        {
          "name": "stdout",
          "output_type": "stream",
          "text": [
            "train acc=0.10174418604651163, [l1_loss, ce_loss] => [4.9953835227272725, 0.305419921875, 3.4767400568181817, 3.649147727272727, 3.51171875]\n",
            "Epoch: 0, loss: 15.9389, lr: 0.00000997\n"
          ]
        },
        {
          "name": "stderr",
          "output_type": "stream",
          "text": [
            "epoch 1: 100%|██████████| 11/11 [00:23<00:00,  2.11s/it, cur_loss=9.09]\n"
          ]
        },
        {
          "name": "stdout",
          "output_type": "stream",
          "text": [
            "train acc=0.4578488372093023, [l1_loss, ce_loss] => [0.6579811789772727, 0.31141246448863635, 2.6267755681818183, 3.268288352272727, 2.8551136363636362]\n",
            "Epoch: 1, loss: 9.7188, lr: 0.00000989\n"
          ]
        },
        {
          "name": "stderr",
          "output_type": "stream",
          "text": [
            "epoch 2: 100%|██████████| 11/11 [00:22<00:00,  2.06s/it, cur_loss=8.55]\n"
          ]
        },
        {
          "name": "stdout",
          "output_type": "stream",
          "text": [
            "train acc=0.6802325581395349, [l1_loss, ce_loss] => [0.6459073153409091, 0.32117808948863635, 2.1090198863636362, 2.993252840909091, 2.414772727272727]\n",
            "Epoch: 2, loss: 8.4837, lr: 0.00000976\n"
          ]
        },
        {
          "name": "stderr",
          "output_type": "stream",
          "text": [
            "epoch 3: 100%|██████████| 11/11 [00:25<00:00,  2.30s/it, cur_loss=7.07]\n"
          ]
        },
        {
          "name": "stdout",
          "output_type": "stream",
          "text": [
            "train acc=0.8008720930232558, [l1_loss, ce_loss] => [0.6325017755681818, 0.3307439630681818, 1.7044566761363635, 2.727450284090909, 2.0338245738636362]\n",
            "Epoch: 3, loss: 7.4297, lr: 0.00000957\n"
          ]
        },
        {
          "name": "stderr",
          "output_type": "stream",
          "text": [
            "epoch 4: 100%|██████████| 11/11 [00:25<00:00,  2.33s/it, cur_loss=6.33]\n"
          ]
        },
        {
          "name": "stdout",
          "output_type": "stream",
          "text": [
            "train acc=0.8880813953488372, [l1_loss, ce_loss] => [0.6093306107954546, 0.3427512428977273, 1.3760653409090908, 2.4866832386363638, 1.7060546875]\n",
            "Epoch: 4, loss: 6.5206, lr: 0.00000933\n"
          ]
        },
        {
          "name": "stderr",
          "output_type": "stream",
          "text": [
            "epoch 5: 100%|██████████| 11/11 [00:25<00:00,  2.33s/it, cur_loss=5.61]\n"
          ]
        },
        {
          "name": "stdout",
          "output_type": "stream",
          "text": [
            "train acc=0.9258720930232558, [l1_loss, ce_loss] => [0.6056019176136364, 0.3505637428977273, 1.1026278409090908, 2.298117897727273, 1.4197443181818181]\n",
            "Epoch: 5, loss: 5.7766, lr: 0.00000905\n"
          ]
        },
        {
          "name": "stderr",
          "output_type": "stream",
          "text": [
            "epoch 6: 100%|██████████| 11/11 [00:25<00:00,  2.34s/it, cur_loss=4.84]\n"
          ]
        },
        {
          "name": "stdout",
          "output_type": "stream",
          "text": [
            "train acc=0.9505813953488372, [l1_loss, ce_loss] => [0.5918412642045454, 0.3590642755681818, 0.8640802556818182, 2.12109375, 1.1655717329545454]\n",
            "Epoch: 6, loss: 5.1023, lr: 0.00000872\n"
          ]
        },
        {
          "name": "stderr",
          "output_type": "stream",
          "text": [
            "epoch 7: 100%|██████████| 11/11 [00:25<00:00,  2.34s/it, cur_loss=4.54]\n"
          ]
        },
        {
          "name": "stdout",
          "output_type": "stream",
          "text": [
            "train acc=0.9680232558139535, [l1_loss, ce_loss] => [0.5721768465909091, 0.367919921875, 0.68115234375, 1.9446910511363635, 0.9481090198863636]\n",
            "Epoch: 7, loss: 4.5135, lr: 0.00000835\n"
          ]
        },
        {
          "name": "stderr",
          "output_type": "stream",
          "text": [
            "epoch 8: 100%|██████████| 11/11 [00:26<00:00,  2.36s/it, cur_loss=4.06]\n"
          ]
        },
        {
          "name": "stdout",
          "output_type": "stream",
          "text": [
            "train acc=0.9694767441860465, [l1_loss, ce_loss] => [0.5675159801136364, 0.36982865767045453, 0.54833984375, 1.7989169034090908, 0.7765003551136364]\n",
            "Epoch: 8, loss: 4.0613, lr: 0.00000794\n"
          ]
        },
        {
          "name": "stderr",
          "output_type": "stream",
          "text": [
            "epoch 9: 100%|██████████| 11/11 [00:26<00:00,  2.36s/it, cur_loss=3.64]\n"
          ]
        },
        {
          "name": "stdout",
          "output_type": "stream",
          "text": [
            "train acc=0.9854651162790697, [l1_loss, ce_loss] => [0.5470081676136364, 0.37562144886363635, 0.45609907670454547, 1.6590909090909092, 0.6646395596590909]\n",
            "Epoch: 9, loss: 3.7026, lr: 0.00000750\n"
          ]
        },
        {
          "name": "stderr",
          "output_type": "stream",
          "text": [
            "epoch 10: 100%|██████████| 11/11 [00:26<00:00,  2.38s/it, cur_loss=3.22]\n"
          ]
        },
        {
          "name": "stdout",
          "output_type": "stream",
          "text": [
            "train acc=0.9883720930232558, [l1_loss, ce_loss] => [0.5288529829545454, 0.37877308238636365, 0.37788529829545453, 1.5355113636363635, 0.5656960227272727]\n",
            "Epoch: 10, loss: 3.3869, lr: 0.00000703\n"
          ]
        },
        {
          "name": "stderr",
          "output_type": "stream",
          "text": [
            "epoch 11: 100%|██████████| 11/11 [00:26<00:00,  2.37s/it, cur_loss=3.24]\n"
          ]
        },
        {
          "name": "stdout",
          "output_type": "stream",
          "text": [
            "train acc=0.9883720930232558, [l1_loss, ce_loss] => [0.5194868607954546, 0.3805264559659091, 0.32947887073863635, 1.4606711647727273, 0.5033291903409091]\n",
            "Epoch: 11, loss: 3.1934, lr: 0.00000655\n"
          ]
        },
        {
          "name": "stderr",
          "output_type": "stream",
          "text": [
            "epoch 12: 100%|██████████| 11/11 [00:25<00:00,  2.36s/it, cur_loss=2.92]\n"
          ]
        },
        {
          "name": "stdout",
          "output_type": "stream",
          "text": [
            "train acc=1.0, [l1_loss, ce_loss] => [0.5135165127840909, 0.3807927911931818, 0.2870205965909091, 1.3864524147727273, 0.4419611150568182]\n",
            "Epoch: 12, loss: 3.0099, lr: 0.00000604\n"
          ]
        },
        {
          "name": "stderr",
          "output_type": "stream",
          "text": [
            "epoch 13: 100%|██████████| 11/11 [00:26<00:00,  2.37s/it, cur_loss=2.84]\n"
          ]
        },
        {
          "name": "stdout",
          "output_type": "stream",
          "text": [
            "train acc=0.998546511627907, [l1_loss, ce_loss] => [0.4972922585227273, 0.38267933238636365, 0.2560702237215909, 1.2962535511363635, 0.40101207386363635]\n",
            "Epoch: 13, loss: 2.8338, lr: 0.00000552\n"
          ]
        },
        {
          "name": "stderr",
          "output_type": "stream",
          "text": [
            "epoch 14: 100%|██████████| 11/11 [00:26<00:00,  2.38s/it, cur_loss=2.58]\n"
          ]
        },
        {
          "name": "stdout",
          "output_type": "stream",
          "text": [
            "train acc=1.0, [l1_loss, ce_loss] => [0.4861061789772727, 0.3815252130681818, 0.223388671875, 1.2294034090909092, 0.36088423295454547]\n",
            "Epoch: 14, loss: 2.6816, lr: 0.00000500\n"
          ]
        },
        {
          "name": "stderr",
          "output_type": "stream",
          "text": [
            "epoch 15: 100%|██████████| 11/11 [00:26<00:00,  2.38s/it, cur_loss=2.81]\n"
          ]
        },
        {
          "name": "stdout",
          "output_type": "stream",
          "text": [
            "train acc=0.9956395348837209, [l1_loss, ce_loss] => [0.4754971590909091, 0.3833895596590909, 0.21174760298295456, 1.1912286931818181, 0.3379794034090909]\n",
            "Epoch: 15, loss: 2.5998, lr: 0.00000448\n"
          ]
        },
        {
          "name": "stderr",
          "output_type": "stream",
          "text": [
            "epoch 16: 100%|██████████| 11/11 [00:26<00:00,  2.37s/it, cur_loss=2.47]\n"
          ]
        },
        {
          "name": "stdout",
          "output_type": "stream",
          "text": [
            "train acc=1.0, [l1_loss, ce_loss] => [0.4706143465909091, 0.3836115056818182, 0.19219415838068182, 1.1411576704545454, 0.3135653409090909]\n",
            "Epoch: 16, loss: 2.5011, lr: 0.00000396\n"
          ]
        },
        {
          "name": "stderr",
          "output_type": "stream",
          "text": [
            "epoch 17: 100%|██████████| 11/11 [00:26<00:00,  2.37s/it, cur_loss=2.39]\n"
          ]
        },
        {
          "name": "stdout",
          "output_type": "stream",
          "text": [
            "train acc=0.998546511627907, [l1_loss, ce_loss] => [0.46275745738636365, 0.383544921875, 0.1823397549715909, 1.1115944602272727, 0.300537109375]\n",
            "Epoch: 17, loss: 2.4411, lr: 0.00000345\n"
          ]
        },
        {
          "name": "stderr",
          "output_type": "stream",
          "text": [
            "epoch 18: 100%|██████████| 11/11 [00:26<00:00,  2.38s/it, cur_loss=2.61]\n"
          ]
        },
        {
          "name": "stdout",
          "output_type": "stream",
          "text": [
            "train acc=0.998546511627907, [l1_loss, ce_loss] => [0.46000532670454547, 0.38276811079545453, 0.17631392045454544, 1.0893110795454546, 0.2917258522727273]\n",
            "Epoch: 18, loss: 2.4000, lr: 0.00000297\n"
          ]
        },
        {
          "name": "stderr",
          "output_type": "stream",
          "text": [
            "epoch 19: 100%|██████████| 11/11 [00:26<00:00,  2.38s/it, cur_loss=2.43]\n"
          ]
        },
        {
          "name": "stdout",
          "output_type": "stream",
          "text": [
            "train acc=1.0, [l1_loss, ce_loss] => [0.4606045809659091, 0.38514293323863635, 0.1670254794034091, 1.0651633522727273, 0.2814053622159091]\n",
            "Epoch: 19, loss: 2.3596, lr: 0.00000250\n"
          ]
        },
        {
          "name": "stderr",
          "output_type": "stream",
          "text": [
            "epoch 20: 100%|██████████| 11/11 [00:26<00:00,  2.38s/it, cur_loss=2.3] \n"
          ]
        },
        {
          "name": "stdout",
          "output_type": "stream",
          "text": [
            "train acc=0.998546511627907, [l1_loss, ce_loss] => [0.4548117897727273, 0.3844549005681818, 0.16371848366477273, 1.0611239346590908, 0.2768221768465909]\n",
            "Epoch: 20, loss: 2.3413, lr: 0.00000206\n"
          ]
        },
        {
          "name": "stderr",
          "output_type": "stream",
          "text": [
            "epoch 21: 100%|██████████| 11/11 [00:26<00:00,  2.39s/it, cur_loss=2.31]\n"
          ]
        },
        {
          "name": "stdout",
          "output_type": "stream",
          "text": [
            "train acc=1.0, [l1_loss, ce_loss] => [0.4534579190340909, 0.3826571377840909, 0.1593905362215909, 1.0535333806818181, 0.27110706676136365]\n",
            "Epoch: 21, loss: 2.3203, lr: 0.00000165\n"
          ]
        },
        {
          "name": "stderr",
          "output_type": "stream",
          "text": [
            "epoch 22: 100%|██████████| 11/11 [00:26<00:00,  2.37s/it, cur_loss=2.29]\n"
          ]
        },
        {
          "name": "stdout",
          "output_type": "stream",
          "text": [
            "train acc=1.0, [l1_loss, ce_loss] => [0.4497958096590909, 0.3827459161931818, 0.15618341619318182, 1.0372425426136365, 0.26783336292613635]\n",
            "Epoch: 22, loss: 2.2944, lr: 0.00000128\n"
          ]
        },
        {
          "name": "stderr",
          "output_type": "stream",
          "text": [
            "epoch 23: 100%|██████████| 11/11 [00:26<00:00,  2.38s/it, cur_loss=2.44]\n"
          ]
        },
        {
          "name": "stdout",
          "output_type": "stream",
          "text": [
            "train acc=1.0, [l1_loss, ce_loss] => [0.4505060369318182, 0.38221324573863635, 0.1593905362215909, 1.0539772727272727, 0.26472611860795453]\n",
            "Epoch: 23, loss: 2.3107, lr: 0.00000095\n"
          ]
        },
        {
          "name": "stderr",
          "output_type": "stream",
          "text": [
            "epoch 24: 100%|██████████| 11/11 [00:26<00:00,  2.40s/it, cur_loss=2.26]\n"
          ]
        },
        {
          "name": "stdout",
          "output_type": "stream",
          "text": [
            "train acc=1.0, [l1_loss, ce_loss] => [0.4466885653409091, 0.38270152698863635, 0.15211070667613635, 1.0314275568181819, 0.2592107599431818]\n",
            "Epoch: 24, loss: 2.2720, lr: 0.00000067\n"
          ]
        },
        {
          "name": "stderr",
          "output_type": "stream",
          "text": [
            "epoch 25: 100%|██████████| 11/11 [00:26<00:00,  2.38s/it, cur_loss=2.4] \n"
          ]
        },
        {
          "name": "stdout",
          "output_type": "stream",
          "text": [
            "train acc=1.0, [l1_loss, ce_loss] => [0.4474431818181818, 0.38219105113636365, 0.15308726917613635, 1.0333806818181819, 0.2574462890625]\n",
            "Epoch: 25, loss: 2.2734, lr: 0.00000043\n"
          ]
        },
        {
          "name": "stderr",
          "output_type": "stream",
          "text": [
            "epoch 26: 100%|██████████| 11/11 [00:26<00:00,  2.38s/it, cur_loss=2.36]\n"
          ]
        },
        {
          "name": "stdout",
          "output_type": "stream",
          "text": [
            "train acc=1.0, [l1_loss, ce_loss] => [0.4467107599431818, 0.3821688565340909, 0.1561612215909091, 1.0281427556818181, 0.26472611860795453]\n",
            "Epoch: 26, loss: 2.2781, lr: 0.00000024\n"
          ]
        },
        {
          "name": "stderr",
          "output_type": "stream",
          "text": [
            "epoch 27: 100%|██████████| 11/11 [00:26<00:00,  2.38s/it, cur_loss=2.33]\n"
          ]
        },
        {
          "name": "stdout",
          "output_type": "stream",
          "text": [
            "train acc=1.0, [l1_loss, ce_loss] => [0.44560102982954547, 0.38316761363636365, 0.1508456143465909, 1.0220170454545454, 0.2544167258522727]\n",
            "Epoch: 27, loss: 2.2564, lr: 0.00000011\n"
          ]
        },
        {
          "name": "stderr",
          "output_type": "stream",
          "text": [
            "epoch 28: 100%|██████████| 11/11 [00:26<00:00,  2.39s/it, cur_loss=2.26]\n"
          ]
        },
        {
          "name": "stdout",
          "output_type": "stream",
          "text": [
            "train acc=1.0, [l1_loss, ce_loss] => [0.4484197443181818, 0.38367808948863635, 0.15894664417613635, 1.0393732244318181, 0.2708185369318182]\n",
            "Epoch: 28, loss: 2.3013, lr: 0.00000003\n"
          ]
        },
        {
          "name": "stderr",
          "output_type": "stream",
          "text": [
            "epoch 29: 100%|██████████| 11/11 [00:26<00:00,  2.39s/it, cur_loss=2.29]\n"
          ]
        },
        {
          "name": "stdout",
          "output_type": "stream",
          "text": [
            "train acc=1.0, [l1_loss, ce_loss] => [0.4468439275568182, 0.3829900568181818, 0.15599476207386365, 1.0306729403409092, 0.26514781605113635]\n",
            "Epoch: 29, loss: 2.2812, lr: 0.00000000\n",
            "Training complete!\n"
          ]
        },
        {
          "name": "stderr",
          "output_type": "stream",
          "text": [
            "Evaluate: 100%|██████████| 162/162 [01:21<00:00,  1.99it/s]\n"
          ]
        },
        {
          "name": "stdout",
          "output_type": "stream",
          "text": [
            "\n",
            "Test F1-macro:  0.9214180124999535\n",
            "#######################################\n",
            "\n",
            "Iteration:  1\n",
            "\n",
            "#######################################\n",
            "Training non-few shot model...\n",
            "Train dataset size:  648\n",
            "Test dataset size:  162\n",
            "Epoch 1/10\n",
            "  Training Loss: 3.6708\n",
            "Epoch 2/10\n",
            "  Training Loss: 3.5244\n",
            "Epoch 3/10\n",
            "  Training Loss: 3.4843\n",
            "Epoch 4/10\n",
            "  Training Loss: 3.4392\n",
            "Epoch 5/10\n",
            "  Training Loss: 3.4248\n",
            "Epoch 6/10\n",
            "  Training Loss: 3.3662\n",
            "Epoch 7/10\n",
            "  Training Loss: 3.3342\n",
            "Epoch 8/10\n",
            "  Training Loss: 3.3141\n",
            "Epoch 9/10\n",
            "  Training Loss: 3.3132\n",
            "Epoch 10/10\n",
            "  Training Loss: 3.3130\n",
            "Training complete!\n",
            "\n",
            "Test F1-macro:  0.18034863965104353\n",
            "##########################################\n",
            "2025-06-10 05:35:21 Getting cached textual weights W ...\n",
            "2025-06-10 05:35:21 Loading texture features from ./__few_shot_cache__\\german_dataset_ViT-B/16_textfeats.pt\n",
            "\n",
            "#######################################\n",
            "Training few-shot model...\n",
            "Train dataset size:  11\n",
            "Test dataset size:  162\n"
          ]
        },
        {
          "name": "stderr",
          "output_type": "stream",
          "text": [
            "epoch 0: 100%|██████████| 11/11 [00:32<00:00,  2.99s/it, cur_loss=11.6]\n"
          ]
        },
        {
          "name": "stdout",
          "output_type": "stream",
          "text": [
            "train acc=0.11482558139534883, [l1_loss, ce_loss] => [5.590420809659091, 0.32310901988636365, 3.4982244318181817, 3.662997159090909, 3.5333806818181817]\n",
            "Epoch: 0, loss: 16.6108, lr: 0.00000997\n"
          ]
        },
        {
          "name": "stderr",
          "output_type": "stream",
          "text": [
            "epoch 1: 100%|██████████| 11/11 [00:33<00:00,  3.06s/it, cur_loss=9.83]\n"
          ]
        },
        {
          "name": "stdout",
          "output_type": "stream",
          "text": [
            "train acc=0.39098837209302323, [l1_loss, ce_loss] => [0.7685546875, 0.33875621448863635, 2.7498224431818183, 3.329190340909091, 2.9419389204545454]\n",
            "Epoch: 1, loss: 10.1271, lr: 0.00000989\n"
          ]
        },
        {
          "name": "stderr",
          "output_type": "stream",
          "text": [
            "epoch 2: 100%|██████████| 11/11 [00:40<00:00,  3.70s/it, cur_loss=8.56]\n"
          ]
        },
        {
          "name": "stdout",
          "output_type": "stream",
          "text": [
            "train acc=0.5973837209302325, [l1_loss, ce_loss] => [0.6364968039772727, 0.34532581676136365, 2.2535511363636362, 3.0685369318181817, 2.5021306818181817]\n",
            "Epoch: 2, loss: 8.8054, lr: 0.00000976\n"
          ]
        },
        {
          "name": "stderr",
          "output_type": "stream",
          "text": [
            "epoch 3: 100%|██████████| 11/11 [00:33<00:00,  3.04s/it, cur_loss=7.22]\n"
          ]
        },
        {
          "name": "stdout",
          "output_type": "stream",
          "text": [
            "train acc=0.7950581395348837, [l1_loss, ce_loss] => [0.5998313210227273, 0.3518288352272727, 1.8748224431818181, 2.853515625, 2.137784090909091]\n",
            "Epoch: 3, loss: 7.8189, lr: 0.00000957\n"
          ]
        },
        {
          "name": "stderr",
          "output_type": "stream",
          "text": [
            "epoch 4: 100%|██████████| 11/11 [00:41<00:00,  3.75s/it, cur_loss=7.25]\n"
          ]
        },
        {
          "name": "stdout",
          "output_type": "stream",
          "text": [
            "train acc=0.8677325581395349, [l1_loss, ce_loss] => [0.5895774147727273, 0.3571999289772727, 1.5814098011363635, 2.64453125, 1.8196022727272727]\n",
            "Epoch: 4, loss: 6.9929, lr: 0.00000933\n"
          ]
        },
        {
          "name": "stderr",
          "output_type": "stream",
          "text": [
            "epoch 5: 100%|██████████| 11/11 [00:33<00:00,  3.08s/it, cur_loss=5.94]\n"
          ]
        },
        {
          "name": "stdout",
          "output_type": "stream",
          "text": [
            "train acc=0.8997093023255814, [l1_loss, ce_loss] => [0.5794566761363636, 0.36341441761363635, 1.3284801136363635, 2.442471590909091, 1.5404829545454546]\n",
            "Epoch: 5, loss: 6.2536, lr: 0.00000905\n"
          ]
        },
        {
          "name": "stderr",
          "output_type": "stream",
          "text": [
            "epoch 6: 100%|██████████| 11/11 [00:41<00:00,  3.76s/it, cur_loss=5.27]\n"
          ]
        },
        {
          "name": "stdout",
          "output_type": "stream",
          "text": [
            "train acc=0.9375, [l1_loss, ce_loss] => [0.5747514204545454, 0.3662109375, 1.1017844460227273, 2.257102272727273, 1.2996271306818181]\n",
            "Epoch: 6, loss: 5.5998, lr: 0.00000872\n"
          ]
        },
        {
          "name": "stderr",
          "output_type": "stream",
          "text": [
            "epoch 7: 100%|██████████| 11/11 [00:34<00:00,  3.10s/it, cur_loss=5.33]\n"
          ]
        },
        {
          "name": "stdout",
          "output_type": "stream",
          "text": [
            "train acc=0.9549418604651163, [l1_loss, ce_loss] => [0.5593039772727273, 0.3714266690340909, 0.9244939630681818, 2.0845170454545454, 1.1073774857954546]\n",
            "Epoch: 7, loss: 5.0469, lr: 0.00000835\n"
          ]
        },
        {
          "name": "stderr",
          "output_type": "stream",
          "text": [
            "epoch 8: 100%|██████████| 11/11 [00:41<00:00,  3.75s/it, cur_loss=4.34]\n"
          ]
        },
        {
          "name": "stdout",
          "output_type": "stream",
          "text": [
            "train acc=0.9651162790697675, [l1_loss, ce_loss] => [0.5553089488636364, 0.37577681107954547, 0.7822709517045454, 1.9185014204545454, 0.94873046875]\n",
            "Epoch: 8, loss: 4.5803, lr: 0.00000794\n"
          ]
        },
        {
          "name": "stderr",
          "output_type": "stream",
          "text": [
            "epoch 9: 100%|██████████| 11/11 [00:33<00:00,  3.09s/it, cur_loss=4.17]\n"
          ]
        },
        {
          "name": "stdout",
          "output_type": "stream",
          "text": [
            "train acc=0.9796511627906976, [l1_loss, ce_loss] => [0.5524236505681818, 0.3764870383522727, 0.6507457386363636, 1.7975852272727273, 0.8079279119318182]\n",
            "Epoch: 9, loss: 4.1861, lr: 0.00000750\n"
          ]
        },
        {
          "name": "stderr",
          "output_type": "stream",
          "text": [
            "epoch 10: 100%|██████████| 11/11 [00:41<00:00,  3.78s/it, cur_loss=3.77]\n"
          ]
        },
        {
          "name": "stdout",
          "output_type": "stream",
          "text": [
            "train acc=0.9854651162790697, [l1_loss, ce_loss] => [0.5441672585227273, 0.3781072443181818, 0.564208984375, 1.6886541193181819, 0.7193270596590909]\n",
            "Epoch: 10, loss: 3.8942, lr: 0.00000703\n"
          ]
        },
        {
          "name": "stderr",
          "output_type": "stream",
          "text": [
            "epoch 11: 100%|██████████| 11/11 [00:34<00:00,  3.10s/it, cur_loss=3.52]\n"
          ]
        },
        {
          "name": "stdout",
          "output_type": "stream",
          "text": [
            "train acc=0.9869186046511628, [l1_loss, ce_loss] => [0.5343128551136364, 0.38212446732954547, 0.4826882102272727, 1.5738636363636365, 0.6242453835227273]\n",
            "Epoch: 11, loss: 3.5969, lr: 0.00000655\n"
          ]
        },
        {
          "name": "stderr",
          "output_type": "stream",
          "text": [
            "epoch 12: 100%|██████████| 11/11 [00:41<00:00,  3.76s/it, cur_loss=3.57]\n"
          ]
        },
        {
          "name": "stdout",
          "output_type": "stream",
          "text": [
            "train acc=0.9927325581395349, [l1_loss, ce_loss] => [0.5182439630681818, 0.3825461647727273, 0.4276455965909091, 1.4918323863636365, 0.5555308948863636]\n",
            "Epoch: 12, loss: 3.3759, lr: 0.00000604\n"
          ]
        },
        {
          "name": "stderr",
          "output_type": "stream",
          "text": [
            "epoch 13: 100%|██████████| 11/11 [00:34<00:00,  3.11s/it, cur_loss=3.11]\n"
          ]
        },
        {
          "name": "stdout",
          "output_type": "stream",
          "text": [
            "train acc=0.9912790697674418, [l1_loss, ce_loss] => [0.5091885653409091, 0.38325639204545453, 0.38831676136363635, 1.4114879261363635, 0.5101651278409091]\n",
            "Epoch: 13, loss: 3.2022, lr: 0.00000552\n"
          ]
        },
        {
          "name": "stderr",
          "output_type": "stream",
          "text": [
            "epoch 14: 100%|██████████| 11/11 [00:41<00:00,  3.78s/it, cur_loss=3.15]\n"
          ]
        },
        {
          "name": "stdout",
          "output_type": "stream",
          "text": [
            "train acc=0.9941860465116279, [l1_loss, ce_loss] => [0.5016645951704546, 0.38301225142045453, 0.3562899502840909, 1.36328125, 0.4776278409090909]\n",
            "Epoch: 14, loss: 3.0820, lr: 0.00000500\n"
          ]
        },
        {
          "name": "stderr",
          "output_type": "stream",
          "text": [
            "epoch 15: 100%|██████████| 11/11 [00:34<00:00,  3.10s/it, cur_loss=2.84]\n"
          ]
        },
        {
          "name": "stdout",
          "output_type": "stream",
          "text": [
            "train acc=0.997093023255814, [l1_loss, ce_loss] => [0.49678178267045453, 0.38310102982954547, 0.32173295454545453, 1.2993607954545454, 0.4403409090909091]\n",
            "Epoch: 15, loss: 2.9411, lr: 0.00000448\n"
          ]
        },
        {
          "name": "stderr",
          "output_type": "stream",
          "text": [
            "epoch 16: 100%|██████████| 11/11 [00:41<00:00,  3.77s/it, cur_loss=2.77]\n"
          ]
        },
        {
          "name": "stdout",
          "output_type": "stream",
          "text": [
            "train acc=0.9941860465116279, [l1_loss, ce_loss] => [0.49278675426136365, 0.3830344460227273, 0.2989280007102273, 1.2616299715909092, 0.4134854403409091]\n",
            "Epoch: 16, loss: 2.8503, lr: 0.00000396\n"
          ]
        },
        {
          "name": "stderr",
          "output_type": "stream",
          "text": [
            "epoch 17: 100%|██████████| 11/11 [00:34<00:00,  3.13s/it, cur_loss=2.89]\n"
          ]
        },
        {
          "name": "stdout",
          "output_type": "stream",
          "text": [
            "train acc=0.997093023255814, [l1_loss, ce_loss] => [0.48792613636363635, 0.3830788352272727, 0.2900945490056818, 1.2433416193181819, 0.41002308238636365]\n",
            "Epoch: 17, loss: 2.8146, lr: 0.00000345\n"
          ]
        },
        {
          "name": "stderr",
          "output_type": "stream",
          "text": [
            "epoch 18: 100%|██████████| 11/11 [00:41<00:00,  3.77s/it, cur_loss=2.68]\n"
          ]
        },
        {
          "name": "stdout",
          "output_type": "stream",
          "text": [
            "train acc=0.998546511627907, [l1_loss, ce_loss] => [0.4804465553977273, 0.38221324573863635, 0.2713955965909091, 1.2120916193181819, 0.3827903053977273]\n",
            "Epoch: 18, loss: 2.7285, lr: 0.00000297\n"
          ]
        },
        {
          "name": "stderr",
          "output_type": "stream",
          "text": [
            "epoch 19: 100%|██████████| 11/11 [00:34<00:00,  3.11s/it, cur_loss=2.66]\n"
          ]
        },
        {
          "name": "stdout",
          "output_type": "stream",
          "text": [
            "train acc=0.997093023255814, [l1_loss, ce_loss] => [0.4772727272727273, 0.384521484375, 0.2613303444602273, 1.1831498579545454, 0.3734685724431818]\n",
            "Epoch: 19, loss: 2.6797, lr: 0.00000250\n"
          ]
        },
        {
          "name": "stderr",
          "output_type": "stream",
          "text": [
            "epoch 20: 100%|██████████| 11/11 [00:41<00:00,  3.78s/it, cur_loss=2.77]\n"
          ]
        },
        {
          "name": "stdout",
          "output_type": "stream",
          "text": [
            "train acc=0.997093023255814, [l1_loss, ce_loss] => [0.4736993963068182, 0.38270152698863635, 0.25089888139204547, 1.1627308238636365, 0.3606622869318182]\n",
            "Epoch: 20, loss: 2.6307, lr: 0.00000206\n"
          ]
        },
        {
          "name": "stderr",
          "output_type": "stream",
          "text": [
            "epoch 21: 100%|██████████| 11/11 [00:34<00:00,  3.11s/it, cur_loss=2.74]\n"
          ]
        },
        {
          "name": "stdout",
          "output_type": "stream",
          "text": [
            "train acc=0.997093023255814, [l1_loss, ce_loss] => [0.4720126065340909, 0.382568359375, 0.25342906605113635, 1.1684126420454546, 0.36079545454545453]\n",
            "Epoch: 21, loss: 2.6374, lr: 0.00000165\n"
          ]
        },
        {
          "name": "stderr",
          "output_type": "stream",
          "text": [
            "epoch 22: 100%|██████████| 11/11 [00:41<00:00,  3.77s/it, cur_loss=2.55]\n"
          ]
        },
        {
          "name": "stdout",
          "output_type": "stream",
          "text": [
            "train acc=0.998546511627907, [l1_loss, ce_loss] => [0.4707253196022727, 0.38245738636363635, 0.2450284090909091, 1.1553622159090908, 0.35486949573863635]\n",
            "Epoch: 22, loss: 2.6081, lr: 0.00000128\n"
          ]
        },
        {
          "name": "stderr",
          "output_type": "stream",
          "text": [
            "epoch 23: 100%|██████████| 11/11 [00:34<00:00,  3.10s/it, cur_loss=2.62]\n"
          ]
        },
        {
          "name": "stdout",
          "output_type": "stream",
          "text": [
            "train acc=0.9956395348837209, [l1_loss, ce_loss] => [0.4697043678977273, 0.3825905539772727, 0.24744762073863635, 1.1455965909090908, 0.3573552911931818]\n",
            "Epoch: 23, loss: 2.6028, lr: 0.00000095\n"
          ]
        },
        {
          "name": "stderr",
          "output_type": "stream",
          "text": [
            "epoch 24: 100%|██████████| 11/11 [00:41<00:00,  3.75s/it, cur_loss=2.69]\n"
          ]
        },
        {
          "name": "stdout",
          "output_type": "stream",
          "text": [
            "train acc=0.998546511627907, [l1_loss, ce_loss] => [0.4701260653409091, 0.3838112571022727, 0.24357466264204544, 1.1504794034090908, 0.35322709517045453]\n",
            "Epoch: 24, loss: 2.6014, lr: 0.00000067\n"
          ]
        },
        {
          "name": "stderr",
          "output_type": "stream",
          "text": [
            "epoch 25: 100%|██████████| 11/11 [00:34<00:00,  3.11s/it, cur_loss=2.59]\n"
          ]
        },
        {
          "name": "stdout",
          "output_type": "stream",
          "text": [
            "train acc=0.998546511627907, [l1_loss, ce_loss] => [0.46846147017045453, 0.38170276988636365, 0.24137739701704544, 1.1333451704545454, 0.3473899147727273]\n",
            "Epoch: 25, loss: 2.5714, lr: 0.00000043\n"
          ]
        },
        {
          "name": "stderr",
          "output_type": "stream",
          "text": [
            "epoch 26: 100%|██████████| 11/11 [00:41<00:00,  3.77s/it, cur_loss=2.51]\n"
          ]
        },
        {
          "name": "stdout",
          "output_type": "stream",
          "text": [
            "train acc=1.0, [l1_loss, ce_loss] => [0.46837269176136365, 0.3834783380681818, 0.2376708984375, 1.134765625, 0.34517045454545453]\n",
            "Epoch: 26, loss: 2.5692, lr: 0.00000024\n"
          ]
        },
        {
          "name": "stderr",
          "output_type": "stream",
          "text": [
            "epoch 27: 100%|██████████| 11/11 [00:34<00:00,  3.10s/it, cur_loss=2.46]\n"
          ]
        },
        {
          "name": "stdout",
          "output_type": "stream",
          "text": [
            "train acc=0.998546511627907, [l1_loss, ce_loss] => [0.4670188210227273, 0.3835671164772727, 0.2388028231534091, 1.1250887784090908, 0.34266246448863635]\n",
            "Epoch: 27, loss: 2.5572, lr: 0.00000011\n"
          ]
        },
        {
          "name": "stderr",
          "output_type": "stream",
          "text": [
            "epoch 28: 100%|██████████| 11/11 [00:41<00:00,  3.78s/it, cur_loss=2.55]\n"
          ]
        },
        {
          "name": "stdout",
          "output_type": "stream",
          "text": [
            "train acc=1.0, [l1_loss, ce_loss] => [0.4685724431818182, 0.3832785866477273, 0.2452725497159091, 1.146484375, 0.3602627840909091]\n",
            "Epoch: 28, loss: 2.6040, lr: 0.00000003\n"
          ]
        },
        {
          "name": "stderr",
          "output_type": "stream",
          "text": [
            "epoch 29: 100%|██████████| 11/11 [00:34<00:00,  3.10s/it, cur_loss=2.6] \n"
          ]
        },
        {
          "name": "stdout",
          "output_type": "stream",
          "text": [
            "train acc=0.998546511627907, [l1_loss, ce_loss] => [0.46846147017045453, 0.38261274857954547, 0.23982377485795456, 1.1337890625, 0.34574751420454547]\n",
            "Epoch: 29, loss: 2.5707, lr: 0.00000000\n",
            "Training complete!\n"
          ]
        },
        {
          "name": "stderr",
          "output_type": "stream",
          "text": [
            "Evaluate: 100%|██████████| 162/162 [01:44<00:00,  1.55it/s]\n"
          ]
        },
        {
          "name": "stdout",
          "output_type": "stream",
          "text": [
            "\n",
            "Test F1-macro:  0.9174006597480379\n",
            "#######################################\n",
            "\n",
            "Iteration:  2\n",
            "\n",
            "#######################################\n",
            "Training non-few shot model...\n",
            "Train dataset size:  648\n",
            "Test dataset size:  162\n",
            "Epoch 1/10\n",
            "  Training Loss: 3.6037\n",
            "Epoch 2/10\n",
            "  Training Loss: 3.4807\n",
            "Epoch 3/10\n",
            "  Training Loss: 3.3580\n",
            "Epoch 4/10\n",
            "  Training Loss: 3.3181\n",
            "Epoch 5/10\n",
            "  Training Loss: 3.3044\n",
            "Epoch 6/10\n",
            "  Training Loss: 3.2308\n",
            "Epoch 7/10\n",
            "  Training Loss: 3.2227\n",
            "Epoch 8/10\n",
            "  Training Loss: 3.2209\n",
            "Epoch 9/10\n",
            "  Training Loss: 3.2185\n",
            "Epoch 10/10\n",
            "  Training Loss: 3.2171\n",
            "Training complete!\n",
            "\n",
            "Test F1-macro:  0.22123845157397096\n",
            "##########################################\n",
            "2025-06-10 06:15:22 Getting cached textual weights W ...\n",
            "2025-06-10 06:15:22 Loading texture features from ./__few_shot_cache__\\german_dataset_ViT-B/16_textfeats.pt\n",
            "\n",
            "#######################################\n",
            "Training few-shot model...\n",
            "Train dataset size:  11\n",
            "Test dataset size:  162\n"
          ]
        },
        {
          "name": "stderr",
          "output_type": "stream",
          "text": [
            "epoch 0: 100%|██████████| 11/11 [00:21<00:00,  1.98s/it, cur_loss=11.4]\n"
          ]
        },
        {
          "name": "stdout",
          "output_type": "stream",
          "text": [
            "train acc=0.12790697674418605, [l1_loss, ce_loss] => [4.8669655539772725, 0.3121004971590909, 3.4586292613636362, 3.692116477272727, 3.502663352272727]\n",
            "Epoch: 0, loss: 15.8331, lr: 0.00000997\n"
          ]
        },
        {
          "name": "stderr",
          "output_type": "stream",
          "text": [
            "epoch 1: 100%|██████████| 11/11 [00:21<00:00,  1.97s/it, cur_loss=9.17]\n"
          ]
        },
        {
          "name": "stdout",
          "output_type": "stream",
          "text": [
            "train acc=0.4273255813953488, [l1_loss, ce_loss] => [0.6124378551136364, 0.3184481534090909, 2.6912286931818183, 3.310546875, 2.8595525568181817]\n",
            "Epoch: 1, loss: 9.7947, lr: 0.00000989\n"
          ]
        },
        {
          "name": "stderr",
          "output_type": "stream",
          "text": [
            "epoch 2: 100%|██████████| 11/11 [00:21<00:00,  1.95s/it, cur_loss=8.2] \n"
          ]
        },
        {
          "name": "stdout",
          "output_type": "stream",
          "text": [
            "train acc=0.6584302325581395, [l1_loss, ce_loss] => [0.6087535511363636, 0.3240411931818182, 2.1653941761363638, 3.017578125, 2.3849431818181817]\n",
            "Epoch: 2, loss: 8.4993, lr: 0.00000976\n"
          ]
        },
        {
          "name": "stderr",
          "output_type": "stream",
          "text": [
            "epoch 3: 100%|██████████| 11/11 [00:21<00:00,  1.98s/it, cur_loss=7.43]\n"
          ]
        },
        {
          "name": "stdout",
          "output_type": "stream",
          "text": [
            "train acc=0.7936046511627907, [l1_loss, ce_loss] => [0.6029385653409091, 0.33598188920454547, 1.7604758522727273, 2.758877840909091, 2.0029296875]\n",
            "Epoch: 3, loss: 7.4609, lr: 0.00000957\n"
          ]
        },
        {
          "name": "stderr",
          "output_type": "stream",
          "text": [
            "epoch 4: 100%|██████████| 11/11 [00:22<00:00,  2.01s/it, cur_loss=6.39]\n"
          ]
        },
        {
          "name": "stdout",
          "output_type": "stream",
          "text": [
            "train acc=0.877906976744186, [l1_loss, ce_loss] => [0.5919744318181818, 0.341064453125, 1.4248046875, 2.5252130681818183, 1.6717862215909092]\n",
            "Epoch: 4, loss: 6.5533, lr: 0.00000933\n"
          ]
        },
        {
          "name": "stderr",
          "output_type": "stream",
          "text": [
            "epoch 5: 100%|██████████| 11/11 [00:22<00:00,  2.02s/it, cur_loss=5.64]\n"
          ]
        },
        {
          "name": "stdout",
          "output_type": "stream",
          "text": [
            "train acc=0.9055232558139535, [l1_loss, ce_loss] => [0.5875355113636364, 0.349365234375, 1.1435990767045454, 2.303444602272727, 1.3795276988636365]\n",
            "Epoch: 5, loss: 5.7646, lr: 0.00000905\n"
          ]
        },
        {
          "name": "stderr",
          "output_type": "stream",
          "text": [
            "epoch 6: 100%|██████████| 11/11 [00:22<00:00,  2.03s/it, cur_loss=4.73]\n"
          ]
        },
        {
          "name": "stdout",
          "output_type": "stream",
          "text": [
            "train acc=0.936046511627907, [l1_loss, ce_loss] => [0.5826970880681818, 0.35509144176136365, 0.9143732244318182, 2.113192471590909, 1.1344992897727273]\n",
            "Epoch: 6, loss: 5.1009, lr: 0.00000872\n"
          ]
        },
        {
          "name": "stderr",
          "output_type": "stream",
          "text": [
            "epoch 7: 100%|██████████| 11/11 [00:22<00:00,  2.05s/it, cur_loss=4.57]\n"
          ]
        },
        {
          "name": "stdout",
          "output_type": "stream",
          "text": [
            "train acc=0.9578488372093024, [l1_loss, ce_loss] => [0.5788796164772727, 0.359619140625, 0.7191938920454546, 1.9362571022727273, 0.9114879261363636]\n",
            "Epoch: 7, loss: 4.5057, lr: 0.00000835\n"
          ]
        },
        {
          "name": "stderr",
          "output_type": "stream",
          "text": [
            "epoch 8: 100%|██████████| 11/11 [00:22<00:00,  2.05s/it, cur_loss=3.93]\n"
          ]
        },
        {
          "name": "stdout",
          "output_type": "stream",
          "text": [
            "train acc=0.9723837209302325, [l1_loss, ce_loss] => [0.5660511363636364, 0.3622824928977273, 0.5777033025568182, 1.775390625, 0.7389470880681818]\n",
            "Epoch: 8, loss: 4.0204, lr: 0.00000794\n"
          ]
        },
        {
          "name": "stderr",
          "output_type": "stream",
          "text": [
            "epoch 9: 100%|██████████| 11/11 [00:22<00:00,  2.05s/it, cur_loss=3.55]\n"
          ]
        },
        {
          "name": "stdout",
          "output_type": "stream",
          "text": [
            "train acc=0.9854651162790697, [l1_loss, ce_loss] => [0.5564186789772727, 0.36341441761363635, 0.4621360085227273, 1.6353870738636365, 0.5984996448863636]\n",
            "Epoch: 9, loss: 3.6159, lr: 0.00000750\n"
          ]
        },
        {
          "name": "stderr",
          "output_type": "stream",
          "text": [
            "epoch 10: 100%|██████████| 11/11 [00:22<00:00,  2.05s/it, cur_loss=3.26]\n"
          ]
        },
        {
          "name": "stdout",
          "output_type": "stream",
          "text": [
            "train acc=0.9825581395348837, [l1_loss, ce_loss] => [0.5510031960227273, 0.3633034446022727, 0.39124644886363635, 1.5237926136363635, 0.5139382102272727]\n",
            "Epoch: 10, loss: 3.3434, lr: 0.00000703\n"
          ]
        },
        {
          "name": "stderr",
          "output_type": "stream",
          "text": [
            "epoch 11: 100%|██████████| 11/11 [00:22<00:00,  2.07s/it, cur_loss=2.98]\n"
          ]
        },
        {
          "name": "stdout",
          "output_type": "stream",
          "text": [
            "train acc=0.9941860465116279, [l1_loss, ce_loss] => [0.5357333096590909, 0.36543412642045453, 0.32768110795454547, 1.4066051136363635, 0.4345481178977273]\n",
            "Epoch: 11, loss: 3.0701, lr: 0.00000655\n"
          ]
        },
        {
          "name": "stderr",
          "output_type": "stream",
          "text": [
            "epoch 12: 100%|██████████| 11/11 [00:22<00:00,  2.07s/it, cur_loss=2.83]\n"
          ]
        },
        {
          "name": "stdout",
          "output_type": "stream",
          "text": [
            "train acc=0.9927325581395349, [l1_loss, ce_loss] => [0.5211736505681818, 0.3662331321022727, 0.28321422230113635, 1.333984375, 0.3804376775568182]\n",
            "Epoch: 12, loss: 2.8849, lr: 0.00000604\n"
          ]
        },
        {
          "name": "stderr",
          "output_type": "stream",
          "text": [
            "epoch 13: 100%|██████████| 11/11 [00:22<00:00,  2.07s/it, cur_loss=2.74]\n"
          ]
        },
        {
          "name": "stdout",
          "output_type": "stream",
          "text": [
            "train acc=0.997093023255814, [l1_loss, ce_loss] => [0.5059037642045454, 0.3664772727272727, 0.25410600142045453, 1.2537286931818181, 0.3374245383522727]\n",
            "Epoch: 13, loss: 2.7179, lr: 0.00000552\n"
          ]
        },
        {
          "name": "stderr",
          "output_type": "stream",
          "text": [
            "epoch 14: 100%|██████████| 11/11 [00:22<00:00,  2.08s/it, cur_loss=2.43]\n"
          ]
        },
        {
          "name": "stdout",
          "output_type": "stream",
          "text": [
            "train acc=1.0, [l1_loss, ce_loss] => [0.49549449573863635, 0.3660333806818182, 0.2349520596590909, 1.1870561079545454, 0.3196022727272727]\n",
            "Epoch: 14, loss: 2.6028, lr: 0.00000500\n"
          ]
        },
        {
          "name": "stderr",
          "output_type": "stream",
          "text": [
            "epoch 15: 100%|██████████| 11/11 [00:22<00:00,  2.06s/it, cur_loss=2.54]\n"
          ]
        },
        {
          "name": "stdout",
          "output_type": "stream",
          "text": [
            "train acc=0.998546511627907, [l1_loss, ce_loss] => [0.4878595525568182, 0.36607776988636365, 0.2115478515625, 1.1448863636363635, 0.2842795632102273]\n",
            "Epoch: 15, loss: 2.4945, lr: 0.00000448\n"
          ]
        },
        {
          "name": "stderr",
          "output_type": "stream",
          "text": [
            "epoch 16: 100%|██████████| 11/11 [00:22<00:00,  2.07s/it, cur_loss=2.62]\n"
          ]
        },
        {
          "name": "stdout",
          "output_type": "stream",
          "text": [
            "train acc=0.997093023255814, [l1_loss, ce_loss] => [0.4811345880681818, 0.36601118607954547, 0.2066650390625, 1.1123934659090908, 0.2798406427556818]\n",
            "Epoch: 16, loss: 2.4460, lr: 0.00000396\n"
          ]
        },
        {
          "name": "stderr",
          "output_type": "stream",
          "text": [
            "epoch 17: 100%|██████████| 11/11 [00:22<00:00,  2.08s/it, cur_loss=2.65]\n"
          ]
        },
        {
          "name": "stdout",
          "output_type": "stream",
          "text": [
            "train acc=0.997093023255814, [l1_loss, ce_loss] => [0.47401012073863635, 0.3657448508522727, 0.19158380681818182, 1.0727095170454546, 0.25907759232954547]\n",
            "Epoch: 17, loss: 2.3633, lr: 0.00000345\n"
          ]
        },
        {
          "name": "stderr",
          "output_type": "stream",
          "text": [
            "epoch 18: 100%|██████████| 11/11 [00:22<00:00,  2.07s/it, cur_loss=2.43]\n"
          ]
        },
        {
          "name": "stdout",
          "output_type": "stream",
          "text": [
            "train acc=0.998546511627907, [l1_loss, ce_loss] => [0.47212357954545453, 0.36583362926136365, 0.18259499289772727, 1.0552201704545454, 0.25145374644886365]\n",
            "Epoch: 18, loss: 2.3271, lr: 0.00000297\n"
          ]
        },
        {
          "name": "stderr",
          "output_type": "stream",
          "text": [
            "epoch 19: 100%|██████████| 11/11 [00:22<00:00,  2.07s/it, cur_loss=2.33]\n"
          ]
        },
        {
          "name": "stdout",
          "output_type": "stream",
          "text": [
            "train acc=1.0, [l1_loss, ce_loss] => [0.46739612926136365, 0.3655672940340909, 0.17406116832386365, 1.0256125710227273, 0.23658336292613635]\n",
            "Epoch: 19, loss: 2.2701, lr: 0.00000250\n"
          ]
        },
        {
          "name": "stderr",
          "output_type": "stream",
          "text": [
            "epoch 20: 100%|██████████| 11/11 [00:22<00:00,  2.08s/it, cur_loss=2.24]\n"
          ]
        },
        {
          "name": "stdout",
          "output_type": "stream",
          "text": [
            "train acc=1.0, [l1_loss, ce_loss] => [0.46488813920454547, 0.3657892400568182, 0.17127574573863635, 1.0172230113636365, 0.23497425426136365]\n",
            "Epoch: 20, loss: 2.2541, lr: 0.00000206\n"
          ]
        },
        {
          "name": "stderr",
          "output_type": "stream",
          "text": [
            "epoch 21: 100%|██████████| 11/11 [00:22<00:00,  2.08s/it, cur_loss=2.15]\n"
          ]
        },
        {
          "name": "stdout",
          "output_type": "stream",
          "text": [
            "train acc=1.0, [l1_loss, ce_loss] => [0.46122602982954547, 0.3636141690340909, 0.16973322088068182, 0.9976029829545454, 0.23356489701704544]\n",
            "Epoch: 21, loss: 2.2255, lr: 0.00000165\n"
          ]
        },
        {
          "name": "stderr",
          "output_type": "stream",
          "text": [
            "epoch 22: 100%|██████████| 11/11 [00:22<00:00,  2.08s/it, cur_loss=2.25]\n"
          ]
        },
        {
          "name": "stdout",
          "output_type": "stream",
          "text": [
            "train acc=1.0, [l1_loss, ce_loss] => [0.46024946732954547, 0.36445756392045453, 0.16639293323863635, 0.9957830255681818, 0.23073508522727273]\n",
            "Epoch: 22, loss: 2.2177, lr: 0.00000128\n"
          ]
        },
        {
          "name": "stderr",
          "output_type": "stream",
          "text": [
            "epoch 23: 100%|██████████| 11/11 [00:22<00:00,  2.08s/it, cur_loss=2.2]\n"
          ]
        },
        {
          "name": "stdout",
          "output_type": "stream",
          "text": [
            "train acc=1.0, [l1_loss, ce_loss] => [0.4601384943181818, 0.3655672940340909, 0.16596013849431818, 0.9917879971590909, 0.22667347301136365]\n",
            "Epoch: 23, loss: 2.2100, lr: 0.00000095\n"
          ]
        },
        {
          "name": "stderr",
          "output_type": "stream",
          "text": [
            "epoch 24: 100%|██████████| 11/11 [00:22<00:00,  2.09s/it, cur_loss=2.25]\n"
          ]
        },
        {
          "name": "stdout",
          "output_type": "stream",
          "text": [
            "train acc=1.0, [l1_loss, ce_loss] => [0.45947265625, 0.36518998579545453, 0.17048783735795456, 1.0020419034090908, 0.23671653053977273]\n",
            "Epoch: 24, loss: 2.2338, lr: 0.00000067\n"
          ]
        },
        {
          "name": "stderr",
          "output_type": "stream",
          "text": [
            "epoch 25: 100%|██████████| 11/11 [00:22<00:00,  2.08s/it, cur_loss=2.25]\n"
          ]
        },
        {
          "name": "stdout",
          "output_type": "stream",
          "text": [
            "train acc=0.998546511627907, [l1_loss, ce_loss] => [0.45869584517045453, 0.36421342329545453, 0.16527210582386365, 0.9923206676136364, 0.2278164950284091]\n",
            "Epoch: 25, loss: 2.2085, lr: 0.00000043\n"
          ]
        },
        {
          "name": "stderr",
          "output_type": "stream",
          "text": [
            "epoch 26: 100%|██████████| 11/11 [00:22<00:00,  2.08s/it, cur_loss=2.14]\n"
          ]
        },
        {
          "name": "stdout",
          "output_type": "stream",
          "text": [
            "train acc=1.0, [l1_loss, ce_loss] => [0.4570534446022727, 0.3644797585227273, 0.16582697088068182, 0.9845525568181818, 0.23241077769886365]\n",
            "Epoch: 26, loss: 2.2044, lr: 0.00000024\n"
          ]
        },
        {
          "name": "stderr",
          "output_type": "stream",
          "text": [
            "epoch 27: 100%|██████████| 11/11 [00:22<00:00,  2.08s/it, cur_loss=2.3] \n"
          ]
        },
        {
          "name": "stdout",
          "output_type": "stream",
          "text": [
            "train acc=1.0, [l1_loss, ce_loss] => [0.4579190340909091, 0.36474609375, 0.1625088778409091, 0.9837979403409091, 0.22541947798295456]\n",
            "Epoch: 27, loss: 2.1944, lr: 0.00000011\n"
          ]
        },
        {
          "name": "stderr",
          "output_type": "stream",
          "text": [
            "epoch 28: 100%|██████████| 11/11 [00:22<00:00,  2.08s/it, cur_loss=2.16]\n"
          ]
        },
        {
          "name": "stdout",
          "output_type": "stream",
          "text": [
            "train acc=1.0, [l1_loss, ce_loss] => [0.4580300071022727, 0.36576704545454547, 0.16072221235795456, 0.9802468039772727, 0.22230113636363635]\n",
            "Epoch: 28, loss: 2.1875, lr: 0.00000003\n"
          ]
        },
        {
          "name": "stderr",
          "output_type": "stream",
          "text": [
            "epoch 29: 100%|██████████| 11/11 [00:22<00:00,  2.08s/it, cur_loss=2.25]\n"
          ]
        },
        {
          "name": "stdout",
          "output_type": "stream",
          "text": [
            "train acc=1.0, [l1_loss, ce_loss] => [0.4587624289772727, 0.3653231534090909, 0.16135475852272727, 0.99365234375, 0.2222900390625]\n",
            "Epoch: 29, loss: 2.2015, lr: 0.00000000\n",
            "Training complete!\n"
          ]
        },
        {
          "name": "stderr",
          "output_type": "stream",
          "text": [
            "Evaluate: 100%|██████████| 162/162 [01:22<00:00,  1.96it/s]\n"
          ]
        },
        {
          "name": "stdout",
          "output_type": "stream",
          "text": [
            "\n",
            "Test F1-macro:  0.9189531991718897\n",
            "#######################################\n",
            "\n",
            "Iteration:  3\n",
            "\n",
            "#######################################\n",
            "Training non-few shot model...\n",
            "Train dataset size:  648\n",
            "Test dataset size:  162\n",
            "Epoch 1/10\n",
            "  Training Loss: 3.5849\n",
            "Epoch 2/10\n",
            "  Training Loss: 3.4132\n",
            "Epoch 3/10\n",
            "  Training Loss: 3.3295\n",
            "Epoch 4/10\n",
            "  Training Loss: 3.3159\n",
            "Epoch 5/10\n",
            "  Training Loss: 3.2894\n",
            "Epoch 6/10\n",
            "  Training Loss: 3.2504\n",
            "Epoch 7/10\n",
            "  Training Loss: 3.2451\n",
            "Epoch 8/10\n",
            "  Training Loss: 3.2440\n",
            "Epoch 9/10\n",
            "  Training Loss: 3.2415\n",
            "Epoch 10/10\n",
            "  Training Loss: 3.2212\n",
            "Training complete!\n",
            "\n",
            "Test F1-macro:  0.24748104858191206\n",
            "##########################################\n",
            "2025-06-10 06:47:44 Getting cached textual weights W ...\n",
            "2025-06-10 06:47:44 Loading texture features from ./__few_shot_cache__\\german_dataset_ViT-B/16_textfeats.pt\n",
            "\n",
            "#######################################\n",
            "Training few-shot model...\n",
            "Train dataset size:  11\n",
            "Test dataset size:  162\n"
          ]
        },
        {
          "name": "stderr",
          "output_type": "stream",
          "text": [
            "epoch 0: 100%|██████████| 11/11 [00:26<00:00,  2.41s/it, cur_loss=11.1]\n"
          ]
        },
        {
          "name": "stdout",
          "output_type": "stream",
          "text": [
            "train acc=0.10755813953488372, [l1_loss, ce_loss] => [4.930042613636363, 0.3034446022727273, 3.549538352272727, 3.6759588068181817, 3.5699573863636362]\n",
            "Epoch: 0, loss: 16.0277, lr: 0.00000997\n"
          ]
        },
        {
          "name": "stderr",
          "output_type": "stream",
          "text": [
            "epoch 1: 100%|██████████| 11/11 [00:24<00:00,  2.19s/it, cur_loss=9.71]\n"
          ]
        },
        {
          "name": "stdout",
          "output_type": "stream",
          "text": [
            "train acc=0.40843023255813954, [l1_loss, ce_loss] => [0.7100053267045454, 0.3103915127840909, 2.738991477272727, 3.337890625, 2.9508167613636362]\n",
            "Epoch: 1, loss: 10.0497, lr: 0.00000989\n"
          ]
        },
        {
          "name": "stderr",
          "output_type": "stream",
          "text": [
            "epoch 2: 100%|██████████| 11/11 [00:24<00:00,  2.22s/it, cur_loss=8.38]\n"
          ]
        },
        {
          "name": "stdout",
          "output_type": "stream",
          "text": [
            "train acc=0.6351744186046512, [l1_loss, ce_loss] => [0.5879350142045454, 0.32157759232954547, 2.207919034090909, 3.0571732954545454, 2.5076349431818183]\n",
            "Epoch: 2, loss: 8.6818, lr: 0.00000976\n"
          ]
        },
        {
          "name": "stderr",
          "output_type": "stream",
          "text": [
            "epoch 3: 100%|██████████| 11/11 [00:27<00:00,  2.51s/it, cur_loss=7.29]\n"
          ]
        },
        {
          "name": "stdout",
          "output_type": "stream",
          "text": [
            "train acc=0.7674418604651163, [l1_loss, ce_loss] => [0.5821200284090909, 0.3285910866477273, 1.8291903409090908, 2.8013139204545454, 2.163174715909091]\n",
            "Epoch: 3, loss: 7.7045, lr: 0.00000957\n"
          ]
        },
        {
          "name": "stderr",
          "output_type": "stream",
          "text": [
            "epoch 4: 100%|██████████| 11/11 [00:26<00:00,  2.44s/it, cur_loss=6.39]\n"
          ]
        },
        {
          "name": "stdout",
          "output_type": "stream",
          "text": [
            "train acc=0.8633720930232558, [l1_loss, ce_loss] => [0.58642578125, 0.3395774147727273, 1.4841974431818181, 2.585049715909091, 1.8354048295454546]\n",
            "Epoch: 4, loss: 6.8306, lr: 0.00000933\n"
          ]
        },
        {
          "name": "stderr",
          "output_type": "stream",
          "text": [
            "epoch 5: 100%|██████████| 11/11 [00:26<00:00,  2.37s/it, cur_loss=6.18]\n"
          ]
        },
        {
          "name": "stdout",
          "output_type": "stream",
          "text": [
            "train acc=0.9200581395348837, [l1_loss, ce_loss] => [0.5788352272727273, 0.34363902698863635, 1.2075639204545454, 2.375710227272727, 1.5618785511363635]\n",
            "Epoch: 5, loss: 6.0671, lr: 0.00000905\n"
          ]
        },
        {
          "name": "stderr",
          "output_type": "stream",
          "text": [
            "epoch 6: 100%|██████████| 11/11 [00:26<00:00,  2.38s/it, cur_loss=4.88]\n"
          ]
        },
        {
          "name": "stdout",
          "output_type": "stream",
          "text": [
            "train acc=0.9433139534883721, [l1_loss, ce_loss] => [0.5747514204545454, 0.3535822088068182, 0.9758078835227273, 2.189541903409091, 1.3173828125]\n",
            "Epoch: 6, loss: 5.4105, lr: 0.00000872\n"
          ]
        },
        {
          "name": "stderr",
          "output_type": "stream",
          "text": [
            "epoch 7: 100%|██████████| 11/11 [00:25<00:00,  2.32s/it, cur_loss=4.76]\n"
          ]
        },
        {
          "name": "stdout",
          "output_type": "stream",
          "text": [
            "train acc=0.9607558139534884, [l1_loss, ce_loss] => [0.56884765625, 0.359375, 0.7790749289772727, 2.004616477272727, 1.0963689630681819]\n",
            "Epoch: 7, loss: 4.8086, lr: 0.00000835\n"
          ]
        },
        {
          "name": "stderr",
          "output_type": "stream",
          "text": [
            "epoch 8: 100%|██████████| 11/11 [00:29<00:00,  2.70s/it, cur_loss=4.09]\n"
          ]
        },
        {
          "name": "stdout",
          "output_type": "stream",
          "text": [
            "train acc=0.9723837209302325, [l1_loss, ce_loss] => [0.5636097301136364, 0.3645907315340909, 0.6389825994318182, 1.8487215909090908, 0.9204545454545454]\n",
            "Epoch: 8, loss: 4.3356, lr: 0.00000794\n"
          ]
        },
        {
          "name": "stderr",
          "output_type": "stream",
          "text": [
            "epoch 9: 100%|██████████| 11/11 [00:25<00:00,  2.33s/it, cur_loss=3.68]\n"
          ]
        },
        {
          "name": "stdout",
          "output_type": "stream",
          "text": [
            "train acc=0.9752906976744186, [l1_loss, ce_loss] => [0.5567294034090909, 0.3682528409090909, 0.5279430042613636, 1.7183061079545454, 0.7737038352272727]\n",
            "Epoch: 9, loss: 3.9446, lr: 0.00000750\n"
          ]
        },
        {
          "name": "stderr",
          "output_type": "stream",
          "text": [
            "epoch 10: 100%|██████████| 11/11 [00:25<00:00,  2.35s/it, cur_loss=3.69]\n"
          ]
        },
        {
          "name": "stdout",
          "output_type": "stream",
          "text": [
            "train acc=0.9781976744186046, [l1_loss, ce_loss] => [0.5382191051136364, 0.3702059659090909, 0.4490411931818182, 1.5895774147727273, 0.6562056107954546]\n",
            "Epoch: 10, loss: 3.6035, lr: 0.00000703\n"
          ]
        },
        {
          "name": "stderr",
          "output_type": "stream",
          "text": [
            "epoch 11: 100%|██████████| 11/11 [00:28<00:00,  2.60s/it, cur_loss=3.36]\n"
          ]
        },
        {
          "name": "stdout",
          "output_type": "stream",
          "text": [
            "train acc=0.9854651162790697, [l1_loss, ce_loss] => [0.5261896306818182, 0.37266956676136365, 0.38219105113636365, 1.4857066761363635, 0.5673384232954546]\n",
            "Epoch: 11, loss: 3.3342, lr: 0.00000655\n"
          ]
        },
        {
          "name": "stderr",
          "output_type": "stream",
          "text": [
            "epoch 12: 100%|██████████| 11/11 [00:27<00:00,  2.50s/it, cur_loss=3.17]\n"
          ]
        },
        {
          "name": "stdout",
          "output_type": "stream",
          "text": [
            "train acc=0.9869186046511628, [l1_loss, ce_loss] => [0.5076127485795454, 0.37220348011363635, 0.3369362571022727, 1.4052734375, 0.5013538707386364]\n",
            "Epoch: 12, loss: 3.1234, lr: 0.00000604\n"
          ]
        },
        {
          "name": "stderr",
          "output_type": "stream",
          "text": [
            "epoch 13: 100%|██████████| 11/11 [00:26<00:00,  2.43s/it, cur_loss=2.83]\n"
          ]
        },
        {
          "name": "stdout",
          "output_type": "stream",
          "text": [
            "train acc=0.9898255813953488, [l1_loss, ce_loss] => [0.5029074928977273, 0.37440074573863635, 0.29723011363636365, 1.3374467329545454, 0.4476651278409091]\n",
            "Epoch: 13, loss: 2.9599, lr: 0.00000552\n"
          ]
        },
        {
          "name": "stderr",
          "output_type": "stream",
          "text": [
            "epoch 14: 100%|██████████| 11/11 [00:26<00:00,  2.43s/it, cur_loss=2.8] \n"
          ]
        },
        {
          "name": "stdout",
          "output_type": "stream",
          "text": [
            "train acc=0.9956395348837209, [l1_loss, ce_loss] => [0.4926091974431818, 0.3755104758522727, 0.26915394176136365, 1.2745916193181819, 0.40531782670454547]\n",
            "Epoch: 14, loss: 2.8173, lr: 0.00000500\n"
          ]
        },
        {
          "name": "stderr",
          "output_type": "stream",
          "text": [
            "epoch 15: 100%|██████████| 11/11 [00:25<00:00,  2.32s/it, cur_loss=2.66]\n"
          ]
        },
        {
          "name": "stdout",
          "output_type": "stream",
          "text": [
            "train acc=0.9956395348837209, [l1_loss, ce_loss] => [0.4859952059659091, 0.3749778053977273, 0.24894575639204544, 1.2335759943181819, 0.3753107244318182]\n",
            "Epoch: 15, loss: 2.7189, lr: 0.00000448\n"
          ]
        },
        {
          "name": "stderr",
          "output_type": "stream",
          "text": [
            "epoch 16: 100%|██████████| 11/11 [00:30<00:00,  2.74s/it, cur_loss=2.82]\n"
          ]
        },
        {
          "name": "stdout",
          "output_type": "stream",
          "text": [
            "train acc=0.997093023255814, [l1_loss, ce_loss] => [0.4807794744318182, 0.3763094815340909, 0.22703968394886365, 1.1847478693181819, 0.34581409801136365]\n",
            "Epoch: 16, loss: 2.6149, lr: 0.00000396\n"
          ]
        },
        {
          "name": "stderr",
          "output_type": "stream",
          "text": [
            "epoch 17: 100%|██████████| 11/11 [00:25<00:00,  2.34s/it, cur_loss=2.4] \n"
          ]
        },
        {
          "name": "stdout",
          "output_type": "stream",
          "text": [
            "train acc=0.9956395348837209, [l1_loss, ce_loss] => [0.4743874289772727, 0.37593217329545453, 0.21568714488636365, 1.1580255681818181, 0.3308993252840909]\n",
            "Epoch: 17, loss: 2.5549, lr: 0.00000345\n"
          ]
        },
        {
          "name": "stderr",
          "output_type": "stream",
          "text": [
            "epoch 18: 100%|██████████| 11/11 [00:26<00:00,  2.37s/it, cur_loss=2.65]\n"
          ]
        },
        {
          "name": "stdout",
          "output_type": "stream",
          "text": [
            "train acc=0.9956395348837209, [l1_loss, ce_loss] => [0.46846147017045453, 0.37584339488636365, 0.21497691761363635, 1.1369850852272727, 0.3279474431818182]\n",
            "Epoch: 18, loss: 2.5241, lr: 0.00000297\n"
          ]
        },
        {
          "name": "stderr",
          "output_type": "stream",
          "text": [
            "epoch 19: 100%|██████████| 11/11 [00:28<00:00,  2.60s/it, cur_loss=2.43]\n"
          ]
        },
        {
          "name": "stdout",
          "output_type": "stream",
          "text": [
            "train acc=0.997093023255814, [l1_loss, ce_loss] => [0.46675248579545453, 0.3759543678977273, 0.19981800426136365, 1.1126598011363635, 0.3134543678977273]\n",
            "Epoch: 19, loss: 2.4684, lr: 0.00000250\n"
          ]
        },
        {
          "name": "stderr",
          "output_type": "stream",
          "text": [
            "epoch 20: 100%|██████████| 11/11 [00:27<00:00,  2.52s/it, cur_loss=2.33]\n"
          ]
        },
        {
          "name": "stdout",
          "output_type": "stream",
          "text": [
            "train acc=0.997093023255814, [l1_loss, ce_loss] => [0.4606711647727273, 0.3755104758522727, 0.19423606178977273, 1.0962357954545454, 0.29725230823863635]\n",
            "Epoch: 20, loss: 2.4242, lr: 0.00000206\n"
          ]
        },
        {
          "name": "stderr",
          "output_type": "stream",
          "text": [
            "epoch 21: 100%|██████████| 11/11 [00:26<00:00,  2.44s/it, cur_loss=2.39]\n"
          ]
        },
        {
          "name": "stdout",
          "output_type": "stream",
          "text": [
            "train acc=0.998546511627907, [l1_loss, ce_loss] => [0.4579856178977273, 0.3744895241477273, 0.19197221235795456, 1.0930397727272727, 0.2950772372159091]\n",
            "Epoch: 21, loss: 2.4125, lr: 0.00000165\n"
          ]
        },
        {
          "name": "stderr",
          "output_type": "stream",
          "text": [
            "epoch 22: 100%|██████████| 11/11 [00:26<00:00,  2.43s/it, cur_loss=2.41]\n"
          ]
        },
        {
          "name": "stdout",
          "output_type": "stream",
          "text": [
            "train acc=0.997093023255814, [l1_loss, ce_loss] => [0.45592151988636365, 0.3740456321022727, 0.18947531960227273, 1.0833629261363635, 0.29359019886363635]\n",
            "Epoch: 22, loss: 2.3965, lr: 0.00000128\n"
          ]
        },
        {
          "name": "stderr",
          "output_type": "stream",
          "text": [
            "epoch 23: 100%|██████████| 11/11 [00:26<00:00,  2.37s/it, cur_loss=2.41]\n"
          ]
        },
        {
          "name": "stdout",
          "output_type": "stream",
          "text": [
            "train acc=0.997093023255814, [l1_loss, ce_loss] => [0.45860706676136365, 0.375, 0.18529163707386365, 1.0856711647727273, 0.29371226917613635]\n",
            "Epoch: 23, loss: 2.3984, lr: 0.00000095\n"
          ]
        },
        {
          "name": "stderr",
          "output_type": "stream",
          "text": [
            "epoch 24: 100%|██████████| 11/11 [00:30<00:00,  2.77s/it, cur_loss=2.51]\n"
          ]
        },
        {
          "name": "stdout",
          "output_type": "stream",
          "text": [
            "train acc=0.998546511627907, [l1_loss, ce_loss] => [0.45692027698863635, 0.37528852982954547, 0.18304998224431818, 1.0710227272727273, 0.2882412997159091]\n",
            "Epoch: 24, loss: 2.3745, lr: 0.00000067\n"
          ]
        },
        {
          "name": "stderr",
          "output_type": "stream",
          "text": [
            "epoch 25: 100%|██████████| 11/11 [00:27<00:00,  2.47s/it, cur_loss=2.31]\n"
          ]
        },
        {
          "name": "stdout",
          "output_type": "stream",
          "text": [
            "train acc=0.998546511627907, [l1_loss, ce_loss] => [0.4538796164772727, 0.37451171875, 0.18125221946022727, 1.0618785511363635, 0.2840909090909091]\n",
            "Epoch: 25, loss: 2.3560, lr: 0.00000043\n"
          ]
        },
        {
          "name": "stderr",
          "output_type": "stream",
          "text": [
            "epoch 26: 100%|██████████| 11/11 [00:26<00:00,  2.39s/it, cur_loss=2.39]\n"
          ]
        },
        {
          "name": "stdout",
          "output_type": "stream",
          "text": [
            "train acc=0.998546511627907, [l1_loss, ce_loss] => [0.4556329900568182, 0.37451171875, 0.18458140980113635, 1.0674715909090908, 0.28673206676136365]\n",
            "Epoch: 26, loss: 2.3688, lr: 0.00000024\n"
          ]
        },
        {
          "name": "stderr",
          "output_type": "stream",
          "text": [
            "epoch 27: 100%|██████████| 11/11 [00:29<00:00,  2.64s/it, cur_loss=2.4] \n"
          ]
        },
        {
          "name": "stdout",
          "output_type": "stream",
          "text": [
            "train acc=0.998546511627907, [l1_loss, ce_loss] => [0.456298828125, 0.37486683238636365, 0.1861239346590909, 1.0786576704545454, 0.29179243607954547]\n",
            "Epoch: 27, loss: 2.3878, lr: 0.00000011\n"
          ]
        },
        {
          "name": "stderr",
          "output_type": "stream",
          "text": [
            "epoch 28: 100%|██████████| 11/11 [00:27<00:00,  2.52s/it, cur_loss=2.28]\n"
          ]
        },
        {
          "name": "stdout",
          "output_type": "stream",
          "text": [
            "train acc=0.997093023255814, [l1_loss, ce_loss] => [0.45716441761363635, 0.3744895241477273, 0.18672318892045456, 1.0701349431818181, 0.29112659801136365]\n",
            "Epoch: 28, loss: 2.3798, lr: 0.00000003\n"
          ]
        },
        {
          "name": "stderr",
          "output_type": "stream",
          "text": [
            "epoch 29: 100%|██████████| 11/11 [00:27<00:00,  2.46s/it, cur_loss=2.36]\n"
          ]
        },
        {
          "name": "stdout",
          "output_type": "stream",
          "text": [
            "train acc=0.9956395348837209, [l1_loss, ce_loss] => [0.45601029829545453, 0.3740234375, 0.1871004971590909, 1.0806995738636365, 0.29838423295454547]\n",
            "Epoch: 29, loss: 2.3963, lr: 0.00000000\n",
            "Training complete!\n"
          ]
        },
        {
          "name": "stderr",
          "output_type": "stream",
          "text": [
            "Evaluate: 100%|██████████| 162/162 [01:22<00:00,  1.97it/s]\n"
          ]
        },
        {
          "name": "stdout",
          "output_type": "stream",
          "text": [
            "\n",
            "Test F1-macro:  0.9195217760075568\n",
            "#######################################\n",
            "\n",
            "Iteration:  4\n",
            "\n",
            "#######################################\n",
            "Training non-few shot model...\n",
            "Train dataset size:  648\n",
            "Test dataset size:  162\n",
            "Epoch 1/10\n",
            "  Training Loss: 3.5326\n",
            "Epoch 2/10\n",
            "  Training Loss: 3.3531\n",
            "Epoch 3/10\n",
            "  Training Loss: 3.3363\n",
            "Epoch 4/10\n",
            "  Training Loss: 3.2758\n",
            "Epoch 5/10\n",
            "  Training Loss: 3.2635\n",
            "Epoch 6/10\n",
            "  Training Loss: 3.2071\n",
            "Epoch 7/10\n",
            "  Training Loss: 3.1624\n",
            "Epoch 8/10\n",
            "  Training Loss: 3.1586\n",
            "Epoch 9/10\n",
            "  Training Loss: 3.1569\n",
            "Epoch 10/10\n",
            "  Training Loss: 3.1544\n",
            "Training complete!\n",
            "\n",
            "Test F1-macro:  0.2734408574073754\n",
            "##########################################\n",
            "2025-06-10 07:23:10 Getting cached textual weights W ...\n",
            "2025-06-10 07:23:10 Loading texture features from ./__few_shot_cache__\\german_dataset_ViT-B/16_textfeats.pt\n",
            "\n",
            "#######################################\n",
            "Training few-shot model...\n",
            "Train dataset size:  11\n",
            "Test dataset size:  162\n"
          ]
        },
        {
          "name": "stderr",
          "output_type": "stream",
          "text": [
            "epoch 0: 100%|██████████| 11/11 [00:21<00:00,  1.92s/it, cur_loss=11]  \n"
          ]
        },
        {
          "name": "stdout",
          "output_type": "stream",
          "text": [
            "train acc=0.10755813953488372, [l1_loss, ce_loss] => [5.781782670454546, 0.3230202414772727, 3.5230823863636362, 3.7151988636363638, 3.5806107954545454]\n",
            "Epoch: 0, loss: 16.9240, lr: 0.00000997\n"
          ]
        },
        {
          "name": "stderr",
          "output_type": "stream",
          "text": [
            "epoch 1: 100%|██████████| 11/11 [00:21<00:00,  1.99s/it, cur_loss=9.61]\n"
          ]
        },
        {
          "name": "stdout",
          "output_type": "stream",
          "text": [
            "train acc=0.39098837209302323, [l1_loss, ce_loss] => [0.7911044034090909, 0.3312100497159091, 2.807883522727273, 3.427024147727273, 3.071555397727273]\n",
            "Epoch: 1, loss: 10.4304, lr: 0.00000989\n"
          ]
        },
        {
          "name": "stderr",
          "output_type": "stream",
          "text": [
            "epoch 2: 100%|██████████| 11/11 [00:21<00:00,  2.00s/it, cur_loss=8.49]\n"
          ]
        },
        {
          "name": "stdout",
          "output_type": "stream",
          "text": [
            "train acc=0.5741279069767442, [l1_loss, ce_loss] => [0.6536310369318182, 0.33802379261363635, 2.2984730113636362, 3.137606534090909, 2.623046875]\n",
            "Epoch: 2, loss: 9.0526, lr: 0.00000976\n"
          ]
        },
        {
          "name": "stderr",
          "output_type": "stream",
          "text": [
            "epoch 3: 100%|██████████| 11/11 [00:22<00:00,  2.01s/it, cur_loss=7.62]\n"
          ]
        },
        {
          "name": "stdout",
          "output_type": "stream",
          "text": [
            "train acc=0.7252906976744186, [l1_loss, ce_loss] => [0.6084428267045454, 0.3420632102272727, 1.9334161931818181, 2.919034090909091, 2.248046875]\n",
            "Epoch: 3, loss: 8.0511, lr: 0.00000957\n"
          ]
        },
        {
          "name": "stderr",
          "output_type": "stream",
          "text": [
            "epoch 4: 100%|██████████| 11/11 [00:22<00:00,  2.04s/it, cur_loss=7.14]\n"
          ]
        },
        {
          "name": "stdout",
          "output_type": "stream",
          "text": [
            "train acc=0.7950581395348837, [l1_loss, ce_loss] => [0.5939719460227273, 0.34754527698863635, 1.6140802556818181, 2.7221235795454546, 1.9030539772727273]\n",
            "Epoch: 4, loss: 7.1808, lr: 0.00000933\n"
          ]
        },
        {
          "name": "stderr",
          "output_type": "stream",
          "text": [
            "epoch 5: 100%|██████████| 11/11 [00:22<00:00,  2.06s/it, cur_loss=5.95]\n"
          ]
        },
        {
          "name": "stdout",
          "output_type": "stream",
          "text": [
            "train acc=0.875, [l1_loss, ce_loss] => [0.5894442471590909, 0.3547141335227273, 1.3534268465909092, 2.5200639204545454, 1.6041370738636365]\n",
            "Epoch: 5, loss: 6.4219, lr: 0.00000905\n"
          ]
        },
        {
          "name": "stderr",
          "output_type": "stream",
          "text": [
            "epoch 6: 100%|██████████| 11/11 [00:22<00:00,  2.07s/it, cur_loss=5.5] \n"
          ]
        },
        {
          "name": "stdout",
          "output_type": "stream",
          "text": [
            "train acc=0.9113372093023255, [l1_loss, ce_loss] => [0.5863370028409091, 0.3617942116477273, 1.1559836647727273, 2.3513849431818183, 1.3882279829545454]\n",
            "Epoch: 6, loss: 5.8441, lr: 0.00000872\n"
          ]
        },
        {
          "name": "stderr",
          "output_type": "stream",
          "text": [
            "epoch 7: 100%|██████████| 11/11 [00:22<00:00,  2.09s/it, cur_loss=5.28]\n"
          ]
        },
        {
          "name": "stdout",
          "output_type": "stream",
          "text": [
            "train acc=0.9418604651162791, [l1_loss, ce_loss] => [0.5777698863636364, 0.36705433238636365, 0.9700816761363636, 2.1889204545454546, 1.197265625]\n",
            "Epoch: 7, loss: 5.3022, lr: 0.00000835\n"
          ]
        },
        {
          "name": "stderr",
          "output_type": "stream",
          "text": [
            "epoch 8: 100%|██████████| 11/11 [00:23<00:00,  2.09s/it, cur_loss=5.16]\n"
          ]
        },
        {
          "name": "stdout",
          "output_type": "stream",
          "text": [
            "train acc=0.9520348837209303, [l1_loss, ce_loss] => [0.5694247159090909, 0.3731356534090909, 0.8272816051136364, 2.021750710227273, 1.0315163352272727]\n",
            "Epoch: 8, loss: 4.8228, lr: 0.00000794\n"
          ]
        },
        {
          "name": "stderr",
          "output_type": "stream",
          "text": [
            "epoch 9: 100%|██████████| 11/11 [00:22<00:00,  2.08s/it, cur_loss=4.26]\n"
          ]
        },
        {
          "name": "stdout",
          "output_type": "stream",
          "text": [
            "train acc=0.9680232558139535, [l1_loss, ce_loss] => [0.5650301846590909, 0.37471147017045453, 0.6907404119318182, 1.8788174715909092, 0.8888050426136364]\n",
            "Epoch: 9, loss: 4.3977, lr: 0.00000750\n"
          ]
        },
        {
          "name": "stderr",
          "output_type": "stream",
          "text": [
            "epoch 10: 100%|██████████| 11/11 [00:23<00:00,  2.10s/it, cur_loss=3.81]\n"
          ]
        },
        {
          "name": "stdout",
          "output_type": "stream",
          "text": [
            "train acc=0.9796511627906976, [l1_loss, ce_loss] => [0.5471413352272727, 0.3776189630681818, 0.580078125, 1.7473366477272727, 0.7681995738636364]\n",
            "Epoch: 10, loss: 4.0201, lr: 0.00000703\n"
          ]
        },
        {
          "name": "stderr",
          "output_type": "stream",
          "text": [
            "epoch 11: 100%|██████████| 11/11 [00:23<00:00,  2.10s/it, cur_loss=3.57]\n"
          ]
        },
        {
          "name": "stdout",
          "output_type": "stream",
          "text": [
            "train acc=0.9869186046511628, [l1_loss, ce_loss] => [0.5328036221590909, 0.3805486505681818, 0.5058371803977273, 1.6584694602272727, 0.6914506392045454]\n",
            "Epoch: 11, loss: 3.7690, lr: 0.00000655\n"
          ]
        },
        {
          "name": "stderr",
          "output_type": "stream",
          "text": [
            "epoch 12: 100%|██████████| 11/11 [00:23<00:00,  2.12s/it, cur_loss=3.54]\n"
          ]
        },
        {
          "name": "stdout",
          "output_type": "stream",
          "text": [
            "train acc=0.9796511627906976, [l1_loss, ce_loss] => [0.5247691761363636, 0.38227982954545453, 0.4480868252840909, 1.5733309659090908, 0.6226917613636364]\n",
            "Epoch: 12, loss: 3.5513, lr: 0.00000604\n"
          ]
        },
        {
          "name": "stderr",
          "output_type": "stream",
          "text": [
            "epoch 13: 100%|██████████| 11/11 [00:23<00:00,  2.12s/it, cur_loss=3.33]\n"
          ]
        },
        {
          "name": "stdout",
          "output_type": "stream",
          "text": [
            "train acc=0.9869186046511628, [l1_loss, ce_loss] => [0.517333984375, 0.38221324573863635, 0.4070046164772727, 1.5036399147727273, 0.5674493963068182]\n",
            "Epoch: 13, loss: 3.3775, lr: 0.00000552\n"
          ]
        },
        {
          "name": "stderr",
          "output_type": "stream",
          "text": [
            "epoch 14: 100%|██████████| 11/11 [00:22<00:00,  2.09s/it, cur_loss=3.06]\n"
          ]
        },
        {
          "name": "stdout",
          "output_type": "stream",
          "text": [
            "train acc=0.9883720930232558, [l1_loss, ce_loss] => [0.5057927911931818, 0.38350053267045453, 0.3685857599431818, 1.4292436079545454, 0.5266779119318182]\n",
            "Epoch: 14, loss: 3.2140, lr: 0.00000500\n"
          ]
        },
        {
          "name": "stderr",
          "output_type": "stream",
          "text": [
            "epoch 15: 100%|██████████| 11/11 [00:23<00:00,  2.10s/it, cur_loss=3.14]\n"
          ]
        },
        {
          "name": "stdout",
          "output_type": "stream",
          "text": [
            "train acc=0.9941860465116279, [l1_loss, ce_loss] => [0.5016645951704546, 0.38365589488636365, 0.3346502130681818, 1.3924893465909092, 0.48002485795454547]\n",
            "Epoch: 15, loss: 3.0927, lr: 0.00000448\n"
          ]
        },
        {
          "name": "stderr",
          "output_type": "stream",
          "text": [
            "epoch 16: 100%|██████████| 11/11 [00:23<00:00,  2.10s/it, cur_loss=3.31]\n"
          ]
        },
        {
          "name": "stdout",
          "output_type": "stream",
          "text": [
            "train acc=0.9956395348837209, [l1_loss, ce_loss] => [0.4946067116477273, 0.3829012784090909, 0.3141202059659091, 1.3599076704545454, 0.4708806818181818]\n",
            "Epoch: 16, loss: 3.0225, lr: 0.00000396\n"
          ]
        },
        {
          "name": "stderr",
          "output_type": "stream",
          "text": [
            "epoch 17: 100%|██████████| 11/11 [00:23<00:00,  2.10s/it, cur_loss=2.88]\n"
          ]
        },
        {
          "name": "stdout",
          "output_type": "stream",
          "text": [
            "train acc=0.9956395348837209, [l1_loss, ce_loss] => [0.4859286221590909, 0.3829900568181818, 0.2914817116477273, 1.3154296875, 0.4356356534090909]\n",
            "Epoch: 17, loss: 2.9118, lr: 0.00000345\n"
          ]
        },
        {
          "name": "stderr",
          "output_type": "stream",
          "text": [
            "epoch 18: 100%|██████████| 11/11 [00:23<00:00,  2.12s/it, cur_loss=2.91]\n"
          ]
        },
        {
          "name": "stdout",
          "output_type": "stream",
          "text": [
            "train acc=0.9927325581395349, [l1_loss, ce_loss] => [0.4876376065340909, 0.3822354403409091, 0.28556685014204547, 1.2989169034090908, 0.4313742897727273]\n",
            "Epoch: 18, loss: 2.8860, lr: 0.00000297\n"
          ]
        },
        {
          "name": "stderr",
          "output_type": "stream",
          "text": [
            "epoch 19: 100%|██████████| 11/11 [00:23<00:00,  2.10s/it, cur_loss=2.82]\n"
          ]
        },
        {
          "name": "stdout",
          "output_type": "stream",
          "text": [
            "train acc=0.9956395348837209, [l1_loss, ce_loss] => [0.4812899502840909, 0.38325639204545453, 0.2731711647727273, 1.2647372159090908, 0.41297496448863635]\n",
            "Epoch: 19, loss: 2.8153, lr: 0.00000250\n"
          ]
        },
        {
          "name": "stderr",
          "output_type": "stream",
          "text": [
            "epoch 20: 100%|██████████| 11/11 [00:23<00:00,  2.11s/it, cur_loss=2.73]\n"
          ]
        },
        {
          "name": "stdout",
          "output_type": "stream",
          "text": [
            "train acc=0.9956395348837209, [l1_loss, ce_loss] => [0.4776056463068182, 0.38341175426136365, 0.2630393288352273, 1.2524857954545454, 0.40416370738636365]\n",
            "Epoch: 20, loss: 2.7807, lr: 0.00000206\n"
          ]
        },
        {
          "name": "stderr",
          "output_type": "stream",
          "text": [
            "epoch 21: 100%|██████████| 11/11 [00:23<00:00,  2.11s/it, cur_loss=2.71]\n"
          ]
        },
        {
          "name": "stdout",
          "output_type": "stream",
          "text": [
            "train acc=1.0, [l1_loss, ce_loss] => [0.4747869318181818, 0.384765625, 0.2540949041193182, 1.2404119318181819, 0.38831676136363635]\n",
            "Epoch: 21, loss: 2.7425, lr: 0.00000165\n"
          ]
        },
        {
          "name": "stderr",
          "output_type": "stream",
          "text": [
            "epoch 22: 100%|██████████| 11/11 [00:23<00:00,  2.11s/it, cur_loss=2.87]\n"
          ]
        },
        {
          "name": "stdout",
          "output_type": "stream",
          "text": [
            "train acc=1.0, [l1_loss, ce_loss] => [0.47310014204545453, 0.3833673650568182, 0.24994451349431818, 1.2359730113636365, 0.39024769176136365]\n",
            "Epoch: 22, loss: 2.7328, lr: 0.00000128\n"
          ]
        },
        {
          "name": "stderr",
          "output_type": "stream",
          "text": [
            "epoch 23: 100%|██████████| 11/11 [00:23<00:00,  2.12s/it, cur_loss=2.84]\n"
          ]
        },
        {
          "name": "stdout",
          "output_type": "stream",
          "text": [
            "train acc=0.998546511627907, [l1_loss, ce_loss] => [0.47392134232954547, 0.3837002840909091, 0.2501886541193182, 1.2319779829545454, 0.38423295454545453]\n",
            "Epoch: 23, loss: 2.7241, lr: 0.00000095\n"
          ]
        },
        {
          "name": "stderr",
          "output_type": "stream",
          "text": [
            "epoch 24: 100%|██████████| 11/11 [00:23<00:00,  2.12s/it, cur_loss=2.66]\n"
          ]
        },
        {
          "name": "stdout",
          "output_type": "stream",
          "text": [
            "train acc=0.998546511627907, [l1_loss, ce_loss] => [0.47105823863636365, 0.38292347301136365, 0.2462491122159091, 1.2292258522727273, 0.3851651278409091]\n",
            "Epoch: 24, loss: 2.7145, lr: 0.00000067\n"
          ]
        },
        {
          "name": "stderr",
          "output_type": "stream",
          "text": [
            "epoch 25: 100%|██████████| 11/11 [00:23<00:00,  2.12s/it, cur_loss=2.69]\n"
          ]
        },
        {
          "name": "stdout",
          "output_type": "stream",
          "text": [
            "train acc=0.997093023255814, [l1_loss, ce_loss] => [0.47216796875, 0.38398881392045453, 0.24977805397727273, 1.2231889204545454, 0.38383345170454547]\n",
            "Epoch: 25, loss: 2.7134, lr: 0.00000043\n"
          ]
        },
        {
          "name": "stderr",
          "output_type": "stream",
          "text": [
            "epoch 26: 100%|██████████| 11/11 [00:23<00:00,  2.11s/it, cur_loss=2.86]\n"
          ]
        },
        {
          "name": "stdout",
          "output_type": "stream",
          "text": [
            "train acc=0.997093023255814, [l1_loss, ce_loss] => [0.47314453125, 0.38334517045454547, 0.2528298117897727, 1.2405007102272727, 0.3887384588068182]\n",
            "Epoch: 26, loss: 2.7385, lr: 0.00000024\n"
          ]
        },
        {
          "name": "stderr",
          "output_type": "stream",
          "text": [
            "epoch 27: 100%|██████████| 11/11 [00:23<00:00,  2.12s/it, cur_loss=2.78]\n"
          ]
        },
        {
          "name": "stdout",
          "output_type": "stream",
          "text": [
            "train acc=0.997093023255814, [l1_loss, ce_loss] => [0.47050337357954547, 0.38334517045454547, 0.2443514737215909, 1.2223011363636365, 0.37513316761363635]\n",
            "Epoch: 27, loss: 2.6955, lr: 0.00000011\n"
          ]
        },
        {
          "name": "stderr",
          "output_type": "stream",
          "text": [
            "epoch 28: 100%|██████████| 11/11 [00:23<00:00,  2.12s/it, cur_loss=2.62]\n"
          ]
        },
        {
          "name": "stdout",
          "output_type": "stream",
          "text": [
            "train acc=0.998546511627907, [l1_loss, ce_loss] => [0.469482421875, 0.38270152698863635, 0.2431640625, 1.224609375, 0.37821821732954547]\n",
            "Epoch: 28, loss: 2.6983, lr: 0.00000003\n"
          ]
        },
        {
          "name": "stderr",
          "output_type": "stream",
          "text": [
            "epoch 29: 100%|██████████| 11/11 [00:23<00:00,  2.12s/it, cur_loss=2.7] \n"
          ]
        },
        {
          "name": "stdout",
          "output_type": "stream",
          "text": [
            "train acc=1.0, [l1_loss, ce_loss] => [0.4715243252840909, 0.38310102982954547, 0.24756969105113635, 1.2232776988636365, 0.3837668678977273]\n",
            "Epoch: 29, loss: 2.7092, lr: 0.00000000\n",
            "Training complete!\n"
          ]
        },
        {
          "name": "stderr",
          "output_type": "stream",
          "text": [
            "Evaluate: 100%|██████████| 162/162 [01:22<00:00,  1.97it/s]\n"
          ]
        },
        {
          "name": "stdout",
          "output_type": "stream",
          "text": [
            "\n",
            "Test F1-macro:  0.9098981647131583\n",
            "#######################################\n",
            "Processing the Hugging Face dataset: russian_dataset\n"
          ]
        },
        {
          "name": "stderr",
          "output_type": "stream",
          "text": [
            "Processing images: 100%|██████████| 103841/103841 [00:00<00:00, 1280828.83it/s]\n"
          ]
        },
        {
          "name": "stdout",
          "output_type": "stream",
          "text": [
            "Number of filtered labels:  139\n",
            "Number of removed labels:  59\n",
            "Number of samples in the dataset:  103841\n",
            "\n",
            "Iteration:  0\n",
            "\n",
            "#######################################\n",
            "Training non-few shot model...\n",
            "Train dataset size:  1298\n",
            "Test dataset size:  325\n",
            "Epoch 1/10\n",
            "  Training Loss: 4.7152\n",
            "Epoch 2/10\n",
            "  Training Loss: 4.7131\n",
            "Epoch 3/10\n",
            "  Training Loss: 4.7131\n",
            "Epoch 4/10\n",
            "  Training Loss: 4.7131\n",
            "Epoch 5/10\n",
            "  Training Loss: 4.7131\n",
            "Epoch 6/10\n",
            "  Training Loss: 4.7131\n",
            "Epoch 7/10\n",
            "  Training Loss: 4.7131\n",
            "Epoch 8/10\n",
            "  Training Loss: 4.7131\n",
            "Epoch 9/10\n",
            "  Training Loss: 4.7131\n",
            "Epoch 10/10\n",
            "  Training Loss: 4.7131\n",
            "Training complete!\n",
            "\n",
            "Test F1-macro:  0.0027252883510068067\n",
            "##########################################\n",
            "2025-06-10 09:14:29 Getting cached textual weights W ...\n",
            "\n",
            "#######################################\n",
            "Training few-shot model...\n",
            "Train dataset size:  35\n",
            "Test dataset size:  325\n"
          ]
        },
        {
          "name": "stderr",
          "output_type": "stream",
          "text": [
            "epoch 0: 100%|██████████| 35/35 [01:57<00:00,  3.35s/it, cur_loss=14.7]\n"
          ]
        },
        {
          "name": "stdout",
          "output_type": "stream",
          "text": [
            "train acc=0.046312949640287766, [l1_loss, ce_loss] => [1.8045061383928571, 0.3390415736607143, 4.734486607142857, 4.915401785714286, 4.777566964285715]\n",
            "Epoch: 0, loss: 16.5721, lr: 0.00000997\n"
          ]
        },
        {
          "name": "stderr",
          "output_type": "stream",
          "text": [
            "epoch 1: 100%|██████████| 35/35 [01:39<00:00,  2.83s/it, cur_loss=13.5]\n"
          ]
        },
        {
          "name": "stdout",
          "output_type": "stream",
          "text": [
            "train acc=0.21717625899280577, [l1_loss, ce_loss] => [0.42506277901785716, 0.34750279017857144, 4.140011160714286, 4.6652901785714285, 4.322767857142857]\n",
            "Epoch: 1, loss: 13.9007, lr: 0.00000989\n"
          ]
        },
        {
          "name": "stderr",
          "output_type": "stream",
          "text": [
            "epoch 2: 100%|██████████| 35/35 [01:37<00:00,  2.78s/it, cur_loss=12.6]\n"
          ]
        },
        {
          "name": "stdout",
          "output_type": "stream",
          "text": [
            "train acc=0.3606115107913669, [l1_loss, ce_loss] => [0.450732421875, 0.35130440848214284, 3.726785714285714, 4.448660714285714, 3.954296875]\n",
            "Epoch: 2, loss: 12.9317, lr: 0.00000976\n"
          ]
        },
        {
          "name": "stderr",
          "output_type": "stream",
          "text": [
            "epoch 3: 100%|██████████| 35/35 [01:37<00:00,  2.80s/it, cur_loss=12.1]\n"
          ]
        },
        {
          "name": "stdout",
          "output_type": "stream",
          "text": [
            "train acc=0.47526978417266186, [l1_loss, ce_loss] => [0.46353934151785714, 0.3561802455357143, 3.367578125, 4.266294642857143, 3.6126674107142858]\n",
            "Epoch: 3, loss: 12.0665, lr: 0.00000957\n"
          ]
        },
        {
          "name": "stderr",
          "output_type": "stream",
          "text": [
            "epoch 4: 100%|██████████| 35/35 [01:38<00:00,  2.81s/it, cur_loss=11.6]\n"
          ]
        },
        {
          "name": "stdout",
          "output_type": "stream",
          "text": [
            "train acc=0.5593525179856115, [l1_loss, ce_loss] => [0.47666015625, 0.36075613839285714, 3.0530691964285714, 4.091573660714285, 3.288671875]\n",
            "Epoch: 4, loss: 11.2705, lr: 0.00000933\n"
          ]
        },
        {
          "name": "stderr",
          "output_type": "stream",
          "text": [
            "epoch 5: 100%|██████████| 35/35 [01:38<00:00,  2.81s/it, cur_loss=10.4]\n"
          ]
        },
        {
          "name": "stdout",
          "output_type": "stream",
          "text": [
            "train acc=0.6528776978417267, [l1_loss, ce_loss] => [0.4876116071428571, 0.3639578683035714, 2.76953125, 3.915792410714286, 2.9747767857142855]\n",
            "Epoch: 5, loss: 10.5118, lr: 0.00000905\n"
          ]
        },
        {
          "name": "stderr",
          "output_type": "stream",
          "text": [
            "epoch 6: 100%|██████████| 35/35 [01:38<00:00,  2.82s/it, cur_loss=10]  \n"
          ]
        },
        {
          "name": "stdout",
          "output_type": "stream",
          "text": [
            "train acc=0.7212230215827338, [l1_loss, ce_loss] => [0.49153878348214286, 0.36771763392857143, 2.506640625, 3.747154017857143, 2.6792410714285713]\n",
            "Epoch: 6, loss: 9.7922, lr: 0.00000872\n"
          ]
        },
        {
          "name": "stderr",
          "output_type": "stream",
          "text": [
            "epoch 7: 100%|██████████| 35/35 [01:39<00:00,  2.84s/it, cur_loss=8.92]\n"
          ]
        },
        {
          "name": "stdout",
          "output_type": "stream",
          "text": [
            "train acc=0.7711330935251799, [l1_loss, ce_loss] => [0.49374302455357144, 0.3714006696428571, 2.2677455357142855, 3.582421875, 2.401953125]\n",
            "Epoch: 7, loss: 9.1174, lr: 0.00000835\n"
          ]
        },
        {
          "name": "stderr",
          "output_type": "stream",
          "text": [
            "epoch 8: 100%|██████████| 35/35 [01:45<00:00,  3.03s/it, cur_loss=8.19]\n"
          ]
        },
        {
          "name": "stdout",
          "output_type": "stream",
          "text": [
            "train acc=0.8192446043165468, [l1_loss, ce_loss] => [0.4946847098214286, 0.37294921875, 2.068833705357143, 3.4443638392857143, 2.1734095982142856]\n",
            "Epoch: 8, loss: 8.5544, lr: 0.00000794\n"
          ]
        },
        {
          "name": "stderr",
          "output_type": "stream",
          "text": [
            "epoch 9: 100%|██████████| 35/35 [01:39<00:00,  2.85s/it, cur_loss=8.12]\n"
          ]
        },
        {
          "name": "stdout",
          "output_type": "stream",
          "text": [
            "train acc=0.8372302158273381, [l1_loss, ce_loss] => [0.4993861607142857, 0.3752371651785714, 1.893443080357143, 3.311830357142857, 1.9691127232142858]\n",
            "Epoch: 9, loss: 8.0498, lr: 0.00000750\n"
          ]
        },
        {
          "name": "stderr",
          "output_type": "stream",
          "text": [
            "epoch 10: 100%|██████████| 35/35 [01:42<00:00,  2.94s/it, cur_loss=7.73]\n"
          ]
        },
        {
          "name": "stdout",
          "output_type": "stream",
          "text": [
            "train acc=0.8745503597122302, [l1_loss, ce_loss] => [0.4947265625, 0.3764439174107143, 1.7443080357142857, 3.1906808035714285, 1.7974888392857142]\n",
            "Epoch: 10, loss: 7.6038, lr: 0.00000703\n"
          ]
        },
        {
          "name": "stderr",
          "output_type": "stream",
          "text": [
            "epoch 11: 100%|██████████| 35/35 [01:41<00:00,  2.90s/it, cur_loss=7.62]\n"
          ]
        },
        {
          "name": "stdout",
          "output_type": "stream",
          "text": [
            "train acc=0.8893884892086331, [l1_loss, ce_loss] => [0.49330357142857145, 0.37769949776785716, 1.600697544642857, 3.0765625, 1.6432198660714286]\n",
            "Epoch: 11, loss: 7.1917, lr: 0.00000655\n"
          ]
        },
        {
          "name": "stderr",
          "output_type": "stream",
          "text": [
            "epoch 12: 100%|██████████| 35/35 [01:39<00:00,  2.83s/it, cur_loss=7.04]\n"
          ]
        },
        {
          "name": "stdout",
          "output_type": "stream",
          "text": [
            "train acc=0.9051258992805755, [l1_loss, ce_loss] => [0.5003627232142858, 0.37791573660714284, 1.4958147321428572, 2.98515625, 1.526171875]\n",
            "Epoch: 12, loss: 6.8850, lr: 0.00000604\n"
          ]
        },
        {
          "name": "stderr",
          "output_type": "stream",
          "text": [
            "epoch 13: 100%|██████████| 35/35 [01:39<00:00,  2.85s/it, cur_loss=6.27]\n"
          ]
        },
        {
          "name": "stdout",
          "output_type": "stream",
          "text": [
            "train acc=0.920863309352518, [l1_loss, ce_loss] => [0.49229910714285713, 0.37875279017857144, 1.3911830357142858, 2.8835379464285715, 1.402734375]\n",
            "Epoch: 13, loss: 6.5487, lr: 0.00000552\n"
          ]
        },
        {
          "name": "stderr",
          "output_type": "stream",
          "text": [
            "epoch 14: 100%|██████████| 35/35 [01:43<00:00,  2.96s/it, cur_loss=6.48]\n"
          ]
        },
        {
          "name": "stdout",
          "output_type": "stream",
          "text": [
            "train acc=0.9235611510791367, [l1_loss, ce_loss] => [0.4867396763392857, 0.3783412388392857, 1.3138950892857142, 2.8160714285714286, 1.3193917410714286]\n",
            "Epoch: 14, loss: 6.3137, lr: 0.00000500\n"
          ]
        },
        {
          "name": "stderr",
          "output_type": "stream",
          "text": [
            "epoch 15: 100%|██████████| 35/35 [01:38<00:00,  2.81s/it, cur_loss=5.85]\n"
          ]
        },
        {
          "name": "stdout",
          "output_type": "stream",
          "text": [
            "train acc=0.9401978417266187, [l1_loss, ce_loss] => [0.48532366071428573, 0.37850864955357144, 1.2477120535714286, 2.755357142857143, 1.2472935267857144]\n",
            "Epoch: 15, loss: 6.1141, lr: 0.00000448\n"
          ]
        },
        {
          "name": "stderr",
          "output_type": "stream",
          "text": [
            "epoch 16: 100%|██████████| 35/35 [01:37<00:00,  2.77s/it, cur_loss=6.14]\n"
          ]
        },
        {
          "name": "stdout",
          "output_type": "stream",
          "text": [
            "train acc=0.9401978417266187, [l1_loss, ce_loss] => [0.48636997767857143, 0.37893415178571427, 1.1936941964285714, 2.7022879464285716, 1.187890625]\n",
            "Epoch: 16, loss: 5.9489, lr: 0.00000396\n"
          ]
        },
        {
          "name": "stderr",
          "output_type": "stream",
          "text": [
            "epoch 17: 100%|██████████| 35/35 [01:32<00:00,  2.63s/it, cur_loss=5.38]\n"
          ]
        },
        {
          "name": "stdout",
          "output_type": "stream",
          "text": [
            "train acc=0.9464928057553957, [l1_loss, ce_loss] => [0.4814522879464286, 0.37898995535714286, 1.1488002232142858, 2.6542410714285714, 1.1380859375]\n",
            "Epoch: 17, loss: 5.8011, lr: 0.00000345\n"
          ]
        },
        {
          "name": "stderr",
          "output_type": "stream",
          "text": [
            "epoch 18: 100%|██████████| 35/35 [01:32<00:00,  2.65s/it, cur_loss=5.84]\n"
          ]
        },
        {
          "name": "stdout",
          "output_type": "stream",
          "text": [
            "train acc=0.954136690647482, [l1_loss, ce_loss] => [0.48026646205357143, 0.37924107142857144, 1.1117466517857142, 2.6156808035714287, 1.1020926339285715]\n",
            "Epoch: 18, loss: 5.6890, lr: 0.00000297\n"
          ]
        },
        {
          "name": "stderr",
          "output_type": "stream",
          "text": [
            "epoch 19: 100%|██████████| 35/35 [01:33<00:00,  2.68s/it, cur_loss=5.93]\n"
          ]
        },
        {
          "name": "stdout",
          "output_type": "stream",
          "text": [
            "train acc=0.9563848920863309, [l1_loss, ce_loss] => [0.4792271205357143, 0.3789271763392857, 1.0908482142857143, 2.5914620535714286, 1.0786551339285715]\n",
            "Epoch: 19, loss: 5.6191, lr: 0.00000250\n"
          ]
        },
        {
          "name": "stderr",
          "output_type": "stream",
          "text": [
            "epoch 20: 100%|██████████| 35/35 [01:33<00:00,  2.67s/it, cur_loss=5.84]\n"
          ]
        },
        {
          "name": "stdout",
          "output_type": "stream",
          "text": [
            "train acc=0.9599820143884892, [l1_loss, ce_loss] => [0.478515625, 0.3790806361607143, 1.0748465401785714, 2.5723772321428573, 1.061635044642857]\n",
            "Epoch: 20, loss: 5.5661, lr: 0.00000206\n"
          ]
        },
        {
          "name": "stderr",
          "output_type": "stream",
          "text": [
            "epoch 21: 100%|██████████| 35/35 [01:32<00:00,  2.65s/it, cur_loss=5.41]\n"
          ]
        },
        {
          "name": "stdout",
          "output_type": "stream",
          "text": [
            "train acc=0.9613309352517986, [l1_loss, ce_loss] => [0.47696010044642856, 0.37935267857142857, 1.0572823660714286, 2.5499441964285716, 1.0428850446428573]\n",
            "Epoch: 21, loss: 5.5068, lr: 0.00000165\n"
          ]
        },
        {
          "name": "stderr",
          "output_type": "stream",
          "text": [
            "epoch 22: 100%|██████████| 35/35 [01:33<00:00,  2.66s/it, cur_loss=5.3] \n"
          ]
        },
        {
          "name": "stdout",
          "output_type": "stream",
          "text": [
            "train acc=0.9622302158273381, [l1_loss, ce_loss] => [0.477197265625, 0.379443359375, 1.0449358258928572, 2.537332589285714, 1.0275809151785715]\n",
            "Epoch: 22, loss: 5.4660, lr: 0.00000128\n"
          ]
        },
        {
          "name": "stderr",
          "output_type": "stream",
          "text": [
            "epoch 23: 100%|██████████| 35/35 [01:32<00:00,  2.64s/it, cur_loss=5.8] \n"
          ]
        },
        {
          "name": "stdout",
          "output_type": "stream",
          "text": [
            "train acc=0.9653776978417267, [l1_loss, ce_loss] => [0.47646484375, 0.3793736049107143, 1.0440011160714286, 2.544698660714286, 1.0319754464285715]\n",
            "Epoch: 23, loss: 5.4762, lr: 0.00000095\n"
          ]
        },
        {
          "name": "stderr",
          "output_type": "stream",
          "text": [
            "epoch 24: 100%|██████████| 35/35 [01:32<00:00,  2.64s/it, cur_loss=5.16]\n"
          ]
        },
        {
          "name": "stdout",
          "output_type": "stream",
          "text": [
            "train acc=0.9653776978417267, [l1_loss, ce_loss] => [0.47629045758928573, 0.3794154575892857, 1.0321847098214285, 2.5255580357142855, 1.0155412946428573]\n",
            "Epoch: 24, loss: 5.4292, lr: 0.00000067\n"
          ]
        },
        {
          "name": "stderr",
          "output_type": "stream",
          "text": [
            "epoch 25: 100%|██████████| 35/35 [01:33<00:00,  2.68s/it, cur_loss=5.38]\n"
          ]
        },
        {
          "name": "stdout",
          "output_type": "stream",
          "text": [
            "train acc=0.9635791366906474, [l1_loss, ce_loss] => [0.476416015625, 0.3794921875, 1.0315569196428571, 2.52890625, 1.0190569196428572]\n",
            "Epoch: 25, loss: 5.4354, lr: 0.00000043\n"
          ]
        },
        {
          "name": "stderr",
          "output_type": "stream",
          "text": [
            "epoch 26: 100%|██████████| 35/35 [01:32<00:00,  2.65s/it, cur_loss=5.26]\n"
          ]
        },
        {
          "name": "stdout",
          "output_type": "stream",
          "text": [
            "train acc=0.966726618705036, [l1_loss, ce_loss] => [0.476513671875, 0.3793387276785714, 1.0299386160714286, 2.528236607142857, 1.0137555803571427]\n",
            "Epoch: 26, loss: 5.4280, lr: 0.00000024\n"
          ]
        },
        {
          "name": "stderr",
          "output_type": "stream",
          "text": [
            "epoch 27: 100%|██████████| 35/35 [01:32<00:00,  2.65s/it, cur_loss=5.33]\n"
          ]
        },
        {
          "name": "stdout",
          "output_type": "stream",
          "text": [
            "train acc=0.9662769784172662, [l1_loss, ce_loss] => [0.4763392857142857, 0.379443359375, 1.0286690848214286, 2.5234933035714286, 1.0113699776785714]\n",
            "Epoch: 27, loss: 5.4196, lr: 0.00000011\n"
          ]
        },
        {
          "name": "stderr",
          "output_type": "stream",
          "text": [
            "epoch 28: 100%|██████████| 35/35 [01:32<00:00,  2.64s/it, cur_loss=5.49]\n"
          ]
        },
        {
          "name": "stdout",
          "output_type": "stream",
          "text": [
            "train acc=0.9613309352517986, [l1_loss, ce_loss] => [0.4762416294642857, 0.37931082589285714, 1.0305803571428571, 2.5298549107142856, 1.015025111607143]\n",
            "Epoch: 28, loss: 5.4313, lr: 0.00000003\n"
          ]
        },
        {
          "name": "stderr",
          "output_type": "stream",
          "text": [
            "epoch 29: 100%|██████████| 35/35 [01:32<00:00,  2.65s/it, cur_loss=5.41]\n"
          ]
        },
        {
          "name": "stdout",
          "output_type": "stream",
          "text": [
            "train acc=0.9649280575539568, [l1_loss, ce_loss] => [0.4757533482142857, 0.37916434151785716, 1.0324916294642856, 2.530747767857143, 1.0133231026785714]\n",
            "Epoch: 29, loss: 5.4311, lr: 0.00000000\n",
            "Training complete!\n"
          ]
        },
        {
          "name": "stderr",
          "output_type": "stream",
          "text": [
            "Evaluate: 100%|██████████| 325/325 [02:32<00:00,  2.13it/s]\n"
          ]
        },
        {
          "name": "stdout",
          "output_type": "stream",
          "text": [
            "\n",
            "Test F1-macro:  0.6706140958476035\n",
            "#######################################\n",
            "\n",
            "Iteration:  1\n",
            "\n",
            "#######################################\n",
            "Training non-few shot model...\n",
            "Train dataset size:  1299\n",
            "Test dataset size:  325\n",
            "Epoch 1/10\n",
            "  Training Loss: 4.7151\n",
            "Epoch 2/10\n",
            "  Training Loss: 4.7125\n",
            "Epoch 3/10\n",
            "  Training Loss: 4.7125\n",
            "Epoch 4/10\n",
            "  Training Loss: 4.7133\n",
            "Epoch 5/10\n",
            "  Training Loss: 4.7133\n",
            "Epoch 6/10\n",
            "  Training Loss: 4.7125\n",
            "Epoch 7/10\n",
            "  Training Loss: 4.7133\n",
            "Epoch 8/10\n",
            "  Training Loss: 4.7133\n",
            "Epoch 9/10\n",
            "  Training Loss: 4.7133\n",
            "Epoch 10/10\n",
            "  Training Loss: 4.7133\n",
            "Training complete!\n",
            "\n",
            "Test F1-macro:  0.0027253947203269347\n",
            "##########################################\n",
            "2025-06-10 11:39:31 Getting cached textual weights W ...\n",
            "2025-06-10 11:39:31 Loading texture features from ./__few_shot_cache__\\russian_dataset_ViT-B/16_textfeats.pt\n",
            "\n",
            "#######################################\n",
            "Training few-shot model...\n",
            "Train dataset size:  35\n",
            "Test dataset size:  325\n"
          ]
        },
        {
          "name": "stderr",
          "output_type": "stream",
          "text": [
            "epoch 0: 100%|██████████| 35/35 [01:50<00:00,  3.17s/it, cur_loss=14.6]\n"
          ]
        },
        {
          "name": "stdout",
          "output_type": "stream",
          "text": [
            "train acc=0.05260791366906475, [l1_loss, ce_loss] => [1.894907924107143, 0.34208286830357143, 4.7082589285714285, 4.921205357142857, 4.773102678571429]\n",
            "Epoch: 0, loss: 16.6384, lr: 0.00000997\n"
          ]
        },
        {
          "name": "stderr",
          "output_type": "stream",
          "text": [
            "epoch 1: 100%|██████████| 35/35 [01:51<00:00,  3.20s/it, cur_loss=13.4]\n"
          ]
        },
        {
          "name": "stdout",
          "output_type": "stream",
          "text": [
            "train acc=0.21223021582733814, [l1_loss, ce_loss] => [0.409228515625, 0.3566824776785714, 4.139006696428571, 4.652120535714285, 4.315066964285714]\n",
            "Epoch: 1, loss: 13.8730, lr: 0.00000989\n"
          ]
        },
        {
          "name": "stderr",
          "output_type": "stream",
          "text": [
            "epoch 2: 100%|██████████| 35/35 [01:52<00:00,  3.22s/it, cur_loss=12.8]\n"
          ]
        },
        {
          "name": "stdout",
          "output_type": "stream",
          "text": [
            "train acc=0.35251798561151076, [l1_loss, ce_loss] => [0.42947823660714285, 0.36279296875, 3.717857142857143, 4.4421875, 3.9325892857142857]\n",
            "Epoch: 2, loss: 12.8848, lr: 0.00000976\n"
          ]
        },
        {
          "name": "stderr",
          "output_type": "stream",
          "text": [
            "epoch 3: 100%|██████████| 35/35 [01:53<00:00,  3.24s/it, cur_loss=11.8]\n"
          ]
        },
        {
          "name": "stdout",
          "output_type": "stream",
          "text": [
            "train acc=0.4590827338129496, [l1_loss, ce_loss] => [0.4462193080357143, 0.36869419642857143, 3.3720982142857143, 4.259933035714286, 3.5695870535714285]\n",
            "Epoch: 3, loss: 12.0163, lr: 0.00000957\n"
          ]
        },
        {
          "name": "stderr",
          "output_type": "stream",
          "text": [
            "epoch 4: 100%|██████████| 35/35 [01:57<00:00,  3.37s/it, cur_loss=10.7]\n"
          ]
        },
        {
          "name": "stdout",
          "output_type": "stream",
          "text": [
            "train acc=0.5566546762589928, [l1_loss, ce_loss] => [0.466259765625, 0.37570452008928573, 3.0728236607142856, 4.082645089285714, 3.2368861607142856]\n",
            "Epoch: 4, loss: 11.2348, lr: 0.00000933\n"
          ]
        },
        {
          "name": "stderr",
          "output_type": "stream",
          "text": [
            "epoch 5: 100%|██████████| 35/35 [02:00<00:00,  3.46s/it, cur_loss=10.3]\n"
          ]
        },
        {
          "name": "stdout",
          "output_type": "stream",
          "text": [
            "train acc=0.6425359712230215, [l1_loss, ce_loss] => [0.4868931361607143, 0.377783203125, 2.8045758928571427, 3.933314732142857, 2.9481026785714284]\n",
            "Epoch: 5, loss: 10.5504, lr: 0.00000905\n"
          ]
        },
        {
          "name": "stderr",
          "output_type": "stream",
          "text": [
            "epoch 6: 100%|██████████| 35/35 [02:01<00:00,  3.46s/it, cur_loss=10.5]\n"
          ]
        },
        {
          "name": "stdout",
          "output_type": "stream",
          "text": [
            "train acc=0.7005395683453237, [l1_loss, ce_loss] => [0.4907156808035714, 0.38094308035714286, 2.554408482142857, 3.781752232142857, 2.66875]\n",
            "Epoch: 6, loss: 9.8766, lr: 0.00000872\n"
          ]
        },
        {
          "name": "stderr",
          "output_type": "stream",
          "text": [
            "epoch 7: 100%|██████████| 35/35 [01:58<00:00,  3.39s/it, cur_loss=8.52]\n"
          ]
        },
        {
          "name": "stdout",
          "output_type": "stream",
          "text": [
            "train acc=0.7535971223021583, [l1_loss, ce_loss] => [0.49254324776785713, 0.3832449776785714, 2.322935267857143, 3.6411830357142856, 2.4208705357142857]\n",
            "Epoch: 7, loss: 9.2609, lr: 0.00000835\n"
          ]
        },
        {
          "name": "stderr",
          "output_type": "stream",
          "text": [
            "epoch 8: 100%|██████████| 35/35 [01:57<00:00,  3.37s/it, cur_loss=8.41]\n"
          ]
        },
        {
          "name": "stdout",
          "output_type": "stream",
          "text": [
            "train acc=0.7972122302158273, [l1_loss, ce_loss] => [0.49808175223214285, 0.3852329799107143, 2.1292689732142858, 3.5093191964285713, 2.2103515625]\n",
            "Epoch: 8, loss: 8.7333, lr: 0.00000794\n"
          ]
        },
        {
          "name": "stderr",
          "output_type": "stream",
          "text": [
            "epoch 9: 100%|██████████| 35/35 [01:57<00:00,  3.35s/it, cur_loss=8.2] \n"
          ]
        },
        {
          "name": "stdout",
          "output_type": "stream",
          "text": [
            "train acc=0.8201438848920863, [l1_loss, ce_loss] => [0.4982421875, 0.38602818080357143, 1.9565011160714285, 3.382533482142857, 2.013895089285714]\n",
            "Epoch: 9, loss: 8.2378, lr: 0.00000750\n"
          ]
        },
        {
          "name": "stderr",
          "output_type": "stream",
          "text": [
            "epoch 10: 100%|██████████| 35/35 [01:58<00:00,  3.37s/it, cur_loss=7.46]\n"
          ]
        },
        {
          "name": "stdout",
          "output_type": "stream",
          "text": [
            "train acc=0.852068345323741, [l1_loss, ce_loss] => [0.5004255022321429, 0.38671875, 1.8094029017857143, 3.2708705357142858, 1.8622209821428573]\n",
            "Epoch: 10, loss: 7.8296, lr: 0.00000703\n"
          ]
        },
        {
          "name": "stderr",
          "output_type": "stream",
          "text": [
            "epoch 11: 100%|██████████| 35/35 [01:57<00:00,  3.36s/it, cur_loss=7.75]\n"
          ]
        },
        {
          "name": "stdout",
          "output_type": "stream",
          "text": [
            "train acc=0.8736510791366906, [l1_loss, ce_loss] => [0.4987095424107143, 0.3875, 1.6801060267857142, 3.160825892857143, 1.724720982142857]\n",
            "Epoch: 11, loss: 7.4521, lr: 0.00000655\n"
          ]
        },
        {
          "name": "stderr",
          "output_type": "stream",
          "text": [
            "epoch 12: 100%|██████████| 35/35 [01:59<00:00,  3.42s/it, cur_loss=7.29]\n"
          ]
        },
        {
          "name": "stdout",
          "output_type": "stream",
          "text": [
            "train acc=0.89568345323741, [l1_loss, ce_loss] => [0.500048828125, 0.38747907366071427, 1.568247767857143, 3.063392857142857, 1.5947823660714286]\n",
            "Epoch: 12, loss: 7.1138, lr: 0.00000604\n"
          ]
        },
        {
          "name": "stderr",
          "output_type": "stream",
          "text": [
            "epoch 13: 100%|██████████| 35/35 [01:57<00:00,  3.36s/it, cur_loss=7.07]\n"
          ]
        },
        {
          "name": "stdout",
          "output_type": "stream",
          "text": [
            "train acc=0.9105215827338129, [l1_loss, ce_loss] => [0.49839564732142855, 0.38805106026785713, 1.4816964285714285, 2.980189732142857, 1.5012834821428571]\n",
            "Epoch: 13, loss: 6.8494, lr: 0.00000552\n"
          ]
        },
        {
          "name": "stderr",
          "output_type": "stream",
          "text": [
            "epoch 14: 100%|██████████| 35/35 [01:58<00:00,  3.37s/it, cur_loss=6.55]\n"
          ]
        },
        {
          "name": "stdout",
          "output_type": "stream",
          "text": [
            "train acc=0.9186151079136691, [l1_loss, ce_loss] => [0.4941196986607143, 0.3871372767857143, 1.4067243303571428, 2.908705357142857, 1.4228236607142857]\n",
            "Epoch: 14, loss: 6.6199, lr: 0.00000500\n"
          ]
        },
        {
          "name": "stderr",
          "output_type": "stream",
          "text": [
            "epoch 15: 100%|██████████| 35/35 [01:57<00:00,  3.36s/it, cur_loss=6.62]\n"
          ]
        },
        {
          "name": "stdout",
          "output_type": "stream",
          "text": [
            "train acc=0.9253597122302158, [l1_loss, ce_loss] => [0.4935965401785714, 0.38822544642857143, 1.3387834821428573, 2.8419084821428573, 1.3492745535714286]\n",
            "Epoch: 15, loss: 6.4121, lr: 0.00000448\n"
          ]
        },
        {
          "name": "stderr",
          "output_type": "stream",
          "text": [
            "epoch 16: 100%|██████████| 35/35 [01:57<00:00,  3.35s/it, cur_loss=6.38]\n"
          ]
        },
        {
          "name": "stdout",
          "output_type": "stream",
          "text": [
            "train acc=0.9357014388489209, [l1_loss, ce_loss] => [0.48989955357142856, 0.38837890625, 1.2783761160714286, 2.7779017857142856, 1.2802734375]\n",
            "Epoch: 16, loss: 6.2154, lr: 0.00000396\n"
          ]
        },
        {
          "name": "stderr",
          "output_type": "stream",
          "text": [
            "epoch 17: 100%|██████████| 35/35 [01:57<00:00,  3.35s/it, cur_loss=6]   \n"
          ]
        },
        {
          "name": "stdout",
          "output_type": "stream",
          "text": [
            "train acc=0.9388489208633094, [l1_loss, ce_loss] => [0.48867885044642856, 0.3880859375, 1.2416573660714285, 2.740625, 1.24375]\n",
            "Epoch: 17, loss: 6.1028, lr: 0.00000345\n"
          ]
        },
        {
          "name": "stderr",
          "output_type": "stream",
          "text": [
            "epoch 18: 100%|██████████| 35/35 [01:57<00:00,  3.36s/it, cur_loss=5.92]\n"
          ]
        },
        {
          "name": "stdout",
          "output_type": "stream",
          "text": [
            "train acc=0.9491906474820144, [l1_loss, ce_loss] => [0.4874930245535714, 0.38814174107142857, 1.2005022321428571, 2.696372767857143, 1.1958705357142858]\n",
            "Epoch: 18, loss: 5.9686, lr: 0.00000297\n"
          ]
        },
        {
          "name": "stderr",
          "output_type": "stream",
          "text": [
            "epoch 19: 100%|██████████| 35/35 [01:57<00:00,  3.36s/it, cur_loss=5.79]\n"
          ]
        },
        {
          "name": "stdout",
          "output_type": "stream",
          "text": [
            "train acc=0.9482913669064749, [l1_loss, ce_loss] => [0.48690011160714286, 0.38780691964285713, 1.1795061383928571, 2.6759486607142855, 1.1768415178571427]\n",
            "Epoch: 19, loss: 5.9074, lr: 0.00000250\n"
          ]
        },
        {
          "name": "stderr",
          "output_type": "stream",
          "text": [
            "epoch 20: 100%|██████████| 35/35 [01:57<00:00,  3.35s/it, cur_loss=6.06]\n"
          ]
        },
        {
          "name": "stdout",
          "output_type": "stream",
          "text": [
            "train acc=0.9482913669064749, [l1_loss, ce_loss] => [0.48607003348214284, 0.38754185267857144, 1.1547014508928573, 2.6476004464285716, 1.1462890625]\n",
            "Epoch: 20, loss: 5.8222, lr: 0.00000206\n"
          ]
        },
        {
          "name": "stderr",
          "output_type": "stream",
          "text": [
            "epoch 21: 100%|██████████| 35/35 [01:57<00:00,  3.36s/it, cur_loss=6.49]\n"
          ]
        },
        {
          "name": "stdout",
          "output_type": "stream",
          "text": [
            "train acc=0.9473920863309353, [l1_loss, ce_loss] => [0.48424246651785713, 0.3883021763392857, 1.1437918526785715, 2.6322544642857144, 1.1399553571428571]\n",
            "Epoch: 21, loss: 5.7885, lr: 0.00000165\n"
          ]
        },
        {
          "name": "stderr",
          "output_type": "stream",
          "text": [
            "epoch 22: 100%|██████████| 35/35 [01:57<00:00,  3.36s/it, cur_loss=5.5] \n"
          ]
        },
        {
          "name": "stdout",
          "output_type": "stream",
          "text": [
            "train acc=0.9595323741007195, [l1_loss, ce_loss] => [0.4837193080357143, 0.38834402901785714, 1.1289899553571427, 2.6133928571428573, 1.1222098214285714]\n",
            "Epoch: 22, loss: 5.7366, lr: 0.00000128\n"
          ]
        },
        {
          "name": "stderr",
          "output_type": "stream",
          "text": [
            "epoch 23: 100%|██████████| 35/35 [01:57<00:00,  3.36s/it, cur_loss=5.8] \n"
          ]
        },
        {
          "name": "stdout",
          "output_type": "stream",
          "text": [
            "train acc=0.9563848920863309, [l1_loss, ce_loss] => [0.48302176339285713, 0.38766741071428573, 1.1229073660714286, 2.610267857142857, 1.1133510044642858]\n",
            "Epoch: 23, loss: 5.7170, lr: 0.00000095\n"
          ]
        },
        {
          "name": "stderr",
          "output_type": "stream",
          "text": [
            "epoch 24: 100%|██████████| 35/35 [01:57<00:00,  3.36s/it, cur_loss=6.03]\n"
          ]
        },
        {
          "name": "stdout",
          "output_type": "stream",
          "text": [
            "train acc=0.9595323741007195, [l1_loss, ce_loss] => [0.4836495535714286, 0.3880022321428571, 1.1247767857142856, 2.6099888392857142, 1.1162109375]\n",
            "Epoch: 24, loss: 5.7229, lr: 0.00000067\n"
          ]
        },
        {
          "name": "stderr",
          "output_type": "stream",
          "text": [
            "epoch 25: 100%|██████████| 35/35 [01:57<00:00,  3.36s/it, cur_loss=5.57]\n"
          ]
        },
        {
          "name": "stdout",
          "output_type": "stream",
          "text": [
            "train acc=0.9599820143884892, [l1_loss, ce_loss] => [0.4829171316964286, 0.38809291294642856, 1.1136021205357143, 2.601339285714286, 1.1047293526785715]\n",
            "Epoch: 25, loss: 5.6907, lr: 0.00000043\n"
          ]
        },
        {
          "name": "stderr",
          "output_type": "stream",
          "text": [
            "epoch 26: 100%|██████████| 35/35 [01:57<00:00,  3.36s/it, cur_loss=6.21]\n"
          ]
        },
        {
          "name": "stdout",
          "output_type": "stream",
          "text": [
            "train acc=0.9635791366906474, [l1_loss, ce_loss] => [0.4832728794642857, 0.38779296875, 1.1158203125, 2.597265625, 1.1059849330357143]\n",
            "Epoch: 26, loss: 5.6900, lr: 0.00000024\n"
          ]
        },
        {
          "name": "stderr",
          "output_type": "stream",
          "text": [
            "epoch 27: 100%|██████████| 35/35 [01:57<00:00,  3.36s/it, cur_loss=5.59]\n"
          ]
        },
        {
          "name": "stdout",
          "output_type": "stream",
          "text": [
            "train acc=0.9586330935251799, [l1_loss, ce_loss] => [0.48301478794642855, 0.387890625, 1.1136439732142858, 2.6011160714285713, 1.1039481026785714]\n",
            "Epoch: 27, loss: 5.6895, lr: 0.00000011\n"
          ]
        },
        {
          "name": "stderr",
          "output_type": "stream",
          "text": [
            "epoch 28: 100%|██████████| 35/35 [01:58<00:00,  3.38s/it, cur_loss=6.05]\n"
          ]
        },
        {
          "name": "stdout",
          "output_type": "stream",
          "text": [
            "train acc=0.9559352517985612, [l1_loss, ce_loss] => [0.48265206473214284, 0.38853236607142855, 1.113169642857143, 2.5967075892857143, 1.1038225446428571]\n",
            "Epoch: 28, loss: 5.6852, lr: 0.00000003\n"
          ]
        },
        {
          "name": "stderr",
          "output_type": "stream",
          "text": [
            "epoch 29: 100%|██████████| 35/35 [01:57<00:00,  3.36s/it, cur_loss=6.26]\n"
          ]
        },
        {
          "name": "stdout",
          "output_type": "stream",
          "text": [
            "train acc=0.95818345323741, [l1_loss, ce_loss] => [0.482470703125, 0.387890625, 1.1186383928571428, 2.603013392857143, 1.1115792410714285]\n",
            "Epoch: 29, loss: 5.7033, lr: 0.00000000\n",
            "Training complete!\n"
          ]
        },
        {
          "name": "stderr",
          "output_type": "stream",
          "text": [
            "Evaluate: 100%|██████████| 325/325 [04:43<00:00,  1.15it/s]\n"
          ]
        },
        {
          "name": "stdout",
          "output_type": "stream",
          "text": [
            "\n",
            "Test F1-macro:  0.6684875389296229\n",
            "#######################################\n",
            "\n",
            "Iteration:  2\n",
            "\n",
            "#######################################\n",
            "Training non-few shot model...\n",
            "Train dataset size:  1299\n",
            "Test dataset size:  325\n",
            "Epoch 1/10\n",
            "  Training Loss: 4.7154\n",
            "Epoch 2/10\n",
            "  Training Loss: 4.7133\n",
            "Epoch 3/10\n",
            "  Training Loss: 4.7125\n",
            "Epoch 4/10\n",
            "  Training Loss: 4.7133\n",
            "Epoch 5/10\n",
            "  Training Loss: 4.7133\n",
            "Epoch 6/10\n",
            "  Training Loss: 4.7125\n",
            "Epoch 7/10\n",
            "  Training Loss: 4.7133\n",
            "Epoch 8/10\n",
            "  Training Loss: 4.7133\n",
            "Epoch 9/10\n",
            "  Training Loss: 4.7133\n",
            "Epoch 10/10\n",
            "  Training Loss: 4.7133\n",
            "Training complete!\n",
            "\n",
            "Test F1-macro:  0.00272493948635003\n",
            "##########################################\n",
            "2025-06-10 14:19:52 Getting cached textual weights W ...\n",
            "2025-06-10 14:19:52 Loading texture features from ./__few_shot_cache__\\russian_dataset_ViT-B/16_textfeats.pt\n",
            "\n",
            "#######################################\n",
            "Training few-shot model...\n",
            "Train dataset size:  35\n",
            "Test dataset size:  325\n"
          ]
        },
        {
          "name": "stderr",
          "output_type": "stream",
          "text": [
            "epoch 0: 100%|██████████| 35/35 [01:24<00:00,  2.42s/it, cur_loss=14.5]\n"
          ]
        },
        {
          "name": "stdout",
          "output_type": "stream",
          "text": [
            "train acc=0.05575539568345324, [l1_loss, ce_loss] => [1.8588936941964285, 0.34139229910714286, 4.6953125, 4.933370535714285, 4.781584821428571]\n",
            "Epoch: 0, loss: 16.6100, lr: 0.00000997\n"
          ]
        },
        {
          "name": "stderr",
          "output_type": "stream",
          "text": [
            "epoch 1: 100%|██████████| 35/35 [01:24<00:00,  2.42s/it, cur_loss=13.5]\n"
          ]
        },
        {
          "name": "stdout",
          "output_type": "stream",
          "text": [
            "train acc=0.23875899280575538, [l1_loss, ce_loss] => [0.4088169642857143, 0.3546595982142857, 4.0928571428571425, 4.671763392857143, 4.3265625]\n",
            "Epoch: 1, loss: 13.8556, lr: 0.00000989\n"
          ]
        },
        {
          "name": "stderr",
          "output_type": "stream",
          "text": [
            "epoch 2: 100%|██████████| 35/35 [01:24<00:00,  2.42s/it, cur_loss=12.5]\n"
          ]
        },
        {
          "name": "stdout",
          "output_type": "stream",
          "text": [
            "train acc=0.3817446043165468, [l1_loss, ce_loss] => [0.4394461495535714, 0.35897739955357144, 3.6617745535714286, 4.446428571428571, 3.9308035714285716]\n",
            "Epoch: 2, loss: 12.8373, lr: 0.00000976\n"
          ]
        },
        {
          "name": "stderr",
          "output_type": "stream",
          "text": [
            "epoch 3: 100%|██████████| 35/35 [01:24<00:00,  2.42s/it, cur_loss=11.7]\n"
          ]
        },
        {
          "name": "stdout",
          "output_type": "stream",
          "text": [
            "train acc=0.5080935251798561, [l1_loss, ce_loss] => [0.458203125, 0.3641810825892857, 3.2734933035714286, 4.232254464285714, 3.5211495535714286]\n",
            "Epoch: 3, loss: 11.8480, lr: 0.00000957\n"
          ]
        },
        {
          "name": "stderr",
          "output_type": "stream",
          "text": [
            "epoch 4: 100%|██████████| 35/35 [01:23<00:00,  2.39s/it, cur_loss=10.5]\n"
          ]
        },
        {
          "name": "stdout",
          "output_type": "stream",
          "text": [
            "train acc=0.6164568345323741, [l1_loss, ce_loss] => [0.4744280133928571, 0.3683523995535714, 2.944140625, 4.043917410714286, 3.153013392857143]\n",
            "Epoch: 4, loss: 10.9844, lr: 0.00000933\n"
          ]
        },
        {
          "name": "stderr",
          "output_type": "stream",
          "text": [
            "epoch 5: 100%|██████████| 35/35 [01:29<00:00,  2.56s/it, cur_loss=9.79]\n"
          ]
        },
        {
          "name": "stdout",
          "output_type": "stream",
          "text": [
            "train acc=0.6915467625899281, [l1_loss, ce_loss] => [0.48330078125, 0.37350027901785715, 2.633872767857143, 3.8509486607142858, 2.806361607142857]\n",
            "Epoch: 5, loss: 10.1482, lr: 0.00000905\n"
          ]
        },
        {
          "name": "stderr",
          "output_type": "stream",
          "text": [
            "epoch 6: 100%|██████████| 35/35 [01:28<00:00,  2.54s/it, cur_loss=9.03]\n"
          ]
        },
        {
          "name": "stdout",
          "output_type": "stream",
          "text": [
            "train acc=0.7616906474820144, [l1_loss, ce_loss] => [0.4977260044642857, 0.37576032366071427, 2.3585379464285716, 3.679408482142857, 2.497767857142857]\n",
            "Epoch: 6, loss: 9.4085, lr: 0.00000872\n"
          ]
        },
        {
          "name": "stderr",
          "output_type": "stream",
          "text": [
            "epoch 7: 100%|██████████| 35/35 [01:31<00:00,  2.61s/it, cur_loss=8.9] \n"
          ]
        },
        {
          "name": "stdout",
          "output_type": "stream",
          "text": [
            "train acc=0.8044064748201439, [l1_loss, ce_loss] => [0.4988978794642857, 0.37935965401785715, 2.127455357142857, 3.5189174107142858, 2.2383370535714286]\n",
            "Epoch: 7, loss: 8.7632, lr: 0.00000835\n"
          ]
        },
        {
          "name": "stderr",
          "output_type": "stream",
          "text": [
            "epoch 8: 100%|██████████| 35/35 [01:27<00:00,  2.51s/it, cur_loss=7.64]\n"
          ]
        },
        {
          "name": "stdout",
          "output_type": "stream",
          "text": [
            "train acc=0.8421762589928058, [l1_loss, ce_loss] => [0.5045828683035715, 0.38038504464285716, 1.9202845982142858, 3.3703683035714285, 2.0089564732142855]\n",
            "Epoch: 8, loss: 8.1838, lr: 0.00000794\n"
          ]
        },
        {
          "name": "stderr",
          "output_type": "stream",
          "text": [
            "epoch 9: 100%|██████████| 35/35 [01:30<00:00,  2.60s/it, cur_loss=7.25]\n"
          ]
        },
        {
          "name": "stdout",
          "output_type": "stream",
          "text": [
            "train acc=0.8700539568345323, [l1_loss, ce_loss] => [0.5049176897321429, 0.38216378348214286, 1.752064732142857, 3.2378348214285713, 1.8149553571428572]\n",
            "Epoch: 9, loss: 7.6921, lr: 0.00000750\n"
          ]
        },
        {
          "name": "stderr",
          "output_type": "stream",
          "text": [
            "epoch 10: 100%|██████████| 35/35 [01:28<00:00,  2.52s/it, cur_loss=6.79]\n"
          ]
        },
        {
          "name": "stdout",
          "output_type": "stream",
          "text": [
            "train acc=0.9019784172661871, [l1_loss, ce_loss] => [0.5085867745535714, 0.3836077008928571, 1.5986328125, 3.1080357142857142, 1.6422433035714286]\n",
            "Epoch: 10, loss: 7.2420, lr: 0.00000703\n"
          ]
        },
        {
          "name": "stderr",
          "output_type": "stream",
          "text": [
            "epoch 11: 100%|██████████| 35/35 [01:30<00:00,  2.60s/it, cur_loss=7.23]\n"
          ]
        },
        {
          "name": "stdout",
          "output_type": "stream",
          "text": [
            "train acc=0.9123201438848921, [l1_loss, ce_loss] => [0.5042759486607142, 0.38498186383928573, 1.4768136160714285, 3.0030691964285716, 1.503041294642857]\n",
            "Epoch: 11, loss: 6.8720, lr: 0.00000655\n"
          ]
        },
        {
          "name": "stderr",
          "output_type": "stream",
          "text": [
            "epoch 12: 100%|██████████| 35/35 [01:28<00:00,  2.53s/it, cur_loss=6.66]\n"
          ]
        },
        {
          "name": "stdout",
          "output_type": "stream",
          "text": [
            "train acc=0.9307553956834532, [l1_loss, ce_loss] => [0.5001046316964286, 0.3851283482142857, 1.373046875, 2.897377232142857, 1.3892020089285715]\n",
            "Epoch: 12, loss: 6.5449, lr: 0.00000604\n"
          ]
        },
        {
          "name": "stderr",
          "output_type": "stream",
          "text": [
            "epoch 13: 100%|██████████| 35/35 [01:31<00:00,  2.61s/it, cur_loss=6.49]\n"
          ]
        },
        {
          "name": "stdout",
          "output_type": "stream",
          "text": [
            "train acc=0.9437949640287769, [l1_loss, ce_loss] => [0.49674246651785714, 0.385546875, 1.273828125, 2.8143415178571427, 1.280859375]\n",
            "Epoch: 13, loss: 6.2508, lr: 0.00000552\n"
          ]
        },
        {
          "name": "stderr",
          "output_type": "stream",
          "text": [
            "epoch 14: 100%|██████████| 35/35 [01:28<00:00,  2.53s/it, cur_loss=6.04]\n"
          ]
        },
        {
          "name": "stdout",
          "output_type": "stream",
          "text": [
            "train acc=0.9496402877697842, [l1_loss, ce_loss] => [0.4963309151785714, 0.38675362723214285, 1.1979073660714286, 2.732198660714286, 1.19609375]\n",
            "Epoch: 14, loss: 6.0096, lr: 0.00000500\n"
          ]
        },
        {
          "name": "stderr",
          "output_type": "stream",
          "text": [
            "epoch 15: 100%|██████████| 35/35 [01:30<00:00,  2.60s/it, cur_loss=5.92]\n"
          ]
        },
        {
          "name": "stdout",
          "output_type": "stream",
          "text": [
            "train acc=0.9568345323741008, [l1_loss, ce_loss] => [0.4922642299107143, 0.38626534598214285, 1.1384765625, 2.669642857142857, 1.1383091517857142]\n",
            "Epoch: 15, loss: 5.8250, lr: 0.00000448\n"
          ]
        },
        {
          "name": "stderr",
          "output_type": "stream",
          "text": [
            "epoch 16: 100%|██████████| 35/35 [01:28<00:00,  2.53s/it, cur_loss=5.86]\n"
          ]
        },
        {
          "name": "stdout",
          "output_type": "stream",
          "text": [
            "train acc=0.9631294964028777, [l1_loss, ce_loss] => [0.4901576450892857, 0.3865931919642857, 1.0926339285714286, 2.6290736607142855, 1.0893973214285715]\n",
            "Epoch: 16, loss: 5.6882, lr: 0.00000396\n"
          ]
        },
        {
          "name": "stderr",
          "output_type": "stream",
          "text": [
            "epoch 17: 100%|██████████| 35/35 [01:32<00:00,  2.64s/it, cur_loss=5.14]\n"
          ]
        },
        {
          "name": "stdout",
          "output_type": "stream",
          "text": [
            "train acc=0.9698741007194245, [l1_loss, ce_loss] => [0.48818359375, 0.38740931919642857, 1.0488699776785715, 2.579017857142857, 1.041392299107143]\n",
            "Epoch: 17, loss: 5.5446, lr: 0.00000345\n"
          ]
        },
        {
          "name": "stderr",
          "output_type": "stream",
          "text": [
            "epoch 18: 100%|██████████| 35/35 [01:29<00:00,  2.55s/it, cur_loss=5.63]\n"
          ]
        },
        {
          "name": "stdout",
          "output_type": "stream",
          "text": [
            "train acc=0.9730215827338129, [l1_loss, ce_loss] => [0.4855887276785714, 0.3870396205357143, 1.0111467633928573, 2.5422433035714285, 0.9987444196428571]\n",
            "Epoch: 18, loss: 5.4252, lr: 0.00000297\n"
          ]
        },
        {
          "name": "stderr",
          "output_type": "stream",
          "text": [
            "epoch 19: 100%|██████████| 35/35 [01:31<00:00,  2.62s/it, cur_loss=5.53]\n"
          ]
        },
        {
          "name": "stdout",
          "output_type": "stream",
          "text": [
            "train acc=0.9748201438848921, [l1_loss, ce_loss] => [0.48532366071428573, 0.3873814174107143, 0.9906668526785715, 2.513895089285714, 0.9793247767857143]\n",
            "Epoch: 19, loss: 5.3563, lr: 0.00000250\n"
          ]
        },
        {
          "name": "stderr",
          "output_type": "stream",
          "text": [
            "epoch 20: 100%|██████████| 35/35 [01:29<00:00,  2.55s/it, cur_loss=4.9] \n"
          ]
        },
        {
          "name": "stdout",
          "output_type": "stream",
          "text": [
            "train acc=0.9779676258992805, [l1_loss, ce_loss] => [0.48379603794642856, 0.38740931919642857, 0.9715680803571428, 2.4902901785714286, 0.9564871651785715]\n",
            "Epoch: 20, loss: 5.2893, lr: 0.00000206\n"
          ]
        },
        {
          "name": "stderr",
          "output_type": "stream",
          "text": [
            "epoch 21: 100%|██████████| 35/35 [01:31<00:00,  2.61s/it, cur_loss=5.37]\n"
          ]
        },
        {
          "name": "stdout",
          "output_type": "stream",
          "text": [
            "train acc=0.9766187050359713, [l1_loss, ce_loss] => [0.48291015625, 0.38700474330357143, 0.9550083705357143, 2.479185267857143, 0.9411969866071429]\n",
            "Epoch: 21, loss: 5.2449, lr: 0.00000165\n"
          ]
        },
        {
          "name": "stderr",
          "output_type": "stream",
          "text": [
            "epoch 22: 100%|██████████| 35/35 [01:28<00:00,  2.53s/it, cur_loss=5.05]\n"
          ]
        },
        {
          "name": "stdout",
          "output_type": "stream",
          "text": [
            "train acc=0.97931654676259, [l1_loss, ce_loss] => [0.482470703125, 0.3876255580357143, 0.9464425223214286, 2.4641183035714285, 0.93115234375]\n",
            "Epoch: 22, loss: 5.2118, lr: 0.00000128\n"
          ]
        },
        {
          "name": "stderr",
          "output_type": "stream",
          "text": [
            "epoch 23: 100%|██████████| 35/35 [01:31<00:00,  2.61s/it, cur_loss=5.38]\n"
          ]
        },
        {
          "name": "stdout",
          "output_type": "stream",
          "text": [
            "train acc=0.9802158273381295, [l1_loss, ce_loss] => [0.48190569196428573, 0.3875069754464286, 0.9404296875, 2.458203125, 0.9249720982142857]\n",
            "Epoch: 23, loss: 5.1930, lr: 0.00000095\n"
          ]
        },
        {
          "name": "stderr",
          "output_type": "stream",
          "text": [
            "epoch 24: 100%|██████████| 35/35 [01:28<00:00,  2.53s/it, cur_loss=5.11]\n"
          ]
        },
        {
          "name": "stdout",
          "output_type": "stream",
          "text": [
            "train acc=0.983363309352518, [l1_loss, ce_loss] => [0.4811244419642857, 0.3874720982142857, 0.9370256696428572, 2.4563058035714285, 0.9261439732142858]\n",
            "Epoch: 24, loss: 5.1878, lr: 0.00000067\n"
          ]
        },
        {
          "name": "stderr",
          "output_type": "stream",
          "text": [
            "epoch 25: 100%|██████████| 35/35 [01:31<00:00,  2.60s/it, cur_loss=5.01]\n"
          ]
        },
        {
          "name": "stdout",
          "output_type": "stream",
          "text": [
            "train acc=0.9824640287769785, [l1_loss, ce_loss] => [0.4814383370535714, 0.38768136160714284, 0.9334681919642858, 2.4530133928571427, 0.9196568080357143]\n",
            "Epoch: 25, loss: 5.1754, lr: 0.00000043\n"
          ]
        },
        {
          "name": "stderr",
          "output_type": "stream",
          "text": [
            "epoch 26: 100%|██████████| 35/35 [01:29<00:00,  2.55s/it, cur_loss=5.33]\n"
          ]
        },
        {
          "name": "stdout",
          "output_type": "stream",
          "text": [
            "train acc=0.9815647482014388, [l1_loss, ce_loss] => [0.4813895089285714, 0.3873814174107143, 0.9310546875, 2.4486049107142858, 0.9140345982142857]\n",
            "Epoch: 26, loss: 5.1629, lr: 0.00000024\n"
          ]
        },
        {
          "name": "stderr",
          "output_type": "stream",
          "text": [
            "epoch 27: 100%|██████████| 35/35 [01:31<00:00,  2.62s/it, cur_loss=5.5] \n"
          ]
        },
        {
          "name": "stdout",
          "output_type": "stream",
          "text": [
            "train acc=0.9811151079136691, [l1_loss, ce_loss] => [0.4814522879464286, 0.38717215401785715, 0.9392857142857143, 2.455078125, 0.9246930803571428]\n",
            "Epoch: 27, loss: 5.1876, lr: 0.00000011\n"
          ]
        },
        {
          "name": "stderr",
          "output_type": "stream",
          "text": [
            "epoch 28: 100%|██████████| 35/35 [01:28<00:00,  2.53s/it, cur_loss=5.21]\n"
          ]
        },
        {
          "name": "stdout",
          "output_type": "stream",
          "text": [
            "train acc=0.9806654676258992, [l1_loss, ce_loss] => [0.4813895089285714, 0.38736049107142856, 0.93330078125, 2.4538504464285715, 0.9230329241071429]\n",
            "Epoch: 28, loss: 5.1791, lr: 0.00000003\n"
          ]
        },
        {
          "name": "stderr",
          "output_type": "stream",
          "text": [
            "epoch 29: 100%|██████████| 35/35 [01:31<00:00,  2.61s/it, cur_loss=5.08]\n"
          ]
        },
        {
          "name": "stdout",
          "output_type": "stream",
          "text": [
            "train acc=0.9815647482014388, [l1_loss, ce_loss] => [0.4809500558035714, 0.387158203125, 0.93212890625, 2.4536830357142856, 0.9170200892857143]\n",
            "Epoch: 29, loss: 5.1714, lr: 0.00000000\n",
            "Training complete!\n"
          ]
        },
        {
          "name": "stderr",
          "output_type": "stream",
          "text": [
            "Evaluate: 100%|██████████| 325/325 [02:39<00:00,  2.03it/s]\n"
          ]
        },
        {
          "name": "stdout",
          "output_type": "stream",
          "text": [
            "\n",
            "Test F1-macro:  0.7067494717424856\n",
            "#######################################\n",
            "\n",
            "Iteration:  3\n",
            "\n",
            "#######################################\n",
            "Training non-few shot model...\n",
            "Train dataset size:  1299\n",
            "Test dataset size:  325\n",
            "Epoch 1/10\n",
            "  Training Loss: 4.7152\n",
            "Epoch 2/10\n",
            "  Training Loss: 4.7133\n",
            "Epoch 3/10\n",
            "  Training Loss: 4.7133\n",
            "Epoch 4/10\n",
            "  Training Loss: 4.7133\n",
            "Epoch 5/10\n",
            "  Training Loss: 4.7133\n",
            "Epoch 6/10\n",
            "  Training Loss: 4.7133\n",
            "Epoch 7/10\n",
            "  Training Loss: 4.7133\n",
            "Epoch 8/10\n",
            "  Training Loss: 4.7133\n",
            "Epoch 9/10\n",
            "  Training Loss: 4.7133\n",
            "Epoch 10/10\n",
            "  Training Loss: 4.7133\n",
            "Training complete!\n",
            "\n",
            "Test F1-macro:  0.0027253947203269347\n",
            "##########################################\n",
            "2025-06-10 17:26:52 Getting cached textual weights W ...\n",
            "2025-06-10 17:26:52 Loading texture features from ./__few_shot_cache__\\russian_dataset_ViT-B/16_textfeats.pt\n",
            "\n",
            "#######################################\n",
            "Training few-shot model...\n",
            "Train dataset size:  35\n",
            "Test dataset size:  325\n"
          ]
        },
        {
          "name": "stderr",
          "output_type": "stream",
          "text": [
            "epoch 0: 100%|██████████| 35/35 [03:31<00:00,  6.03s/it, cur_loss=14.7]\n"
          ]
        },
        {
          "name": "stdout",
          "output_type": "stream",
          "text": [
            "train acc=0.0341726618705036, [l1_loss, ce_loss] => [1.9011648995535715, 0.3397809709821429, 4.774553571428571, 4.919866071428571, 4.8034598214285715]\n",
            "Epoch: 0, loss: 16.7393, lr: 0.00000997\n"
          ]
        },
        {
          "name": "stderr",
          "output_type": "stream",
          "text": [
            "epoch 1: 100%|██████████| 35/35 [03:33<00:00,  6.09s/it, cur_loss=13.8]\n"
          ]
        },
        {
          "name": "stdout",
          "output_type": "stream",
          "text": [
            "train acc=0.17221223021582735, [l1_loss, ce_loss] => [0.41994977678571427, 0.34738420758928573, 4.246651785714286, 4.681919642857143, 4.3921875]\n",
            "Epoch: 1, loss: 14.0882, lr: 0.00000989\n"
          ]
        },
        {
          "name": "stderr",
          "output_type": "stream",
          "text": [
            "epoch 2: 100%|██████████| 35/35 [03:51<00:00,  6.62s/it, cur_loss=12.5]\n"
          ]
        },
        {
          "name": "stdout",
          "output_type": "stream",
          "text": [
            "train acc=0.3151978417266187, [l1_loss, ce_loss] => [0.43751395089285716, 0.34891880580357143, 3.8082589285714286, 4.491183035714286, 4.023772321428571]\n",
            "Epoch: 2, loss: 13.1103, lr: 0.00000976\n"
          ]
        },
        {
          "name": "stderr",
          "output_type": "stream",
          "text": [
            "epoch 3: 100%|██████████| 35/35 [04:02<00:00,  6.91s/it, cur_loss=12.1]\n"
          ]
        },
        {
          "name": "stdout",
          "output_type": "stream",
          "text": [
            "train acc=0.4316546762589928, [l1_loss, ce_loss] => [0.45999581473214285, 0.3564662388392857, 3.437220982142857, 4.311383928571429, 3.6810267857142858]\n",
            "Epoch: 3, loss: 12.2467, lr: 0.00000957\n"
          ]
        },
        {
          "name": "stderr",
          "output_type": "stream",
          "text": [
            "epoch 4: 100%|██████████| 35/35 [04:10<00:00,  7.14s/it, cur_loss=11.3]\n"
          ]
        },
        {
          "name": "stdout",
          "output_type": "stream",
          "text": [
            "train acc=0.5274280575539568, [l1_loss, ce_loss] => [0.473193359375, 0.36051199776785714, 3.1154017857142855, 4.135379464285714, 3.3741629464285716]\n",
            "Epoch: 4, loss: 11.4589, lr: 0.00000933\n"
          ]
        },
        {
          "name": "stderr",
          "output_type": "stream",
          "text": [
            "epoch 5: 100%|██████████| 35/35 [04:08<00:00,  7.10s/it, cur_loss=10.1]\n"
          ]
        },
        {
          "name": "stdout",
          "output_type": "stream",
          "text": [
            "train acc=0.6164568345323741, [l1_loss, ce_loss] => [0.48466796875, 0.36464146205357145, 2.8293526785714285, 3.9608258928571427, 3.0813058035714285]\n",
            "Epoch: 5, loss: 10.7208, lr: 0.00000905\n"
          ]
        },
        {
          "name": "stderr",
          "output_type": "stream",
          "text": [
            "epoch 6: 100%|██████████| 35/35 [02:43<00:00,  4.66s/it, cur_loss=10]  \n"
          ]
        },
        {
          "name": "stdout",
          "output_type": "stream",
          "text": [
            "train acc=0.6987410071942446, [l1_loss, ce_loss] => [0.48239397321428573, 0.36959402901785715, 2.5569754464285714, 3.789453125, 2.7984933035714286]\n",
            "Epoch: 6, loss: 9.9973, lr: 0.00000872\n"
          ]
        },
        {
          "name": "stderr",
          "output_type": "stream",
          "text": [
            "epoch 7: 100%|██████████| 35/35 [02:01<00:00,  3.47s/it, cur_loss=8.69]\n"
          ]
        },
        {
          "name": "stdout",
          "output_type": "stream",
          "text": [
            "train acc=0.7571942446043165, [l1_loss, ce_loss] => [0.48879743303571427, 0.37269112723214287, 2.3196986607142858, 3.6244419642857144, 2.546595982142857]\n",
            "Epoch: 7, loss: 9.3525, lr: 0.00000835\n"
          ]
        },
        {
          "name": "stderr",
          "output_type": "stream",
          "text": [
            "epoch 8: 100%|██████████| 35/35 [02:02<00:00,  3.49s/it, cur_loss=8.65]\n"
          ]
        },
        {
          "name": "stdout",
          "output_type": "stream",
          "text": [
            "train acc=0.7949640287769785, [l1_loss, ce_loss] => [0.48818359375, 0.3753696986607143, 2.1111886160714284, 3.4652901785714287, 2.313783482142857]\n",
            "Epoch: 8, loss: 8.7533, lr: 0.00000794\n"
          ]
        },
        {
          "name": "stderr",
          "output_type": "stream",
          "text": [
            "epoch 9: 100%|██████████| 35/35 [02:01<00:00,  3.47s/it, cur_loss=8.04]\n"
          ]
        },
        {
          "name": "stdout",
          "output_type": "stream",
          "text": [
            "train acc=0.8327338129496403, [l1_loss, ce_loss] => [0.4911551339285714, 0.3784877232142857, 1.9072265625, 3.318861607142857, 2.0981026785714287]\n",
            "Epoch: 9, loss: 8.1942, lr: 0.00000750\n"
          ]
        },
        {
          "name": "stderr",
          "output_type": "stream",
          "text": [
            "epoch 10: 100%|██████████| 35/35 [02:02<00:00,  3.49s/it, cur_loss=8.46]\n"
          ]
        },
        {
          "name": "stdout",
          "output_type": "stream",
          "text": [
            "train acc=0.85431654676259, [l1_loss, ce_loss] => [0.48722098214285714, 0.3803013392857143, 1.7533761160714285, 3.1873325892857145, 1.9208147321428573]\n",
            "Epoch: 10, loss: 7.7294, lr: 0.00000703\n"
          ]
        },
        {
          "name": "stderr",
          "output_type": "stream",
          "text": [
            "epoch 11: 100%|██████████| 35/35 [02:04<00:00,  3.56s/it, cur_loss=7.23]\n"
          ]
        },
        {
          "name": "stdout",
          "output_type": "stream",
          "text": [
            "train acc=0.8803956834532374, [l1_loss, ce_loss] => [0.4874232700892857, 0.3817731584821429, 1.6114676339285714, 3.067857142857143, 1.765625]\n",
            "Epoch: 11, loss: 7.3148, lr: 0.00000655\n"
          ]
        },
        {
          "name": "stderr",
          "output_type": "stream",
          "text": [
            "epoch 12: 100%|██████████| 35/35 [02:02<00:00,  3.50s/it, cur_loss=7.59]\n"
          ]
        },
        {
          "name": "stdout",
          "output_type": "stream",
          "text": [
            "train acc=0.8988309352517986, [l1_loss, ce_loss] => [0.48074776785714285, 0.38309151785714285, 1.5052734375, 2.9712611607142856, 1.6428850446428571]\n",
            "Epoch: 12, loss: 6.9834, lr: 0.00000604\n"
          ]
        },
        {
          "name": "stderr",
          "output_type": "stream",
          "text": [
            "epoch 13: 100%|██████████| 35/35 [02:08<00:00,  3.67s/it, cur_loss=6.57]\n"
          ]
        },
        {
          "name": "stdout",
          "output_type": "stream",
          "text": [
            "train acc=0.9172661870503597, [l1_loss, ce_loss] => [0.4780970982142857, 0.384033203125, 1.3961495535714286, 2.8670758928571427, 1.5217075892857144]\n",
            "Epoch: 13, loss: 6.6475, lr: 0.00000552\n"
          ]
        },
        {
          "name": "stderr",
          "output_type": "stream",
          "text": [
            "epoch 14: 100%|██████████| 35/35 [02:05<00:00,  3.58s/it, cur_loss=6.03]\n"
          ]
        },
        {
          "name": "stdout",
          "output_type": "stream",
          "text": [
            "train acc=0.9235611510791367, [l1_loss, ce_loss] => [0.47531389508928573, 0.3843401227678571, 1.3206194196428571, 2.7921875, 1.4275948660714286]\n",
            "Epoch: 14, loss: 6.4006, lr: 0.00000500\n"
          ]
        },
        {
          "name": "stderr",
          "output_type": "stream",
          "text": [
            "epoch 15: 100%|██████████| 35/35 [02:04<00:00,  3.56s/it, cur_loss=6.4] \n"
          ]
        },
        {
          "name": "stdout",
          "output_type": "stream",
          "text": [
            "train acc=0.9339028776978417, [l1_loss, ce_loss] => [0.47337472098214284, 0.3855050223214286, 1.2544642857142858, 2.7239955357142858, 1.3571149553571429]\n",
            "Epoch: 15, loss: 6.1942, lr: 0.00000448\n"
          ]
        },
        {
          "name": "stderr",
          "output_type": "stream",
          "text": [
            "epoch 16: 100%|██████████| 35/35 [02:05<00:00,  3.59s/it, cur_loss=5.64]\n"
          ]
        },
        {
          "name": "stdout",
          "output_type": "stream",
          "text": [
            "train acc=0.9375, [l1_loss, ce_loss] => [0.4730817522321429, 0.3858677455357143, 1.2016741071428572, 2.6813058035714286, 1.3005301339285715]\n",
            "Epoch: 16, loss: 6.0426, lr: 0.00000396\n"
          ]
        },
        {
          "name": "stderr",
          "output_type": "stream",
          "text": [
            "epoch 17: 100%|██████████| 35/35 [02:02<00:00,  3.51s/it, cur_loss=5.7] \n"
          ]
        },
        {
          "name": "stdout",
          "output_type": "stream",
          "text": [
            "train acc=0.9455935251798561, [l1_loss, ce_loss] => [0.4705287388392857, 0.3859095982142857, 1.1578822544642857, 2.6307477678571427, 1.2540736607142857]\n",
            "Epoch: 17, loss: 5.8992, lr: 0.00000345\n"
          ]
        },
        {
          "name": "stderr",
          "output_type": "stream",
          "text": [
            "epoch 18: 100%|██████████| 35/35 [02:03<00:00,  3.53s/it, cur_loss=5.93]\n"
          ]
        },
        {
          "name": "stdout",
          "output_type": "stream",
          "text": [
            "train acc=0.9523381294964028, [l1_loss, ce_loss] => [0.4685686383928571, 0.3866978236607143, 1.1216517857142858, 2.590513392857143, 1.213002232142857]\n",
            "Epoch: 18, loss: 5.7808, lr: 0.00000297\n"
          ]
        },
        {
          "name": "stderr",
          "output_type": "stream",
          "text": [
            "epoch 19: 100%|██████████| 35/35 [03:12<00:00,  5.50s/it, cur_loss=5.57]\n"
          ]
        },
        {
          "name": "stdout",
          "output_type": "stream",
          "text": [
            "train acc=0.9532374100719424, [l1_loss, ce_loss] => [0.46695033482142856, 0.3864815848214286, 1.0936941964285714, 2.5561941964285713, 1.1755859375]\n",
            "Epoch: 19, loss: 5.6792, lr: 0.00000250\n"
          ]
        },
        {
          "name": "stderr",
          "output_type": "stream",
          "text": [
            "epoch 20: 100%|██████████| 35/35 [02:45<00:00,  4.74s/it, cur_loss=5.41]\n"
          ]
        },
        {
          "name": "stdout",
          "output_type": "stream",
          "text": [
            "train acc=0.9554856115107914, [l1_loss, ce_loss] => [0.46640625, 0.3866978236607143, 1.0734793526785715, 2.5404575892857144, 1.1594029017857144]\n",
            "Epoch: 20, loss: 5.6263, lr: 0.00000206\n"
          ]
        },
        {
          "name": "stderr",
          "output_type": "stream",
          "text": [
            "epoch 21: 100%|██████████| 35/35 [03:04<00:00,  5.27s/it, cur_loss=5.25]\n"
          ]
        },
        {
          "name": "stdout",
          "output_type": "stream",
          "text": [
            "train acc=0.960431654676259, [l1_loss, ce_loss] => [0.46580636160714284, 0.38663504464285714, 1.0578264508928572, 2.5219308035714287, 1.1387416294642858]\n",
            "Epoch: 21, loss: 5.5710, lr: 0.00000165\n"
          ]
        },
        {
          "name": "stderr",
          "output_type": "stream",
          "text": [
            "epoch 22: 100%|██████████| 35/35 [02:04<00:00,  3.55s/it, cur_loss=5.61]\n"
          ]
        },
        {
          "name": "stdout",
          "output_type": "stream",
          "text": [
            "train acc=0.9613309352517986, [l1_loss, ce_loss] => [0.4652134486607143, 0.3868373325892857, 1.0499720982142857, 2.5078683035714286, 1.1330915178571428]\n",
            "Epoch: 22, loss: 5.5427, lr: 0.00000128\n"
          ]
        },
        {
          "name": "stderr",
          "output_type": "stream",
          "text": [
            "epoch 23: 100%|██████████| 35/35 [02:03<00:00,  3.52s/it, cur_loss=5.78]\n"
          ]
        },
        {
          "name": "stdout",
          "output_type": "stream",
          "text": [
            "train acc=0.9649280575539568, [l1_loss, ce_loss] => [0.4639927455357143, 0.3871303013392857, 1.0400390625, 2.499720982142857, 1.1172154017857143]\n",
            "Epoch: 23, loss: 5.5084, lr: 0.00000095\n"
          ]
        },
        {
          "name": "stderr",
          "output_type": "stream",
          "text": [
            "epoch 24: 100%|██████████| 35/35 [02:02<00:00,  3.50s/it, cur_loss=5.43]\n"
          ]
        },
        {
          "name": "stdout",
          "output_type": "stream",
          "text": [
            "train acc=0.9613309352517986, [l1_loss, ce_loss] => [0.4638671875, 0.386767578125, 1.0349051339285715, 2.4987723214285715, 1.1119977678571429]\n",
            "Epoch: 24, loss: 5.4961, lr: 0.00000067\n"
          ]
        },
        {
          "name": "stderr",
          "output_type": "stream",
          "text": [
            "epoch 25: 100%|██████████| 35/35 [02:02<00:00,  3.50s/it, cur_loss=5.35]\n"
          ]
        },
        {
          "name": "stdout",
          "output_type": "stream",
          "text": [
            "train acc=0.9635791366906474, [l1_loss, ce_loss] => [0.4634486607142857, 0.3870186941964286, 1.0333844866071429, 2.494642857142857, 1.1140904017857143]\n",
            "Epoch: 25, loss: 5.4927, lr: 0.00000043\n"
          ]
        },
        {
          "name": "stderr",
          "output_type": "stream",
          "text": [
            "epoch 26: 100%|██████████| 35/35 [02:14<00:00,  3.84s/it, cur_loss=5.17]\n"
          ]
        },
        {
          "name": "stdout",
          "output_type": "stream",
          "text": [
            "train acc=0.9568345323741008, [l1_loss, ce_loss] => [0.4637974330357143, 0.3870186941964286, 1.0338309151785714, 2.498325892857143, 1.1125837053571428]\n",
            "Epoch: 26, loss: 5.4959, lr: 0.00000024\n"
          ]
        },
        {
          "name": "stderr",
          "output_type": "stream",
          "text": [
            "epoch 27: 100%|██████████| 35/35 [02:03<00:00,  3.52s/it, cur_loss=5.55]\n"
          ]
        },
        {
          "name": "stdout",
          "output_type": "stream",
          "text": [
            "train acc=0.9617805755395683, [l1_loss, ce_loss] => [0.46339285714285716, 0.3871442522321429, 1.0359793526785714, 2.495703125, 1.1182896205357142]\n",
            "Epoch: 27, loss: 5.5008, lr: 0.00000011\n"
          ]
        },
        {
          "name": "stderr",
          "output_type": "stream",
          "text": [
            "epoch 28: 100%|██████████| 35/35 [02:03<00:00,  3.53s/it, cur_loss=5.51]\n"
          ]
        },
        {
          "name": "stdout",
          "output_type": "stream",
          "text": [
            "train acc=0.9599820143884892, [l1_loss, ce_loss] => [0.46406947544642857, 0.38697684151785716, 1.0319475446428572, 2.4979352678571427, 1.1119001116071427]\n",
            "Epoch: 28, loss: 5.4926, lr: 0.00000003\n"
          ]
        },
        {
          "name": "stderr",
          "output_type": "stream",
          "text": [
            "epoch 29: 100%|██████████| 35/35 [02:02<00:00,  3.51s/it, cur_loss=5.65]\n"
          ]
        },
        {
          "name": "stdout",
          "output_type": "stream",
          "text": [
            "train acc=0.9617805755395683, [l1_loss, ce_loss] => [0.4641741071428571, 0.38717215401785715, 1.03515625, 2.494810267857143, 1.1099609375]\n",
            "Epoch: 29, loss: 5.4915, lr: 0.00000000\n",
            "Training complete!\n"
          ]
        },
        {
          "name": "stderr",
          "output_type": "stream",
          "text": [
            "Evaluate: 100%|██████████| 325/325 [05:29<00:00,  1.02s/it]\n"
          ]
        },
        {
          "name": "stdout",
          "output_type": "stream",
          "text": [
            "\n",
            "Test F1-macro:  0.6874508609686264\n",
            "#######################################\n",
            "\n",
            "Iteration:  4\n",
            "\n",
            "#######################################\n",
            "Training non-few shot model...\n",
            "Train dataset size:  1299\n",
            "Test dataset size:  325\n",
            "Epoch 1/10\n",
            "  Training Loss: 4.7149\n",
            "Epoch 2/10\n",
            "  Training Loss: 4.7133\n",
            "Epoch 3/10\n",
            "  Training Loss: 4.7125\n",
            "Epoch 4/10\n",
            "  Training Loss: 4.7133\n",
            "Epoch 5/10\n",
            "  Training Loss: 4.7125\n",
            "Epoch 6/10\n",
            "  Training Loss: 4.7133\n",
            "Epoch 7/10\n",
            "  Training Loss: 4.7125\n",
            "Epoch 8/10\n",
            "  Training Loss: 4.7133\n",
            "Epoch 9/10\n",
            "  Training Loss: 4.7133\n",
            "Epoch 10/10\n",
            "  Training Loss: 4.7133\n",
            "Training complete!\n",
            "\n",
            "Test F1-macro:  0.0027253947203269347\n",
            "##########################################\n",
            "2025-06-10 20:21:05 Getting cached textual weights W ...\n",
            "2025-06-10 20:21:05 Loading texture features from ./__few_shot_cache__\\russian_dataset_ViT-B/16_textfeats.pt\n",
            "\n",
            "#######################################\n",
            "Training few-shot model...\n",
            "Train dataset size:  35\n",
            "Test dataset size:  325\n"
          ]
        },
        {
          "name": "stderr",
          "output_type": "stream",
          "text": [
            "epoch 0: 100%|██████████| 35/35 [01:38<00:00,  2.80s/it, cur_loss=14.7]\n"
          ]
        },
        {
          "name": "stdout",
          "output_type": "stream",
          "text": [
            "train acc=0.04001798561151079, [l1_loss, ce_loss] => [1.8292201450892858, 0.35298549107142857, 4.7683035714285715, 4.914508928571428, 4.797433035714286]\n",
            "Epoch: 0, loss: 16.6614, lr: 0.00000997\n"
          ]
        },
        {
          "name": "stderr",
          "output_type": "stream",
          "text": [
            "epoch 1: 100%|██████████| 35/35 [01:33<00:00,  2.68s/it, cur_loss=13.7]\n"
          ]
        },
        {
          "name": "stdout",
          "output_type": "stream",
          "text": [
            "train acc=0.18615107913669066, [l1_loss, ce_loss] => [0.4249720982142857, 0.3633510044642857, 4.189732142857143, 4.6727678571428575, 4.353683035714286]\n",
            "Epoch: 1, loss: 14.0056, lr: 0.00000989\n"
          ]
        },
        {
          "name": "stderr",
          "output_type": "stream",
          "text": [
            "epoch 2: 100%|██████████| 35/35 [01:34<00:00,  2.69s/it, cur_loss=12.7]\n"
          ]
        },
        {
          "name": "stdout",
          "output_type": "stream",
          "text": [
            "train acc=0.32508992805755393, [l1_loss, ce_loss] => [0.4548897879464286, 0.36655970982142855, 3.765401785714286, 4.480022321428572, 3.976060267857143]\n",
            "Epoch: 2, loss: 13.0420, lr: 0.00000976\n"
          ]
        },
        {
          "name": "stderr",
          "output_type": "stream",
          "text": [
            "epoch 3: 100%|██████████| 35/35 [01:34<00:00,  2.69s/it, cur_loss=12]  \n"
          ]
        },
        {
          "name": "stdout",
          "output_type": "stream",
          "text": [
            "train acc=0.4487410071942446, [l1_loss, ce_loss] => [0.4636928013392857, 0.3678501674107143, 3.4022321428571427, 4.299441964285714, 3.625223214285714]\n",
            "Epoch: 3, loss: 12.1583, lr: 0.00000957\n"
          ]
        },
        {
          "name": "stderr",
          "output_type": "stream",
          "text": [
            "epoch 4: 100%|██████████| 35/35 [01:35<00:00,  2.72s/it, cur_loss=10.8]\n"
          ]
        },
        {
          "name": "stdout",
          "output_type": "stream",
          "text": [
            "train acc=0.5651978417266187, [l1_loss, ce_loss] => [0.48696986607142856, 0.3724330357142857, 3.069419642857143, 4.1299665178571425, 3.2929129464285714]\n",
            "Epoch: 4, loss: 11.3520, lr: 0.00000933\n"
          ]
        },
        {
          "name": "stderr",
          "output_type": "stream",
          "text": [
            "epoch 5: 100%|██████████| 35/35 [01:37<00:00,  2.80s/it, cur_loss=10.2]\n"
          ]
        },
        {
          "name": "stdout",
          "output_type": "stream",
          "text": [
            "train acc=0.6537769784172662, [l1_loss, ce_loss] => [0.48720703125, 0.37711356026785714, 2.767801339285714, 3.9549107142857145, 2.968359375]\n",
            "Epoch: 5, loss: 10.5558, lr: 0.00000905\n"
          ]
        },
        {
          "name": "stderr",
          "output_type": "stream",
          "text": [
            "epoch 6: 100%|██████████| 35/35 [01:37<00:00,  2.78s/it, cur_loss=9.52]\n"
          ]
        },
        {
          "name": "stdout",
          "output_type": "stream",
          "text": [
            "train acc=0.7032374100719424, [l1_loss, ce_loss] => [0.4908203125, 0.3804966517857143, 2.5055245535714286, 3.793191964285714, 2.686439732142857]\n",
            "Epoch: 6, loss: 9.8565, lr: 0.00000872\n"
          ]
        },
        {
          "name": "stderr",
          "output_type": "stream",
          "text": [
            "epoch 7: 100%|██████████| 35/35 [01:37<00:00,  2.77s/it, cur_loss=9.02]\n"
          ]
        },
        {
          "name": "stdout",
          "output_type": "stream",
          "text": [
            "train acc=0.7549460431654677, [l1_loss, ce_loss] => [0.4978097098214286, 0.38406808035714285, 2.2718191964285714, 3.642801339285714, 2.4376674107142855]\n",
            "Epoch: 7, loss: 9.2348, lr: 0.00000835\n"
          ]
        },
        {
          "name": "stderr",
          "output_type": "stream",
          "text": [
            "epoch 8: 100%|██████████| 35/35 [01:37<00:00,  2.77s/it, cur_loss=8.59]\n"
          ]
        },
        {
          "name": "stdout",
          "output_type": "stream",
          "text": [
            "train acc=0.8120503597122302, [l1_loss, ce_loss] => [0.49852120535714284, 0.38642578125, 2.0620814732142856, 3.4776785714285716, 2.1961495535714284]\n",
            "Epoch: 8, loss: 8.6214, lr: 0.00000794\n"
          ]
        },
        {
          "name": "stderr",
          "output_type": "stream",
          "text": [
            "epoch 9: 100%|██████████| 35/35 [04:04<00:00,  6.97s/it, cur_loss=8.14]\n"
          ]
        },
        {
          "name": "stdout",
          "output_type": "stream",
          "text": [
            "train acc=0.8516187050359713, [l1_loss, ce_loss] => [0.49826311383928573, 0.38816964285714284, 1.8814453125, 3.3497767857142855, 1.9953125]\n",
            "Epoch: 9, loss: 8.1128, lr: 0.00000750\n"
          ]
        },
        {
          "name": "stderr",
          "output_type": "stream",
          "text": [
            "epoch 10: 100%|██████████| 35/35 [01:41<00:00,  2.91s/it, cur_loss=7.75]\n"
          ]
        },
        {
          "name": "stdout",
          "output_type": "stream",
          "text": [
            "train acc=0.8830935251798561, [l1_loss, ce_loss] => [0.4978515625, 0.3904296875, 1.7170479910714285, 3.2203125, 1.8147321428571428]\n",
            "Epoch: 10, loss: 7.6403, lr: 0.00000703\n"
          ]
        },
        {
          "name": "stderr",
          "output_type": "stream",
          "text": [
            "epoch 11: 100%|██████████| 35/35 [01:43<00:00,  2.96s/it, cur_loss=6.94]\n"
          ]
        },
        {
          "name": "stdout",
          "output_type": "stream",
          "text": [
            "train acc=0.8997302158273381, [l1_loss, ce_loss] => [0.4967006138392857, 0.391552734375, 1.5713448660714286, 3.1005580357142857, 1.646372767857143]\n",
            "Epoch: 11, loss: 7.2064, lr: 0.00000655\n"
          ]
        },
        {
          "name": "stderr",
          "output_type": "stream",
          "text": [
            "epoch 12: 100%|██████████| 35/35 [01:45<00:00,  3.01s/it, cur_loss=6.57]\n"
          ]
        },
        {
          "name": "stdout",
          "output_type": "stream",
          "text": [
            "train acc=0.9159172661870504, [l1_loss, ce_loss] => [0.4914620535714286, 0.3921595982142857, 1.4511997767857143, 2.999720982142857, 1.5149274553571428]\n",
            "Epoch: 12, loss: 6.8497, lr: 0.00000604\n"
          ]
        },
        {
          "name": "stderr",
          "output_type": "stream",
          "text": [
            "epoch 13: 100%|██████████| 35/35 [01:45<00:00,  3.00s/it, cur_loss=6.23]\n"
          ]
        },
        {
          "name": "stdout",
          "output_type": "stream",
          "text": [
            "train acc=0.927158273381295, [l1_loss, ce_loss] => [0.49099469866071427, 0.3935616629464286, 1.3602120535714286, 2.921595982142857, 1.4183314732142858]\n",
            "Epoch: 13, loss: 6.5844, lr: 0.00000552\n"
          ]
        },
        {
          "name": "stderr",
          "output_type": "stream",
          "text": [
            "epoch 14: 100%|██████████| 35/35 [02:03<00:00,  3.54s/it, cur_loss=6.47]\n"
          ]
        },
        {
          "name": "stdout",
          "output_type": "stream",
          "text": [
            "train acc=0.9343525179856115, [l1_loss, ce_loss] => [0.48912527901785713, 0.393798828125, 1.2765066964285714, 2.848549107142857, 1.3278738839285715]\n",
            "Epoch: 14, loss: 6.3356, lr: 0.00000500\n"
          ]
        },
        {
          "name": "stderr",
          "output_type": "stream",
          "text": [
            "epoch 15: 100%|██████████| 35/35 [02:47<00:00,  4.79s/it, cur_loss=5.99]\n"
          ]
        },
        {
          "name": "stdout",
          "output_type": "stream",
          "text": [
            "train acc=0.9415467625899281, [l1_loss, ce_loss] => [0.48961356026785713, 0.39467075892857145, 1.2062220982142857, 2.7793526785714286, 1.2479910714285714]\n",
            "Epoch: 15, loss: 6.1175, lr: 0.00000448\n"
          ]
        },
        {
          "name": "stderr",
          "output_type": "stream",
          "text": [
            "epoch 16: 100%|██████████| 35/35 [03:35<00:00,  6.15s/it, cur_loss=6.28]\n"
          ]
        },
        {
          "name": "stdout",
          "output_type": "stream",
          "text": [
            "train acc=0.9460431654676259, [l1_loss, ce_loss] => [0.48726283482142857, 0.39474051339285715, 1.147572544642857, 2.7252232142857142, 1.1858258928571428]\n",
            "Epoch: 16, loss: 5.9403, lr: 0.00000396\n"
          ]
        },
        {
          "name": "stderr",
          "output_type": "stream",
          "text": [
            "epoch 17: 100%|██████████| 35/35 [03:36<00:00,  6.18s/it, cur_loss=6.12]\n"
          ]
        },
        {
          "name": "stdout",
          "output_type": "stream",
          "text": [
            "train acc=0.9496402877697842, [l1_loss, ce_loss] => [0.48311244419642857, 0.3951381138392857, 1.1065011160714286, 2.6792410714285713, 1.1435407366071428]\n",
            "Epoch: 17, loss: 5.8073, lr: 0.00000345\n"
          ]
        },
        {
          "name": "stderr",
          "output_type": "stream",
          "text": [
            "epoch 18: 100%|██████████| 35/35 [03:36<00:00,  6.20s/it, cur_loss=5.76]\n"
          ]
        },
        {
          "name": "stdout",
          "output_type": "stream",
          "text": [
            "train acc=0.9545863309352518, [l1_loss, ce_loss] => [0.4812569754464286, 0.39485909598214286, 1.07451171875, 2.6453125, 1.1077427455357143]\n",
            "Epoch: 18, loss: 5.7033, lr: 0.00000297\n"
          ]
        },
        {
          "name": "stderr",
          "output_type": "stream",
          "text": [
            "epoch 19: 100%|██████████| 35/35 [03:38<00:00,  6.23s/it, cur_loss=5.41]\n"
          ]
        },
        {
          "name": "stdout",
          "output_type": "stream",
          "text": [
            "train acc=0.9577338129496403, [l1_loss, ce_loss] => [0.4806640625, 0.39559151785714286, 1.0410993303571427, 2.609877232142857, 1.0705357142857144]\n",
            "Epoch: 19, loss: 5.5975, lr: 0.00000250\n"
          ]
        },
        {
          "name": "stderr",
          "output_type": "stream",
          "text": [
            "epoch 20: 100%|██████████| 35/35 [03:36<00:00,  6.17s/it, cur_loss=5.52]\n"
          ]
        },
        {
          "name": "stdout",
          "output_type": "stream",
          "text": [
            "train acc=0.9595323741007195, [l1_loss, ce_loss] => [0.47822963169642857, 0.3959193638392857, 1.0224888392857143, 2.591127232142857, 1.0497628348214285]\n",
            "Epoch: 20, loss: 5.5374, lr: 0.00000206\n"
          ]
        },
        {
          "name": "stderr",
          "output_type": "stream",
          "text": [
            "epoch 21: 100%|██████████| 35/35 [03:36<00:00,  6.17s/it, cur_loss=5.59]\n"
          ]
        },
        {
          "name": "stdout",
          "output_type": "stream",
          "text": [
            "train acc=0.9617805755395683, [l1_loss, ce_loss] => [0.47774135044642857, 0.39585658482142855, 1.0062220982142858, 2.5698660714285713, 1.030078125]\n",
            "Epoch: 21, loss: 5.4801, lr: 0.00000165\n"
          ]
        },
        {
          "name": "stderr",
          "output_type": "stream",
          "text": [
            "epoch 22: 100%|██████████| 35/35 [03:36<00:00,  6.18s/it, cur_loss=5.5] \n"
          ]
        },
        {
          "name": "stdout",
          "output_type": "stream",
          "text": [
            "train acc=0.966726618705036, [l1_loss, ce_loss] => [0.4769740513392857, 0.39559849330357144, 0.9929547991071429, 2.5571986607142856, 1.0158063616071429]\n",
            "Epoch: 22, loss: 5.4379, lr: 0.00000128\n"
          ]
        },
        {
          "name": "stderr",
          "output_type": "stream",
          "text": [
            "epoch 23: 100%|██████████| 35/35 [03:36<00:00,  6.19s/it, cur_loss=5.23]\n"
          ]
        },
        {
          "name": "stdout",
          "output_type": "stream",
          "text": [
            "train acc=0.9644784172661871, [l1_loss, ce_loss] => [0.47670200892857145, 0.39595424107142857, 0.9873883928571429, 2.551004464285714, 1.01298828125]\n",
            "Epoch: 23, loss: 5.4248, lr: 0.00000095\n"
          ]
        },
        {
          "name": "stderr",
          "output_type": "stream",
          "text": [
            "epoch 24: 100%|██████████| 35/35 [03:37<00:00,  6.20s/it, cur_loss=5.5] \n"
          ]
        },
        {
          "name": "stdout",
          "output_type": "stream",
          "text": [
            "train acc=0.9617805755395683, [l1_loss, ce_loss] => [0.4763741629464286, 0.39541713169642856, 0.9861049107142857, 2.5465401785714286, 1.0066127232142856]\n",
            "Epoch: 24, loss: 5.4109, lr: 0.00000067\n"
          ]
        },
        {
          "name": "stderr",
          "output_type": "stream",
          "text": [
            "epoch 25: 100%|██████████| 35/35 [03:37<00:00,  6.20s/it, cur_loss=5.28]\n"
          ]
        },
        {
          "name": "stdout",
          "output_type": "stream",
          "text": [
            "train acc=0.9680755395683454, [l1_loss, ce_loss] => [0.47659040178571427, 0.39561941964285713, 0.9782645089285714, 2.548158482142857, 1.0001534598214286]\n",
            "Epoch: 25, loss: 5.3992, lr: 0.00000043\n"
          ]
        },
        {
          "name": "stderr",
          "output_type": "stream",
          "text": [
            "epoch 26: 100%|██████████| 35/35 [03:37<00:00,  6.21s/it, cur_loss=5.17]\n"
          ]
        },
        {
          "name": "stdout",
          "output_type": "stream",
          "text": [
            "train acc=0.9662769784172662, [l1_loss, ce_loss] => [0.47672293526785714, 0.3955287388392857, 0.9788364955357143, 2.545982142857143, 1.0044084821428572]\n",
            "Epoch: 26, loss: 5.4018, lr: 0.00000024\n"
          ]
        },
        {
          "name": "stderr",
          "output_type": "stream",
          "text": [
            "epoch 27: 100%|██████████| 35/35 [03:42<00:00,  6.36s/it, cur_loss=5.62]\n"
          ]
        },
        {
          "name": "stdout",
          "output_type": "stream",
          "text": [
            "train acc=0.9658273381294964, [l1_loss, ce_loss] => [0.4765555245535714, 0.3956891741071429, 0.9773856026785714, 2.5440848214285716, 1.0034040178571428]\n",
            "Epoch: 27, loss: 5.3975, lr: 0.00000011\n"
          ]
        },
        {
          "name": "stderr",
          "output_type": "stream",
          "text": [
            "epoch 28: 100%|██████████| 35/35 [02:42<00:00,  4.65s/it, cur_loss=5.32]\n"
          ]
        },
        {
          "name": "stdout",
          "output_type": "stream",
          "text": [
            "train acc=0.9644784172661871, [l1_loss, ce_loss] => [0.47628348214285715, 0.39572405133928573, 0.9745535714285715, 2.5459263392857143, 0.9983677455357143]\n",
            "Epoch: 28, loss: 5.3904, lr: 0.00000003\n"
          ]
        },
        {
          "name": "stderr",
          "output_type": "stream",
          "text": [
            "epoch 29: 100%|██████████| 35/35 [01:47<00:00,  3.08s/it, cur_loss=5.55]\n"
          ]
        },
        {
          "name": "stdout",
          "output_type": "stream",
          "text": [
            "train acc=0.9613309352517986, [l1_loss, ce_loss] => [0.47653459821428573, 0.39572405133928573, 0.9796595982142857, 2.5444754464285713, 1.0033621651785714]\n",
            "Epoch: 29, loss: 5.4004, lr: 0.00000000\n",
            "Training complete!\n"
          ]
        },
        {
          "name": "stderr",
          "output_type": "stream",
          "text": [
            "Evaluate: 100%|██████████| 325/325 [02:59<00:00,  1.81it/s]\n"
          ]
        },
        {
          "name": "stdout",
          "output_type": "stream",
          "text": [
            "\n",
            "Test F1-macro:  0.7202881750366344\n",
            "#######################################\n",
            "Processing the local dataset: belgian_dataset\n"
          ]
        },
        {
          "name": "stderr",
          "output_type": "stream",
          "text": [
            "Processing images: 100%|██████████| 6970/6970 [01:54<00:00, 60.70it/s]\n"
          ]
        },
        {
          "name": "stdout",
          "output_type": "stream",
          "text": [
            "Number of filtered labels:  52\n",
            "Number of removed labels:  10\n",
            "Number of samples in the dataset:  6970\n",
            "\n",
            "Iteration:  0\n",
            "\n",
            "#######################################\n",
            "Training non-few shot model...\n",
            "Train dataset size:  88\n",
            "Test dataset size:  22\n",
            "Epoch 1/10\n",
            "  Training Loss: 3.8849\n",
            "Epoch 2/10\n",
            "  Training Loss: 3.8790\n",
            "Epoch 3/10\n",
            "  Training Loss: 3.8790\n",
            "Epoch 4/10\n",
            "  Training Loss: 3.8778\n",
            "Epoch 5/10\n",
            "  Training Loss: 3.8790\n",
            "Epoch 6/10\n",
            "  Training Loss: 3.8387\n",
            "Epoch 7/10\n",
            "  Training Loss: 3.8063\n",
            "Epoch 8/10\n",
            "  Training Loss: 3.8065\n",
            "Epoch 9/10\n",
            "  Training Loss: 3.8070\n",
            "Epoch 10/10\n",
            "  Training Loss: 3.8083\n",
            "Training complete!\n",
            "\n",
            "Test F1-macro:  0.011514876533025353\n",
            "##########################################\n",
            "2025-06-10 21:48:22 Getting cached textual weights W ...\n",
            "\n",
            "#######################################\n",
            "Training few-shot model...\n",
            "Train dataset size:  13\n",
            "Test dataset size:  22\n"
          ]
        },
        {
          "name": "stderr",
          "output_type": "stream",
          "text": [
            "epoch 0: 100%|██████████| 13/13 [00:27<00:00,  2.14s/it, cur_loss=11.3]\n"
          ]
        },
        {
          "name": "stdout",
          "output_type": "stream",
          "text": [
            "train acc=0.19110576923076922, [l1_loss, ce_loss] => [6.029672475961538, 0.32320462740384615, 3.4942908653846154, 3.8138521634615383, 3.6215444711538463]\n",
            "Epoch: 0, loss: 17.2837, lr: 0.00000997\n"
          ]
        },
        {
          "name": "stderr",
          "output_type": "stream",
          "text": [
            "epoch 1: 100%|██████████| 13/13 [00:28<00:00,  2.16s/it, cur_loss=9.14]\n"
          ]
        },
        {
          "name": "stdout",
          "output_type": "stream",
          "text": [
            "train acc=0.6442307692307693, [l1_loss, ce_loss] => [0.8249699519230769, 0.33077298677884615, 2.498046875, 3.3697415865384617, 2.8799579326923075]\n",
            "Epoch: 1, loss: 9.9038, lr: 0.00000989\n"
          ]
        },
        {
          "name": "stderr",
          "output_type": "stream",
          "text": [
            "epoch 2: 100%|██████████| 13/13 [00:28<00:00,  2.16s/it, cur_loss=7.49]\n"
          ]
        },
        {
          "name": "stdout",
          "output_type": "stream",
          "text": [
            "train acc=0.8497596153846154, [l1_loss, ce_loss] => [0.6687575120192307, 0.33670748197115385, 1.8422475961538463, 3.0474759615384617, 2.3055889423076925]\n",
            "Epoch: 2, loss: 8.2019, lr: 0.00000976\n"
          ]
        },
        {
          "name": "stderr",
          "output_type": "stream",
          "text": [
            "epoch 3: 100%|██████████| 13/13 [00:29<00:00,  2.30s/it, cur_loss=6.6] \n"
          ]
        },
        {
          "name": "stdout",
          "output_type": "stream",
          "text": [
            "train acc=0.9266826923076923, [l1_loss, ce_loss] => [0.6681565504807693, 0.34583458533653844, 1.4064753605769231, 2.7537560096153846, 1.8264723557692308]\n",
            "Epoch: 3, loss: 7.0003, lr: 0.00000957\n"
          ]
        },
        {
          "name": "stderr",
          "output_type": "stream",
          "text": [
            "epoch 4: 100%|██████████| 13/13 [00:28<00:00,  2.19s/it, cur_loss=5.55]\n"
          ]
        },
        {
          "name": "stdout",
          "output_type": "stream",
          "text": [
            "train acc=0.9639423076923077, [l1_loss, ce_loss] => [0.6361929086538461, 0.35257662259615385, 1.0774489182692308, 2.489933894230769, 1.4162409855769231]\n",
            "Epoch: 4, loss: 5.9727, lr: 0.00000933\n"
          ]
        },
        {
          "name": "stderr",
          "output_type": "stream",
          "text": [
            "epoch 5: 100%|██████████| 13/13 [00:28<00:00,  2.16s/it, cur_loss=4.94]\n"
          ]
        },
        {
          "name": "stdout",
          "output_type": "stream",
          "text": [
            "train acc=0.9831730769230769, [l1_loss, ce_loss] => [0.6177884615384616, 0.3574406550480769, 0.8554311899038461, 2.2880108173076925, 1.1549729567307692]\n",
            "Epoch: 5, loss: 5.2746, lr: 0.00000905\n"
          ]
        },
        {
          "name": "stderr",
          "output_type": "stream",
          "text": [
            "epoch 6: 100%|██████████| 13/13 [00:28<00:00,  2.18s/it, cur_loss=4.47]\n"
          ]
        },
        {
          "name": "stdout",
          "output_type": "stream",
          "text": [
            "train acc=0.9867788461538461, [l1_loss, ce_loss] => [0.6058819110576923, 0.3616473858173077, 0.6644005408653846, 2.0673076923076925, 0.9214618389423077]\n",
            "Epoch: 6, loss: 4.6208, lr: 0.00000872\n"
          ]
        },
        {
          "name": "stderr",
          "output_type": "stream",
          "text": [
            "epoch 7: 100%|██████████| 13/13 [00:29<00:00,  2.26s/it, cur_loss=3.95]\n"
          ]
        },
        {
          "name": "stdout",
          "output_type": "stream",
          "text": [
            "train acc=0.9867788461538461, [l1_loss, ce_loss] => [0.5912710336538461, 0.3663987379807692, 0.5398888221153846, 1.8985877403846154, 0.7779822716346154]\n",
            "Epoch: 7, loss: 4.1740, lr: 0.00000835\n"
          ]
        },
        {
          "name": "stderr",
          "output_type": "stream",
          "text": [
            "epoch 8: 100%|██████████| 13/13 [00:28<00:00,  2.23s/it, cur_loss=4.04]\n"
          ]
        },
        {
          "name": "stdout",
          "output_type": "stream",
          "text": [
            "train acc=0.9927884615384616, [l1_loss, ce_loss] => [0.5774864783653846, 0.36874624399038464, 0.4370304987980769, 1.7550330528846154, 0.6682316706730769]\n",
            "Epoch: 8, loss: 3.8065, lr: 0.00000794\n"
          ]
        },
        {
          "name": "stderr",
          "output_type": "stream",
          "text": [
            "epoch 9: 100%|██████████| 13/13 [00:29<00:00,  2.24s/it, cur_loss=3.57]\n"
          ]
        },
        {
          "name": "stdout",
          "output_type": "stream",
          "text": [
            "train acc=0.9951923076923077, [l1_loss, ce_loss] => [0.5586313100961539, 0.37146935096153844, 0.3579852764423077, 1.6290564903846154, 0.5728290264423077]\n",
            "Epoch: 9, loss: 3.4896, lr: 0.00000750\n"
          ]
        },
        {
          "name": "stderr",
          "output_type": "stream",
          "text": [
            "epoch 10: 100%|██████████| 13/13 [00:29<00:00,  2.24s/it, cur_loss=3.16]\n"
          ]
        },
        {
          "name": "stdout",
          "output_type": "stream",
          "text": [
            "train acc=0.9963942307692307, [l1_loss, ce_loss] => [0.5301231971153846, 0.37192007211538464, 0.30509127103365385, 1.5135216346153846, 0.49472280649038464]\n",
            "Epoch: 10, loss: 3.2154, lr: 0.00000703\n"
          ]
        },
        {
          "name": "stderr",
          "output_type": "stream",
          "text": [
            "epoch 11: 100%|██████████| 13/13 [00:29<00:00,  2.25s/it, cur_loss=2.87]\n"
          ]
        },
        {
          "name": "stdout",
          "output_type": "stream",
          "text": [
            "train acc=0.9987980769230769, [l1_loss, ce_loss] => [0.5144230769230769, 0.3731032151442308, 0.26962515024038464, 1.4216496394230769, 0.4505145733173077]\n",
            "Epoch: 11, loss: 3.0296, lr: 0.00000655\n"
          ]
        },
        {
          "name": "stderr",
          "output_type": "stream",
          "text": [
            "epoch 12: 100%|██████████| 13/13 [00:29<00:00,  2.25s/it, cur_loss=2.72]\n"
          ]
        },
        {
          "name": "stdout",
          "output_type": "stream",
          "text": [
            "train acc=0.9987980769230769, [l1_loss, ce_loss] => [0.5077185997596154, 0.3732158954326923, 0.24541766826923078, 1.3567457932692308, 0.4110576923076923]\n",
            "Epoch: 12, loss: 2.8939, lr: 0.00000604\n"
          ]
        },
        {
          "name": "stderr",
          "output_type": "stream",
          "text": [
            "epoch 13: 100%|██████████| 13/13 [00:29<00:00,  2.25s/it, cur_loss=2.68]\n"
          ]
        },
        {
          "name": "stdout",
          "output_type": "stream",
          "text": [
            "train acc=0.9987980769230769, [l1_loss, ce_loss] => [0.49447866586538464, 0.3737041766826923, 0.22853440504807693, 1.3019831730769231, 0.3913010817307692]\n",
            "Epoch: 13, loss: 2.7897, lr: 0.00000552\n"
          ]
        },
        {
          "name": "stderr",
          "output_type": "stream",
          "text": [
            "epoch 14: 100%|██████████| 13/13 [00:29<00:00,  2.24s/it, cur_loss=2.55]\n"
          ]
        },
        {
          "name": "stdout",
          "output_type": "stream",
          "text": [
            "train acc=0.9987980769230769, [l1_loss, ce_loss] => [0.47872220552884615, 0.3745304987980769, 0.20836463341346154, 1.2412109375, 0.3528019831730769]\n",
            "Epoch: 14, loss: 2.6559, lr: 0.00000500\n"
          ]
        },
        {
          "name": "stderr",
          "output_type": "stream",
          "text": [
            "epoch 15: 100%|██████████| 13/13 [00:29<00:00,  2.24s/it, cur_loss=2.55]\n"
          ]
        },
        {
          "name": "stdout",
          "output_type": "stream",
          "text": [
            "train acc=0.9987980769230769, [l1_loss, ce_loss] => [0.47139798677884615, 0.37466195913461536, 0.19268329326923078, 1.1975661057692308, 0.3344163161057692]\n",
            "Epoch: 15, loss: 2.5706, lr: 0.00000448\n"
          ]
        },
        {
          "name": "stderr",
          "output_type": "stream",
          "text": [
            "epoch 16: 100%|██████████| 13/13 [00:29<00:00,  2.27s/it, cur_loss=2.45]\n"
          ]
        },
        {
          "name": "stdout",
          "output_type": "stream",
          "text": [
            "train acc=0.9987980769230769, [l1_loss, ce_loss] => [0.4601299579326923, 0.37496243990384615, 0.1829552283653846, 1.1538461538461537, 0.31753305288461536]\n",
            "Epoch: 16, loss: 2.4892, lr: 0.00000396\n"
          ]
        },
        {
          "name": "stderr",
          "output_type": "stream",
          "text": [
            "epoch 17: 100%|██████████| 13/13 [00:29<00:00,  2.28s/it, cur_loss=2.33]\n"
          ]
        },
        {
          "name": "stdout",
          "output_type": "stream",
          "text": [
            "train acc=0.9987980769230769, [l1_loss, ce_loss] => [0.45535982572115385, 0.3752253605769231, 0.18141526442307693, 1.1378455528846154, 0.3173828125]\n",
            "Epoch: 17, loss: 2.4677, lr: 0.00000345\n"
          ]
        },
        {
          "name": "stderr",
          "output_type": "stream",
          "text": [
            "epoch 18: 100%|██████████| 13/13 [00:29<00:00,  2.30s/it, cur_loss=2.36]\n"
          ]
        },
        {
          "name": "stdout",
          "output_type": "stream",
          "text": [
            "train acc=0.9987980769230769, [l1_loss, ce_loss] => [0.44882436899038464, 0.3753004807692308, 0.1729454627403846, 1.1099759615384615, 0.3041428786057692]\n",
            "Epoch: 18, loss: 2.4112, lr: 0.00000297\n"
          ]
        },
        {
          "name": "stderr",
          "output_type": "stream",
          "text": [
            "epoch 19: 100%|██████████| 13/13 [00:29<00:00,  2.29s/it, cur_loss=2.41]\n"
          ]
        },
        {
          "name": "stdout",
          "output_type": "stream",
          "text": [
            "train acc=1.0, [l1_loss, ce_loss] => [0.4465144230769231, 0.3750563401442308, 0.16580904447115385, 1.0960036057692308, 0.2938983623798077]\n",
            "Epoch: 19, loss: 2.3777, lr: 0.00000250\n"
          ]
        },
        {
          "name": "stderr",
          "output_type": "stream",
          "text": [
            "epoch 20: 100%|██████████| 13/13 [00:30<00:00,  2.36s/it, cur_loss=2.43]\n"
          ]
        },
        {
          "name": "stdout",
          "output_type": "stream",
          "text": [
            "train acc=0.9975961538461539, [l1_loss, ce_loss] => [0.4417255108173077, 0.374755859375, 0.16325495793269232, 1.0848106971153846, 0.289794921875]\n",
            "Epoch: 20, loss: 2.3540, lr: 0.00000206\n"
          ]
        },
        {
          "name": "stderr",
          "output_type": "stream",
          "text": [
            "epoch 21: 100%|██████████| 13/13 [00:29<00:00,  2.29s/it, cur_loss=2.36]\n"
          ]
        },
        {
          "name": "stdout",
          "output_type": "stream",
          "text": [
            "train acc=0.9987980769230769, [l1_loss, ce_loss] => [0.43960336538461536, 0.37387319711538464, 0.16217510516826922, 1.0718900240384615, 0.290771484375]\n",
            "Epoch: 21, loss: 2.3380, lr: 0.00000165\n"
          ]
        },
        {
          "name": "stderr",
          "output_type": "stream",
          "text": [
            "epoch 22: 100%|██████████| 13/13 [00:28<00:00,  2.21s/it, cur_loss=2.32]\n"
          ]
        },
        {
          "name": "stdout",
          "output_type": "stream",
          "text": [
            "train acc=0.9987980769230769, [l1_loss, ce_loss] => [0.4376690204326923, 0.375, 0.16142390324519232, 1.0693359375, 0.29062124399038464]\n",
            "Epoch: 22, loss: 2.3338, lr: 0.00000128\n"
          ]
        },
        {
          "name": "stderr",
          "output_type": "stream",
          "text": [
            "epoch 23: 100%|██████████| 13/13 [00:28<00:00,  2.20s/it, cur_loss=2.23]\n"
          ]
        },
        {
          "name": "stdout",
          "output_type": "stream",
          "text": [
            "train acc=0.9987980769230769, [l1_loss, ce_loss] => [0.4369929387019231, 0.375, 0.15760216346153846, 1.0609224759615385, 0.28052696814903844]\n",
            "Epoch: 23, loss: 2.3113, lr: 0.00000095\n"
          ]
        },
        {
          "name": "stderr",
          "output_type": "stream",
          "text": [
            "epoch 24: 100%|██████████| 13/13 [00:28<00:00,  2.20s/it, cur_loss=2.29]\n"
          ]
        },
        {
          "name": "stdout",
          "output_type": "stream",
          "text": [
            "train acc=0.9987980769230769, [l1_loss, ce_loss] => [0.43588491586538464, 0.37569486177884615, 0.16033466045673078, 1.0565655048076923, 0.2801325871394231]\n",
            "Epoch: 24, loss: 2.3087, lr: 0.00000067\n"
          ]
        },
        {
          "name": "stderr",
          "output_type": "stream",
          "text": [
            "epoch 25: 100%|██████████| 13/13 [00:28<00:00,  2.20s/it, cur_loss=2.24]\n"
          ]
        },
        {
          "name": "stdout",
          "output_type": "stream",
          "text": [
            "train acc=0.9987980769230769, [l1_loss, ce_loss] => [0.43492713341346156, 0.37490609975961536, 0.15855055588942307, 1.0579176682692308, 0.2803955078125]\n",
            "Epoch: 25, loss: 2.3066, lr: 0.00000043\n"
          ]
        },
        {
          "name": "stderr",
          "output_type": "stream",
          "text": [
            "epoch 26: 100%|██████████| 13/13 [00:28<00:00,  2.21s/it, cur_loss=2.32]\n"
          ]
        },
        {
          "name": "stdout",
          "output_type": "stream",
          "text": [
            "train acc=0.9987980769230769, [l1_loss, ce_loss] => [0.43810096153846156, 0.3742487980769231, 0.16056002103365385, 1.0725661057692308, 0.2905836838942308]\n",
            "Epoch: 26, loss: 2.3362, lr: 0.00000024\n"
          ]
        },
        {
          "name": "stderr",
          "output_type": "stream",
          "text": [
            "epoch 27: 100%|██████████| 13/13 [00:28<00:00,  2.20s/it, cur_loss=2.29]\n"
          ]
        },
        {
          "name": "stdout",
          "output_type": "stream",
          "text": [
            "train acc=0.9987980769230769, [l1_loss, ce_loss] => [0.4365985576923077, 0.3760516826923077, 0.1609825721153846, 1.0569035456730769, 0.2833064152644231]\n",
            "Epoch: 27, loss: 2.3139, lr: 0.00000011\n"
          ]
        },
        {
          "name": "stderr",
          "output_type": "stream",
          "text": [
            "epoch 28: 100%|██████████| 13/13 [00:28<00:00,  2.20s/it, cur_loss=2.31]\n"
          ]
        },
        {
          "name": "stdout",
          "output_type": "stream",
          "text": [
            "train acc=0.9987980769230769, [l1_loss, ce_loss] => [0.43686147836538464, 0.37563852163461536, 0.16062575120192307, 1.0562650240384615, 0.2877854567307692]\n",
            "Epoch: 28, loss: 2.3176, lr: 0.00000003\n"
          ]
        },
        {
          "name": "stderr",
          "output_type": "stream",
          "text": [
            "epoch 29: 100%|██████████| 13/13 [00:28<00:00,  2.20s/it, cur_loss=2.3] \n"
          ]
        },
        {
          "name": "stdout",
          "output_type": "stream",
          "text": [
            "train acc=0.9987980769230769, [l1_loss, ce_loss] => [0.43932166466346156, 0.37513146033653844, 0.16094501201923078, 1.0712139423076923, 0.2866023137019231]\n",
            "Epoch: 29, loss: 2.3331, lr: 0.00000000\n",
            "Training complete!\n"
          ]
        },
        {
          "name": "stderr",
          "output_type": "stream",
          "text": [
            "Evaluate: 100%|██████████| 22/22 [00:11<00:00,  1.94it/s]\n"
          ]
        },
        {
          "name": "stdout",
          "output_type": "stream",
          "text": [
            "\n",
            "Test F1-macro:  0.9718008693062953\n",
            "#######################################\n",
            "\n",
            "Iteration:  1\n",
            "\n",
            "#######################################\n",
            "Training non-few shot model...\n",
            "Train dataset size:  88\n",
            "Test dataset size:  22\n",
            "Epoch 1/10\n",
            "  Training Loss: 3.8759\n",
            "Epoch 2/10\n",
            "  Training Loss: 3.8065\n",
            "Epoch 3/10\n",
            "  Training Loss: 3.8088\n",
            "Epoch 4/10\n",
            "  Training Loss: 3.8083\n",
            "Epoch 5/10\n",
            "  Training Loss: 3.8071\n",
            "Epoch 6/10\n",
            "  Training Loss: 3.8070\n",
            "Epoch 7/10\n",
            "  Training Loss: 3.8095\n",
            "Epoch 8/10\n",
            "  Training Loss: 3.8057\n",
            "Epoch 9/10\n",
            "  Training Loss: 3.8067\n",
            "Epoch 10/10\n",
            "  Training Loss: 3.8066\n",
            "Training complete!\n",
            "\n",
            "Test F1-macro:  0.011594844706602082\n",
            "##########################################\n",
            "2025-06-10 22:05:42 Getting cached textual weights W ...\n",
            "2025-06-10 22:05:42 Loading texture features from ./__few_shot_cache__\\belgian_dataset_ViT-B/16_textfeats.pt\n",
            "\n",
            "#######################################\n",
            "Training few-shot model...\n",
            "Train dataset size:  13\n",
            "Test dataset size:  22\n"
          ]
        },
        {
          "name": "stderr",
          "output_type": "stream",
          "text": [
            "epoch 0: 100%|██████████| 13/13 [00:45<00:00,  3.51s/it, cur_loss=11.3]\n"
          ]
        },
        {
          "name": "stdout",
          "output_type": "stream",
          "text": [
            "train acc=0.18629807692307693, [l1_loss, ce_loss] => [5.8373272235576925, 0.3252704326923077, 3.517578125, 3.823467548076923, 3.6368689903846154]\n",
            "Epoch: 0, loss: 17.1394, lr: 0.00000997\n"
          ]
        },
        {
          "name": "stderr",
          "output_type": "stream",
          "text": [
            "epoch 1: 100%|██████████| 13/13 [00:52<00:00,  4.05s/it, cur_loss=9.11]\n"
          ]
        },
        {
          "name": "stdout",
          "output_type": "stream",
          "text": [
            "train acc=0.49759615384615385, [l1_loss, ce_loss] => [0.71875, 0.3375713641826923, 2.5555889423076925, 3.3969350961538463, 2.8973858173076925]\n",
            "Epoch: 1, loss: 9.9056, lr: 0.00000989\n"
          ]
        },
        {
          "name": "stderr",
          "output_type": "stream",
          "text": [
            "epoch 2: 100%|██████████| 13/13 [00:52<00:00,  4.05s/it, cur_loss=7.58]\n"
          ]
        },
        {
          "name": "stdout",
          "output_type": "stream",
          "text": [
            "train acc=0.75, [l1_loss, ce_loss] => [0.64453125, 0.3458721454326923, 1.9579326923076923, 3.0713641826923075, 2.3338341346153846]\n",
            "Epoch: 2, loss: 8.3537, lr: 0.00000976\n"
          ]
        },
        {
          "name": "stderr",
          "output_type": "stream",
          "text": [
            "epoch 3: 100%|██████████| 13/13 [00:51<00:00,  3.96s/it, cur_loss=6.47]\n"
          ]
        },
        {
          "name": "stdout",
          "output_type": "stream",
          "text": [
            "train acc=0.8725961538461539, [l1_loss, ce_loss] => [0.6467472956730769, 0.35526216947115385, 1.5289212740384615, 2.791316105769231, 1.8275240384615385]\n",
            "Epoch: 3, loss: 7.1493, lr: 0.00000957\n"
          ]
        },
        {
          "name": "stderr",
          "output_type": "stream",
          "text": [
            "epoch 4: 100%|██████████| 13/13 [00:51<00:00,  3.97s/it, cur_loss=5.8] \n"
          ]
        },
        {
          "name": "stdout",
          "output_type": "stream",
          "text": [
            "train acc=0.9350961538461539, [l1_loss, ce_loss] => [0.6163611778846154, 0.3608961838942308, 1.1895658052884615, 2.5561899038461537, 1.4248046875]\n",
            "Epoch: 4, loss: 6.1472, lr: 0.00000933\n"
          ]
        },
        {
          "name": "stderr",
          "output_type": "stream",
          "text": [
            "epoch 5: 100%|██████████| 13/13 [00:52<00:00,  4.00s/it, cur_loss=4.97]\n"
          ]
        },
        {
          "name": "stdout",
          "output_type": "stream",
          "text": [
            "train acc=0.9735576923076923, [l1_loss, ce_loss] => [0.6167743389423077, 0.3669996995192308, 0.9341947115384616, 2.342097355769231, 1.1365309495192308]\n",
            "Epoch: 5, loss: 5.3969, lr: 0.00000905\n"
          ]
        },
        {
          "name": "stderr",
          "output_type": "stream",
          "text": [
            "epoch 6: 100%|██████████| 13/13 [00:53<00:00,  4.08s/it, cur_loss=4.45]\n"
          ]
        },
        {
          "name": "stdout",
          "output_type": "stream",
          "text": [
            "train acc=0.9819711538461539, [l1_loss, ce_loss] => [0.6042668269230769, 0.3700420673076923, 0.7406850961538461, 2.131159855769231, 0.9214242788461539]\n",
            "Epoch: 6, loss: 4.7677, lr: 0.00000872\n"
          ]
        },
        {
          "name": "stderr",
          "output_type": "stream",
          "text": [
            "epoch 7: 100%|██████████| 13/13 [00:52<00:00,  4.06s/it, cur_loss=4.07]\n"
          ]
        },
        {
          "name": "stdout",
          "output_type": "stream",
          "text": [
            "train acc=0.9951923076923077, [l1_loss, ce_loss] => [0.5769230769230769, 0.37436147836538464, 0.5941256009615384, 1.9630408653846154, 0.7635967548076923]\n",
            "Epoch: 7, loss: 4.2722, lr: 0.00000835\n"
          ]
        },
        {
          "name": "stderr",
          "output_type": "stream",
          "text": [
            "epoch 8: 100%|██████████| 13/13 [00:53<00:00,  4.12s/it, cur_loss=3.75]\n"
          ]
        },
        {
          "name": "stdout",
          "output_type": "stream",
          "text": [
            "train acc=0.9939903846153846, [l1_loss, ce_loss] => [0.5707632211538461, 0.3750187800480769, 0.47457181490384615, 1.8271484375, 0.6543719951923077]\n",
            "Epoch: 8, loss: 3.9016, lr: 0.00000794\n"
          ]
        },
        {
          "name": "stderr",
          "output_type": "stream",
          "text": [
            "epoch 9: 100%|██████████| 13/13 [00:52<00:00,  4.04s/it, cur_loss=3.38]\n"
          ]
        },
        {
          "name": "stdout",
          "output_type": "stream",
          "text": [
            "train acc=0.9975961538461539, [l1_loss, ce_loss] => [0.5575420673076923, 0.37930063100961536, 0.39071890024038464, 1.6983924278846154, 0.5612229567307693]\n",
            "Epoch: 9, loss: 3.5879, lr: 0.00000750\n"
          ]
        },
        {
          "name": "stderr",
          "output_type": "stream",
          "text": [
            "epoch 10: 100%|██████████| 13/13 [00:51<00:00,  3.97s/it, cur_loss=3.26]\n"
          ]
        },
        {
          "name": "stdout",
          "output_type": "stream",
          "text": [
            "train acc=1.0, [l1_loss, ce_loss] => [0.5374849759615384, 0.37952599158653844, 0.3310546875, 1.5701622596153846, 0.49076021634615385]\n",
            "Epoch: 10, loss: 3.3087, lr: 0.00000703\n"
          ]
        },
        {
          "name": "stderr",
          "output_type": "stream",
          "text": [
            "epoch 11: 100%|██████████| 13/13 [00:52<00:00,  4.04s/it, cur_loss=3.1] \n"
          ]
        },
        {
          "name": "stdout",
          "output_type": "stream",
          "text": [
            "train acc=0.9987980769230769, [l1_loss, ce_loss] => [0.5162071814903846, 0.37935697115384615, 0.2867901141826923, 1.4825721153846154, 0.43494591346153844]\n",
            "Epoch: 11, loss: 3.0998, lr: 0.00000655\n"
          ]
        },
        {
          "name": "stderr",
          "output_type": "stream",
          "text": [
            "epoch 12: 100%|██████████| 13/13 [00:51<00:00,  3.96s/it, cur_loss=2.86]\n"
          ]
        },
        {
          "name": "stdout",
          "output_type": "stream",
          "text": [
            "train acc=1.0, [l1_loss, ce_loss] => [0.5110990084134616, 0.38198617788461536, 0.2577655498798077, 1.4108323317307692, 0.4009540264423077]\n",
            "Epoch: 12, loss: 2.9629, lr: 0.00000604\n"
          ]
        },
        {
          "name": "stderr",
          "output_type": "stream",
          "text": [
            "epoch 13: 100%|██████████| 13/13 [00:52<00:00,  4.02s/it, cur_loss=2.79]\n"
          ]
        },
        {
          "name": "stdout",
          "output_type": "stream",
          "text": [
            "train acc=1.0, [l1_loss, ce_loss] => [0.4940655048076923, 0.3819110576923077, 0.23934232271634615, 1.3594501201923077, 0.37924429086538464]\n",
            "Epoch: 13, loss: 2.8540, lr: 0.00000552\n"
          ]
        },
        {
          "name": "stderr",
          "output_type": "stream",
          "text": [
            "epoch 14: 100%|██████████| 13/13 [00:51<00:00,  4.00s/it, cur_loss=2.68]\n"
          ]
        },
        {
          "name": "stdout",
          "output_type": "stream",
          "text": [
            "train acc=1.0, [l1_loss, ce_loss] => [0.4816143329326923, 0.38204251802884615, 0.2173133263221154, 1.3098707932692308, 0.35146859975961536]\n",
            "Epoch: 14, loss: 2.7425, lr: 0.00000500\n"
          ]
        },
        {
          "name": "stderr",
          "output_type": "stream",
          "text": [
            "epoch 15: 100%|██████████| 13/13 [00:51<00:00,  3.92s/it, cur_loss=2.59]\n"
          ]
        },
        {
          "name": "stdout",
          "output_type": "stream",
          "text": [
            "train acc=1.0, [l1_loss, ce_loss] => [0.4749098557692308, 0.38294396033653844, 0.19919996995192307, 1.2532301682692308, 0.3274676983173077]\n",
            "Epoch: 15, loss: 2.6379, lr: 0.00000448\n"
          ]
        },
        {
          "name": "stderr",
          "output_type": "stream",
          "text": [
            "epoch 16: 100%|██████████| 13/13 [00:51<00:00,  3.97s/it, cur_loss=2.59]\n"
          ]
        },
        {
          "name": "stdout",
          "output_type": "stream",
          "text": [
            "train acc=1.0, [l1_loss, ce_loss] => [0.46044921875, 0.38271859975961536, 0.1910118689903846, 1.2081580528846154, 0.3111572265625]\n",
            "Epoch: 16, loss: 2.5539, lr: 0.00000396\n"
          ]
        },
        {
          "name": "stderr",
          "output_type": "stream",
          "text": [
            "epoch 17: 100%|██████████| 13/13 [00:51<00:00,  3.98s/it, cur_loss=2.38]\n"
          ]
        },
        {
          "name": "stdout",
          "output_type": "stream",
          "text": [
            "train acc=1.0, [l1_loss, ce_loss] => [0.4571063701923077, 0.38271859975961536, 0.1830772986778846, 1.1904296875, 0.29935396634615385]\n",
            "Epoch: 17, loss: 2.5125, lr: 0.00000345\n"
          ]
        },
        {
          "name": "stderr",
          "output_type": "stream",
          "text": [
            "epoch 18: 100%|██████████| 13/13 [00:50<00:00,  3.85s/it, cur_loss=2.37]\n"
          ]
        },
        {
          "name": "stdout",
          "output_type": "stream",
          "text": [
            "train acc=1.0, [l1_loss, ce_loss] => [0.4516038161057692, 0.3825120192307692, 0.1749549278846154, 1.1656400240384615, 0.2926213191105769]\n",
            "Epoch: 18, loss: 2.4669, lr: 0.00000297\n"
          ]
        },
        {
          "name": "stderr",
          "output_type": "stream",
          "text": [
            "epoch 19: 100%|██████████| 13/13 [00:49<00:00,  3.81s/it, cur_loss=2.52]\n"
          ]
        },
        {
          "name": "stdout",
          "output_type": "stream",
          "text": [
            "train acc=1.0, [l1_loss, ce_loss] => [0.44983849158653844, 0.38247445913461536, 0.17052283653846154, 1.1433293269230769, 0.2858323317307692]\n",
            "Epoch: 19, loss: 2.4316, lr: 0.00000250\n"
          ]
        },
        {
          "name": "stderr",
          "output_type": "stream",
          "text": [
            "epoch 20: 100%|██████████| 13/13 [00:50<00:00,  3.87s/it, cur_loss=2.26]\n"
          ]
        },
        {
          "name": "stdout",
          "output_type": "stream",
          "text": [
            "train acc=1.0, [l1_loss, ce_loss] => [0.44495567908653844, 0.38232421875, 0.1668982872596154, 1.126953125, 0.2767991286057692]\n",
            "Epoch: 20, loss: 2.3977, lr: 0.00000206\n"
          ]
        },
        {
          "name": "stderr",
          "output_type": "stream",
          "text": [
            "epoch 21: 100%|██████████| 13/13 [00:51<00:00,  3.99s/it, cur_loss=2.29]\n"
          ]
        },
        {
          "name": "stdout",
          "output_type": "stream",
          "text": [
            "train acc=1.0, [l1_loss, ce_loss] => [0.4450495793269231, 0.3821364182692308, 0.16778094951923078, 1.1189152644230769, 0.2828181340144231]\n",
            "Epoch: 21, loss: 2.3972, lr: 0.00000165\n"
          ]
        },
        {
          "name": "stderr",
          "output_type": "stream",
          "text": [
            "epoch 22: 100%|██████████| 13/13 [00:51<00:00,  3.97s/it, cur_loss=2.28]\n"
          ]
        },
        {
          "name": "stdout",
          "output_type": "stream",
          "text": [
            "train acc=1.0, [l1_loss, ce_loss] => [0.4408616286057692, 0.3821551983173077, 0.16324556790865385, 1.1126802884615385, 0.27086463341346156]\n",
            "Epoch: 22, loss: 2.3696, lr: 0.00000128\n"
          ]
        },
        {
          "name": "stderr",
          "output_type": "stream",
          "text": [
            "epoch 23: 100%|██████████| 13/13 [00:50<00:00,  3.90s/it, cur_loss=2.46]\n"
          ]
        },
        {
          "name": "stdout",
          "output_type": "stream",
          "text": [
            "train acc=1.0, [l1_loss, ce_loss] => [0.43819486177884615, 0.3819110576923077, 0.15999661959134615, 1.1013371394230769, 0.2708082932692308]\n",
            "Epoch: 23, loss: 2.3523, lr: 0.00000095\n"
          ]
        },
        {
          "name": "stderr",
          "output_type": "stream",
          "text": [
            "epoch 24: 100%|██████████| 13/13 [00:49<00:00,  3.84s/it, cur_loss=2.36]\n"
          ]
        },
        {
          "name": "stdout",
          "output_type": "stream",
          "text": [
            "train acc=1.0, [l1_loss, ce_loss] => [0.4388897235576923, 0.3822678786057692, 0.1668419471153846, 1.1107271634615385, 0.2835693359375]\n",
            "Epoch: 24, loss: 2.3827, lr: 0.00000067\n"
          ]
        },
        {
          "name": "stderr",
          "output_type": "stream",
          "text": [
            "epoch 25: 100%|██████████| 13/13 [00:49<00:00,  3.84s/it, cur_loss=2.3] \n"
          ]
        },
        {
          "name": "stdout",
          "output_type": "stream",
          "text": [
            "train acc=1.0, [l1_loss, ce_loss] => [0.4395282451923077, 0.3832820012019231, 0.1654052734375, 1.1129807692307692, 0.2833251953125]\n",
            "Epoch: 25, loss: 2.3845, lr: 0.00000043\n"
          ]
        },
        {
          "name": "stderr",
          "output_type": "stream",
          "text": [
            "epoch 26: 100%|██████████| 13/13 [42:09<00:00, 194.56s/it, cur_loss=2.38] \n"
          ]
        },
        {
          "name": "stdout",
          "output_type": "stream",
          "text": [
            "train acc=1.0, [l1_loss, ce_loss] => [0.4380634014423077, 0.38196739783653844, 0.16322678786057693, 1.1033653846153846, 0.27559720552884615]\n",
            "Epoch: 26, loss: 2.3622, lr: 0.00000024\n"
          ]
        },
        {
          "name": "stderr",
          "output_type": "stream",
          "text": [
            "epoch 27: 100%|██████████| 13/13 [00:48<00:00,  3.73s/it, cur_loss=2.35]\n"
          ]
        },
        {
          "name": "stdout",
          "output_type": "stream",
          "text": [
            "train acc=1.0, [l1_loss, ce_loss] => [0.43721829927884615, 0.3825495793269231, 0.1631798377403846, 1.0929987980769231, 0.27438589242788464]\n",
            "Epoch: 27, loss: 2.3502, lr: 0.00000011\n"
          ]
        },
        {
          "name": "stderr",
          "output_type": "stream",
          "text": [
            "epoch 28: 100%|██████████| 13/13 [00:48<00:00,  3.73s/it, cur_loss=2.42]\n"
          ]
        },
        {
          "name": "stdout",
          "output_type": "stream",
          "text": [
            "train acc=1.0, [l1_loss, ce_loss] => [0.43746243990384615, 0.38194861778846156, 0.1625037560096154, 1.1031400240384615, 0.27293982872596156]\n",
            "Epoch: 28, loss: 2.3582, lr: 0.00000003\n"
          ]
        },
        {
          "name": "stderr",
          "output_type": "stream",
          "text": [
            "epoch 29: 100%|██████████| 13/13 [00:48<00:00,  3.73s/it, cur_loss=2.49]\n"
          ]
        },
        {
          "name": "stdout",
          "output_type": "stream",
          "text": [
            "train acc=1.0, [l1_loss, ce_loss] => [0.43857046274038464, 0.38187349759615385, 0.1633019080528846, 1.0998347355769231, 0.2767897385817308]\n",
            "Epoch: 29, loss: 2.3604, lr: 0.00000000\n",
            "Training complete!\n"
          ]
        },
        {
          "name": "stderr",
          "output_type": "stream",
          "text": [
            "Evaluate: 100%|██████████| 22/22 [00:13<00:00,  1.63it/s]\n"
          ]
        },
        {
          "name": "stdout",
          "output_type": "stream",
          "text": [
            "\n",
            "Test F1-macro:  0.9824690337082286\n",
            "#######################################\n",
            "\n",
            "Iteration:  2\n",
            "\n",
            "#######################################\n",
            "Training non-few shot model...\n",
            "Train dataset size:  88\n",
            "Test dataset size:  22\n",
            "Epoch 1/10\n",
            "  Training Loss: 3.8571\n",
            "Epoch 2/10\n",
            "  Training Loss: 3.8084\n",
            "Epoch 3/10\n",
            "  Training Loss: 3.8062\n",
            "Epoch 4/10\n",
            "  Training Loss: 3.8064\n",
            "Epoch 5/10\n",
            "  Training Loss: 3.8065\n",
            "Epoch 6/10\n",
            "  Training Loss: 3.8069\n",
            "Epoch 7/10\n",
            "  Training Loss: 3.8041\n",
            "Epoch 8/10\n",
            "  Training Loss: 3.7258\n",
            "Epoch 9/10\n",
            "  Training Loss: 3.7199\n",
            "Epoch 10/10\n",
            "  Training Loss: 3.6122\n",
            "Training complete!\n",
            "\n",
            "Test F1-macro:  0.09070046461554505\n",
            "##########################################\n",
            "2025-06-10 23:15:21 Getting cached textual weights W ...\n",
            "2025-06-10 23:15:21 Loading texture features from ./__few_shot_cache__\\belgian_dataset_ViT-B/16_textfeats.pt\n",
            "\n",
            "#######################################\n",
            "Training few-shot model...\n",
            "Train dataset size:  13\n",
            "Test dataset size:  22\n"
          ]
        },
        {
          "name": "stderr",
          "output_type": "stream",
          "text": [
            "epoch 0: 100%|██████████| 13/13 [00:30<00:00,  2.37s/it, cur_loss=11]  \n"
          ]
        },
        {
          "name": "stdout",
          "output_type": "stream",
          "text": [
            "train acc=0.16466346153846154, [l1_loss, ce_loss] => [6.291391225961538, 0.310791015625, 3.548527644230769, 3.7916165865384617, 3.6376201923076925]\n",
            "Epoch: 0, loss: 17.5811, lr: 0.00000997\n"
          ]
        },
        {
          "name": "stderr",
          "output_type": "stream",
          "text": [
            "epoch 1: 100%|██████████| 13/13 [00:33<00:00,  2.56s/it, cur_loss=9.21]\n"
          ]
        },
        {
          "name": "stdout",
          "output_type": "stream",
          "text": [
            "train acc=0.5420673076923077, [l1_loss, ce_loss] => [0.7136418269230769, 0.31944861778846156, 2.5821814903846154, 3.3637319711538463, 2.9154146634615383]\n",
            "Epoch: 1, loss: 9.8942, lr: 0.00000989\n"
          ]
        },
        {
          "name": "stderr",
          "output_type": "stream",
          "text": [
            "epoch 2: 100%|██████████| 13/13 [00:32<00:00,  2.48s/it, cur_loss=7.42]\n"
          ]
        },
        {
          "name": "stdout",
          "output_type": "stream",
          "text": [
            "train acc=0.7596153846153846, [l1_loss, ce_loss] => [0.5922475961538461, 0.32436899038461536, 1.9665715144230769, 3.0458233173076925, 2.3804086538461537]\n",
            "Epoch: 2, loss: 8.3086, lr: 0.00000976\n"
          ]
        },
        {
          "name": "stderr",
          "output_type": "stream",
          "text": [
            "epoch 3: 100%|██████████| 13/13 [00:32<00:00,  2.52s/it, cur_loss=6.43]\n"
          ]
        },
        {
          "name": "stdout",
          "output_type": "stream",
          "text": [
            "train acc=0.8978365384615384, [l1_loss, ce_loss] => [0.5946514423076923, 0.3318434495192308, 1.5212590144230769, 2.7572115384615383, 1.9223257211538463]\n",
            "Epoch: 3, loss: 7.1277, lr: 0.00000957\n"
          ]
        },
        {
          "name": "stderr",
          "output_type": "stream",
          "text": [
            "epoch 4: 100%|██████████| 13/13 [00:32<00:00,  2.53s/it, cur_loss=5.63]\n"
          ]
        },
        {
          "name": "stdout",
          "output_type": "stream",
          "text": [
            "train acc=0.9507211538461539, [l1_loss, ce_loss] => [0.5774489182692307, 0.33798452524038464, 1.1962139423076923, 2.51953125, 1.5612980769230769]\n",
            "Epoch: 4, loss: 6.1923, lr: 0.00000933\n"
          ]
        },
        {
          "name": "stderr",
          "output_type": "stream",
          "text": [
            "epoch 5: 100%|██████████| 13/13 [00:32<00:00,  2.52s/it, cur_loss=5.08]\n"
          ]
        },
        {
          "name": "stdout",
          "output_type": "stream",
          "text": [
            "train acc=0.96875, [l1_loss, ce_loss] => [0.5737680288461539, 0.34335561899038464, 0.9563551682692307, 2.3204627403846154, 1.2757662259615385]\n",
            "Epoch: 5, loss: 5.4694, lr: 0.00000905\n"
          ]
        },
        {
          "name": "stderr",
          "output_type": "stream",
          "text": [
            "epoch 6: 100%|██████████| 13/13 [00:32<00:00,  2.47s/it, cur_loss=4.76]\n"
          ]
        },
        {
          "name": "stdout",
          "output_type": "stream",
          "text": [
            "train acc=0.9759615384615384, [l1_loss, ce_loss] => [0.5735802283653846, 0.3471867487980769, 0.7659254807692307, 2.10546875, 1.0419546274038463]\n",
            "Epoch: 6, loss: 4.8344, lr: 0.00000872\n"
          ]
        },
        {
          "name": "stderr",
          "output_type": "stream",
          "text": [
            "epoch 7: 100%|██████████| 13/13 [00:32<00:00,  2.48s/it, cur_loss=4.03]\n"
          ]
        },
        {
          "name": "stdout",
          "output_type": "stream",
          "text": [
            "train acc=0.9867788461538461, [l1_loss, ce_loss] => [0.5598707932692307, 0.3503981370192308, 0.6274977463942307, 1.9461388221153846, 0.8795072115384616]\n",
            "Epoch: 7, loss: 4.3631, lr: 0.00000835\n"
          ]
        },
        {
          "name": "stderr",
          "output_type": "stream",
          "text": [
            "epoch 8: 100%|██████████| 13/13 [00:32<00:00,  2.52s/it, cur_loss=3.75]\n"
          ]
        },
        {
          "name": "stdout",
          "output_type": "stream",
          "text": [
            "train acc=0.9819711538461539, [l1_loss, ce_loss] => [0.5428560697115384, 0.3527080829326923, 0.5092022235576923, 1.7735877403846154, 0.7314077524038461]\n",
            "Epoch: 8, loss: 3.9102, lr: 0.00000794\n"
          ]
        },
        {
          "name": "stderr",
          "output_type": "stream",
          "text": [
            "epoch 9: 100%|██████████| 13/13 [00:32<00:00,  2.51s/it, cur_loss=3.49]\n"
          ]
        },
        {
          "name": "stdout",
          "output_type": "stream",
          "text": [
            "train acc=0.9867788461538461, [l1_loss, ce_loss] => [0.5295222355769231, 0.35317758413461536, 0.41768704927884615, 1.6362680288461537, 0.6312725360576923]\n",
            "Epoch: 9, loss: 3.5678, lr: 0.00000750\n"
          ]
        },
        {
          "name": "stderr",
          "output_type": "stream",
          "text": [
            "epoch 10: 100%|██████████| 13/13 [00:32<00:00,  2.51s/it, cur_loss=3.47]\n"
          ]
        },
        {
          "name": "stdout",
          "output_type": "stream",
          "text": [
            "train acc=0.9891826923076923, [l1_loss, ce_loss] => [0.5048076923076923, 0.35330904447115385, 0.3566143329326923, 1.5262169471153846, 0.5420109675480769]\n",
            "Epoch: 10, loss: 3.2831, lr: 0.00000703\n"
          ]
        },
        {
          "name": "stderr",
          "output_type": "stream",
          "text": [
            "epoch 11: 100%|██████████| 13/13 [00:33<00:00,  2.56s/it, cur_loss=2.99]\n"
          ]
        },
        {
          "name": "stdout",
          "output_type": "stream",
          "text": [
            "train acc=0.9987980769230769, [l1_loss, ce_loss] => [0.4921123798076923, 0.3554124098557692, 0.31210561899038464, 1.4331430288461537, 0.4865910456730769]\n",
            "Epoch: 11, loss: 3.0793, lr: 0.00000655\n"
          ]
        },
        {
          "name": "stderr",
          "output_type": "stream",
          "text": [
            "epoch 12: 100%|██████████| 13/13 [00:33<00:00,  2.61s/it, cur_loss=2.97]\n"
          ]
        },
        {
          "name": "stdout",
          "output_type": "stream",
          "text": [
            "train acc=0.9963942307692307, [l1_loss, ce_loss] => [0.4828538161057692, 0.35616361177884615, 0.2824894831730769, 1.3684645432692308, 0.4522235576923077]\n",
            "Epoch: 12, loss: 2.9422, lr: 0.00000604\n"
          ]
        },
        {
          "name": "stderr",
          "output_type": "stream",
          "text": [
            "epoch 13: 100%|██████████| 13/13 [00:34<00:00,  2.64s/it, cur_loss=2.82]\n"
          ]
        },
        {
          "name": "stdout",
          "output_type": "stream",
          "text": [
            "train acc=0.9987980769230769, [l1_loss, ce_loss] => [0.4747971754807692, 0.3571213942307692, 0.2512864332932692, 1.3019080528846154, 0.40401517427884615]\n",
            "Epoch: 13, loss: 2.7895, lr: 0.00000552\n"
          ]
        },
        {
          "name": "stderr",
          "output_type": "stream",
          "text": [
            "epoch 14: 100%|██████████| 13/13 [00:33<00:00,  2.56s/it, cur_loss=2.71]\n"
          ]
        },
        {
          "name": "stdout",
          "output_type": "stream",
          "text": [
            "train acc=0.9975961538461539, [l1_loss, ce_loss] => [0.47006460336538464, 0.3571965144230769, 0.2323279747596154, 1.24609375, 0.3788311298076923]\n",
            "Epoch: 14, loss: 2.6846, lr: 0.00000500\n"
          ]
        },
        {
          "name": "stderr",
          "output_type": "stream",
          "text": [
            "epoch 15: 100%|██████████| 13/13 [00:33<00:00,  2.57s/it, cur_loss=2.78]\n"
          ]
        },
        {
          "name": "stdout",
          "output_type": "stream",
          "text": [
            "train acc=0.9987980769230769, [l1_loss, ce_loss] => [0.45522836538461536, 0.35721529447115385, 0.21744478665865385, 1.2024489182692308, 0.35287710336538464]\n",
            "Epoch: 15, loss: 2.5849, lr: 0.00000448\n"
          ]
        },
        {
          "name": "stderr",
          "output_type": "stream",
          "text": [
            "epoch 16: 100%|██████████| 13/13 [00:34<00:00,  2.63s/it, cur_loss=2.51]\n"
          ]
        },
        {
          "name": "stdout",
          "output_type": "stream",
          "text": [
            "train acc=0.9987980769230769, [l1_loss, ce_loss] => [0.45712515024038464, 0.35787259615384615, 0.21026141826923078, 1.1829176682692308, 0.34705528846153844]\n",
            "Epoch: 16, loss: 2.5550, lr: 0.00000396\n"
          ]
        },
        {
          "name": "stderr",
          "output_type": "stream",
          "text": [
            "epoch 17: 100%|██████████| 13/13 [00:34<00:00,  2.63s/it, cur_loss=2.51]\n"
          ]
        },
        {
          "name": "stdout",
          "output_type": "stream",
          "text": [
            "train acc=0.9987980769230769, [l1_loss, ce_loss] => [0.44873046875, 0.3573655348557692, 0.19920935997596154, 1.1490384615384615, 0.3286320612980769]\n",
            "Epoch: 17, loss: 2.4830, lr: 0.00000345\n"
          ]
        },
        {
          "name": "stderr",
          "output_type": "stream",
          "text": [
            "epoch 18: 100%|██████████| 13/13 [00:33<00:00,  2.56s/it, cur_loss=2.41]\n"
          ]
        },
        {
          "name": "stdout",
          "output_type": "stream",
          "text": [
            "train acc=0.9987980769230769, [l1_loss, ce_loss] => [0.44234525240384615, 0.3582294170673077, 0.1909461388221154, 1.1196664663461537, 0.31533578725961536]\n",
            "Epoch: 18, loss: 2.4264, lr: 0.00000297\n"
          ]
        },
        {
          "name": "stderr",
          "output_type": "stream",
          "text": [
            "epoch 19: 100%|██████████| 13/13 [00:33<00:00,  2.59s/it, cur_loss=2.35]\n"
          ]
        },
        {
          "name": "stdout",
          "output_type": "stream",
          "text": [
            "train acc=0.9987980769230769, [l1_loss, ce_loss] => [0.4402606670673077, 0.3569148137019231, 0.19087101862980768, 1.1193659855769231, 0.31631234975961536]\n",
            "Epoch: 19, loss: 2.4234, lr: 0.00000250\n"
          ]
        },
        {
          "name": "stderr",
          "output_type": "stream",
          "text": [
            "epoch 20: 100%|██████████| 13/13 [00:34<00:00,  2.63s/it, cur_loss=2.5] \n"
          ]
        },
        {
          "name": "stdout",
          "output_type": "stream",
          "text": [
            "train acc=0.9987980769230769, [l1_loss, ce_loss] => [0.437744140625, 0.3566143329326923, 0.18482384314903846, 1.1045673076923077, 0.30630258413461536]\n",
            "Epoch: 20, loss: 2.3897, lr: 0.00000206\n"
          ]
        },
        {
          "name": "stderr",
          "output_type": "stream",
          "text": [
            "epoch 21: 100%|██████████| 13/13 [00:34<00:00,  2.63s/it, cur_loss=2.26]\n"
          ]
        },
        {
          "name": "stdout",
          "output_type": "stream",
          "text": [
            "train acc=0.9987980769230769, [l1_loss, ce_loss] => [0.43282376802884615, 0.35706505408653844, 0.18036358173076922, 1.0863882211538463, 0.2963303786057692]\n",
            "Epoch: 21, loss: 2.3531, lr: 0.00000165\n"
          ]
        },
        {
          "name": "stderr",
          "output_type": "stream",
          "text": [
            "epoch 22: 100%|██████████| 13/13 [00:33<00:00,  2.58s/it, cur_loss=2.23]\n"
          ]
        },
        {
          "name": "stdout",
          "output_type": "stream",
          "text": [
            "train acc=1.0, [l1_loss, ce_loss] => [0.43079552283653844, 0.35678335336538464, 0.18003493088942307, 1.0788762019230769, 0.296142578125]\n",
            "Epoch: 22, loss: 2.3424, lr: 0.00000128\n"
          ]
        },
        {
          "name": "stderr",
          "output_type": "stream",
          "text": [
            "epoch 23: 100%|██████████| 13/13 [00:33<00:00,  2.59s/it, cur_loss=2.36]\n"
          ]
        },
        {
          "name": "stdout",
          "output_type": "stream",
          "text": [
            "train acc=0.9987980769230769, [l1_loss, ce_loss] => [0.43013822115384615, 0.3562762920673077, 0.17730243389423078, 1.0708383413461537, 0.2965745192307692]\n",
            "Epoch: 23, loss: 2.3311, lr: 0.00000095\n"
          ]
        },
        {
          "name": "stderr",
          "output_type": "stream",
          "text": [
            "epoch 24: 100%|██████████| 13/13 [00:34<00:00,  2.66s/it, cur_loss=2.44]\n"
          ]
        },
        {
          "name": "stdout",
          "output_type": "stream",
          "text": [
            "train acc=0.9987980769230769, [l1_loss, ce_loss] => [0.4280536358173077, 0.35693359375, 0.176513671875, 1.0682091346153846, 0.2882831280048077]\n",
            "Epoch: 24, loss: 2.3185, lr: 0.00000067\n"
          ]
        },
        {
          "name": "stderr",
          "output_type": "stream",
          "text": [
            "epoch 25: 100%|██████████| 13/13 [00:34<00:00,  2.64s/it, cur_loss=2.33]\n"
          ]
        },
        {
          "name": "stdout",
          "output_type": "stream",
          "text": [
            "train acc=1.0, [l1_loss, ce_loss] => [0.4288987379807692, 0.35591947115384615, 0.1779503455528846, 1.0735426682692308, 0.29320350060096156]\n",
            "Epoch: 25, loss: 2.3292, lr: 0.00000043\n"
          ]
        },
        {
          "name": "stderr",
          "output_type": "stream",
          "text": [
            "epoch 26: 100%|██████████| 13/13 [00:33<00:00,  2.59s/it, cur_loss=2.28]\n"
          ]
        },
        {
          "name": "stdout",
          "output_type": "stream",
          "text": [
            "train acc=0.9963942307692307, [l1_loss, ce_loss] => [0.4294245793269231, 0.3565016526442308, 0.18148099459134615, 1.0767728365384615, 0.30126953125]\n",
            "Epoch: 26, loss: 2.3451, lr: 0.00000024\n"
          ]
        },
        {
          "name": "stderr",
          "output_type": "stream",
          "text": [
            "epoch 27: 100%|██████████| 13/13 [00:33<00:00,  2.59s/it, cur_loss=2.22]\n"
          ]
        },
        {
          "name": "stdout",
          "output_type": "stream",
          "text": [
            "train acc=1.0, [l1_loss, ce_loss] => [0.42882361778846156, 0.35689603365384615, 0.17878605769230768, 1.07421875, 0.29857459435096156]\n",
            "Epoch: 27, loss: 2.3374, lr: 0.00000011\n"
          ]
        },
        {
          "name": "stderr",
          "output_type": "stream",
          "text": [
            "epoch 28: 100%|██████████| 13/13 [00:34<00:00,  2.64s/it, cur_loss=2.15]\n"
          ]
        },
        {
          "name": "stdout",
          "output_type": "stream",
          "text": [
            "train acc=1.0, [l1_loss, ce_loss] => [0.4290301983173077, 0.35704627403846156, 0.17644794170673078, 1.0715144230769231, 0.2951096754807692]\n",
            "Epoch: 28, loss: 2.3293, lr: 0.00000003\n"
          ]
        },
        {
          "name": "stderr",
          "output_type": "stream",
          "text": [
            "epoch 29: 100%|██████████| 13/13 [00:34<00:00,  2.64s/it, cur_loss=2.38]\n"
          ]
        },
        {
          "name": "stdout",
          "output_type": "stream",
          "text": [
            "train acc=0.9987980769230769, [l1_loss, ce_loss] => [0.4291240985576923, 0.35648287259615385, 0.17635404146634615, 1.0719651442307692, 0.29202035757211536]\n",
            "Epoch: 29, loss: 2.3260, lr: 0.00000000\n",
            "Training complete!\n"
          ]
        },
        {
          "name": "stderr",
          "output_type": "stream",
          "text": [
            "Evaluate: 100%|██████████| 22/22 [00:10<00:00,  2.03it/s]\n"
          ]
        },
        {
          "name": "stdout",
          "output_type": "stream",
          "text": [
            "\n",
            "Test F1-macro:  0.9795448398974649\n",
            "#######################################\n",
            "\n",
            "Iteration:  3\n",
            "\n",
            "#######################################\n",
            "Training non-few shot model...\n",
            "Train dataset size:  88\n",
            "Test dataset size:  22\n",
            "Epoch 1/10\n",
            "  Training Loss: 3.8441\n",
            "Epoch 2/10\n",
            "  Training Loss: 3.8072\n",
            "Epoch 3/10\n",
            "  Training Loss: 3.8103\n",
            "Epoch 4/10\n",
            "  Training Loss: 3.8048\n",
            "Epoch 5/10\n",
            "  Training Loss: 3.8072\n",
            "Epoch 6/10\n",
            "  Training Loss: 3.8054\n",
            "Epoch 7/10\n",
            "  Training Loss: 3.8082\n",
            "Epoch 8/10\n",
            "  Training Loss: 3.8069\n",
            "Epoch 9/10\n",
            "  Training Loss: 3.7866\n",
            "Epoch 10/10\n",
            "  Training Loss: 3.7228\n",
            "Training complete!\n",
            "\n",
            "Test F1-macro:  0.031878723192016276\n",
            "##########################################\n",
            "2025-06-10 23:34:46 Getting cached textual weights W ...\n",
            "2025-06-10 23:34:46 Loading texture features from ./__few_shot_cache__\\belgian_dataset_ViT-B/16_textfeats.pt\n",
            "\n",
            "#######################################\n",
            "Training few-shot model...\n",
            "Train dataset size:  13\n",
            "Test dataset size:  22\n"
          ]
        },
        {
          "name": "stderr",
          "output_type": "stream",
          "text": [
            "epoch 0: 100%|██████████| 13/13 [00:31<00:00,  2.44s/it, cur_loss=11.3]\n"
          ]
        },
        {
          "name": "stdout",
          "output_type": "stream",
          "text": [
            "train acc=0.18389423076923078, [l1_loss, ce_loss] => [5.907902644230769, 0.3464543269230769, 3.5169771634615383, 3.802734375, 3.6080228365384617]\n",
            "Epoch: 0, loss: 17.1797, lr: 0.00000997\n"
          ]
        },
        {
          "name": "stderr",
          "output_type": "stream",
          "text": [
            "epoch 1: 100%|██████████| 13/13 [00:33<00:00,  2.58s/it, cur_loss=9.25]\n"
          ]
        },
        {
          "name": "stdout",
          "output_type": "stream",
          "text": [
            "train acc=0.5889423076923077, [l1_loss, ce_loss] => [0.7667518028846154, 0.36243614783653844, 2.5297475961538463, 3.356219951923077, 2.823016826923077]\n",
            "Epoch: 1, loss: 9.8383, lr: 0.00000989\n"
          ]
        },
        {
          "name": "stderr",
          "output_type": "stream",
          "text": [
            "epoch 2: 100%|██████████| 13/13 [00:33<00:00,  2.58s/it, cur_loss=7.84]\n"
          ]
        },
        {
          "name": "stdout",
          "output_type": "stream",
          "text": [
            "train acc=0.7788461538461539, [l1_loss, ce_loss] => [0.6379206730769231, 0.37344125600961536, 1.9059495192307692, 3.0223858173076925, 2.2638221153846154]\n",
            "Epoch: 2, loss: 8.2040, lr: 0.00000976\n"
          ]
        },
        {
          "name": "stderr",
          "output_type": "stream",
          "text": [
            "epoch 3: 100%|██████████| 13/13 [00:33<00:00,  2.57s/it, cur_loss=6.47]\n"
          ]
        },
        {
          "name": "stdout",
          "output_type": "stream",
          "text": [
            "train acc=0.8774038461538461, [l1_loss, ce_loss] => [0.6110652043269231, 0.3798076923076923, 1.4595102163461537, 2.744891826923077, 1.7979266826923077]\n",
            "Epoch: 3, loss: 6.9925, lr: 0.00000957\n"
          ]
        },
        {
          "name": "stderr",
          "output_type": "stream",
          "text": [
            "epoch 4: 100%|██████████| 13/13 [00:33<00:00,  2.57s/it, cur_loss=5.64]\n"
          ]
        },
        {
          "name": "stdout",
          "output_type": "stream",
          "text": [
            "train acc=0.9302884615384616, [l1_loss, ce_loss] => [0.5979191706730769, 0.38724459134615385, 1.1302208533653846, 2.5073617788461537, 1.4141376201923077]\n",
            "Epoch: 4, loss: 6.0373, lr: 0.00000933\n"
          ]
        },
        {
          "name": "stderr",
          "output_type": "stream",
          "text": [
            "epoch 5: 100%|██████████| 13/13 [00:33<00:00,  2.59s/it, cur_loss=4.97]\n"
          ]
        },
        {
          "name": "stdout",
          "output_type": "stream",
          "text": [
            "train acc=0.9627403846153846, [l1_loss, ce_loss] => [0.5961162860576923, 0.39023061899038464, 0.8889723557692307, 2.274188701923077, 1.1295072115384615]\n",
            "Epoch: 5, loss: 5.2788, lr: 0.00000905\n"
          ]
        },
        {
          "name": "stderr",
          "output_type": "stream",
          "text": [
            "epoch 6: 100%|██████████| 13/13 [00:33<00:00,  2.57s/it, cur_loss=4.54]\n"
          ]
        },
        {
          "name": "stdout",
          "output_type": "stream",
          "text": [
            "train acc=0.9747596153846154, [l1_loss, ce_loss] => [0.5708759014423077, 0.39513221153846156, 0.7200270432692307, 2.052509014423077, 0.91845703125]\n",
            "Epoch: 6, loss: 4.6572, lr: 0.00000872\n"
          ]
        },
        {
          "name": "stderr",
          "output_type": "stream",
          "text": [
            "epoch 7: 100%|██████████| 13/13 [00:33<00:00,  2.58s/it, cur_loss=4.29]\n"
          ]
        },
        {
          "name": "stdout",
          "output_type": "stream",
          "text": [
            "train acc=0.9807692307692307, [l1_loss, ce_loss] => [0.5523212139423077, 0.39830603966346156, 0.5833834134615384, 1.8663611778846154, 0.7564227764423077]\n",
            "Epoch: 7, loss: 4.1566, lr: 0.00000835\n"
          ]
        },
        {
          "name": "stderr",
          "output_type": "stream",
          "text": [
            "epoch 8: 100%|██████████| 13/13 [00:33<00:00,  2.59s/it, cur_loss=3.47]\n"
          ]
        },
        {
          "name": "stdout",
          "output_type": "stream",
          "text": [
            "train acc=0.9855769230769231, [l1_loss, ce_loss] => [0.5291466346153846, 0.4006535456730769, 0.48099459134615385, 1.7067307692307692, 0.6427659254807693]\n",
            "Epoch: 8, loss: 3.7608, lr: 0.00000794\n"
          ]
        },
        {
          "name": "stderr",
          "output_type": "stream",
          "text": [
            "epoch 9: 100%|██████████| 13/13 [00:34<00:00,  2.62s/it, cur_loss=3.51]\n"
          ]
        },
        {
          "name": "stdout",
          "output_type": "stream",
          "text": [
            "train acc=0.9927884615384616, [l1_loss, ce_loss] => [0.5134652944711539, 0.40440955528846156, 0.3977614182692308, 1.5656550480769231, 0.5406400240384616]\n",
            "Epoch: 9, loss: 3.4220, lr: 0.00000750\n"
          ]
        },
        {
          "name": "stderr",
          "output_type": "stream",
          "text": [
            "epoch 10: 100%|██████████| 13/13 [00:33<00:00,  2.60s/it, cur_loss=2.89]\n"
          ]
        },
        {
          "name": "stdout",
          "output_type": "stream",
          "text": [
            "train acc=0.9975961538461539, [l1_loss, ce_loss] => [0.5051645132211539, 0.40360201322115385, 0.33926156850961536, 1.4461388221153846, 0.4738581730769231]\n",
            "Epoch: 10, loss: 3.1684, lr: 0.00000703\n"
          ]
        },
        {
          "name": "stderr",
          "output_type": "stream",
          "text": [
            "epoch 11: 100%|██████████| 13/13 [00:33<00:00,  2.59s/it, cur_loss=2.86]\n"
          ]
        },
        {
          "name": "stdout",
          "output_type": "stream",
          "text": [
            "train acc=0.9975961538461539, [l1_loss, ce_loss] => [0.4867600661057692, 0.4046161358173077, 0.295166015625, 1.3589993990384615, 0.423828125]\n",
            "Epoch: 11, loss: 2.9694, lr: 0.00000655\n"
          ]
        },
        {
          "name": "stderr",
          "output_type": "stream",
          "text": [
            "epoch 12: 100%|██████████| 13/13 [00:33<00:00,  2.60s/it, cur_loss=2.75]\n"
          ]
        },
        {
          "name": "stdout",
          "output_type": "stream",
          "text": [
            "train acc=0.9975961538461539, [l1_loss, ce_loss] => [0.48636568509615385, 0.40487905649038464, 0.2694561298076923, 1.2853816105769231, 0.3899489182692308]\n",
            "Epoch: 12, loss: 2.8361, lr: 0.00000604\n"
          ]
        },
        {
          "name": "stderr",
          "output_type": "stream",
          "text": [
            "epoch 13: 100%|██████████| 13/13 [00:33<00:00,  2.59s/it, cur_loss=2.66]\n"
          ]
        },
        {
          "name": "stdout",
          "output_type": "stream",
          "text": [
            "train acc=0.9987980769230769, [l1_loss, ce_loss] => [0.46536959134615385, 0.4052922175480769, 0.2426476111778846, 1.2183743990384615, 0.3542292668269231]\n",
            "Epoch: 13, loss: 2.6857, lr: 0.00000552\n"
          ]
        },
        {
          "name": "stderr",
          "output_type": "stream",
          "text": [
            "epoch 14: 100%|██████████| 13/13 [00:33<00:00,  2.60s/it, cur_loss=2.56]\n"
          ]
        },
        {
          "name": "stdout",
          "output_type": "stream",
          "text": [
            "train acc=1.0, [l1_loss, ce_loss] => [0.45761343149038464, 0.4036395733173077, 0.22229942908653846, 1.1734525240384615, 0.32882925180288464]\n",
            "Epoch: 14, loss: 2.5858, lr: 0.00000500\n"
          ]
        },
        {
          "name": "stderr",
          "output_type": "stream",
          "text": [
            "epoch 15: 100%|██████████| 13/13 [00:33<00:00,  2.58s/it, cur_loss=2.42]\n"
          ]
        },
        {
          "name": "stdout",
          "output_type": "stream",
          "text": [
            "train acc=1.0, [l1_loss, ce_loss] => [0.451171875, 0.40506685697115385, 0.21134127103365385, 1.1295823317307692, 0.3124248798076923]\n",
            "Epoch: 15, loss: 2.5095, lr: 0.00000448\n"
          ]
        },
        {
          "name": "stderr",
          "output_type": "stream",
          "text": [
            "epoch 16: 100%|██████████| 13/13 [00:33<00:00,  2.60s/it, cur_loss=2.46]\n"
          ]
        },
        {
          "name": "stdout",
          "output_type": "stream",
          "text": [
            "train acc=1.0, [l1_loss, ce_loss] => [0.44204477163461536, 0.40341421274038464, 0.1952185997596154, 1.0949143629807692, 0.29276216947115385]\n",
            "Epoch: 16, loss: 2.4282, lr: 0.00000396\n"
          ]
        },
        {
          "name": "stderr",
          "output_type": "stream",
          "text": [
            "epoch 17: 100%|██████████| 13/13 [00:33<00:00,  2.59s/it, cur_loss=2.45]\n"
          ]
        },
        {
          "name": "stdout",
          "output_type": "stream",
          "text": [
            "train acc=1.0, [l1_loss, ce_loss] => [0.4406174879807692, 0.4030198317307692, 0.18854229266826922, 1.06640625, 0.2885178786057692]\n",
            "Epoch: 17, loss: 2.3864, lr: 0.00000345\n"
          ]
        },
        {
          "name": "stderr",
          "output_type": "stream",
          "text": [
            "epoch 18: 100%|██████████| 13/13 [00:33<00:00,  2.61s/it, cur_loss=2.29]\n"
          ]
        },
        {
          "name": "stdout",
          "output_type": "stream",
          "text": [
            "train acc=1.0, [l1_loss, ce_loss] => [0.4356219951923077, 0.4033015324519231, 0.18214768629807693, 1.0555889423076923, 0.2792405348557692]\n",
            "Epoch: 18, loss: 2.3558, lr: 0.00000297\n"
          ]
        },
        {
          "name": "stderr",
          "output_type": "stream",
          "text": [
            "epoch 19: 100%|██████████| 13/13 [00:34<00:00,  2.62s/it, cur_loss=2.38]\n"
          ]
        },
        {
          "name": "stdout",
          "output_type": "stream",
          "text": [
            "train acc=0.9987980769230769, [l1_loss, ce_loss] => [0.43079552283653844, 0.40176156850961536, 0.17671086237980768, 1.0324894831730769, 0.27206655649038464]\n",
            "Epoch: 19, loss: 2.3139, lr: 0.00000250\n"
          ]
        },
        {
          "name": "stderr",
          "output_type": "stream",
          "text": [
            "epoch 20: 100%|██████████| 13/13 [00:33<00:00,  2.59s/it, cur_loss=2.19]\n"
          ]
        },
        {
          "name": "stdout",
          "output_type": "stream",
          "text": [
            "train acc=0.9987980769230769, [l1_loss, ce_loss] => [0.4237530048076923, 0.4021559495192308, 0.17503004807692307, 1.0199068509615385, 0.26509915865384615]\n",
            "Epoch: 20, loss: 2.2859, lr: 0.00000206\n"
          ]
        },
        {
          "name": "stderr",
          "output_type": "stream",
          "text": [
            "epoch 21: 100%|██████████| 13/13 [00:33<00:00,  2.59s/it, cur_loss=2.18]\n"
          ]
        },
        {
          "name": "stdout",
          "output_type": "stream",
          "text": [
            "train acc=1.0, [l1_loss, ce_loss] => [0.42176231971153844, 0.4020244891826923, 0.17268254206730768, 1.0069486177884615, 0.2660099909855769]\n",
            "Epoch: 21, loss: 2.2692, lr: 0.00000165\n"
          ]
        },
        {
          "name": "stderr",
          "output_type": "stream",
          "text": [
            "epoch 22: 100%|██████████| 13/13 [00:33<00:00,  2.59s/it, cur_loss=2.32]\n"
          ]
        },
        {
          "name": "stdout",
          "output_type": "stream",
          "text": [
            "train acc=0.9987980769230769, [l1_loss, ce_loss] => [0.4223820612980769, 0.40176156850961536, 0.17136793870192307, 1.0066856971153846, 0.26534329927884615]\n",
            "Epoch: 22, loss: 2.2673, lr: 0.00000128\n"
          ]
        },
        {
          "name": "stderr",
          "output_type": "stream",
          "text": [
            "epoch 23: 100%|██████████| 13/13 [00:33<00:00,  2.59s/it, cur_loss=2.43]\n"
          ]
        },
        {
          "name": "stdout",
          "output_type": "stream",
          "text": [
            "train acc=1.0, [l1_loss, ce_loss] => [0.4202411358173077, 0.40121694711538464, 0.17076697716346154, 1.0076246995192308, 0.26717435396634615]\n",
            "Epoch: 23, loss: 2.2673, lr: 0.00000095\n"
          ]
        },
        {
          "name": "stderr",
          "output_type": "stream",
          "text": [
            "epoch 24: 100%|██████████| 13/13 [00:33<00:00,  2.59s/it, cur_loss=2.16]\n"
          ]
        },
        {
          "name": "stdout",
          "output_type": "stream",
          "text": [
            "train acc=1.0, [l1_loss, ce_loss] => [0.4181565504807692, 0.4018742487980769, 0.16453200120192307, 0.98828125, 0.2539532001201923]\n",
            "Epoch: 24, loss: 2.2267, lr: 0.00000067\n"
          ]
        },
        {
          "name": "stderr",
          "output_type": "stream",
          "text": [
            "epoch 25: 100%|██████████| 13/13 [00:34<00:00,  2.62s/it, cur_loss=2.21]\n"
          ]
        },
        {
          "name": "stdout",
          "output_type": "stream",
          "text": [
            "train acc=1.0, [l1_loss, ce_loss] => [0.41849459134615385, 0.4008037860576923, 0.16849459134615385, 0.9994741586538461, 0.2625920222355769]\n",
            "Epoch: 25, loss: 2.2500, lr: 0.00000043\n"
          ]
        },
        {
          "name": "stderr",
          "output_type": "stream",
          "text": [
            "epoch 26: 100%|██████████| 13/13 [00:33<00:00,  2.61s/it, cur_loss=2.3] \n"
          ]
        },
        {
          "name": "stdout",
          "output_type": "stream",
          "text": [
            "train acc=0.9987980769230769, [l1_loss, ce_loss] => [0.4181941105769231, 0.40221228966346156, 0.16754619891826922, 0.9935021033653846, 0.2595778245192308]\n",
            "Epoch: 26, loss: 2.2408, lr: 0.00000024\n"
          ]
        },
        {
          "name": "stderr",
          "output_type": "stream",
          "text": [
            "epoch 27: 100%|██████████| 13/13 [00:33<00:00,  2.61s/it, cur_loss=2.22]\n"
          ]
        },
        {
          "name": "stdout",
          "output_type": "stream",
          "text": [
            "train acc=1.0, [l1_loss, ce_loss] => [0.4217998798076923, 0.40189302884615385, 0.1695556640625, 1.0091646634615385, 0.26151216947115385]\n",
            "Epoch: 27, loss: 2.2640, lr: 0.00000011\n"
          ]
        },
        {
          "name": "stderr",
          "output_type": "stream",
          "text": [
            "epoch 28: 100%|██████████| 13/13 [00:33<00:00,  2.61s/it, cur_loss=2.29]\n"
          ]
        },
        {
          "name": "stdout",
          "output_type": "stream",
          "text": [
            "train acc=1.0, [l1_loss, ce_loss] => [0.4213679387019231, 0.40102914663461536, 0.16864483173076922, 1.0040940504807692, 0.26181265024038464]\n",
            "Epoch: 28, loss: 2.2569, lr: 0.00000003\n"
          ]
        },
        {
          "name": "stderr",
          "output_type": "stream",
          "text": [
            "epoch 29: 100%|██████████| 13/13 [00:34<00:00,  2.63s/it, cur_loss=2.21]\n"
          ]
        },
        {
          "name": "stdout",
          "output_type": "stream",
          "text": [
            "train acc=1.0, [l1_loss, ce_loss] => [0.4177809495192308, 0.4019118088942308, 0.1662879356971154, 0.9900841346153846, 0.2586012620192308]\n",
            "Epoch: 29, loss: 2.2350, lr: 0.00000000\n",
            "Training complete!\n"
          ]
        },
        {
          "name": "stderr",
          "output_type": "stream",
          "text": [
            "Evaluate: 100%|██████████| 22/22 [00:11<00:00,  1.87it/s]\n"
          ]
        },
        {
          "name": "stdout",
          "output_type": "stream",
          "text": [
            "\n",
            "Test F1-macro:  0.9759240515254501\n",
            "#######################################\n",
            "\n",
            "Iteration:  4\n",
            "\n",
            "#######################################\n",
            "Training non-few shot model...\n",
            "Train dataset size:  88\n",
            "Test dataset size:  22\n",
            "Epoch 1/10\n",
            "  Training Loss: 3.8881\n",
            "Epoch 2/10\n",
            "  Training Loss: 3.8788\n",
            "Epoch 3/10\n",
            "  Training Loss: 3.8776\n",
            "Epoch 4/10\n",
            "  Training Loss: 3.8751\n",
            "Epoch 5/10\n",
            "  Training Loss: 3.8788\n",
            "Epoch 6/10\n",
            "  Training Loss: 3.8776\n",
            "Epoch 7/10\n",
            "  Training Loss: 3.8763\n",
            "Epoch 8/10\n",
            "  Training Loss: 3.8776\n",
            "Epoch 9/10\n",
            "  Training Loss: 3.8788\n",
            "Epoch 10/10\n",
            "  Training Loss: 3.8788\n",
            "Training complete!\n",
            "\n",
            "Test F1-macro:  0.003668946238706135\n",
            "##########################################\n",
            "2025-06-10 23:58:53 Getting cached textual weights W ...\n",
            "2025-06-10 23:58:53 Loading texture features from ./__few_shot_cache__\\belgian_dataset_ViT-B/16_textfeats.pt\n",
            "\n",
            "#######################################\n",
            "Training few-shot model...\n",
            "Train dataset size:  13\n",
            "Test dataset size:  22\n"
          ]
        },
        {
          "name": "stderr",
          "output_type": "stream",
          "text": [
            "epoch 0: 100%|██████████| 13/13 [00:29<00:00,  2.30s/it, cur_loss=11.6]\n"
          ]
        },
        {
          "name": "stdout",
          "output_type": "stream",
          "text": [
            "train acc=0.14302884615384615, [l1_loss, ce_loss] => [6.197641225961538, 0.3083308293269231, 3.5643028846153846, 3.8338341346153846, 3.648137019230769]\n",
            "Epoch: 0, loss: 17.5511, lr: 0.00000997\n"
          ]
        },
        {
          "name": "stderr",
          "output_type": "stream",
          "text": [
            "epoch 1: 100%|██████████| 13/13 [00:30<00:00,  2.36s/it, cur_loss=9.21]\n"
          ]
        },
        {
          "name": "stdout",
          "output_type": "stream",
          "text": [
            "train acc=0.5576923076923077, [l1_loss, ce_loss] => [0.7330979567307693, 0.31557992788461536, 2.5727163461538463, 3.4142127403846154, 2.9008413461538463]\n",
            "Epoch: 1, loss: 9.9351, lr: 0.00000989\n"
          ]
        },
        {
          "name": "stderr",
          "output_type": "stream",
          "text": [
            "epoch 2: 100%|██████████| 13/13 [00:30<00:00,  2.33s/it, cur_loss=7.71]\n"
          ]
        },
        {
          "name": "stdout",
          "output_type": "stream",
          "text": [
            "train acc=0.7920673076923077, [l1_loss, ce_loss] => [0.6181265024038461, 0.32406850961538464, 1.9300631009615385, 3.0506310096153846, 2.3466045673076925]\n",
            "Epoch: 2, loss: 8.2701, lr: 0.00000976\n"
          ]
        },
        {
          "name": "stderr",
          "output_type": "stream",
          "text": [
            "epoch 3: 100%|██████████| 13/13 [00:30<00:00,  2.35s/it, cur_loss=6.17]\n"
          ]
        },
        {
          "name": "stdout",
          "output_type": "stream",
          "text": [
            "train acc=0.8978365384615384, [l1_loss, ce_loss] => [0.6076472355769231, 0.33133638822115385, 1.4655949519230769, 2.7456430288461537, 1.8858924278846154]\n",
            "Epoch: 3, loss: 7.0355, lr: 0.00000957\n"
          ]
        },
        {
          "name": "stderr",
          "output_type": "stream",
          "text": [
            "epoch 4: 100%|██████████| 13/13 [00:30<00:00,  2.35s/it, cur_loss=5.55]\n"
          ]
        },
        {
          "name": "stdout",
          "output_type": "stream",
          "text": [
            "train acc=0.9519230769230769, [l1_loss, ce_loss] => [0.6018629807692307, 0.34117713341346156, 1.1146709735576923, 2.4591346153846154, 1.4867037259615385]\n",
            "Epoch: 4, loss: 6.0033, lr: 0.00000933\n"
          ]
        },
        {
          "name": "stderr",
          "output_type": "stream",
          "text": [
            "epoch 5: 100%|██████████| 13/13 [00:31<00:00,  2.40s/it, cur_loss=4.66]\n"
          ]
        },
        {
          "name": "stdout",
          "output_type": "stream",
          "text": [
            "train acc=0.9723557692307693, [l1_loss, ce_loss] => [0.5764723557692307, 0.35086763822115385, 0.8572340745192307, 2.2133413461538463, 1.1763070913461537]\n",
            "Epoch: 5, loss: 5.1740, lr: 0.00000905\n"
          ]
        },
        {
          "name": "stderr",
          "output_type": "stream",
          "text": [
            "epoch 6: 100%|██████████| 13/13 [00:30<00:00,  2.33s/it, cur_loss=4.05]\n"
          ]
        },
        {
          "name": "stdout",
          "output_type": "stream",
          "text": [
            "train acc=0.9927884615384616, [l1_loss, ce_loss] => [0.5664438100961539, 0.35605093149038464, 0.6651517427884616, 2.019230769230769, 0.9343825120192307]\n",
            "Epoch: 6, loss: 4.5412, lr: 0.00000872\n"
          ]
        },
        {
          "name": "stderr",
          "output_type": "stream",
          "text": [
            "epoch 7: 100%|██████████| 13/13 [00:30<00:00,  2.35s/it, cur_loss=3.84]\n"
          ]
        },
        {
          "name": "stdout",
          "output_type": "stream",
          "text": [
            "train acc=0.9915865384615384, [l1_loss, ce_loss] => [0.5621995192307693, 0.3601825420673077, 0.5171649639423077, 1.8435997596153846, 0.7407602163461539]\n",
            "Epoch: 7, loss: 4.0240, lr: 0.00000835\n"
          ]
        },
        {
          "name": "stderr",
          "output_type": "stream",
          "text": [
            "epoch 8: 100%|██████████| 13/13 [00:31<00:00,  2.41s/it, cur_loss=3.75]\n"
          ]
        },
        {
          "name": "stdout",
          "output_type": "stream",
          "text": [
            "train acc=0.9939903846153846, [l1_loss, ce_loss] => [0.5480393629807693, 0.36217322716346156, 0.4213303786057692, 1.6837439903846154, 0.6096379206730769]\n",
            "Epoch: 8, loss: 3.6247, lr: 0.00000794\n"
          ]
        },
        {
          "name": "stderr",
          "output_type": "stream",
          "text": [
            "epoch 9: 100%|██████████| 13/13 [00:31<00:00,  2.43s/it, cur_loss=3.3] \n"
          ]
        },
        {
          "name": "stdout",
          "output_type": "stream",
          "text": [
            "train acc=0.9951923076923077, [l1_loss, ce_loss] => [0.5134465144230769, 0.3634502704326923, 0.3500225360576923, 1.5508563701923077, 0.5099158653846154]\n",
            "Epoch: 9, loss: 3.2876, lr: 0.00000750\n"
          ]
        },
        {
          "name": "stderr",
          "output_type": "stream",
          "text": [
            "epoch 10: 100%|██████████| 13/13 [00:31<00:00,  2.45s/it, cur_loss=2.98]\n"
          ]
        },
        {
          "name": "stdout",
          "output_type": "stream",
          "text": [
            "train acc=0.9963942307692307, [l1_loss, ce_loss] => [0.5032301682692307, 0.36536583533653844, 0.2913254957932692, 1.4465144230769231, 0.4323918269230769]\n",
            "Epoch: 10, loss: 3.0388, lr: 0.00000703\n"
          ]
        },
        {
          "name": "stderr",
          "output_type": "stream",
          "text": [
            "epoch 11: 100%|██████████| 13/13 [00:31<00:00,  2.44s/it, cur_loss=2.79]\n"
          ]
        },
        {
          "name": "stdout",
          "output_type": "stream",
          "text": [
            "train acc=0.9975961538461539, [l1_loss, ce_loss] => [0.48758638822115385, 0.36683067908653844, 0.2581035907451923, 1.3743990384615385, 0.3899676983173077]\n",
            "Epoch: 11, loss: 2.8767, lr: 0.00000655\n"
          ]
        },
        {
          "name": "stderr",
          "output_type": "stream",
          "text": [
            "epoch 12: 100%|██████████| 13/13 [00:31<00:00,  2.44s/it, cur_loss=2.75]\n"
          ]
        },
        {
          "name": "stdout",
          "output_type": "stream",
          "text": [
            "train acc=0.9975961538461539, [l1_loss, ce_loss] => [0.47573617788461536, 0.3662860576923077, 0.22582068810096154, 1.2859074519230769, 0.3400691105769231]\n",
            "Epoch: 12, loss: 2.6937, lr: 0.00000604\n"
          ]
        },
        {
          "name": "stderr",
          "output_type": "stream",
          "text": [
            "epoch 13: 100%|██████████| 13/13 [00:32<00:00,  2.49s/it, cur_loss=2.49]\n"
          ]
        },
        {
          "name": "stdout",
          "output_type": "stream",
          "text": [
            "train acc=0.9951923076923077, [l1_loss, ce_loss] => [0.46536959134615385, 0.3662672776442308, 0.20721905048076922, 1.2291165865384615, 0.3147160456730769]\n",
            "Epoch: 13, loss: 2.5825, lr: 0.00000552\n"
          ]
        },
        {
          "name": "stderr",
          "output_type": "stream",
          "text": [
            "epoch 14: 100%|██████████| 13/13 [00:32<00:00,  2.48s/it, cur_loss=2.47]\n"
          ]
        },
        {
          "name": "stdout",
          "output_type": "stream",
          "text": [
            "train acc=0.9975961538461539, [l1_loss, ce_loss] => [0.45658052884615385, 0.36756310096153844, 0.1947960486778846, 1.1758563701923077, 0.29756986177884615]\n",
            "Epoch: 14, loss: 2.4926, lr: 0.00000500\n"
          ]
        },
        {
          "name": "stderr",
          "output_type": "stream",
          "text": [
            "epoch 15: 100%|██████████| 13/13 [00:32<00:00,  2.47s/it, cur_loss=2.5] \n"
          ]
        },
        {
          "name": "stdout",
          "output_type": "stream",
          "text": [
            "train acc=0.9987980769230769, [l1_loss, ce_loss] => [0.45010141225961536, 0.36782602163461536, 0.18300217848557693, 1.140625, 0.2822922926682692]\n",
            "Epoch: 15, loss: 2.4232, lr: 0.00000448\n"
          ]
        },
        {
          "name": "stderr",
          "output_type": "stream",
          "text": [
            "epoch 16: 100%|██████████| 13/13 [00:32<00:00,  2.49s/it, cur_loss=2.29]\n"
          ]
        },
        {
          "name": "stdout",
          "output_type": "stream",
          "text": [
            "train acc=0.9987980769230769, [l1_loss, ce_loss] => [0.44739708533653844, 0.36776968149038464, 0.17265437199519232, 1.1057692307692308, 0.27017916165865385]\n",
            "Epoch: 16, loss: 2.3634, lr: 0.00000396\n"
          ]
        },
        {
          "name": "stderr",
          "output_type": "stream",
          "text": [
            "epoch 17: 100%|██████████| 13/13 [00:32<00:00,  2.47s/it, cur_loss=2.33]\n"
          ]
        },
        {
          "name": "stdout",
          "output_type": "stream",
          "text": [
            "train acc=0.9975961538461539, [l1_loss, ce_loss] => [0.439453125, 0.3673753004807692, 0.16858849158653846, 1.0816556490384615, 0.2604323167067308]\n",
            "Epoch: 17, loss: 2.3176, lr: 0.00000345\n"
          ]
        },
        {
          "name": "stderr",
          "output_type": "stream",
          "text": [
            "epoch 18: 100%|██████████| 13/13 [00:31<00:00,  2.46s/it, cur_loss=2.14]\n"
          ]
        },
        {
          "name": "stdout",
          "output_type": "stream",
          "text": [
            "train acc=0.9987980769230769, [l1_loss, ce_loss] => [0.43276742788461536, 0.3674879807692308, 0.16045673076923078, 1.0529221754807692, 0.247802734375]\n",
            "Epoch: 18, loss: 2.2611, lr: 0.00000297\n"
          ]
        },
        {
          "name": "stderr",
          "output_type": "stream",
          "text": [
            "epoch 19: 100%|██████████| 13/13 [00:32<00:00,  2.50s/it, cur_loss=2.28]\n"
          ]
        },
        {
          "name": "stdout",
          "output_type": "stream",
          "text": [
            "train acc=0.9987980769230769, [l1_loss, ce_loss] => [0.43030724158653844, 0.3667555588942308, 0.15687913161057693, 1.0499924879807692, 0.24863844651442307]\n",
            "Epoch: 19, loss: 2.2524, lr: 0.00000250\n"
          ]
        },
        {
          "name": "stderr",
          "output_type": "stream",
          "text": [
            "epoch 20: 100%|██████████| 13/13 [00:32<00:00,  2.47s/it, cur_loss=2.27]\n"
          ]
        },
        {
          "name": "stdout",
          "output_type": "stream",
          "text": [
            "train acc=0.9987980769230769, [l1_loss, ce_loss] => [0.4272648737980769, 0.3666240985576923, 0.15399639423076922, 1.0301231971153846, 0.24010291466346154]\n",
            "Epoch: 20, loss: 2.2177, lr: 0.00000206\n"
          ]
        },
        {
          "name": "stderr",
          "output_type": "stream",
          "text": [
            "epoch 21: 100%|██████████| 13/13 [00:32<00:00,  2.51s/it, cur_loss=2.14]\n"
          ]
        },
        {
          "name": "stdout",
          "output_type": "stream",
          "text": [
            "train acc=0.9987980769230769, [l1_loss, ce_loss] => [0.4248610276442308, 0.3668870192307692, 0.1490478515625, 1.0197190504807692, 0.23659104567307693]\n",
            "Epoch: 21, loss: 2.1973, lr: 0.00000165\n"
          ]
        },
        {
          "name": "stderr",
          "output_type": "stream",
          "text": [
            "epoch 22: 100%|██████████| 13/13 [00:33<00:00,  2.56s/it, cur_loss=2.18]\n"
          ]
        },
        {
          "name": "stdout",
          "output_type": "stream",
          "text": [
            "train acc=0.9987980769230769, [l1_loss, ce_loss] => [0.42516150841346156, 0.3667179987980769, 0.1509681114783654, 1.01904296875, 0.23777418870192307]\n",
            "Epoch: 22, loss: 2.1998, lr: 0.00000128\n"
          ]
        },
        {
          "name": "stderr",
          "output_type": "stream",
          "text": [
            "epoch 23: 100%|██████████| 13/13 [00:33<00:00,  2.56s/it, cur_loss=2.21]\n"
          ]
        },
        {
          "name": "stdout",
          "output_type": "stream",
          "text": [
            "train acc=0.9987980769230769, [l1_loss, ce_loss] => [0.4228703425480769, 0.36730018028846156, 0.15150334284855768, 1.021484375, 0.23841271033653846]\n",
            "Epoch: 23, loss: 2.2018, lr: 0.00000095\n"
          ]
        },
        {
          "name": "stderr",
          "output_type": "stream",
          "text": [
            "epoch 24: 100%|██████████| 13/13 [00:32<00:00,  2.53s/it, cur_loss=2.27]\n"
          ]
        },
        {
          "name": "stdout",
          "output_type": "stream",
          "text": [
            "train acc=0.9963942307692307, [l1_loss, ce_loss] => [0.42191256009615385, 0.3652531550480769, 0.14940467247596154, 1.0160006009615385, 0.23981182391826922]\n",
            "Epoch: 24, loss: 2.1923, lr: 0.00000067\n"
          ]
        },
        {
          "name": "stderr",
          "output_type": "stream",
          "text": [
            "epoch 25: 100%|██████████| 13/13 [00:33<00:00,  2.55s/it, cur_loss=2.17]\n"
          ]
        },
        {
          "name": "stdout",
          "output_type": "stream",
          "text": [
            "train acc=0.9987980769230769, [l1_loss, ce_loss] => [0.42142427884615385, 0.36624849759615385, 0.14947040264423078, 1.0168269230769231, 0.2379150390625]\n",
            "Epoch: 25, loss: 2.1920, lr: 0.00000043\n"
          ]
        },
        {
          "name": "stderr",
          "output_type": "stream",
          "text": [
            "epoch 26: 100%|██████████| 13/13 [00:32<00:00,  2.53s/it, cur_loss=2.14]\n"
          ]
        },
        {
          "name": "stdout",
          "output_type": "stream",
          "text": [
            "train acc=0.9987980769230769, [l1_loss, ce_loss] => [0.4223069411057692, 0.36658653846153844, 0.14954082782451922, 1.0283203125, 0.23714505709134615]\n",
            "Epoch: 26, loss: 2.2043, lr: 0.00000024\n"
          ]
        },
        {
          "name": "stderr",
          "output_type": "stream",
          "text": [
            "epoch 27: 100%|██████████| 13/13 [00:32<00:00,  2.51s/it, cur_loss=2.18]\n"
          ]
        },
        {
          "name": "stdout",
          "output_type": "stream",
          "text": [
            "train acc=0.9975961538461539, [l1_loss, ce_loss] => [0.4218562199519231, 0.36690579927884615, 0.1493201622596154, 1.0126953125, 0.235107421875]\n",
            "Epoch: 27, loss: 2.1858, lr: 0.00000011\n"
          ]
        },
        {
          "name": "stderr",
          "output_type": "stream",
          "text": [
            "epoch 28: 100%|██████████| 13/13 [00:32<00:00,  2.52s/it, cur_loss=2.28]\n"
          ]
        },
        {
          "name": "stdout",
          "output_type": "stream",
          "text": [
            "train acc=0.9987980769230769, [l1_loss, ce_loss] => [0.4229266826923077, 0.36583533653846156, 0.14656888521634615, 1.0109299879807692, 0.2302527794471154]\n",
            "Epoch: 28, loss: 2.1762, lr: 0.00000003\n"
          ]
        },
        {
          "name": "stderr",
          "output_type": "stream",
          "text": [
            "epoch 29: 100%|██████████| 13/13 [00:32<00:00,  2.51s/it, cur_loss=2.2] \n"
          ]
        },
        {
          "name": "stdout",
          "output_type": "stream",
          "text": [
            "train acc=0.9987980769230769, [l1_loss, ce_loss] => [0.42041015625, 0.36690579927884615, 0.14713698167067307, 1.0090895432692308, 0.2332481971153846]\n",
            "Epoch: 29, loss: 2.1770, lr: 0.00000000\n",
            "Training complete!\n"
          ]
        },
        {
          "name": "stderr",
          "output_type": "stream",
          "text": [
            "Evaluate: 100%|██████████| 22/22 [00:12<00:00,  1.71it/s]\n"
          ]
        },
        {
          "name": "stdout",
          "output_type": "stream",
          "text": [
            "\n",
            "Test F1-macro:  0.9852362813923358\n",
            "#######################################\n",
            "\n",
            "            T-test results\n",
            "            - t_statistic: -0.0\n",
            "            - t_critical: nan\n",
            "\n",
            "            Performance results:\n",
            "            - Non-few shot: [0.09258451562117294, 0.11763893594819297, 0.23740460696285268, 0.06430566350944664, 0.22902650315631598, 0.002725282399667528, 0.02987157105717898]\n",
            "            - Few-shot: [0.8628231913549937, 0.9270592796280281, 0.8589122491346612, 0.9644262334142992, 0.9174383624281193, 0.6907180285049945, 0.978995015165955]\n",
            "\n",
            "            Final outcome:\n",
            "            - result: False\n",
            "            \n",
            "\n",
            "-------------------------------------------------------------------\n",
            "-0.0 nan [0.09258451562117294, 0.11763893594819297, 0.23740460696285268, 0.06430566350944664, 0.22902650315631598, 0.002725282399667528, 0.02987157105717898] [0.8628231913549937, 0.9270592796280281, 0.8589122491346612, 0.9644262334142992, 0.9174383624281193, 0.6907180285049945, 0.978995015165955] False\n",
            "###############################\n",
            "FINISHED\n",
            "###############################\n"
          ]
        }
      ],
      "source": [
        "import sys\n",
        "def main():\n",
        "   # Kaggle datasets\n",
        "   indian_dataset = KaggleDataset(\"neelpratiksha/indian-traffic-sign-dataset\", \"indian_dataset\", \"image\", \"label\", os.path.join(\"Indian-Traffic Sign-Dataset\", \"images\"))\n",
        "   persian_dataset = KaggleDataset(\"saraparsaseresht/persian-traffic-sign-dataset-ptsd\", \"persian_dataset\", \"image\", \"label\", os.path.join(\"PTSD_Recognition/PTSD_Recognition\", \"train\"))\n",
        "   bangladesh_dataset = KaggleDataset(\"tithikhan/traffic\", \"bangladesh_dataset\", \"image\", \"label\", \"myData\")\n",
        "   kaggle_datasets_list = []\n",
        "   kaggle_datasets_list.append(indian_dataset)\n",
        "   kaggle_datasets_list.append(persian_dataset)\n",
        "   kaggle_datasets_list.append(bangladesh_dataset)\n",
        "\n",
        "   # Hugging face datasets\n",
        "   chinese_dataset = HuggingFaceDataset(\"kuchidareo/chinese_trafficsign_dataset\", \"chinese_dataset\", \"image\", \"label\")\n",
        "   german_dataset = HuggingFaceDataset(\"bazyl/GTSRB\", \"german_dataset\", \"Path\", \"ClassId\")\n",
        "   russian_dataset = HuggingFaceDataset(\"eleldar/rtsd_cleaned\", \"russian_dataset\", \"image\", \"sign_class\")\n",
        "   hugging_face_datasets_list = []\n",
        "   hugging_face_datasets_list.append(chinese_dataset)\n",
        "   hugging_face_datasets_list.append(german_dataset)\n",
        "   hugging_face_datasets_list.append(russian_dataset)\n",
        "\n",
        "   # Local datasets\n",
        "   belgian_dataset = LocalDataset(\"./dataset/datasets/belgium-traffic-sign\", \"belgian_dataset\", \"image\", \"label\")\n",
        "   local_datasets_list = []\n",
        "   local_datasets_list.append(belgian_dataset)\n",
        "\n",
        "   allDatasets = DatasetCollection(kaggle_datasets_list,hugging_face_datasets_list,local_datasets_list)\n",
        "\n",
        "   # List of Non-Few-Shot models \n",
        "   non_few_shot_models = [CNNModel,MCDNN,KNNClassifier,HOG_SVM]\n",
        "   few_shot_models = [FewShotModel]\n",
        "\n",
        "   ##\n",
        "   # MATTIA\n",
        "   ##\n",
        "   fs_CNN = TrafficSignRecognitionComparator(few_shot_models[0], non_few_shot_models[0], allDatasets.stream_all(), k_shot=16, n_folds=5)\n",
        "   t_stat, t_critical, no_few_shot_ap_results, few_shot_ap_results, result = fs_CNN.run_comparison()\n",
        "   print(t_stat,t_critical,no_few_shot_ap_results,few_shot_ap_results,result)\n",
        "   print(\"###############################\")\n",
        "   print(\"FINISHED\")\n",
        "   print(\"###############################\")\n",
        "   \n",
        "   \"\"\"\n",
        "   fs_MDCNN = TrafficSignRecognitionComparator(few_shot_models[0], non_few_shot_models[1], allDatasets.stream_all(), k_shot=16, n_folds=5)\n",
        "   t_stat, t_critical, no_few_shot_ap_results, few_shot_ap_results, result = fs_MDCNN.run_comparison()\n",
        "   print(t_stat,t_critical,no_few_shot_ap_results,few_shot_ap_results,result)\n",
        "   print(\"###############################\")\n",
        "   print(\"FINISHED\")\n",
        "   print(\"###############################\")\n",
        "   \"\"\"\n",
        "   \"\"\"\n",
        "   ##\n",
        "   # ALESSANDRO\n",
        "   ##\n",
        "\n",
        "   fs_KNN = TrafficSignRecognitionComparator(few_shot_models[0], non_few_shot_models[2], allDatasets.stream_all(), k_shot=16, n_folds=5)\n",
        "   t_stat, t_critical, no_few_shot_ap_results, few_shot_ap_results, result = fs_KNN.run_comparison()\n",
        "   \"\"\"\n",
        "   \"\"\"\n",
        "   fs_SVM = TrafficSignRecognitionComparator(few_shot_models[0], non_few_shot_models[3], allDatasets.stream_all(), k_shot=16, n_folds=5)\n",
        "   t_stat, t_critical, no_few_shot_ap_results, few_shot_ap_results, result = fs_SVM.run_comparison()\"\"\"\n",
        "\n",
        "\n",
        "if __name__ == \"__main__\":\n",
        "   main()"
      ]
    }
  ],
  "metadata": {
    "accelerator": "TPU",
    "colab": {
      "gpuType": "V28",
      "provenance": []
    },
    "kernelspec": {
      "display_name": "MLexam",
      "language": "python",
      "name": "python3"
    },
    "language_info": {
      "codemirror_mode": {
        "name": "ipython",
        "version": 3
      },
      "file_extension": ".py",
      "mimetype": "text/x-python",
      "name": "python",
      "nbconvert_exporter": "python",
      "pygments_lexer": "ipython3",
      "version": "3.12.7"
    }
  },
  "nbformat": 4,
  "nbformat_minor": 0
}
